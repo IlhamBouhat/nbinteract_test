{
 "cells": [
  {
   "cell_type": "markdown",
   "metadata": {},
   "source": [
    "# Programming Lesson and Exercises - ORG<span class=\"tocSkip\"></span>\n",
    "\n",
    "These programming lessons do not require prior programming experience.\n",
    "\n",
    "The goal is to teach you the use of _Python 3_ and the _Jupyter Notebook_ software\n",
    "in the context of _Data Analytics_.\n",
    "\n",
    "<div class=\"alert-info alert\" role=\"alert-info\">While you read this notebook,\n",
    "execute all code cells in linear order\n",
    "from the beginning</div>"
   ]
  },
  {
   "cell_type": "markdown",
   "metadata": {},
   "source": [
    "\n",
    "# Introduction to this template notebook\n",
    "\n",
    "* This is a **personal** notebook.\n",
    "* Make sure you work in a **copy** of `...-template.ipynb`,\n",
    "**renamed** to `...-yourIDnr.ipynb`,\n",
    "where `yourIDnr` is your TU/e identification number.\n",
    "\n",
    "<div class=\"alert alert-danger\" role=\"danger\">\n",
    "<h3>Integrity</h3>\n",
    "<ul>\n",
    "    <li>In this course you must act according to the rules of the TU/e code of scientific conduct.</li>\n",
    "    <li>All the exercises and the graded assignments are to be executed individually and independently.</li>\n",
    "    <li>You must not copy from the Internet, your friends, books... If you represent other people's work as your own, then that constitutes fraud and will be reported to the Examination Committee.</li>\n",
    "    <li>Making your work available to others (complicity) also constitutes fraud.</li>\n",
    "</ul>\n",
    "</div>\n",
    "\n",
    "You are expected to work with Python code in this notebook.\n",
    "\n",
    "The locations where you should write your solutions can be recognized by\n",
    "**marker lines**,\n",
    "which look like this:\n",
    "\n",
    ">`#//`\n",
    ">    `BEGIN_TODO [Label]` `Description` `(n points)`\n",
    ">\n",
    ">`#//`\n",
    ">    `END_TODO [Label]`\n",
    "\n",
    "<div class=\"alert alert-warning\" role=\"alert\">Do NOT modify or delete these marker lines.  Keep them as they are.<br/>\n",
    "<br/>\n",
    "NEVER write code <i>outside</i> the marked blocks.\n",
    "Such code cannot be evaluated.\n",
    "</div>\n",
    "\n",
    "Proceed in this notebook as follows:\n",
    "* **Read** the text.\n",
    "* **Fill in** your solutions between `BEGIN_TODO` and `END_TODO` marker lines.\n",
    "* **Run** _all_ code cells (also the ones _without_ your code),\n",
    "    _in linear order_ from the first code cell.\n",
    "\n",
    "**Personalize your notebook**:\n",
    "1. Copy the following three lines of code:\n",
    "\n",
    "  ```python\n",
    "  AUTHOR_NAME = 'Your Full Name'\n",
    "  AUTHOR_ID_NR = '1234567'\n",
    "  AUTHOR_DATE = 'YYYY-MM-DD'  # when notebook was first modified, e.g. '2019-02-26'\n",
    "  ```\n",
    "\n",
    "1. Paste them between the marker lines in the next code cell.\n",
    "1. Fill in your _full name_, _identification number_, and the current _date_ as strings between quotes.\n",
    "1. Run the code cell by putting the cursor there and typing **Control-Enter**.\n"
   ]
  },
  {
   "cell_type": "code",
   "execution_count": 40,
   "metadata": {},
   "outputs": [
    {
     "data": {
      "text/plain": [
       "('Kyra Moviat', '1349171', '2019-02-28')"
      ]
     },
     "execution_count": 40,
     "metadata": {},
     "output_type": "execute_result"
    }
   ],
   "source": [
    "#// BEGIN_TODO [Author] Name, Id.nr., Date, as strings (1 point)\n",
    "\n",
    "AUTHOR_NAME = 'Kyra Moviat'\n",
    "AUTHOR_ID_NR = '1349171'\n",
    "AUTHOR_DATE = '2019-02-28'\n",
    "\n",
    "#// END_TODO [Author]\n",
    "\n",
    "AUTHOR_NAME, AUTHOR_ID_NR, AUTHOR_DATE"
   ]
  },
  {
   "cell_type": "markdown",
   "metadata": {
    "toc": "true"
   },
   "source": [
    "<h1>Table of Contents<span class=\"tocSkip\"></span></h1>\n",
    "<div class=\"toc\"><ul class=\"toc-item\"><li><span><a href=\"#1.-SQLite-Basics\" data-toc-modified-id=\"1.-SQLite-Basics-1\"><span class=\"section\">1.</span> SQLite Basics</a></span><ul class=\"toc-item\"><li><span><a href=\"#Learning-Objectives-of-This-Section\" data-toc-modified-id=\"Learning-Objectives-of-This-Section-1.1\">Learning Objectives of This Section</a></span></li><li><span><a href=\"#Introduction\" data-toc-modified-id=\"Introduction-1.2\">Introduction</a></span></li><li><span><a href=\"#Step-1.-Connect-to-database\" data-toc-modified-id=\"Step-1.-Connect-to-database-1.3\">Step 1. Connect to database</a></span></li><li><span><a href=\"#Step-2.-Operate-on-database\" data-toc-modified-id=\"Step-2.-Operate-on-database-1.4\">Step 2. Operate on database</a></span></li><li><span><a href=\"#Step-3.-Commit-changes-to-database\" data-toc-modified-id=\"Step-3.-Commit-changes-to-database-1.5\">Step 3. Commit changes to database</a></span></li><li><span><a href=\"#Step-4.-Close-connection-to-database\" data-toc-modified-id=\"Step-4.-Close-connection-to-database-1.6\">Step 4. Close connection to database</a></span></li></ul></li><li><span><a href=\"#2.-SQL---Structured-Query-Language\" data-toc-modified-id=\"2.-SQL---Structured-Query-Language-2\"><span class=\"section\">2.</span> SQL - Structured Query Language</a></span><ul class=\"toc-item\"><li><span><a href=\"#Select\" data-toc-modified-id=\"Select-2.1\">Select</a></span></li><li><span><a href=\"#Update\" data-toc-modified-id=\"Update-2.2\">Update</a></span></li></ul></li><li><span><a href=\"#3.-Cleaning\" data-toc-modified-id=\"3.-Cleaning-3\"><span class=\"section\">3.</span> Cleaning</a></span><ul class=\"toc-item\"><li><span><a href=\"#df.astype():-convert-to-given-type\" data-toc-modified-id=\"df.astype():-convert-to-given-type-3.1\"><code>df.astype()</code>: convert to given type</a></span></li><li><span><a href=\"#pd.to_numeric():-convert-to-numeric\" data-toc-modified-id=\"pd.to_numeric():-convert-to-numeric-3.2\"><code>pd.to_numeric()</code>: convert to numeric</a></span></li><li><span><a href=\"#ts.unique():-find-all-unique-values\" data-toc-modified-id=\"ts.unique():-find-all-unique-values-3.3\"><code>ts.unique()</code>: find all unique values</a></span></li><li><span><a href=\"#df.duplicated():-find-duplicates\" data-toc-modified-id=\"df.duplicated():-find-duplicates-3.4\"><code>df.duplicated()</code>: find duplicates</a></span></li><li><span><a href=\"#df.drop_duplicates():-remove-duplicates\" data-toc-modified-id=\"df.drop_duplicates():-remove-duplicates-3.5\"><code>df.drop_duplicates()</code>: remove duplicates</a></span></li><li><span><a href=\"#df.dropna()-to-remove-rows-with-missing-values\" data-toc-modified-id=\"df.dropna()-to-remove-rows-with-missing-values-3.6\"><code>df.dropna()</code> to remove rows with missing values</a></span></li><li><span><a href=\"#df.fillna()-to-replace-missing-values\" data-toc-modified-id=\"df.fillna()-to-replace-missing-values-3.7\"><code>df.fillna()</code> to replace missing values</a></span></li><li><span><a href=\"#ts.str.strip()-to-strip-characters-from-begin/end-of-strings\" data-toc-modified-id=\"ts.str.strip()-to-strip-characters-from-begin/end-of-strings-3.8\"><code>ts.str.strip()</code> to strip characters from begin/end of strings</a></span></li></ul></li><li><span><a href=\"#4.-Exercises\" data-toc-modified-id=\"4.-Exercises-4\"><span class=\"section\">4.</span> Exercises</a></span></li><li><span><a href=\"#(End-of-Notebook)\" data-toc-modified-id=\"(End-of-Notebook)-5\">(End of Notebook)</a></span></li></ul></div>"
   ]
  },
  {
   "cell_type": "markdown",
   "metadata": {},
   "source": [
    "# <span class=\"section\">1.</span> SQLite Basics"
   ]
  },
  {
   "cell_type": "markdown",
   "metadata": {},
   "source": [
    "## Learning Objectives of This Section\n",
    "\n",
    "After this lesson, you should\n",
    "\n",
    "* know how to work with SQLite databases through Pandas data frames;\n",
    "* know how to work with SQLite databases through cursor objects;\n",
    "* know how to create, update, and delete tables using Python and its `sqlite3` library."
   ]
  },
  {
   "cell_type": "markdown",
   "metadata": {},
   "source": [
    "## Introduction\n",
    "\n",
    "So far, we have dealt with data given as a _single table_,\n",
    "typically stored in a CSV file and operated on in a Pandas `DataFrame`.\n",
    "Often, however, the use of a single table leads to unnecessary duplication of data\n",
    "and difficulties in data processing.\n",
    "\n",
    "For example,\n",
    "consider an experiment where we collect data from various patients.\n",
    "We have data pertaining to each patient:\n",
    "name, date of birth, and daily weight and temperature measurements.\n",
    "How to _organize_ that data and store it?\n",
    "This is important for the _data collection_ process and subsequent\n",
    "_data analysis_ process.\n",
    "\n",
    "You could try to put it in one table,\n",
    "with one row per patient, and columns for name, date of birth, and every day:\n",
    "\n",
    "| Name | Date of Birth | Day 1 Weight | Day 1 Temperature | Day 2 Weight | Day 2 Temperature | ... |\n",
    "| :--- | :------------ | -----------: | ----------------: | -----------: | ----------------: | --: |\n",
    "| A | 1950-01-01 | 60.0 | 37.8 | 59.8 | 38.1 | ... |\n",
    "| B | 1947-07-15 | 84.3 | 39.2 | 85.0 | 38.5 | ... |\n",
    "| ... | ... | ... | ... | ... | ... | ... |\n",
    "\n",
    "The number of columns would grow, and could differ per patient.\n",
    "\n",
    "You could try to put it in one table,\n",
    "with one row per patient per day,\n",
    "and columns for name, date of birth, day, weight, and temperature,\n",
    "repeating values that stay the same (name and date of birth):\n",
    "\n",
    "| Name | Date of Birth | Day | Weight | Temperature |\n",
    "| :--- | :------------ | --: | -----: | ----------: |\n",
    "| A | 1950-01-01 | 1 | 60.0 | 37.8 |\n",
    "| B | 1947-07-15 | 1 | 84.3 | 39.2 |\n",
    "| A | 1950-01-01 | 2 | 59.8 | 38.1 |\n",
    "| B | 1947-07-15 | 2 | 84.3 | 39.2 |\n",
    "| ... | ... | ... | ... | ... |\n",
    "\n",
    "In this approach, some data (necessarily) gets duplicated.\n",
    "\n",
    "Also, note that patients may not be uniquely identified by name and date of birth.\n",
    "In the first table, their measurements would still be kept apart.\n",
    "But in the second table, this starts to be problematic.\n",
    "\n",
    "Using multiple, related tables is a better approach.\n",
    "In this case, two tables could be used:\n",
    "\n",
    "**Patient data**\n",
    "\n",
    "| ID | Name | Date of Birth |\n",
    "| -: | :--- | :------------ |\n",
    "| 13 | A | 1950-01-01 |\n",
    "| 72 | B | 1947-07-15 |\n",
    "| ... | ... | ... |\n",
    "\n",
    "**Measurement data**\n",
    "\n",
    "| ID | Day | Weight | Temperature |\n",
    "| -: | --: | -----: | ----------: |\n",
    "| 13 |  1 | 60.0 | 37.8 |\n",
    "| 72 |  1 | 84.3 | 39.2 |\n",
    "| 13 |  2 | 59.8 | 38.1 |\n",
    "| 72 |  2 | 84.3 | 39.2 |\n",
    "| ... | ... | ... | ... |\n",
    "\n",
    "The additional column `ID` relates the two tables,\n",
    "and helps to keep apart patients with the same name and date of birth.\n",
    "\n",
    "We assume that you have a basic understanding of how a _relational database_ is organized:\n",
    "\n",
    "* a collection of (named, related) _tables_, where\n",
    "* each table consists of a collection of _rows_, where\n",
    "* each row contains one _value_ per _column_,\n",
    "* where all values in a column belong to a prescribed _type_.\n",
    "\n",
    "In this lesson we will use SQL,\n",
    "a standardized language to work with _relational databases_.\n",
    "SQL stands for **Structured Query Language**.\n",
    "It has its own rules for syntax, semantics, and pragmatics.\n",
    "We'll cover some of these rules later.\n",
    "\n",
    "We use **SQLite** as _SQL database engine_\n",
    "(it knows SQL, though not all of it).\n",
    "Note that SQLite is a separate piece of open-source software,\n",
    "that is installed as part of Anaconda.\n",
    "Many programs make use of SQLite internally."
   ]
  },
  {
   "cell_type": "markdown",
   "metadata": {},
   "source": [
    "### Loading the libraries\n",
    "\n",
    "To show examples, we load some Data Analytics libraries first:"
   ]
  },
  {
   "cell_type": "code",
   "execution_count": 41,
   "metadata": {
    "collapsed": true
   },
   "outputs": [],
   "source": [
    "import numpy as np  # import auxiliary library, typical idiom\n",
    "import pandas as pd  # import the Pandas library, typical idiom"
   ]
  },
  {
   "cell_type": "markdown",
   "metadata": {},
   "source": [
    "Next, we load **`sqlite3`**, a Python library to work with _SQLite_ databases:"
   ]
  },
  {
   "cell_type": "code",
   "execution_count": 42,
   "metadata": {
    "collapsed": true
   },
   "outputs": [],
   "source": [
    "import sqlite3"
   ]
  },
  {
   "cell_type": "markdown",
   "metadata": {},
   "source": [
    "### Common steps in working with SQLite databases\n",
    "\n",
    "Typically, the following sequence of steps takes place,\n",
    "when working with an SQLite database.\n",
    "\n",
    "1. Connect to the database (residing in a file).\n",
    "2. Operate on the database:\n",
    "\n",
    "    * execute queries, to retrieve selected values;\n",
    "    * create, update, or delete rows/values in a table;\n",
    "    * create, alter (by adding or deleting columns), or delete tables.\n",
    "    \n",
    "3. Commit changes to the database, or roll them back.\n",
    "4. Close the connection to the database.\n",
    "\n",
    "Steps 2 and 3 can be repeated as desired.\n",
    "\n",
    "When working with an SQL database,\n",
    "operations are expressed as **SQL statements**.\n",
    "SQL statements are executed via a so-called **cursor** object,\n",
    "that also captures and delivers any results of the SQL statement."
   ]
  },
  {
   "cell_type": "markdown",
   "metadata": {},
   "source": [
    "### SQLite and Pandas\n",
    "\n",
    "The Pandas library offers two functions to work with SQL databases:\n",
    "\n",
    "* **`pd.read_sql_query()`** : return the query result as a `DataFrame`\n",
    "* **`df.to_sql()`** : write `DataFrame df` as table to a database\n",
    "\n",
    "We prefer to use these functions whenever possible.\n",
    "That way, you don't have to work via cursor objects."
   ]
  },
  {
   "cell_type": "markdown",
   "metadata": {},
   "source": [
    "## Step 1. Connect to database\n",
    "\n",
    "In order to work with a database,\n",
    "a _connection_ to that database needs to be established.\n",
    "\n",
    "An SQLite database is stored in a (binary) file in the file system.\n",
    "\n",
    "You connect to it via\n",
    "\n",
    "* **`sqlite3.connect(file_name)`**\n",
    "\n",
    "This function returns a **connection object**,\n",
    "that you will need in subsequent operations.\n",
    "It is typically assigned to a variable named `conn`:"
   ]
  },
  {
   "cell_type": "code",
   "execution_count": 43,
   "metadata": {
    "collapsed": true
   },
   "outputs": [],
   "source": [
    "conn = sqlite3.connect('countries.db')  # connect to database in file countries.db"
   ]
  },
  {
   "cell_type": "markdown",
   "metadata": {},
   "source": [
    "If the database file did not yet exist,\n",
    "it will be created, starting out with an empty database."
   ]
  },
  {
   "cell_type": "markdown",
   "metadata": {},
   "source": [
    "## Step 2. Operate on database\n",
    "\n",
    "Operations on a database can be classified as\n",
    "\n",
    "* **Create** : a new table\n",
    "* **Read** : from one or more existing tables\n",
    "* **Update** : modify a table, by adding, updating, or deleting rows\n",
    "* **Delete** : an existing table"
   ]
  },
  {
   "cell_type": "markdown",
   "metadata": {},
   "source": [
    "### Via Pandas data frames\n",
    "\n",
    "It is easiest to work with an SQLite database\n",
    "via the Pandas library in terms of complete data frames.\n",
    "\n",
    "So, lets first get a data frame.\n",
    "We will grab the country data that we have used before:"
   ]
  },
  {
   "cell_type": "code",
   "execution_count": 44,
   "metadata": {},
   "outputs": [
    {
     "data": {
      "text/plain": [
       "array(['Andorra', 'United Arab Emirates', 'Afghanistan',\n",
       "       'Antigua and Barbuda', 'Anguilla', 'Albania', 'Armenia', 'Angola',\n",
       "       'Antarctica', 'Argentina', 'American Samoa', 'Austria', 'Australia',\n",
       "       'Aruba', 'Aland Islands', 'Azerbaijan', 'Bosnia and Herzegovina',\n",
       "       'Barbados', 'Bangladesh', 'Belgium', 'Burkina Faso', 'Bulgaria',\n",
       "       'Bahrain', 'Burundi', 'Benin', 'Saint Barthelemy', 'Bermuda',\n",
       "       'Brunei', 'Bolivia', 'Bonaire, Saint Eustatius and Saba ', 'Brazil',\n",
       "       'Bahamas', 'Bhutan', 'Bouvet Island', 'Botswana', 'Belarus',\n",
       "       'Belize', 'Canada', 'Cocos Islands',\n",
       "       'Democratic Republic of the Congo', 'Central African Republic',\n",
       "       'Republic of the Congo', 'Switzerland', 'Ivory Coast',\n",
       "       'Cook Islands', 'Chile', 'Cameroon', 'China', 'Colombia',\n",
       "       'Costa Rica', 'Cuba', 'Cape Verde', 'Curacao', 'Christmas Island',\n",
       "       'Cyprus', 'Czechia', 'Germany', 'Djibouti', 'Denmark', 'Dominica',\n",
       "       'Dominican Republic', 'Algeria', 'Ecuador', 'Estonia', 'Egypt',\n",
       "       'Western Sahara', 'Eritrea', 'Spain', 'Ethiopia', 'Finland', 'Fiji',\n",
       "       'Falkland Islands', 'Micronesia', 'Faroe Islands', 'France',\n",
       "       'Gabon', 'United Kingdom', 'Grenada', 'Georgia', 'French Guiana',\n",
       "       'Guernsey', 'Ghana', 'Gibraltar', 'Greenland', 'Gambia', 'Guinea',\n",
       "       'Guadeloupe', 'Equatorial Guinea', 'Greece',\n",
       "       'South Georgia and the South Sandwich Islands', 'Guatemala', 'Guam',\n",
       "       'Guinea-Bissau', 'Guyana', 'Hong Kong',\n",
       "       'Heard Island and McDonald Islands', 'Honduras', 'Croatia', 'Haiti',\n",
       "       'Hungary', 'Indonesia', 'Ireland', 'Israel', 'Isle of Man', 'India',\n",
       "       'British Indian Ocean Territory', 'Iraq', 'Iran', 'Iceland',\n",
       "       'Italy', 'Jersey', 'Jamaica', 'Jordan', 'Japan', 'Kenya',\n",
       "       'Kyrgyzstan', 'Cambodia', 'Kiribati', 'Comoros',\n",
       "       'Saint Kitts and Nevis', 'North Korea', 'South Korea', 'Kosovo',\n",
       "       'Kuwait', 'Cayman Islands', 'Kazakhstan', 'Laos', 'Lebanon',\n",
       "       'Saint Lucia', 'Liechtenstein', 'Sri Lanka', 'Liberia', 'Lesotho',\n",
       "       'Lithuania', 'Luxembourg', 'Latvia', 'Libya', 'Morocco', 'Monaco',\n",
       "       'Moldova', 'Montenegro', 'Saint Martin', 'Madagascar',\n",
       "       'Marshall Islands', 'Macedonia', 'Mali', 'Myanmar', 'Mongolia',\n",
       "       'Macao', 'Northern Mariana Islands', 'Martinique', 'Mauritania',\n",
       "       'Montserrat', 'Malta', 'Mauritius', 'Maldives', 'Malawi', 'Mexico',\n",
       "       'Malaysia', 'Mozambique', 'Namibia', 'New Caledonia', 'Niger',\n",
       "       'Norfolk Island', 'Nigeria', 'Nicaragua', 'Netherlands', 'Norway',\n",
       "       'Nepal', 'Nauru', 'Niue', 'New Zealand', 'Oman', 'Panama', 'Peru',\n",
       "       'French Polynesia', 'Papua New Guinea', 'Philippines', 'Pakistan',\n",
       "       'Poland', 'Saint Pierre and Miquelon', 'Pitcairn', 'Puerto Rico',\n",
       "       'Palestinian Territory', 'Portugal', 'Palau', 'Paraguay', 'Qatar',\n",
       "       'Reunion', 'Romania', 'Serbia', 'Russia', 'Rwanda', 'Saudi Arabia',\n",
       "       'Solomon Islands', 'Seychelles', 'Sudan', 'South Sudan', 'Sweden',\n",
       "       'Singapore', 'Saint Helena', 'Slovenia', 'Svalbard and Jan Mayen',\n",
       "       'Slovakia', 'Sierra Leone', 'San Marino', 'Senegal', 'Somalia',\n",
       "       'Suriname', 'Sao Tome and Principe', 'El Salvador', 'Sint Maarten',\n",
       "       'Syria', 'Swaziland', 'Turks and Caicos Islands', 'Chad',\n",
       "       'French Southern Territories', 'Togo', 'Thailand', 'Tajikistan',\n",
       "       'Tokelau', 'East Timor', 'Turkmenistan', 'Tunisia', 'Tonga',\n",
       "       'Turkey', 'Trinidad and Tobago', 'Tuvalu', 'Taiwan', 'Tanzania',\n",
       "       'Ukraine', 'Uganda', 'United States Minor Outlying Islands',\n",
       "       'United States', 'Uruguay', 'Uzbekistan', 'Vatican',\n",
       "       'Saint Vincent and the Grenadines', 'Venezuela',\n",
       "       'British Virgin Islands', 'U.S. Virgin Islands', 'Vietnam',\n",
       "       'Vanuatu', 'Wallis and Futuna', 'Samoa', 'Yemen', 'Mayotte',\n",
       "       'South Africa', 'Zambia', 'Zimbabwe', 'Netherlands Antilles'], dtype=object)"
      ]
     },
     "execution_count": 44,
     "metadata": {},
     "output_type": "execute_result"
    }
   ],
   "source": [
    "country_data = pd.read_csv('datasets/country-data.csv', na_values=[''], keep_default_na=False)\n",
    "country_data.head()\n",
    "country_data.name.values"
   ]
  },
  {
   "cell_type": "markdown",
   "metadata": {},
   "source": [
    "Here is how you write that data frame as a new table named `'countries'`\n",
    "to the database that we just opened using the `DataFrame` method **`to_sql()`**:"
   ]
  },
  {
   "cell_type": "code",
   "execution_count": 45,
   "metadata": {
    "collapsed": true
   },
   "outputs": [],
   "source": [
    "country_data.to_sql('countries', conn, if_exists='replace', index=False)"
   ]
  },
  {
   "cell_type": "markdown",
   "metadata": {},
   "source": [
    "Just some quick notes about the arguments of **`to_sql()`**:\n",
    "\n",
    "* **`country_data`** is the data frame to put in the database\n",
    "* **`'countries'`** is the name of the table to create, replace, or append to.\n",
    "* **`conn`** is a previously opened connection to an SQLite database.\n",
    "* **`if_exists='replace'`** will replace an existing table by that same name.  \n",
    "    Default is **`if_exists='fail'`**,\n",
    "    which will refuse to overwrite an existing table by the given name.  \n",
    "    Another variant is **`if_exists='append'`**\n",
    "    to insert all the rows from the data frame into the table.\n",
    "* **`index=False`** will suppress writing of the data frame's index as a separate column.  \n",
    "    Default is **`index=True`**,\n",
    "    which will write the index as a separate column.\n",
    "    \n",
    "> **NOTE**: `to_sql()` automatically commits the changes to the database.  \n",
    "> So, no additional `commit()` is needed."
   ]
  },
  {
   "cell_type": "markdown",
   "metadata": {},
   "source": [
    "Now that we have a table in our database, we can **query** it.\n",
    "\n",
    "A SQL query is stored in a Python string.\n",
    "Here is an example:"
   ]
  },
  {
   "cell_type": "code",
   "execution_count": 46,
   "metadata": {
    "collapsed": true
   },
   "outputs": [],
   "source": [
    "query = '''\n",
    "    SELECT name, capital, area, population\n",
    "    FROM countries\n",
    "    WHERE area < 1000 AND population > 200000\n",
    "    ORDER BY population desc;\n",
    "'''"
   ]
  },
  {
   "cell_type": "markdown",
   "metadata": {},
   "source": [
    "This query\n",
    "\n",
    "* selects all rows from the table `countries`\n",
    "* that have an area less than 1000 and a population over 200000\n",
    "* showing only the columns `'name'`, `'capital'`, `'area'`, and `'population`',\n",
    "* sorted on population in descending order.\n",
    "\n",
    "It can be executed with the Pandas function **`pd.read_sql_query()`**,\n",
    "which returns the result as a `DataFrame`:"
   ]
  },
  {
   "cell_type": "code",
   "execution_count": 47,
   "metadata": {},
   "outputs": [
    {
     "data": {
      "text/html": [
       "<div>\n",
       "<style>\n",
       "    .dataframe thead tr:only-child th {\n",
       "        text-align: right;\n",
       "    }\n",
       "\n",
       "    .dataframe thead th {\n",
       "        text-align: left;\n",
       "    }\n",
       "\n",
       "    .dataframe tbody tr th {\n",
       "        vertical-align: top;\n",
       "    }\n",
       "</style>\n",
       "<table border=\"1\" class=\"dataframe\">\n",
       "  <thead>\n",
       "    <tr style=\"text-align: right;\">\n",
       "      <th></th>\n",
       "      <th>name</th>\n",
       "      <th>capital</th>\n",
       "      <th>area</th>\n",
       "      <th>population</th>\n",
       "    </tr>\n",
       "  </thead>\n",
       "  <tbody>\n",
       "    <tr>\n",
       "      <th>0</th>\n",
       "      <td>Singapore</td>\n",
       "      <td>Singapore</td>\n",
       "      <td>692.7</td>\n",
       "      <td>4701069</td>\n",
       "    </tr>\n",
       "    <tr>\n",
       "      <th>1</th>\n",
       "      <td>Bahrain</td>\n",
       "      <td>Manama</td>\n",
       "      <td>665.0</td>\n",
       "      <td>738004</td>\n",
       "    </tr>\n",
       "    <tr>\n",
       "      <th>2</th>\n",
       "      <td>Macao</td>\n",
       "      <td>Macao</td>\n",
       "      <td>254.0</td>\n",
       "      <td>449198</td>\n",
       "    </tr>\n",
       "    <tr>\n",
       "      <th>3</th>\n",
       "      <td>Malta</td>\n",
       "      <td>Valletta</td>\n",
       "      <td>316.0</td>\n",
       "      <td>403000</td>\n",
       "    </tr>\n",
       "    <tr>\n",
       "      <th>4</th>\n",
       "      <td>Maldives</td>\n",
       "      <td>Male</td>\n",
       "      <td>300.0</td>\n",
       "      <td>395650</td>\n",
       "    </tr>\n",
       "    <tr>\n",
       "      <th>5</th>\n",
       "      <td>Netherlands Antilles</td>\n",
       "      <td>Willemstad</td>\n",
       "      <td>960.0</td>\n",
       "      <td>300000</td>\n",
       "    </tr>\n",
       "    <tr>\n",
       "      <th>6</th>\n",
       "      <td>Barbados</td>\n",
       "      <td>Bridgetown</td>\n",
       "      <td>431.0</td>\n",
       "      <td>285653</td>\n",
       "    </tr>\n",
       "  </tbody>\n",
       "</table>\n",
       "</div>"
      ],
      "text/plain": [
       "                   name     capital   area  population\n",
       "0             Singapore   Singapore  692.7     4701069\n",
       "1               Bahrain      Manama  665.0      738004\n",
       "2                 Macao       Macao  254.0      449198\n",
       "3                 Malta    Valletta  316.0      403000\n",
       "4              Maldives        Male  300.0      395650\n",
       "5  Netherlands Antilles  Willemstad  960.0      300000\n",
       "6              Barbados  Bridgetown  431.0      285653"
      ]
     },
     "execution_count": 47,
     "metadata": {},
     "output_type": "execute_result"
    }
   ],
   "source": [
    "pd.read_sql_query(query, conn)"
   ]
  },
  {
   "cell_type": "markdown",
   "metadata": {},
   "source": [
    "### Exercise <span class=\"exercise\">1.a</span>\n",
    "\n",
    "Execute the following query to select the name, population, and area of all\n",
    "countries with an area larger than one million square km:\n",
    "\n",
    "```\n",
    "SELECT name, area, population\n",
    "FROM countries\n",
    "WHERE area > 1000000\n",
    "```\n",
    "\n",
    "Execute the query on the open database, retrieving the result as a Pandas `DataFrame`. Use the already defined connection `conn`.\n",
    "\n",
    "Assign the result to variable `result_1a`."
   ]
  },
  {
   "cell_type": "code",
   "execution_count": 48,
   "metadata": {},
   "outputs": [
    {
     "data": {
      "text/html": [
       "<div>\n",
       "<style>\n",
       "    .dataframe thead tr:only-child th {\n",
       "        text-align: right;\n",
       "    }\n",
       "\n",
       "    .dataframe thead th {\n",
       "        text-align: left;\n",
       "    }\n",
       "\n",
       "    .dataframe tbody tr th {\n",
       "        vertical-align: top;\n",
       "    }\n",
       "</style>\n",
       "<table border=\"1\" class=\"dataframe\">\n",
       "  <thead>\n",
       "    <tr style=\"text-align: right;\">\n",
       "      <th></th>\n",
       "      <th>name</th>\n",
       "      <th>area</th>\n",
       "      <th>population</th>\n",
       "    </tr>\n",
       "  </thead>\n",
       "  <tbody>\n",
       "    <tr>\n",
       "      <th>0</th>\n",
       "      <td>Angola</td>\n",
       "      <td>1246700.0</td>\n",
       "      <td>13068161</td>\n",
       "    </tr>\n",
       "    <tr>\n",
       "      <th>1</th>\n",
       "      <td>Antarctica</td>\n",
       "      <td>14000000.0</td>\n",
       "      <td>0</td>\n",
       "    </tr>\n",
       "    <tr>\n",
       "      <th>2</th>\n",
       "      <td>Argentina</td>\n",
       "      <td>2766890.0</td>\n",
       "      <td>41343201</td>\n",
       "    </tr>\n",
       "    <tr>\n",
       "      <th>3</th>\n",
       "      <td>Australia</td>\n",
       "      <td>7686850.0</td>\n",
       "      <td>21515754</td>\n",
       "    </tr>\n",
       "    <tr>\n",
       "      <th>4</th>\n",
       "      <td>Bolivia</td>\n",
       "      <td>1098580.0</td>\n",
       "      <td>9947418</td>\n",
       "    </tr>\n",
       "    <tr>\n",
       "      <th>5</th>\n",
       "      <td>Brazil</td>\n",
       "      <td>8511965.0</td>\n",
       "      <td>201103330</td>\n",
       "    </tr>\n",
       "    <tr>\n",
       "      <th>6</th>\n",
       "      <td>Canada</td>\n",
       "      <td>9984670.0</td>\n",
       "      <td>33679000</td>\n",
       "    </tr>\n",
       "    <tr>\n",
       "      <th>7</th>\n",
       "      <td>Democratic Republic of the Congo</td>\n",
       "      <td>2345410.0</td>\n",
       "      <td>70916439</td>\n",
       "    </tr>\n",
       "    <tr>\n",
       "      <th>8</th>\n",
       "      <td>China</td>\n",
       "      <td>9596960.0</td>\n",
       "      <td>1330044000</td>\n",
       "    </tr>\n",
       "    <tr>\n",
       "      <th>9</th>\n",
       "      <td>Colombia</td>\n",
       "      <td>1138910.0</td>\n",
       "      <td>47790000</td>\n",
       "    </tr>\n",
       "    <tr>\n",
       "      <th>10</th>\n",
       "      <td>Algeria</td>\n",
       "      <td>2381740.0</td>\n",
       "      <td>34586184</td>\n",
       "    </tr>\n",
       "    <tr>\n",
       "      <th>11</th>\n",
       "      <td>Egypt</td>\n",
       "      <td>1001450.0</td>\n",
       "      <td>80471869</td>\n",
       "    </tr>\n",
       "    <tr>\n",
       "      <th>12</th>\n",
       "      <td>Ethiopia</td>\n",
       "      <td>1127127.0</td>\n",
       "      <td>88013491</td>\n",
       "    </tr>\n",
       "    <tr>\n",
       "      <th>13</th>\n",
       "      <td>Greenland</td>\n",
       "      <td>2166086.0</td>\n",
       "      <td>56375</td>\n",
       "    </tr>\n",
       "    <tr>\n",
       "      <th>14</th>\n",
       "      <td>Indonesia</td>\n",
       "      <td>1919440.0</td>\n",
       "      <td>242968342</td>\n",
       "    </tr>\n",
       "    <tr>\n",
       "      <th>15</th>\n",
       "      <td>India</td>\n",
       "      <td>3287590.0</td>\n",
       "      <td>1173108018</td>\n",
       "    </tr>\n",
       "    <tr>\n",
       "      <th>16</th>\n",
       "      <td>Iran</td>\n",
       "      <td>1648000.0</td>\n",
       "      <td>76923300</td>\n",
       "    </tr>\n",
       "    <tr>\n",
       "      <th>17</th>\n",
       "      <td>Kazakhstan</td>\n",
       "      <td>2717300.0</td>\n",
       "      <td>15340000</td>\n",
       "    </tr>\n",
       "    <tr>\n",
       "      <th>18</th>\n",
       "      <td>Libya</td>\n",
       "      <td>1759540.0</td>\n",
       "      <td>6461454</td>\n",
       "    </tr>\n",
       "    <tr>\n",
       "      <th>19</th>\n",
       "      <td>Mali</td>\n",
       "      <td>1240000.0</td>\n",
       "      <td>13796354</td>\n",
       "    </tr>\n",
       "    <tr>\n",
       "      <th>20</th>\n",
       "      <td>Mongolia</td>\n",
       "      <td>1565000.0</td>\n",
       "      <td>3086918</td>\n",
       "    </tr>\n",
       "    <tr>\n",
       "      <th>21</th>\n",
       "      <td>Mauritania</td>\n",
       "      <td>1030700.0</td>\n",
       "      <td>3205060</td>\n",
       "    </tr>\n",
       "    <tr>\n",
       "      <th>22</th>\n",
       "      <td>Mexico</td>\n",
       "      <td>1972550.0</td>\n",
       "      <td>112468855</td>\n",
       "    </tr>\n",
       "    <tr>\n",
       "      <th>23</th>\n",
       "      <td>Niger</td>\n",
       "      <td>1267000.0</td>\n",
       "      <td>15878271</td>\n",
       "    </tr>\n",
       "    <tr>\n",
       "      <th>24</th>\n",
       "      <td>Peru</td>\n",
       "      <td>1285220.0</td>\n",
       "      <td>29907003</td>\n",
       "    </tr>\n",
       "    <tr>\n",
       "      <th>25</th>\n",
       "      <td>Russia</td>\n",
       "      <td>17100000.0</td>\n",
       "      <td>140702000</td>\n",
       "    </tr>\n",
       "    <tr>\n",
       "      <th>26</th>\n",
       "      <td>Saudi Arabia</td>\n",
       "      <td>1960582.0</td>\n",
       "      <td>25731776</td>\n",
       "    </tr>\n",
       "    <tr>\n",
       "      <th>27</th>\n",
       "      <td>Sudan</td>\n",
       "      <td>1861484.0</td>\n",
       "      <td>35000000</td>\n",
       "    </tr>\n",
       "    <tr>\n",
       "      <th>28</th>\n",
       "      <td>Chad</td>\n",
       "      <td>1284000.0</td>\n",
       "      <td>10543464</td>\n",
       "    </tr>\n",
       "    <tr>\n",
       "      <th>29</th>\n",
       "      <td>United States</td>\n",
       "      <td>9629091.0</td>\n",
       "      <td>310232863</td>\n",
       "    </tr>\n",
       "    <tr>\n",
       "      <th>30</th>\n",
       "      <td>South Africa</td>\n",
       "      <td>1219912.0</td>\n",
       "      <td>49000000</td>\n",
       "    </tr>\n",
       "  </tbody>\n",
       "</table>\n",
       "</div>"
      ],
      "text/plain": [
       "                                name        area  population\n",
       "0                             Angola   1246700.0    13068161\n",
       "1                         Antarctica  14000000.0           0\n",
       "2                          Argentina   2766890.0    41343201\n",
       "3                          Australia   7686850.0    21515754\n",
       "4                            Bolivia   1098580.0     9947418\n",
       "5                             Brazil   8511965.0   201103330\n",
       "6                             Canada   9984670.0    33679000\n",
       "7   Democratic Republic of the Congo   2345410.0    70916439\n",
       "8                              China   9596960.0  1330044000\n",
       "9                           Colombia   1138910.0    47790000\n",
       "10                           Algeria   2381740.0    34586184\n",
       "11                             Egypt   1001450.0    80471869\n",
       "12                          Ethiopia   1127127.0    88013491\n",
       "13                         Greenland   2166086.0       56375\n",
       "14                         Indonesia   1919440.0   242968342\n",
       "15                             India   3287590.0  1173108018\n",
       "16                              Iran   1648000.0    76923300\n",
       "17                        Kazakhstan   2717300.0    15340000\n",
       "18                             Libya   1759540.0     6461454\n",
       "19                              Mali   1240000.0    13796354\n",
       "20                          Mongolia   1565000.0     3086918\n",
       "21                        Mauritania   1030700.0     3205060\n",
       "22                            Mexico   1972550.0   112468855\n",
       "23                             Niger   1267000.0    15878271\n",
       "24                              Peru   1285220.0    29907003\n",
       "25                            Russia  17100000.0   140702000\n",
       "26                      Saudi Arabia   1960582.0    25731776\n",
       "27                             Sudan   1861484.0    35000000\n",
       "28                              Chad   1284000.0    10543464\n",
       "29                     United States   9629091.0   310232863\n",
       "30                      South Africa   1219912.0    49000000"
      ]
     },
     "execution_count": 48,
     "metadata": {},
     "output_type": "execute_result"
    }
   ],
   "source": [
    "#// BEGIN_TODO [ORG_1a] Execute pre-defined query (1 point)\n",
    "query1a = ''' \n",
    "SELECT name, area, population\n",
    "FROM countries\n",
    "WHERE area > 1000000\n",
    "'''\n",
    "result_1a = pd.read_sql_query(query1a, conn)\n",
    "\n",
    "#// END_TODO [ORG_1a]\n",
    "\n",
    "result_1a"
   ]
  },
  {
   "cell_type": "markdown",
   "metadata": {},
   "source": [
    "### Via cursor objects\n",
    "\n",
    "Instead of writing an entire data frame as a table,\n",
    "or reading the entire result of a query into a Pandas `DataFrame`,\n",
    "you can also work via a so-called **cursor** object.\n",
    "For operations on a database that are not queries\n",
    "(that do not return a table),\n",
    "you _must_ work with a cursor object.\n",
    "\n",
    "This approach involves the following steps:\n",
    "\n",
    "1. Create a cursor object.\n",
    "1. Execute the SQL statement.\n",
    "1. Optionally, process the result through the cursor object.\n",
    "\n",
    "The query above is executed as follows using a cursor object.\n",
    "Since there are no changes, no commit is needed."
   ]
  },
  {
   "cell_type": "code",
   "execution_count": 49,
   "metadata": {},
   "outputs": [
    {
     "data": {
      "text/plain": [
       "[('Singapore', 'Singapore', 692.7, 4701069),\n",
       " ('Bahrain', 'Manama', 665.0, 738004),\n",
       " ('Macao', 'Macao', 254.0, 449198),\n",
       " ('Malta', 'Valletta', 316.0, 403000),\n",
       " ('Maldives', 'Male', 300.0, 395650),\n",
       " ('Netherlands Antilles', 'Willemstad', 960.0, 300000),\n",
       " ('Barbados', 'Bridgetown', 431.0, 285653)]"
      ]
     },
     "execution_count": 49,
     "metadata": {},
     "output_type": "execute_result"
    }
   ],
   "source": [
    "cur = conn.cursor()  # 1. Create cursor object.\n",
    "cur.execute(query)  # 2. Execute SQL statement\n",
    "cur.fetchall()  # 3. Inspect the result (all rows)"
   ]
  },
  {
   "cell_type": "markdown",
   "metadata": {},
   "source": [
    "We recommend\n",
    "\n",
    "* to use **`pd.read_sql_query()`** for _queries_ (SELECT statements),\n",
    "so that the result is conveniently available as a Pandas `DataFrame`, and\n",
    "* to use **`execute()`** for other (non-SELECT) SQL statements."
   ]
  },
  {
   "cell_type": "markdown",
   "metadata": {},
   "source": [
    "### Exercise <span class=\"exercise\">1.b</span>\n",
    "\n",
    "Execute a query to select the name and population of European countries with a population larger than 60 million, ordered in descending order on population:\n",
    "\n",
    "```\n",
    "SELECT name, population\n",
    "FROM countries\n",
    "WHERE continent = \"EU\" AND population > 60000000\n",
    "ORDER BY population DESC;\n",
    "```\n",
    "\n",
    "Execute the query via the cursor object `cur` defined above.\n",
    "\n",
    "Assign the result to variable `result_1b`."
   ]
  },
  {
   "cell_type": "code",
   "execution_count": 50,
   "metadata": {},
   "outputs": [
    {
     "data": {
      "text/plain": [
       "[('Russia', 140702000),\n",
       " ('Germany', 81802257),\n",
       " ('France', 64768389),\n",
       " ('United Kingdom', 62348447),\n",
       " ('Italy', 60340328)]"
      ]
     },
     "execution_count": 50,
     "metadata": {},
     "output_type": "execute_result"
    }
   ],
   "source": [
    "#// BEGIN_TODO [ORG_1b] Execute pre-defined query with cursor (1 point)\n",
    "\n",
    "query1b = '''\n",
    "SELECT name, population\n",
    "FROM countries\n",
    "WHERE continent = \"EU\" AND population > 60000000\n",
    "ORDER BY population DESC;\n",
    "'''\n",
    "\n",
    "cur = conn.cursor()\n",
    "cur.execute(query1b)\n",
    "result_1b = cur.fetchall()\n",
    "\n",
    "#// END_TODO [ORG_1b]\n",
    "\n",
    "result_1b"
   ]
  },
  {
   "cell_type": "markdown",
   "metadata": {},
   "source": [
    "<span id=\"commit_changes\"></span>\n",
    "\n",
    "## Step 3. Commit changes to database\n",
    "\n",
    "If changes have been made to the database through _cursor objects_\n",
    "then you need to **commit** them in order to persist in the database file,\n",
    "and become visible to other users of that same database.\n",
    "Alternatively, you can decide to **rollback** the changes.\n",
    "\n",
    "> **NOTE**: Changes made through `DataFrame.to_sql()` are committed automatically.  \n",
    "> It is not possible to rollback in that case.\n",
    "\n",
    "Let's make a change, via the cursor object that we already have.\n",
    "\n",
    "First, we inspect the population for the Netherlands:"
   ]
  },
  {
   "cell_type": "code",
   "execution_count": 51,
   "metadata": {},
   "outputs": [
    {
     "data": {
      "text/html": [
       "<div>\n",
       "<style>\n",
       "    .dataframe thead tr:only-child th {\n",
       "        text-align: right;\n",
       "    }\n",
       "\n",
       "    .dataframe thead th {\n",
       "        text-align: left;\n",
       "    }\n",
       "\n",
       "    .dataframe tbody tr th {\n",
       "        vertical-align: top;\n",
       "    }\n",
       "</style>\n",
       "<table border=\"1\" class=\"dataframe\">\n",
       "  <thead>\n",
       "    <tr style=\"text-align: right;\">\n",
       "      <th></th>\n",
       "      <th>name</th>\n",
       "      <th>population</th>\n",
       "    </tr>\n",
       "  </thead>\n",
       "  <tbody>\n",
       "    <tr>\n",
       "      <th>0</th>\n",
       "      <td>Netherlands</td>\n",
       "      <td>16645000</td>\n",
       "    </tr>\n",
       "  </tbody>\n",
       "</table>\n",
       "</div>"
      ],
      "text/plain": [
       "          name  population\n",
       "0  Netherlands    16645000"
      ]
     },
     "execution_count": 51,
     "metadata": {},
     "output_type": "execute_result"
    }
   ],
   "source": [
    "get_pop_NL = 'SELECT name, population FROM countries WHERE name = \"Netherlands\";'\n",
    "pd.read_sql_query(get_pop_NL, conn)"
   ]
  },
  {
   "cell_type": "markdown",
   "metadata": {},
   "source": [
    "Next, we define an SQL statement to update the population of the Netherlands\n",
    "to that of 12 Dec 2017\n",
    "([source](http://www.worldometers.info/world-population/population-by-country/)),\n",
    "and execute it."
   ]
  },
  {
   "cell_type": "code",
   "execution_count": 52,
   "metadata": {
    "collapsed": true
   },
   "outputs": [],
   "source": [
    "update_pop_NL = '''\n",
    "    UPDATE countries\n",
    "    SET population = 17035938\n",
    "    WHERE name = \"Netherlands\";\n",
    "'''\n",
    "cur.execute(update_pop_NL);"
   ]
  },
  {
   "cell_type": "markdown",
   "metadata": {},
   "source": [
    "Let's check the update:"
   ]
  },
  {
   "cell_type": "code",
   "execution_count": 53,
   "metadata": {},
   "outputs": [
    {
     "data": {
      "text/html": [
       "<div>\n",
       "<style>\n",
       "    .dataframe thead tr:only-child th {\n",
       "        text-align: right;\n",
       "    }\n",
       "\n",
       "    .dataframe thead th {\n",
       "        text-align: left;\n",
       "    }\n",
       "\n",
       "    .dataframe tbody tr th {\n",
       "        vertical-align: top;\n",
       "    }\n",
       "</style>\n",
       "<table border=\"1\" class=\"dataframe\">\n",
       "  <thead>\n",
       "    <tr style=\"text-align: right;\">\n",
       "      <th></th>\n",
       "      <th>name</th>\n",
       "      <th>population</th>\n",
       "    </tr>\n",
       "  </thead>\n",
       "  <tbody>\n",
       "    <tr>\n",
       "      <th>0</th>\n",
       "      <td>Netherlands</td>\n",
       "      <td>17035938</td>\n",
       "    </tr>\n",
       "  </tbody>\n",
       "</table>\n",
       "</div>"
      ],
      "text/plain": [
       "          name  population\n",
       "0  Netherlands    17035938"
      ]
     },
     "execution_count": 53,
     "metadata": {},
     "output_type": "execute_result"
    }
   ],
   "source": [
    "pd.read_sql_query(get_pop_NL, conn)"
   ]
  },
  {
   "cell_type": "markdown",
   "metadata": {},
   "source": [
    "### Rollback via `rollback()`\n",
    "\n",
    "We could decide to **rollback** (cancel) all _pending_ changes,\n",
    "via **`conn.rollback()`**:"
   ]
  },
  {
   "cell_type": "code",
   "execution_count": 54,
   "metadata": {
    "collapsed": true
   },
   "outputs": [],
   "source": [
    "conn.rollback()"
   ]
  },
  {
   "cell_type": "markdown",
   "metadata": {},
   "source": [
    "Let's check again:"
   ]
  },
  {
   "cell_type": "code",
   "execution_count": 55,
   "metadata": {},
   "outputs": [
    {
     "data": {
      "text/html": [
       "<div>\n",
       "<style>\n",
       "    .dataframe thead tr:only-child th {\n",
       "        text-align: right;\n",
       "    }\n",
       "\n",
       "    .dataframe thead th {\n",
       "        text-align: left;\n",
       "    }\n",
       "\n",
       "    .dataframe tbody tr th {\n",
       "        vertical-align: top;\n",
       "    }\n",
       "</style>\n",
       "<table border=\"1\" class=\"dataframe\">\n",
       "  <thead>\n",
       "    <tr style=\"text-align: right;\">\n",
       "      <th></th>\n",
       "      <th>name</th>\n",
       "      <th>population</th>\n",
       "    </tr>\n",
       "  </thead>\n",
       "  <tbody>\n",
       "    <tr>\n",
       "      <th>0</th>\n",
       "      <td>Netherlands</td>\n",
       "      <td>16645000</td>\n",
       "    </tr>\n",
       "  </tbody>\n",
       "</table>\n",
       "</div>"
      ],
      "text/plain": [
       "          name  population\n",
       "0  Netherlands    16645000"
      ]
     },
     "execution_count": 55,
     "metadata": {},
     "output_type": "execute_result"
    }
   ],
   "source": [
    "pd.read_sql_query(get_pop_NL, conn)"
   ]
  },
  {
   "cell_type": "markdown",
   "metadata": {},
   "source": [
    "So, the change was undone.\n",
    "Now let's make the change again:"
   ]
  },
  {
   "cell_type": "code",
   "execution_count": 56,
   "metadata": {
    "collapsed": true
   },
   "outputs": [],
   "source": [
    "cur.execute(update_pop_NL);"
   ]
  },
  {
   "cell_type": "markdown",
   "metadata": {},
   "source": [
    "### Commit via `commit()`\n",
    "\n",
    "Finally, we **commit** all _pending_ changes via **`conn.commit()`**,\n",
    "to make it visible to other users of that database:"
   ]
  },
  {
   "cell_type": "code",
   "execution_count": 57,
   "metadata": {
    "collapsed": true
   },
   "outputs": [],
   "source": [
    "conn.commit()"
   ]
  },
  {
   "cell_type": "markdown",
   "metadata": {},
   "source": [
    "After the changes have been committed, they cannot be rolled back (i.e. **`conn.rollback()`** will have no effect):"
   ]
  },
  {
   "cell_type": "code",
   "execution_count": 58,
   "metadata": {},
   "outputs": [
    {
     "data": {
      "text/html": [
       "<div>\n",
       "<style>\n",
       "    .dataframe thead tr:only-child th {\n",
       "        text-align: right;\n",
       "    }\n",
       "\n",
       "    .dataframe thead th {\n",
       "        text-align: left;\n",
       "    }\n",
       "\n",
       "    .dataframe tbody tr th {\n",
       "        vertical-align: top;\n",
       "    }\n",
       "</style>\n",
       "<table border=\"1\" class=\"dataframe\">\n",
       "  <thead>\n",
       "    <tr style=\"text-align: right;\">\n",
       "      <th></th>\n",
       "      <th>name</th>\n",
       "      <th>population</th>\n",
       "    </tr>\n",
       "  </thead>\n",
       "  <tbody>\n",
       "    <tr>\n",
       "      <th>0</th>\n",
       "      <td>Netherlands</td>\n",
       "      <td>17035938</td>\n",
       "    </tr>\n",
       "  </tbody>\n",
       "</table>\n",
       "</div>"
      ],
      "text/plain": [
       "          name  population\n",
       "0  Netherlands    17035938"
      ]
     },
     "execution_count": 58,
     "metadata": {},
     "output_type": "execute_result"
    }
   ],
   "source": [
    "conn.rollback()\n",
    "pd.read_sql_query(get_pop_NL, conn)"
   ]
  },
  {
   "cell_type": "markdown",
   "metadata": {},
   "source": [
    "### Exercise <span class=\"exercise\">1.c</span>\n",
    "\n",
    "Execute a query to update the country database and set the population for Antarctica to one thousand:\n",
    "\n",
    "```\n",
    "UPDATE countries\n",
    "SET population = 1000\n",
    "WHERE name = \"Antarctica\";\n",
    "```\n",
    "\n",
    "Execute the query via the cursor object `cur` defined earlier. "
   ]
  },
  {
   "cell_type": "code",
   "execution_count": 59,
   "metadata": {
    "collapsed": true
   },
   "outputs": [],
   "source": [
    "#// BEGIN_TODO [ORG_1c] Execute an UPDATE query (1 point)\n",
    "\n",
    "query1c = '''\n",
    "UPDATE countries\n",
    "SET population = 1000\n",
    "WHERE name = \"Antarctica\";\n",
    "'''\n",
    "cur.execute(query1c);\n",
    "\n",
    "#// END_TODO [ORG_1c]"
   ]
  },
  {
   "cell_type": "markdown",
   "metadata": {},
   "source": [
    "### Exercise <span class=\"exercise\">1.d</span>\n",
    "\n",
    "Commit the preceding change to the database."
   ]
  },
  {
   "cell_type": "code",
   "execution_count": 60,
   "metadata": {
    "collapsed": true
   },
   "outputs": [],
   "source": [
    "#// BEGIN_TODO [ORG_1d] Commit changes (1 point)\n",
    "\n",
    "conn.commit()\n",
    "\n",
    "#// END_TODO [ORG_1d]"
   ]
  },
  {
   "cell_type": "markdown",
   "metadata": {},
   "source": [
    "## Step 4. Close connection to database\n",
    "\n",
    "Once you no longer want to work with the database,\n",
    "you can (and are encouraged to) close the connection to it:"
   ]
  },
  {
   "cell_type": "code",
   "execution_count": 61,
   "metadata": {
    "collapsed": true
   },
   "outputs": [],
   "source": [
    "conn.close()"
   ]
  },
  {
   "cell_type": "markdown",
   "metadata": {},
   "source": [
    "# <span class=\"section\">2.</span> SQL - Structured Query Language\n",
    "\n",
    "Also see: [W3 Schools - SQL Tutorial](https://www.w3schools.com/sql/).\n",
    "\n",
    "The _Structured Query Language_ consists of several sublanguages:\n",
    "\n",
    "* **DDL** - Data Definition Language (**CREATE**, **ALTER**, **ADD**, **DROP**)\n",
    "* **DML** - Data Manipulation Language (**SELECT**, **INSERT**, **UPDATE**, **DELETE**)\n",
    "* **TCL** - Transaction Control Language (**COMMIT**, **ROLLBACK**)\n",
    "* **DCL** - Data Control Language (dealing with permissions)\n",
    "\n",
    "In these lessons,\n",
    "the Data Manipulation Language is most important, and in particular\n",
    "its **SELECT** statement that _queries_ a database, in order to retrieve selected values.\n",
    "\n",
    "> **NOTE**: There are many dialects of SQL.\n",
    "> We use the _SQLite_ dialect, and try to stay close to the _ANSI standard_.\n",
    "\n",
    "General rules:\n",
    "\n",
    "* SQL is _not_ case sensitive (`SELECT` and `select` are treated the same way).\n",
    "* SQL statements are always terminated by a semicolon ('**`;`**').\n",
    "* To write an identifier that contains spaces or that is the same as a keyword,\n",
    "    enclose it in **double quotes**.\n",
    "* SQL uses **single quotes** to enclose string literals.\n",
    "\n",
    "Before we continue with practicing SQL queries, let us reestablish a connection to the data base, since we have closed it above:"
   ]
  },
  {
   "cell_type": "code",
   "execution_count": 62,
   "metadata": {
    "collapsed": true
   },
   "outputs": [],
   "source": [
    "conn = sqlite3.connect('countries.db')  # connect to database in file countries.db"
   ]
  },
  {
   "cell_type": "markdown",
   "metadata": {},
   "source": [
    "## Select\n",
    "\n",
    "The SQL **SELECT** statement retrieves values from a database and\n",
    "presents the result as a (temporary) table organized in rows and columns.\n",
    "\n",
    "The SELECT statement has a number of required and optional clauses:\n",
    "\n",
    "| Clause | Type | Remarks |\n",
    "| :----- | :--: | :------ |\n",
    "| `SELECT` _`expr1, expr2, ...`_ | Required | `SELECT *` selects all columns; `SELECT DISTINCT ...` |\n",
    "| `FROM` _`table1, table2, ...`_ | Required | |\n",
    "| `... JOIN` _`table`_ `ON` _`condition`_ | Optional | `...` can be `INNER`, `LEFT`, `CROSS` |\n",
    "| `WHERE` _`condition`_ | Optional | Filter on boolean condition before grouping |\n",
    "| `GROUP BY` _`column1, column2, ...`_ | Optional | |\n",
    "| `HAVING` _`condition`_ | Optional | Filter on boolean condition after grouping |\n",
    "| `ORDER BY` _`column1, column2, ...`_ | Optional | Append `DESC` for descending order |\n",
    "| `LIMIT` _`number`_ | Optional | Report only first given number of rows |\n",
    "\n",
    "Numeric expressions _`expr1`_ etc. can contain\n",
    "\n",
    "* _column names_; must be disambiguated by prepending _table name_: `table1.column1`\n",
    "* aliases for renaming column/table names: e.g. `table1.column1 AS 'some name'` to rename `table1.column1` to `'some name'` (aliases exist only for the duration of the query)\n",
    "* operators: +, -, *, /, %\n",
    "* functions: MIN, MAX, COUNT, SUM, AVG (these aggregate when `GROUP BY` is used)"
   ]
  },
  {
   "cell_type": "markdown",
   "metadata": {},
   "source": [
    "Here is an example query using `GROUP BY` to obtain an overview of\n",
    "\n",
    "* all continents, with for each continent\n",
    "* the number of countries on it\n",
    "* the total population\n",
    "* the maximum population over its countries\n",
    "* the total area\n",
    "* the maximum area over its countries\n",
    "\n",
    "sorted in descending order on number countries:"
   ]
  },
  {
   "cell_type": "code",
   "execution_count": 63,
   "metadata": {},
   "outputs": [
    {
     "data": {
      "text/html": [
       "<div>\n",
       "<style>\n",
       "    .dataframe thead tr:only-child th {\n",
       "        text-align: right;\n",
       "    }\n",
       "\n",
       "    .dataframe thead th {\n",
       "        text-align: left;\n",
       "    }\n",
       "\n",
       "    .dataframe tbody tr th {\n",
       "        vertical-align: top;\n",
       "    }\n",
       "</style>\n",
       "<table border=\"1\" class=\"dataframe\">\n",
       "  <thead>\n",
       "    <tr style=\"text-align: right;\">\n",
       "      <th></th>\n",
       "      <th>continent</th>\n",
       "      <th>count(name)</th>\n",
       "      <th>sum(population)</th>\n",
       "      <th>max(population)</th>\n",
       "      <th>sum(area)</th>\n",
       "      <th>max(area)</th>\n",
       "    </tr>\n",
       "  </thead>\n",
       "  <tbody>\n",
       "    <tr>\n",
       "      <th>0</th>\n",
       "      <td>AF</td>\n",
       "      <td>58</td>\n",
       "      <td>1016879730</td>\n",
       "      <td>154000000</td>\n",
       "      <td>30360296.00</td>\n",
       "      <td>2381740.0</td>\n",
       "    </tr>\n",
       "    <tr>\n",
       "      <th>1</th>\n",
       "      <td>EU</td>\n",
       "      <td>53</td>\n",
       "      <td>739531963</td>\n",
       "      <td>140702000</td>\n",
       "      <td>23079944.09</td>\n",
       "      <td>17100000.0</td>\n",
       "    </tr>\n",
       "    <tr>\n",
       "      <th>2</th>\n",
       "      <td>AS</td>\n",
       "      <td>52</td>\n",
       "      <td>4130586341</td>\n",
       "      <td>1330044000</td>\n",
       "      <td>31603228.70</td>\n",
       "      <td>9596960.0</td>\n",
       "    </tr>\n",
       "    <tr>\n",
       "      <th>3</th>\n",
       "      <td>NM</td>\n",
       "      <td>42</td>\n",
       "      <td>540105043</td>\n",
       "      <td>310232863</td>\n",
       "      <td>24512514.00</td>\n",
       "      <td>9984670.0</td>\n",
       "    </tr>\n",
       "    <tr>\n",
       "      <th>4</th>\n",
       "      <td>OC</td>\n",
       "      <td>27</td>\n",
       "      <td>36066049</td>\n",
       "      <td>21515754</td>\n",
       "      <td>8523505.90</td>\n",
       "      <td>7686850.0</td>\n",
       "    </tr>\n",
       "    <tr>\n",
       "      <th>5</th>\n",
       "      <td>SM</td>\n",
       "      <td>14</td>\n",
       "      <td>400143568</td>\n",
       "      <td>201103330</td>\n",
       "      <td>17818508.00</td>\n",
       "      <td>8511965.0</td>\n",
       "    </tr>\n",
       "    <tr>\n",
       "      <th>6</th>\n",
       "      <td>AN</td>\n",
       "      <td>5</td>\n",
       "      <td>1170</td>\n",
       "      <td>1000</td>\n",
       "      <td>14012193.00</td>\n",
       "      <td>14000000.0</td>\n",
       "    </tr>\n",
       "  </tbody>\n",
       "</table>\n",
       "</div>"
      ],
      "text/plain": [
       "  continent  count(name)  sum(population)  max(population)    sum(area)  \\\n",
       "0        AF           58       1016879730        154000000  30360296.00   \n",
       "1        EU           53        739531963        140702000  23079944.09   \n",
       "2        AS           52       4130586341       1330044000  31603228.70   \n",
       "3        NM           42        540105043        310232863  24512514.00   \n",
       "4        OC           27         36066049         21515754   8523505.90   \n",
       "5        SM           14        400143568        201103330  17818508.00   \n",
       "6        AN            5             1170             1000  14012193.00   \n",
       "\n",
       "    max(area)  \n",
       "0   2381740.0  \n",
       "1  17100000.0  \n",
       "2   9596960.0  \n",
       "3   9984670.0  \n",
       "4   7686850.0  \n",
       "5   8511965.0  \n",
       "6  14000000.0  "
      ]
     },
     "execution_count": 63,
     "metadata": {},
     "output_type": "execute_result"
    }
   ],
   "source": [
    "query = '''\n",
    "    SELECT continent, count(name), sum(population), max(population), sum(area), max(area)\n",
    "    FROM countries\n",
    "    GROUP BY continent\n",
    "    ORDER BY count(name) DESC;\n",
    "'''\n",
    "pd.read_sql_query(query, conn)"
   ]
  },
  {
   "cell_type": "markdown",
   "metadata": {},
   "source": [
    "### Logical operators\n",
    "\n",
    "Boolean conditions can contain\n",
    "\n",
    "* _column names_\n",
    "* comparison operators: =, <>, <, >, <=, >=\n",
    "* boolean operators: NOT, AND, OR\n",
    "* pattern matching operator (to match string values against a pattern with wildcards): LIKE\n",
    "    * e.g. condition `... WHERE name LIKE \"Nether%\"` will select rows containing a string starting with `Nether` in the `name` column\n",
    "\n",
    "> **NOTE**: SQLite does not support `RIGHT` and `OUTER` joins."
   ]
  },
  {
   "cell_type": "markdown",
   "metadata": {},
   "source": [
    "### Exercise <span class=\"exercise\">2.a</span>\n",
    "\n",
    "Define a query to select the name, capital, population, and area of all\n",
    "countries with an area larger than one million square km and the population is less than ten million, ordered in ascending order on area.\n",
    "\n",
    "Execute the query on the open database, retrieving the result as a Pandas `DataFrame`. Use the already defined connection `conn`.\n",
    "\n",
    "Assign the query to variable `query_2a`, and the result to variable `result_2a`."
   ]
  },
  {
   "cell_type": "code",
   "execution_count": 64,
   "metadata": {},
   "outputs": [
    {
     "name": "stdout",
     "output_type": "stream",
     "text": [
      "\n",
      "SELECT name, capital, population, area\n",
      "FROM countries\n",
      "WHERE area > 100000000 AND population < 10000000\n",
      "ORDER BY area DESC;\n",
      "\n",
      "Empty DataFrame\n",
      "Columns: [name, capital, population, area]\n",
      "Index: []\n"
     ]
    }
   ],
   "source": [
    "#// BEGIN_TODO [ORG_2a] Define and execute a query (1 point)\n",
    "\n",
    "#  SELECT continent, count(name), sum(population), max(population), sum(area), max(area)\n",
    "#     FROM countries\n",
    "#     GROUP BY continent\n",
    "#     ORDER BY count(name) DESC;\n",
    "# WHERE area < 1000 AND population > 200000\n",
    "query_2a = '''\n",
    "SELECT name, capital, population, area\n",
    "FROM countries\n",
    "WHERE area > 100000000 AND population < 10000000\n",
    "ORDER BY area DESC;\n",
    "'''\n",
    "\n",
    "result_2a = pd.read_sql_query(query_2a, conn)\n",
    "\n",
    "#// END_TODO [ORG_2a]\n",
    "\n",
    "print(query_2a)\n",
    "print(result_2a)"
   ]
  },
  {
   "cell_type": "markdown",
   "metadata": {},
   "source": [
    "### Joining tables\n",
    "\n",
    "Let's first add the continent names as a new table:"
   ]
  },
  {
   "cell_type": "code",
   "execution_count": 65,
   "metadata": {},
   "outputs": [
    {
     "data": {
      "text/html": [
       "<div>\n",
       "<style>\n",
       "    .dataframe thead tr:only-child th {\n",
       "        text-align: right;\n",
       "    }\n",
       "\n",
       "    .dataframe thead th {\n",
       "        text-align: left;\n",
       "    }\n",
       "\n",
       "    .dataframe tbody tr th {\n",
       "        vertical-align: top;\n",
       "    }\n",
       "</style>\n",
       "<table border=\"1\" class=\"dataframe\">\n",
       "  <thead>\n",
       "    <tr style=\"text-align: right;\">\n",
       "      <th></th>\n",
       "      <th>index</th>\n",
       "      <th>name</th>\n",
       "    </tr>\n",
       "  </thead>\n",
       "  <tbody>\n",
       "    <tr>\n",
       "      <th>0</th>\n",
       "      <td>AF</td>\n",
       "      <td>Africa</td>\n",
       "    </tr>\n",
       "    <tr>\n",
       "      <th>1</th>\n",
       "      <td>AN</td>\n",
       "      <td>Antarctica</td>\n",
       "    </tr>\n",
       "    <tr>\n",
       "      <th>2</th>\n",
       "      <td>AS</td>\n",
       "      <td>Asia</td>\n",
       "    </tr>\n",
       "    <tr>\n",
       "      <th>3</th>\n",
       "      <td>EU</td>\n",
       "      <td>Europe</td>\n",
       "    </tr>\n",
       "    <tr>\n",
       "      <th>4</th>\n",
       "      <td>NM</td>\n",
       "      <td>North America</td>\n",
       "    </tr>\n",
       "    <tr>\n",
       "      <th>5</th>\n",
       "      <td>OC</td>\n",
       "      <td>Oceania</td>\n",
       "    </tr>\n",
       "    <tr>\n",
       "      <th>6</th>\n",
       "      <td>SM</td>\n",
       "      <td>South America</td>\n",
       "    </tr>\n",
       "  </tbody>\n",
       "</table>\n",
       "</div>"
      ],
      "text/plain": [
       "  index           name\n",
       "0    AF         Africa\n",
       "1    AN     Antarctica\n",
       "2    AS           Asia\n",
       "3    EU         Europe\n",
       "4    NM  North America\n",
       "5    OC        Oceania\n",
       "6    SM  South America"
      ]
     },
     "execution_count": 65,
     "metadata": {},
     "output_type": "execute_result"
    }
   ],
   "source": [
    "continents = pd.DataFrame(\n",
    "    ['Africa',\n",
    "     'Antarctica',\n",
    "     'Asia',\n",
    "     'Europe',\n",
    "     'North America',\n",
    "     'Oceania',\n",
    "     'South America',\n",
    "    ],\n",
    "    index=['AF', 'AN', 'AS', 'EU', 'NM', 'OC', 'SM'],\n",
    "    columns=['name']\n",
    ")\n",
    "continents.to_sql('continents', conn, if_exists='replace')\n",
    "pd.read_sql_query('SELECT * FROM continents;', conn)"
   ]
  },
  {
   "cell_type": "markdown",
   "metadata": {},
   "source": [
    "Now, let's **join** data from the two tables\n",
    "\n",
    "* `countries` and\n",
    "* `continents`,\n",
    "\n",
    "in such a way that each row of `continents` will also show the full name of the continent\n",
    "for that country.\n",
    "\n",
    "Note that the column `'continent'` in `countries` uses the exact same encoding for continents\n",
    "as the column '`index`' of `continents`.\n",
    "It serves as the **primary key** in `continents`.\n",
    "\n",
    "We want to keep all rows of `countries`, and copy in the name from `continent`."
   ]
  },
  {
   "cell_type": "code",
   "execution_count": 66,
   "metadata": {},
   "outputs": [
    {
     "data": {
      "text/html": [
       "<div>\n",
       "<style>\n",
       "    .dataframe thead tr:only-child th {\n",
       "        text-align: right;\n",
       "    }\n",
       "\n",
       "    .dataframe thead th {\n",
       "        text-align: left;\n",
       "    }\n",
       "\n",
       "    .dataframe tbody tr th {\n",
       "        vertical-align: top;\n",
       "    }\n",
       "</style>\n",
       "<table border=\"1\" class=\"dataframe\">\n",
       "  <thead>\n",
       "    <tr style=\"text-align: right;\">\n",
       "      <th></th>\n",
       "      <th>name</th>\n",
       "      <th>capital</th>\n",
       "      <th>continent</th>\n",
       "      <th>population</th>\n",
       "    </tr>\n",
       "  </thead>\n",
       "  <tbody>\n",
       "    <tr>\n",
       "      <th>0</th>\n",
       "      <td>China</td>\n",
       "      <td>Beijing</td>\n",
       "      <td>Asia</td>\n",
       "      <td>1330044000</td>\n",
       "    </tr>\n",
       "    <tr>\n",
       "      <th>1</th>\n",
       "      <td>India</td>\n",
       "      <td>New Delhi</td>\n",
       "      <td>Asia</td>\n",
       "      <td>1173108018</td>\n",
       "    </tr>\n",
       "    <tr>\n",
       "      <th>2</th>\n",
       "      <td>United States</td>\n",
       "      <td>Washington</td>\n",
       "      <td>North America</td>\n",
       "      <td>310232863</td>\n",
       "    </tr>\n",
       "    <tr>\n",
       "      <th>3</th>\n",
       "      <td>Indonesia</td>\n",
       "      <td>Jakarta</td>\n",
       "      <td>Asia</td>\n",
       "      <td>242968342</td>\n",
       "    </tr>\n",
       "    <tr>\n",
       "      <th>4</th>\n",
       "      <td>Brazil</td>\n",
       "      <td>Brasilia</td>\n",
       "      <td>South America</td>\n",
       "      <td>201103330</td>\n",
       "    </tr>\n",
       "    <tr>\n",
       "      <th>5</th>\n",
       "      <td>Pakistan</td>\n",
       "      <td>Islamabad</td>\n",
       "      <td>Asia</td>\n",
       "      <td>184404791</td>\n",
       "    </tr>\n",
       "    <tr>\n",
       "      <th>6</th>\n",
       "      <td>Bangladesh</td>\n",
       "      <td>Dhaka</td>\n",
       "      <td>Asia</td>\n",
       "      <td>156118464</td>\n",
       "    </tr>\n",
       "    <tr>\n",
       "      <th>7</th>\n",
       "      <td>Nigeria</td>\n",
       "      <td>Abuja</td>\n",
       "      <td>Africa</td>\n",
       "      <td>154000000</td>\n",
       "    </tr>\n",
       "    <tr>\n",
       "      <th>8</th>\n",
       "      <td>Russia</td>\n",
       "      <td>Moscow</td>\n",
       "      <td>Europe</td>\n",
       "      <td>140702000</td>\n",
       "    </tr>\n",
       "    <tr>\n",
       "      <th>9</th>\n",
       "      <td>Japan</td>\n",
       "      <td>Tokyo</td>\n",
       "      <td>Asia</td>\n",
       "      <td>127288000</td>\n",
       "    </tr>\n",
       "  </tbody>\n",
       "</table>\n",
       "</div>"
      ],
      "text/plain": [
       "            name     capital      continent  population\n",
       "0          China     Beijing           Asia  1330044000\n",
       "1          India   New Delhi           Asia  1173108018\n",
       "2  United States  Washington  North America   310232863\n",
       "3      Indonesia     Jakarta           Asia   242968342\n",
       "4         Brazil    Brasilia  South America   201103330\n",
       "5       Pakistan   Islamabad           Asia   184404791\n",
       "6     Bangladesh       Dhaka           Asia   156118464\n",
       "7        Nigeria       Abuja         Africa   154000000\n",
       "8         Russia      Moscow         Europe   140702000\n",
       "9          Japan       Tokyo           Asia   127288000"
      ]
     },
     "execution_count": 66,
     "metadata": {},
     "output_type": "execute_result"
    }
   ],
   "source": [
    "query = '''\n",
    "    SELECT countries.name, capital, continents.name AS continent, population\n",
    "    FROM countries, continents\n",
    "    WHERE countries.continent = continents.\"index\" AND population > 10000000\n",
    "    ORDER BY population DESC\n",
    "    LIMIT 10;\n",
    "'''\n",
    "pd.read_sql_query(query, conn)"
   ]
  },
  {
   "cell_type": "markdown",
   "metadata": {},
   "source": [
    "> **NOTES**\n",
    "> * The column name `name` appears in both tables `countries` and `continents`.  \n",
    ">     Therefore, we need to prefix it with the table name to disambiguate it.\n",
    "> * In the result, we want the column with continents to be labeled '`continent`'.  \n",
    ">     Therefore, we use the _alias_ `as continent`.\n",
    "> * The column name `index` in table `continents` conflicts with the SQL keyword `INDEX`.  \n",
    ">     Therefore, we need to double-quote it."
   ]
  },
  {
   "cell_type": "markdown",
   "metadata": {},
   "source": [
    "### Exercise <span class=\"exercise\">2.b</span>\n",
    "\n",
    "Execute a query to compute the total population per continent. The result should contain two columns: `'continent name'` (containing full names of the continents) and `'total population'`.\n",
    "\n",
    "Assign the query to variable `query_2b`, and the result to variable `result_2b`."
   ]
  },
  {
   "cell_type": "code",
   "execution_count": 67,
   "metadata": {},
   "outputs": [
    {
     "name": "stdout",
     "output_type": "stream",
     "text": [
      "\n",
      "SELECT continents.name AS 'continent name', sum(population) AS 'total population'\n",
      "FROM countries, continents\n",
      "WHERE countries.continent = continents.\"index\"\n",
      "GROUP BY continent\n",
      "\n",
      "  continent name  total population\n",
      "0         Africa        1016879730\n",
      "1     Antarctica              1170\n",
      "2           Asia        4130586341\n",
      "3         Europe         739531963\n",
      "4  North America         540105043\n",
      "5        Oceania          36066049\n",
      "6  South America         400143568\n"
     ]
    }
   ],
   "source": [
    "#// BEGIN_TODO [ORG_2b] Population per continent (1 point)\n",
    "\n",
    "#   SELECT countries.name, capital, continents.name AS continent, population\n",
    "#     FROM countries, continents\n",
    "#     WHERE countries.continent = continents.\"index\" AND population > 10000000\n",
    "#     ORDER BY population DESC\n",
    "#     LIMIT 10;\n",
    "#     SELECT continent, count(name), sum(population), max(population), sum(area), max(area)\n",
    "query_2b = '''\n",
    "SELECT continents.name AS 'continent name', sum(population) AS 'total population'\n",
    "FROM countries, continents\n",
    "WHERE countries.continent = continents.\"index\"\n",
    "GROUP BY continent\n",
    "'''\n",
    "result_2b = pd.read_sql_query(query_2b, conn)\n",
    "#// END_TODO [ORG_2b]\n",
    "\n",
    "print(query_2b)\n",
    "print(result_2b)"
   ]
  },
  {
   "cell_type": "markdown",
   "metadata": {},
   "source": [
    "### Subqueries, or nested queries\n",
    "\n",
    "The result of one `SELECT` query can be combined with another `SELECT` query.\n",
    "\n",
    "For instance, `SELECT` queries can be combined by \n",
    "\n",
    "* **`UNION`** to obtain the union of the `SELECT` query results\n",
    "* **`INTERSECT`** to obtain the intersection of the `SELECT` query results\n",
    "* **`EXCEPT`** to obtain the rows in the first result without those occurring the second result\n",
    "\n",
    "In some cases, the same result can be obtained by using **`AND`**, **`OR`**, and **`AND NOT`**\n",
    "in the `WHERE` clause.\n",
    "\n",
    "We give one example for `EXCEPT` that cannot simply be expressed using `AND NOT`.\n",
    "\n",
    "* First, we define and execute a query to select continents\n",
    "    that have countries whose name starts with an 'E'.\n",
    "* Second, we define and execute a query to select continents\n",
    "    that have countries whose area exceeds ten million square km.\n",
    "* Third, we define and execute a query to select continents\n",
    "    that have countries whose name starts with an 'E'\n",
    "    but that do _not_ have countries whose area exceeds ten million square km."
   ]
  },
  {
   "cell_type": "code",
   "execution_count": 68,
   "metadata": {},
   "outputs": [
    {
     "data": {
      "text/html": [
       "<div>\n",
       "<style>\n",
       "    .dataframe thead tr:only-child th {\n",
       "        text-align: right;\n",
       "    }\n",
       "\n",
       "    .dataframe thead th {\n",
       "        text-align: left;\n",
       "    }\n",
       "\n",
       "    .dataframe tbody tr th {\n",
       "        vertical-align: top;\n",
       "    }\n",
       "</style>\n",
       "<table border=\"1\" class=\"dataframe\">\n",
       "  <thead>\n",
       "    <tr style=\"text-align: right;\">\n",
       "      <th></th>\n",
       "      <th>continent</th>\n",
       "    </tr>\n",
       "  </thead>\n",
       "  <tbody>\n",
       "    <tr>\n",
       "      <th>0</th>\n",
       "      <td>SM</td>\n",
       "    </tr>\n",
       "    <tr>\n",
       "      <th>1</th>\n",
       "      <td>EU</td>\n",
       "    </tr>\n",
       "    <tr>\n",
       "      <th>2</th>\n",
       "      <td>AF</td>\n",
       "    </tr>\n",
       "    <tr>\n",
       "      <th>3</th>\n",
       "      <td>AF</td>\n",
       "    </tr>\n",
       "    <tr>\n",
       "      <th>4</th>\n",
       "      <td>AF</td>\n",
       "    </tr>\n",
       "    <tr>\n",
       "      <th>5</th>\n",
       "      <td>AF</td>\n",
       "    </tr>\n",
       "    <tr>\n",
       "      <th>6</th>\n",
       "      <td>NM</td>\n",
       "    </tr>\n",
       "    <tr>\n",
       "      <th>7</th>\n",
       "      <td>OC</td>\n",
       "    </tr>\n",
       "  </tbody>\n",
       "</table>\n",
       "</div>"
      ],
      "text/plain": [
       "  continent\n",
       "0        SM\n",
       "1        EU\n",
       "2        AF\n",
       "3        AF\n",
       "4        AF\n",
       "5        AF\n",
       "6        NM\n",
       "7        OC"
      ]
     },
     "execution_count": 68,
     "metadata": {},
     "output_type": "execute_result"
    }
   ],
   "source": [
    "query_E = '''\n",
    "    SELECT continent\n",
    "    FROM countries\n",
    "    WHERE name LIKE \\\"E%\\\"\n",
    "'''\n",
    "pd.read_sql_query(query_E, conn)"
   ]
  },
  {
   "cell_type": "code",
   "execution_count": 69,
   "metadata": {},
   "outputs": [
    {
     "data": {
      "text/html": [
       "<div>\n",
       "<style>\n",
       "    .dataframe thead tr:only-child th {\n",
       "        text-align: right;\n",
       "    }\n",
       "\n",
       "    .dataframe thead th {\n",
       "        text-align: left;\n",
       "    }\n",
       "\n",
       "    .dataframe tbody tr th {\n",
       "        vertical-align: top;\n",
       "    }\n",
       "</style>\n",
       "<table border=\"1\" class=\"dataframe\">\n",
       "  <thead>\n",
       "    <tr style=\"text-align: right;\">\n",
       "      <th></th>\n",
       "      <th>continent</th>\n",
       "    </tr>\n",
       "  </thead>\n",
       "  <tbody>\n",
       "    <tr>\n",
       "      <th>0</th>\n",
       "      <td>AN</td>\n",
       "    </tr>\n",
       "    <tr>\n",
       "      <th>1</th>\n",
       "      <td>EU</td>\n",
       "    </tr>\n",
       "  </tbody>\n",
       "</table>\n",
       "</div>"
      ],
      "text/plain": [
       "  continent\n",
       "0        AN\n",
       "1        EU"
      ]
     },
     "execution_count": 69,
     "metadata": {},
     "output_type": "execute_result"
    }
   ],
   "source": [
    "query_L = '''\n",
    "    SELECT continent\n",
    "    FROM countries\n",
    "    WHERE area > 10000000\n",
    "'''\n",
    "pd.read_sql_query(query_L, conn)"
   ]
  },
  {
   "cell_type": "code",
   "execution_count": 70,
   "metadata": {},
   "outputs": [
    {
     "data": {
      "text/html": [
       "<div>\n",
       "<style>\n",
       "    .dataframe thead tr:only-child th {\n",
       "        text-align: right;\n",
       "    }\n",
       "\n",
       "    .dataframe thead th {\n",
       "        text-align: left;\n",
       "    }\n",
       "\n",
       "    .dataframe tbody tr th {\n",
       "        vertical-align: top;\n",
       "    }\n",
       "</style>\n",
       "<table border=\"1\" class=\"dataframe\">\n",
       "  <thead>\n",
       "    <tr style=\"text-align: right;\">\n",
       "      <th></th>\n",
       "      <th>continent</th>\n",
       "    </tr>\n",
       "  </thead>\n",
       "  <tbody>\n",
       "    <tr>\n",
       "      <th>0</th>\n",
       "      <td>AF</td>\n",
       "    </tr>\n",
       "    <tr>\n",
       "      <th>1</th>\n",
       "      <td>NM</td>\n",
       "    </tr>\n",
       "    <tr>\n",
       "      <th>2</th>\n",
       "      <td>OC</td>\n",
       "    </tr>\n",
       "    <tr>\n",
       "      <th>3</th>\n",
       "      <td>SM</td>\n",
       "    </tr>\n",
       "  </tbody>\n",
       "</table>\n",
       "</div>"
      ],
      "text/plain": [
       "  continent\n",
       "0        AF\n",
       "1        NM\n",
       "2        OC\n",
       "3        SM"
      ]
     },
     "execution_count": 70,
     "metadata": {},
     "output_type": "execute_result"
    }
   ],
   "source": [
    "query_E_except_L = query_E + '''\n",
    "    except\n",
    "''' + query_L\n",
    "pd.read_sql_query(query_E_except_L, conn)"
   ]
  },
  {
   "cell_type": "markdown",
   "metadata": {},
   "source": [
    "### Exercise <span class=\"exercise\">2.c</span>\n",
    "\n",
    "Execute a query to select those continents that\n",
    "\n",
    "* have countries whose name ends in 'd', and\n",
    "* do _not_ have countries whose population exceeds one hundred million.\n",
    "\n",
    "Assign the query to variable `query_2c`, and the result to variable `result_2c`."
   ]
  },
  {
   "cell_type": "code",
   "execution_count": 71,
   "metadata": {
    "scrolled": true
   },
   "outputs": [
    {
     "name": "stdout",
     "output_type": "stream",
     "text": [
      "SELECT continent\n",
      "FROM countries\n",
      "WHERE name LIKE \"%d\"\n",
      "    except\n",
      "SELECT continent\n",
      "FROM countries\n",
      "WHERE population > 100000000\n",
      "  continent\n",
      "0        AN\n",
      "1        OC\n"
     ]
    }
   ],
   "source": [
    "#// BEGIN_TODO [ORG_2c] Find the continents (1 point)\n",
    "\n",
    "query_D = '''SELECT continent\n",
    "FROM countries\n",
    "WHERE name LIKE \\\"%d\\\"'''\n",
    "\n",
    "query_M = '''SELECT continent\n",
    "FROM countries\n",
    "WHERE population > 100000000'''\n",
    "\n",
    "query_2c = query_D + '''\n",
    "    except\n",
    "''' + query_M\n",
    "\n",
    "result_2c = pd.read_sql_query(query_2c, conn)\n",
    "\n",
    "#// END_TODO [ORG_2c]\n",
    "\n",
    "print(query_2c)\n",
    "print(result_2c)"
   ]
  },
  {
   "cell_type": "markdown",
   "metadata": {},
   "source": [
    "## Update\n",
    "\n",
    "| Clause | Type | Remark |\n",
    "| :----- | :--: | :----- |\n",
    "| `UPDATE` _`table`_ | Required | |\n",
    "| `SET` _`column1`_ `=` _`expr1`_ `,` _`column2`_ `=` _`expr2`_ `, ...` | Required | |\n",
    "| `WHERE` _`condition`_ | Optional | |\n",
    "| `ORDER BY` _`column1, column2, ...`_ | Optional | Append `DESC` for descending order |\n",
    "| `LIMIT` _`number`_ | Optional | Update only first given number of rows |\n",
    "\n",
    "For an example, see [above](#commit_changes)."
   ]
  },
  {
   "cell_type": "markdown",
   "metadata": {},
   "source": [
    "### Exercise <span class=\"exercise\">2.d</span>\n",
    "\n",
    "Execute a query to change the population of all countries ending with 'land' to 0.\n",
    "\n",
    "Assign the query to variable `query_2d`.\n",
    "\n",
    "Hint: you may need to create a new cursor object for the reestablished connection to the data base."
   ]
  },
  {
   "cell_type": "code",
   "execution_count": 72,
   "metadata": {},
   "outputs": [
    {
     "data": {
      "text/plain": [
       "<sqlite3.Cursor at 0x217afef7260>"
      ]
     },
     "execution_count": 72,
     "metadata": {},
     "output_type": "execute_result"
    }
   ],
   "source": [
    "#// BEGIN_TODO [ORG_2d] Mass emigration (1 point)\n",
    "\n",
    "# query1c = '''\n",
    "# UPDATE countries\n",
    "# SET population = 1000\n",
    "# WHERE name = \"Antarctica\";\n",
    "# '''ERE name LIKE \\\"%D\\\"'''\n",
    "\n",
    "\n",
    "# curb = conn.cursor()\n",
    "# curb.execute(query1b)\n",
    "# result_1b = curb.fetchall()\n",
    "\n",
    "\n",
    "query_2d = '''UPDATE countries\n",
    "SET population = 0\n",
    "WHERE name LIKE \\\"%land\\\"\n",
    "'''\n",
    "\n",
    "curd = conn.cursor()\n",
    "curd.execute(query_2d)\n",
    "\n",
    "#// END_TODO [ORG_2d]"
   ]
  },
  {
   "cell_type": "markdown",
   "metadata": {},
   "source": [
    "### Exercise <span class=\"exercise\">2.e</span>\n",
    "\n",
    "Execute a query to check whether the desired changes have been applied.\n",
    "\n",
    "Assign the query to variable `query_2e`, and the result to variable `result_2e`."
   ]
  },
  {
   "cell_type": "code",
   "execution_count": 73,
   "metadata": {},
   "outputs": [
    {
     "name": "stdout",
     "output_type": "stream",
     "text": [
      "SELECT name, population\n",
      "FROM countries\n",
      "WHERE name LIKE \"%land\"\n",
      "                name  population\n",
      "0      Bouvet Island           0\n",
      "1        Switzerland           0\n",
      "2   Christmas Island           0\n",
      "3            Finland           0\n",
      "4          Greenland           0\n",
      "5            Ireland           0\n",
      "6            Iceland           0\n",
      "7     Norfolk Island           0\n",
      "8        New Zealand           0\n",
      "9             Poland           0\n",
      "10         Swaziland           0\n",
      "11          Thailand           0\n"
     ]
    }
   ],
   "source": [
    "#// BEGIN_TODO [ORG_2e] Check the change (1 point)\n",
    "\n",
    "query_2e = '''SELECT name, population\n",
    "FROM countries\n",
    "WHERE name LIKE \\\"%land\\\"'''\n",
    "\n",
    "result_2e = pd.read_sql_query(query_2e, conn)\n",
    "#// END_TODO [ORG_2e]\n",
    "print(query_2e)\n",
    "print(result_2e)"
   ]
  },
  {
   "cell_type": "markdown",
   "metadata": {},
   "source": [
    "### Exercise <span class=\"exercise\">2.f</span>\n",
    "\n",
    "Undo the change from the previous exercise."
   ]
  },
  {
   "cell_type": "code",
   "execution_count": 74,
   "metadata": {
    "collapsed": true
   },
   "outputs": [],
   "source": [
    "#// BEGIN_TODO [ORG_2f] Rollback (1 point)\n",
    "\n",
    "conn.rollback()\n",
    "\n",
    "#// END_TODO [ORG_2f]\n"
   ]
  },
  {
   "cell_type": "markdown",
   "metadata": {},
   "source": [
    "### Exercise <span class=\"exercise\">2.g</span>\n",
    "\n",
    "Execute query `query_2e` again to check whether the changes have been undone.\n",
    "\n",
    "Assign the result to variable `result_2g`."
   ]
  },
  {
   "cell_type": "code",
   "execution_count": 75,
   "metadata": {},
   "outputs": [
    {
     "name": "stdout",
     "output_type": "stream",
     "text": [
      "                name  population\n",
      "0      Bouvet Island           0\n",
      "1        Switzerland     7581000\n",
      "2   Christmas Island        1500\n",
      "3            Finland     5244000\n",
      "4          Greenland       56375\n",
      "5            Ireland     4622917\n",
      "6            Iceland      308910\n",
      "7     Norfolk Island        1828\n",
      "8        New Zealand     4252277\n",
      "9             Poland    38500000\n",
      "10         Swaziland     1354051\n",
      "11          Thailand    67089500\n"
     ]
    }
   ],
   "source": [
    "#// BEGIN_TODO [ORG_2g] Check the rollback (1 point)\n",
    "\n",
    "result_2g = pd.read_sql_query(query_2e, conn)\n",
    "\n",
    "#// END_TODO [ORG_2g]\n",
    "print(result_2g)\n"
   ]
  },
  {
   "cell_type": "markdown",
   "metadata": {},
   "source": [
    "Now we close the connection."
   ]
  },
  {
   "cell_type": "code",
   "execution_count": 76,
   "metadata": {
    "collapsed": true
   },
   "outputs": [],
   "source": [
    "conn.close()"
   ]
  },
  {
   "cell_type": "markdown",
   "metadata": {},
   "source": [
    "# <span class=\"section\">3.</span> Cleaning"
   ]
  },
  {
   "cell_type": "markdown",
   "metadata": {},
   "source": [
    "**Raw data** is often not in a form where it can easily be processed.\n",
    "There can be all kinds of smaller or bigger issues with data.\n",
    "\n",
    "* extra spaces at the begin and/or end of a string\n",
    "* missing values\n",
    "* duplicates\n",
    "* inconsistencies\n",
    "\n",
    "The process of preparing data for further processing is called **data cleaning**. In this section, we deal with a few common issues.\n",
    "\n",
    "The following Pandas functions for data frames and series are relevant.\n",
    "\n",
    "Let `df` be a `DataFrame` and `ts` be a `Series` object.\n",
    "Note that `pd` stands for the Pandas library itself.\n",
    "\n",
    "For the examples, we use `country_data`."
   ]
  },
  {
   "cell_type": "markdown",
   "metadata": {},
   "source": [
    "## `df.astype()`: convert to given type\n",
    "\n",
    "With **`df.astype()`** you convert it to a given type.\n",
    "The `.dtypes` attribute of a data frame contains the column types:"
   ]
  },
  {
   "cell_type": "code",
   "execution_count": 77,
   "metadata": {},
   "outputs": [
    {
     "data": {
      "text/plain": [
       "name           object\n",
       "alpha_3        object\n",
       "tld            object\n",
       "continent      object\n",
       "capital        object\n",
       "area          float64\n",
       "population      int64\n",
       "dtype: object"
      ]
     },
     "execution_count": 77,
     "metadata": {},
     "output_type": "execute_result"
    }
   ],
   "source": [
    "country_data.dtypes"
   ]
  },
  {
   "cell_type": "markdown",
   "metadata": {},
   "source": [
    "We can see that columns `'name'`, ... , `'capital'` are of type `object` (which is also used for columns containing strings), `'area'` contains floating point numbers and `'population'` contains integers. We can convert all columns in a data frame to strings:"
   ]
  },
  {
   "cell_type": "code",
   "execution_count": 78,
   "metadata": {},
   "outputs": [
    {
     "data": {
      "text/plain": [
       "name          object\n",
       "alpha_3       object\n",
       "tld           object\n",
       "continent     object\n",
       "capital       object\n",
       "area          object\n",
       "population    object\n",
       "dtype: object"
      ]
     },
     "execution_count": 78,
     "metadata": {},
     "output_type": "execute_result"
    }
   ],
   "source": [
    "country_data_as_str = country_data.astype(str)\n",
    "country_data_as_str.dtypes"
   ]
  },
  {
   "cell_type": "markdown",
   "metadata": {},
   "source": [
    "We can also convert the type of particular columns by supplying a dictionary as argument to `astype()`:"
   ]
  },
  {
   "cell_type": "code",
   "execution_count": 79,
   "metadata": {},
   "outputs": [
    {
     "data": {
      "text/plain": [
       "name           object\n",
       "alpha_3        object\n",
       "tld            object\n",
       "continent      object\n",
       "capital        object\n",
       "area          float64\n",
       "population     object\n",
       "dtype: object"
      ]
     },
     "execution_count": 79,
     "metadata": {},
     "output_type": "execute_result"
    }
   ],
   "source": [
    "population_as_str = country_data.astype({'population': str})\n",
    "population_as_str.dtypes"
   ]
  },
  {
   "cell_type": "markdown",
   "metadata": {},
   "source": [
    "### Exercise <span class=\"exercise\">3.a</span>\n",
    "\n",
    "Change the type of the area to `int` and assign the resulting data frame to `area_as_int`."
   ]
  },
  {
   "cell_type": "code",
   "execution_count": 80,
   "metadata": {},
   "outputs": [
    {
     "data": {
      "text/plain": [
       "name          object\n",
       "alpha_3       object\n",
       "tld           object\n",
       "continent     object\n",
       "capital       object\n",
       "area           int32\n",
       "population     int64\n",
       "dtype: object"
      ]
     },
     "execution_count": 80,
     "metadata": {},
     "output_type": "execute_result"
    }
   ],
   "source": [
    "#// BEGIN_TODO [ORG_3a] Area as int (1 point)\n",
    "\n",
    "area_as_int = country_data.astype({'area': int})\n",
    "\n",
    "#// END_TODO [ORG_3a]\n",
    "area_as_int.dtypes"
   ]
  },
  {
   "cell_type": "markdown",
   "metadata": {},
   "source": [
    "##  `pd.to_numeric()`: convert to numeric\n",
    "\n",
    "With **`pd.to_numeric()`** you can convert an argument to a numeric type. A suitable numeric type (e.g. `int` or `float`) will be chosen.\n",
    "The argument can be a _list_ or _Series_."
   ]
  },
  {
   "cell_type": "code",
   "execution_count": 81,
   "metadata": {},
   "outputs": [
    {
     "data": {
      "text/plain": [
       "0       84000\n",
       "1     4975593\n",
       "2    29121286\n",
       "3       86754\n",
       "4       13254\n",
       "Name: population, dtype: int64"
      ]
     },
     "execution_count": 81,
     "metadata": {},
     "output_type": "execute_result"
    }
   ],
   "source": [
    "pd.to_numeric(country_data_as_str['population']).head()"
   ]
  },
  {
   "cell_type": "code",
   "execution_count": 82,
   "metadata": {},
   "outputs": [
    {
     "data": {
      "text/plain": [
       "0       468.0\n",
       "1     82880.0\n",
       "2    647500.0\n",
       "3       443.0\n",
       "4       102.0\n",
       "Name: area, dtype: float64"
      ]
     },
     "execution_count": 82,
     "metadata": {},
     "output_type": "execute_result"
    }
   ],
   "source": [
    "pd.to_numeric(country_data_as_str['area']).head()"
   ]
  },
  {
   "cell_type": "markdown",
   "metadata": {},
   "source": [
    "## `ts.unique()`: find all unique values\n",
    "\n",
    "With `ts.unique()` you obtain an array in which each item of the series appears once.\n",
    "The order in the array is in the order of appearance in the series object."
   ]
  },
  {
   "cell_type": "code",
   "execution_count": 83,
   "metadata": {},
   "outputs": [
    {
     "data": {
      "text/plain": [
       "array(['Andorra la Vella', 'Abu Dhabi', 'Kabul', \"St. John's\",\n",
       "       'The Valley', 'Tirana', 'Yerevan', 'Luanda', nan, 'Buenos Aires',\n",
       "       'Pago Pago', 'Vienna', 'Canberra', 'Oranjestad', 'Mariehamn',\n",
       "       'Baku', 'Sarajevo', 'Bridgetown', 'Dhaka', 'Brussels',\n",
       "       'Ouagadougou', 'Sofia', 'Manama', 'Bujumbura', 'Porto-Novo',\n",
       "       'Gustavia', 'Hamilton', 'Bandar Seri Begawan', 'Sucre', 'Brasilia',\n",
       "       'Nassau', 'Thimphu', 'Gaborone', 'Minsk', 'Belmopan', 'Ottawa',\n",
       "       'West Island', 'Kinshasa', 'Bangui', 'Brazzaville', 'Bern',\n",
       "       'Yamoussoukro', 'Avarua', 'Santiago', 'Yaounde', 'Beijing',\n",
       "       'Bogota', 'San Jose', 'Havana', 'Praia', ' Willemstad',\n",
       "       'Flying Fish Cove', 'Nicosia', 'Prague', 'Berlin', 'Djibouti',\n",
       "       'Copenhagen', 'Roseau', 'Santo Domingo', 'Algiers', 'Quito',\n",
       "       'Tallinn', 'Cairo', 'El-Aaiun', 'Asmara', 'Madrid', 'Addis Ababa',\n",
       "       'Helsinki', 'Suva', 'Stanley', 'Palikir', 'Torshavn', 'Paris',\n",
       "       'Libreville', 'London', \"St. George's\", 'Tbilisi', 'Cayenne',\n",
       "       'St Peter Port', 'Accra', 'Gibraltar', 'Nuuk', 'Banjul', 'Conakry',\n",
       "       'Basse-Terre', 'Malabo', 'Athens', 'Grytviken', 'Guatemala City',\n",
       "       'Hagatna', 'Bissau', 'Georgetown', 'Hong Kong', 'Tegucigalpa',\n",
       "       'Zagreb', 'Port-au-Prince', 'Budapest', 'Jakarta', 'Dublin',\n",
       "       'Jerusalem', 'Douglas', 'New Delhi', 'Diego Garcia', 'Baghdad',\n",
       "       'Tehran', 'Reykjavik', 'Rome', 'Saint Helier', 'Kingston', 'Amman',\n",
       "       'Tokyo', 'Nairobi', 'Bishkek', 'Phnom Penh', 'Tarawa', 'Moroni',\n",
       "       'Basseterre', 'Pyongyang', 'Seoul', 'Pristina', 'Kuwait City',\n",
       "       'George Town', 'Astana', 'Vientiane', 'Beirut', 'Castries', 'Vaduz',\n",
       "       'Colombo', 'Monrovia', 'Maseru', 'Vilnius', 'Luxembourg', 'Riga',\n",
       "       'Tripoli', 'Rabat', 'Monaco', 'Chisinau', 'Podgorica', 'Marigot',\n",
       "       'Antananarivo', 'Majuro', 'Skopje', 'Bamako', 'Nay Pyi Taw',\n",
       "       'Ulan Bator', 'Macao', 'Saipan', 'Fort-de-France', 'Nouakchott',\n",
       "       'Plymouth', 'Valletta', 'Port Louis', 'Male', 'Lilongwe',\n",
       "       'Mexico City', 'Kuala Lumpur', 'Maputo', 'Windhoek', 'Noumea',\n",
       "       'Niamey', 'Abuja', 'Managua', 'Amsterdam', 'Oslo', 'Kathmandu',\n",
       "       'Yaren', 'Alofi', 'Wellington', 'Muscat', 'Panama City', 'Lima',\n",
       "       'Papeete', 'Port Moresby', 'Manila', 'Islamabad', 'Warsaw',\n",
       "       'Saint-Pierre', 'Adamstown', 'San Juan', 'East Jerusalem', 'Lisbon',\n",
       "       'Melekeok', 'Asuncion', 'Doha', 'Saint-Denis', 'Bucharest',\n",
       "       'Belgrade', 'Moscow', 'Kigali', 'Riyadh', 'Honiara', 'Victoria',\n",
       "       'Khartoum', 'Juba', 'Stockholm', 'Singapore', 'Jamestown',\n",
       "       'Ljubljana', 'Longyearbyen', 'Bratislava', 'Freetown', 'San Marino',\n",
       "       'Dakar', 'Mogadishu', 'Paramaribo', 'Sao Tome', 'San Salvador',\n",
       "       'Philipsburg', 'Damascus', 'Mbabane', 'Cockburn Town', \"N'Djamena\",\n",
       "       'Port-aux-Francais', 'Lome', 'Bangkok', 'Dushanbe', 'Dili',\n",
       "       'Ashgabat', 'Tunis', \"Nuku'alofa\", 'Ankara', 'Port of Spain',\n",
       "       'Funafuti', 'Taipei', 'Dodoma', 'Kiev', 'Kampala', 'Washington',\n",
       "       'Montevideo', 'Tashkent', 'Vatican City', 'Kingstown', 'Caracas',\n",
       "       'Road Town', 'Charlotte Amalie', 'Hanoi', 'Port Vila', 'Mata Utu',\n",
       "       'Apia', 'Sanaa', 'Mamoudzou', 'Pretoria', 'Lusaka', 'Harare',\n",
       "       'Willemstad'], dtype=object)"
      ]
     },
     "execution_count": 83,
     "metadata": {},
     "output_type": "execute_result"
    }
   ],
   "source": [
    "country_data['capital'].unique()"
   ]
  },
  {
   "cell_type": "markdown",
   "metadata": {},
   "source": [
    "### Exercise <span class=\"exercise\">3.b</span>\n",
    "\n",
    "Find all unique continent names in the `country_data` data frame and assign the result to `unique_continents`."
   ]
  },
  {
   "cell_type": "code",
   "execution_count": 84,
   "metadata": {},
   "outputs": [
    {
     "data": {
      "text/plain": [
       "array(['EU', 'AS', 'NM', 'AF', 'AN', 'SM', 'OC'], dtype=object)"
      ]
     },
     "execution_count": 84,
     "metadata": {},
     "output_type": "execute_result"
    }
   ],
   "source": [
    "#// BEGIN_TODO [ORG_3b] Unique continents (1 point)\n",
    "\n",
    "unique_continents = country_data['continent'].unique()\n",
    "\n",
    "#// END_TODO [ORG_3b]\n",
    "unique_continents"
   ]
  },
  {
   "cell_type": "markdown",
   "metadata": {},
   "source": [
    "## `df.duplicated()`: find duplicates\n",
    "\n",
    "With **`df.duplicated()`** you obtain a _boolean mask_\n",
    "indicating which rows appear more than once.\n",
    "With the argument **`subset=`** you can restrict the search for duplicates\n",
    "to specific columns\n",
    "(either a single column or a list of columns)."
   ]
  },
  {
   "cell_type": "code",
   "execution_count": 85,
   "metadata": {},
   "outputs": [
    {
     "data": {
      "text/html": [
       "<div>\n",
       "<style>\n",
       "    .dataframe thead tr:only-child th {\n",
       "        text-align: right;\n",
       "    }\n",
       "\n",
       "    .dataframe thead th {\n",
       "        text-align: left;\n",
       "    }\n",
       "\n",
       "    .dataframe tbody tr th {\n",
       "        vertical-align: top;\n",
       "    }\n",
       "</style>\n",
       "<table border=\"1\" class=\"dataframe\">\n",
       "  <thead>\n",
       "    <tr style=\"text-align: right;\">\n",
       "      <th></th>\n",
       "      <th>name</th>\n",
       "      <th>alpha_3</th>\n",
       "      <th>tld</th>\n",
       "      <th>continent</th>\n",
       "      <th>capital</th>\n",
       "      <th>area</th>\n",
       "      <th>population</th>\n",
       "    </tr>\n",
       "  </thead>\n",
       "  <tbody>\n",
       "    <tr>\n",
       "      <th>29</th>\n",
       "      <td>Bonaire, Saint Eustatius and Saba</td>\n",
       "      <td>BES</td>\n",
       "      <td>.bq</td>\n",
       "      <td>NM</td>\n",
       "      <td>NaN</td>\n",
       "      <td>328.0</td>\n",
       "      <td>18012</td>\n",
       "    </tr>\n",
       "    <tr>\n",
       "      <th>33</th>\n",
       "      <td>Bouvet Island</td>\n",
       "      <td>BVT</td>\n",
       "      <td>.bv</td>\n",
       "      <td>AN</td>\n",
       "      <td>NaN</td>\n",
       "      <td>49.0</td>\n",
       "      <td>0</td>\n",
       "    </tr>\n",
       "    <tr>\n",
       "      <th>95</th>\n",
       "      <td>Heard Island and McDonald Islands</td>\n",
       "      <td>HMD</td>\n",
       "      <td>.hm</td>\n",
       "      <td>AN</td>\n",
       "      <td>NaN</td>\n",
       "      <td>412.0</td>\n",
       "      <td>0</td>\n",
       "    </tr>\n",
       "    <tr>\n",
       "      <th>163</th>\n",
       "      <td>Norfolk Island</td>\n",
       "      <td>NFK</td>\n",
       "      <td>.nf</td>\n",
       "      <td>OC</td>\n",
       "      <td>Kingston</td>\n",
       "      <td>34.6</td>\n",
       "      <td>1828</td>\n",
       "    </tr>\n",
       "    <tr>\n",
       "      <th>220</th>\n",
       "      <td>Tokelau</td>\n",
       "      <td>TKL</td>\n",
       "      <td>.tk</td>\n",
       "      <td>OC</td>\n",
       "      <td>NaN</td>\n",
       "      <td>10.0</td>\n",
       "      <td>1466</td>\n",
       "    </tr>\n",
       "    <tr>\n",
       "      <th>232</th>\n",
       "      <td>United States Minor Outlying Islands</td>\n",
       "      <td>UMI</td>\n",
       "      <td>.um</td>\n",
       "      <td>OC</td>\n",
       "      <td>NaN</td>\n",
       "      <td>0.0</td>\n",
       "      <td>0</td>\n",
       "    </tr>\n",
       "  </tbody>\n",
       "</table>\n",
       "</div>"
      ],
      "text/plain": [
       "                                     name alpha_3  tld continent   capital  \\\n",
       "29     Bonaire, Saint Eustatius and Saba      BES  .bq        NM       NaN   \n",
       "33                          Bouvet Island     BVT  .bv        AN       NaN   \n",
       "95      Heard Island and McDonald Islands     HMD  .hm        AN       NaN   \n",
       "163                        Norfolk Island     NFK  .nf        OC  Kingston   \n",
       "220                               Tokelau     TKL  .tk        OC       NaN   \n",
       "232  United States Minor Outlying Islands     UMI  .um        OC       NaN   \n",
       "\n",
       "      area  population  \n",
       "29   328.0       18012  \n",
       "33    49.0           0  \n",
       "95   412.0           0  \n",
       "163   34.6        1828  \n",
       "220   10.0        1466  \n",
       "232    0.0           0  "
      ]
     },
     "execution_count": 85,
     "metadata": {},
     "output_type": "execute_result"
    }
   ],
   "source": [
    "bm_dup_capital = country_data.duplicated(subset='capital')\n",
    "country_data[bm_dup_capital]"
   ]
  },
  {
   "cell_type": "markdown",
   "metadata": {},
   "source": [
    "There is an extra argument `keep`:\n",
    "\n",
    "* **`keep='first'`** (default): Mark duplicates as `True` _except for the first occurrence_.\n",
    "* **`keep='last'`** : Mark duplicates as `True` _except for the last occurrence_.\n",
    "* **`keep=False`**`: Mark all duplicates as `True`."
   ]
  },
  {
   "cell_type": "code",
   "execution_count": 86,
   "metadata": {},
   "outputs": [
    {
     "data": {
      "text/html": [
       "<div>\n",
       "<style>\n",
       "    .dataframe thead tr:only-child th {\n",
       "        text-align: right;\n",
       "    }\n",
       "\n",
       "    .dataframe thead th {\n",
       "        text-align: left;\n",
       "    }\n",
       "\n",
       "    .dataframe tbody tr th {\n",
       "        vertical-align: top;\n",
       "    }\n",
       "</style>\n",
       "<table border=\"1\" class=\"dataframe\">\n",
       "  <thead>\n",
       "    <tr style=\"text-align: right;\">\n",
       "      <th></th>\n",
       "      <th>name</th>\n",
       "      <th>alpha_3</th>\n",
       "      <th>tld</th>\n",
       "      <th>continent</th>\n",
       "      <th>capital</th>\n",
       "      <th>area</th>\n",
       "      <th>population</th>\n",
       "    </tr>\n",
       "  </thead>\n",
       "  <tbody>\n",
       "    <tr>\n",
       "      <th>8</th>\n",
       "      <td>Antarctica</td>\n",
       "      <td>ATA</td>\n",
       "      <td>.aq</td>\n",
       "      <td>AN</td>\n",
       "      <td>NaN</td>\n",
       "      <td>14000000.0</td>\n",
       "      <td>0</td>\n",
       "    </tr>\n",
       "    <tr>\n",
       "      <th>29</th>\n",
       "      <td>Bonaire, Saint Eustatius and Saba</td>\n",
       "      <td>BES</td>\n",
       "      <td>.bq</td>\n",
       "      <td>NM</td>\n",
       "      <td>NaN</td>\n",
       "      <td>328.0</td>\n",
       "      <td>18012</td>\n",
       "    </tr>\n",
       "    <tr>\n",
       "      <th>33</th>\n",
       "      <td>Bouvet Island</td>\n",
       "      <td>BVT</td>\n",
       "      <td>.bv</td>\n",
       "      <td>AN</td>\n",
       "      <td>NaN</td>\n",
       "      <td>49.0</td>\n",
       "      <td>0</td>\n",
       "    </tr>\n",
       "    <tr>\n",
       "      <th>95</th>\n",
       "      <td>Heard Island and McDonald Islands</td>\n",
       "      <td>HMD</td>\n",
       "      <td>.hm</td>\n",
       "      <td>AN</td>\n",
       "      <td>NaN</td>\n",
       "      <td>412.0</td>\n",
       "      <td>0</td>\n",
       "    </tr>\n",
       "    <tr>\n",
       "      <th>111</th>\n",
       "      <td>Jamaica</td>\n",
       "      <td>JAM</td>\n",
       "      <td>.jm</td>\n",
       "      <td>NM</td>\n",
       "      <td>Kingston</td>\n",
       "      <td>10991.0</td>\n",
       "      <td>2847232</td>\n",
       "    </tr>\n",
       "    <tr>\n",
       "      <th>163</th>\n",
       "      <td>Norfolk Island</td>\n",
       "      <td>NFK</td>\n",
       "      <td>.nf</td>\n",
       "      <td>OC</td>\n",
       "      <td>Kingston</td>\n",
       "      <td>34.6</td>\n",
       "      <td>1828</td>\n",
       "    </tr>\n",
       "    <tr>\n",
       "      <th>220</th>\n",
       "      <td>Tokelau</td>\n",
       "      <td>TKL</td>\n",
       "      <td>.tk</td>\n",
       "      <td>OC</td>\n",
       "      <td>NaN</td>\n",
       "      <td>10.0</td>\n",
       "      <td>1466</td>\n",
       "    </tr>\n",
       "    <tr>\n",
       "      <th>232</th>\n",
       "      <td>United States Minor Outlying Islands</td>\n",
       "      <td>UMI</td>\n",
       "      <td>.um</td>\n",
       "      <td>OC</td>\n",
       "      <td>NaN</td>\n",
       "      <td>0.0</td>\n",
       "      <td>0</td>\n",
       "    </tr>\n",
       "  </tbody>\n",
       "</table>\n",
       "</div>"
      ],
      "text/plain": [
       "                                     name alpha_3  tld continent   capital  \\\n",
       "8                              Antarctica     ATA  .aq        AN       NaN   \n",
       "29     Bonaire, Saint Eustatius and Saba      BES  .bq        NM       NaN   \n",
       "33                          Bouvet Island     BVT  .bv        AN       NaN   \n",
       "95      Heard Island and McDonald Islands     HMD  .hm        AN       NaN   \n",
       "111                               Jamaica     JAM  .jm        NM  Kingston   \n",
       "163                        Norfolk Island     NFK  .nf        OC  Kingston   \n",
       "220                               Tokelau     TKL  .tk        OC       NaN   \n",
       "232  United States Minor Outlying Islands     UMI  .um        OC       NaN   \n",
       "\n",
       "           area  population  \n",
       "8    14000000.0           0  \n",
       "29        328.0       18012  \n",
       "33         49.0           0  \n",
       "95        412.0           0  \n",
       "111     10991.0     2847232  \n",
       "163        34.6        1828  \n",
       "220        10.0        1466  \n",
       "232         0.0           0  "
      ]
     },
     "execution_count": 86,
     "metadata": {},
     "output_type": "execute_result"
    }
   ],
   "source": [
    "bm_dup_capital_all = country_data.duplicated(subset='capital', keep=False)\n",
    "country_data[bm_dup_capital_all]"
   ]
  },
  {
   "cell_type": "markdown",
   "metadata": {},
   "source": [
    "### Exercise <span class=\"exercise\">3.c</span>\n",
    "\n",
    "Some countries in `country_data` share the same `'tld'`. Find the list of `'tld'`s that are shared by more than one country and assign it to `duplicate_tld`."
   ]
  },
  {
   "cell_type": "code",
   "execution_count": 114,
   "metadata": {},
   "outputs": [
    {
     "data": {
      "text/plain": [
       "25     .gp\n",
       "86     .gp\n",
       "122    NaN\n",
       "141    .gp\n",
       "197    NaN\n",
       "Name: tld, dtype: object"
      ]
     },
     "execution_count": 114,
     "metadata": {},
     "output_type": "execute_result"
    }
   ],
   "source": [
    "#// BEGIN_TODO [ORG_3c] Duplicated data (1 point)\n",
    "\n",
    "duplicate_tld_bool = country_data.duplicated(subset='tld', keep=False)\n",
    "duplicate_tld= country_data[duplicate_tld_bool]['tld']\n",
    "#duplicate_tld.astype(array)\n",
    "#// END_TODO [ORG_3c]\n",
    "\n",
    "duplicate_tld"
   ]
  },
  {
   "cell_type": "markdown",
   "metadata": {},
   "source": [
    "## `df.drop_duplicates()`: remove duplicates\n",
    "\n",
    "With **`df.drop_duplicates()`** you can remove duplicated rows.\n",
    "With the argument **`subset=`** you can restrict the search for duplicates to specific columns (either a single column or a list of columns)."
   ]
  },
  {
   "cell_type": "code",
   "execution_count": 88,
   "metadata": {},
   "outputs": [
    {
     "name": "stdout",
     "output_type": "stream",
     "text": [
      "<class 'pandas.core.frame.DataFrame'>\n",
      "RangeIndex: 251 entries, 0 to 250\n",
      "Data columns (total 7 columns):\n",
      "name          251 non-null object\n",
      "alpha_3       251 non-null object\n",
      "tld           249 non-null object\n",
      "continent     251 non-null object\n",
      "capital       245 non-null object\n",
      "area          251 non-null float64\n",
      "population    251 non-null int64\n",
      "dtypes: float64(1), int64(1), object(5)\n",
      "memory usage: 13.8+ KB\n"
     ]
    }
   ],
   "source": [
    "country_data.info()"
   ]
  },
  {
   "cell_type": "code",
   "execution_count": 89,
   "metadata": {},
   "outputs": [
    {
     "name": "stdout",
     "output_type": "stream",
     "text": [
      "<class 'pandas.core.frame.DataFrame'>\n",
      "Int64Index: 245 entries, 0 to 250\n",
      "Data columns (total 7 columns):\n",
      "name          245 non-null object\n",
      "alpha_3       245 non-null object\n",
      "tld           243 non-null object\n",
      "continent     245 non-null object\n",
      "capital       244 non-null object\n",
      "area          245 non-null float64\n",
      "population    245 non-null int64\n",
      "dtypes: float64(1), int64(1), object(5)\n",
      "memory usage: 15.3+ KB\n"
     ]
    }
   ],
   "source": [
    "country_data.drop_duplicates(subset='capital').info()"
   ]
  },
  {
   "cell_type": "markdown",
   "metadata": {},
   "source": [
    "There is an extra argument `keep`:\n",
    "\n",
    "* **`keep='first'`** (default): Drop duplicates _except for the first occurrence_.\n",
    "* **`keep='last'`** : Drop duplicates _except for the last occurrence_.\n",
    "* **`keep=False`**: Drop all duplicates."
   ]
  },
  {
   "cell_type": "markdown",
   "metadata": {},
   "source": [
    "### Exercise <span class=\"exercise\">3.d</span>\n",
    "\n",
    "Drop from the `country_data` data frame all countries which share the same tld and continent with another country. Assign the resulting data frame to `dropped_dup_tld`."
   ]
  },
  {
   "cell_type": "code",
   "execution_count": 90,
   "metadata": {},
   "outputs": [
    {
     "name": "stdout",
     "output_type": "stream",
     "text": [
      "<class 'pandas.core.frame.DataFrame'>\n",
      "Int64Index: 248 entries, 0 to 250\n",
      "Data columns (total 7 columns):\n",
      "name          248 non-null object\n",
      "alpha_3       248 non-null object\n",
      "tld           247 non-null object\n",
      "continent     248 non-null object\n",
      "capital       242 non-null object\n",
      "area          248 non-null float64\n",
      "population    248 non-null int64\n",
      "dtypes: float64(1), int64(1), object(5)\n",
      "memory usage: 15.5+ KB\n"
     ]
    }
   ],
   "source": [
    "#// BEGIN_TODO [ORG_3d] Drop duplicated data (1 point)\n",
    "\n",
    "dropped_dup_tld = country_data.drop_duplicates(subset='tld')\n",
    "\n",
    "#// END_TODO [ORG_3d]\n",
    "\n",
    "dropped_dup_tld.info()"
   ]
  },
  {
   "cell_type": "markdown",
   "metadata": {},
   "source": [
    "## `df.dropna()` to remove rows with missing values\n",
    "\n",
    "With **`df.dropna()`** you can remove rows with *missing values*\n",
    "(_Not-Available_ (NA) and _Not-a-Number_ (NaN)) in a data frame or series object.\n",
    "\n",
    "With the argument **`how=`** you can indicate whether rows with at least one missing value or with all values missing are dropped:\n",
    "\n",
    "* **`how='any'`** (default): if any value is missing, drop that row\n",
    "* **`how='all'`**: if all values are missing, drop that row"
   ]
  },
  {
   "cell_type": "code",
   "execution_count": 91,
   "metadata": {},
   "outputs": [
    {
     "name": "stdout",
     "output_type": "stream",
     "text": [
      "<class 'pandas.core.frame.DataFrame'>\n",
      "Int64Index: 243 entries, 0 to 250\n",
      "Data columns (total 7 columns):\n",
      "name          243 non-null object\n",
      "alpha_3       243 non-null object\n",
      "tld           243 non-null object\n",
      "continent     243 non-null object\n",
      "capital       243 non-null object\n",
      "area          243 non-null float64\n",
      "population    243 non-null int64\n",
      "dtypes: float64(1), int64(1), object(5)\n",
      "memory usage: 15.2+ KB\n"
     ]
    }
   ],
   "source": [
    "country_data_dropna = country_data.dropna()\n",
    "country_data_dropna.info()"
   ]
  },
  {
   "cell_type": "markdown",
   "metadata": {},
   "source": [
    "### Exercise <span class=\"exercise\">3.e</span>\n",
    "\n",
    "Drop rows in `country_data` with missing values in the `'tld'` column. Assign the resulting data frame to `dropped_na_tld`.\n",
    "\n",
    "Hint: look up the documentation of `dropna()` (e.g. via Shift-Tab-Tab)"
   ]
  },
  {
   "cell_type": "code",
   "execution_count": 92,
   "metadata": {},
   "outputs": [
    {
     "name": "stdout",
     "output_type": "stream",
     "text": [
      "<class 'pandas.core.frame.DataFrame'>\n",
      "Int64Index: 249 entries, 0 to 250\n",
      "Data columns (total 7 columns):\n",
      "name          249 non-null object\n",
      "alpha_3       249 non-null object\n",
      "tld           249 non-null object\n",
      "continent     249 non-null object\n",
      "capital       243 non-null object\n",
      "area          249 non-null float64\n",
      "population    249 non-null int64\n",
      "dtypes: float64(1), int64(1), object(5)\n",
      "memory usage: 15.6+ KB\n"
     ]
    }
   ],
   "source": [
    "#// BEGIN_TODO [ORG_3e] Drop missing data (1 point)\n",
    "\n",
    "dropped_na_tld = country_data.dropna(subset=['tld'])\n",
    "\n",
    "#// END_TODO [ORG_3e]\n",
    "\n",
    "dropped_na_tld.info()"
   ]
  },
  {
   "cell_type": "markdown",
   "metadata": {},
   "source": [
    "## `df.fillna()` to replace missing values\n",
    "\n",
    "With **`df.fillna()`** or **`ts.fillna()`**\n",
    "you can replace *missing values* (_Not-Available_ (NA) and _Not-a-Number_ (NaN))\n",
    "in a data frame or series object.\n",
    "\n",
    "As always, note that this returns a new copy with the filled object."
   ]
  },
  {
   "cell_type": "code",
   "execution_count": 93,
   "metadata": {},
   "outputs": [
    {
     "data": {
      "text/plain": [
       "8       Unknown\n",
       "29      Unknown\n",
       "33      Unknown\n",
       "95      Unknown\n",
       "111    Kingston\n",
       "163    Kingston\n",
       "220     Unknown\n",
       "232     Unknown\n",
       "Name: capital, dtype: object"
      ]
     },
     "execution_count": 93,
     "metadata": {},
     "output_type": "execute_result"
    }
   ],
   "source": [
    "country_data_filled = country_data['capital'].fillna(value='Unknown')\n",
    "country_data_filled[country_data_filled.duplicated(keep=False)]"
   ]
  },
  {
   "cell_type": "markdown",
   "metadata": {},
   "source": [
    "You can replace missing values in particular columns by providing a dictionary for the first argument, specifying which value to use for which column."
   ]
  },
  {
   "cell_type": "code",
   "execution_count": 94,
   "metadata": {},
   "outputs": [
    {
     "data": {
      "text/html": [
       "<div>\n",
       "<style>\n",
       "    .dataframe thead tr:only-child th {\n",
       "        text-align: right;\n",
       "    }\n",
       "\n",
       "    .dataframe thead th {\n",
       "        text-align: left;\n",
       "    }\n",
       "\n",
       "    .dataframe tbody tr th {\n",
       "        vertical-align: top;\n",
       "    }\n",
       "</style>\n",
       "<table border=\"1\" class=\"dataframe\">\n",
       "  <thead>\n",
       "    <tr style=\"text-align: right;\">\n",
       "      <th></th>\n",
       "      <th>name</th>\n",
       "      <th>alpha_3</th>\n",
       "      <th>tld</th>\n",
       "      <th>continent</th>\n",
       "      <th>capital</th>\n",
       "      <th>area</th>\n",
       "      <th>population</th>\n",
       "    </tr>\n",
       "  </thead>\n",
       "  <tbody>\n",
       "    <tr>\n",
       "      <th>0</th>\n",
       "      <td>Andorra</td>\n",
       "      <td>AND</td>\n",
       "      <td>.ad</td>\n",
       "      <td>EU</td>\n",
       "      <td>Andorra la Vella</td>\n",
       "      <td>468.00</td>\n",
       "      <td>84000</td>\n",
       "    </tr>\n",
       "    <tr>\n",
       "      <th>1</th>\n",
       "      <td>United Arab Emirates</td>\n",
       "      <td>ARE</td>\n",
       "      <td>.ae</td>\n",
       "      <td>AS</td>\n",
       "      <td>Abu Dhabi</td>\n",
       "      <td>82880.00</td>\n",
       "      <td>4975593</td>\n",
       "    </tr>\n",
       "    <tr>\n",
       "      <th>2</th>\n",
       "      <td>Afghanistan</td>\n",
       "      <td>AFG</td>\n",
       "      <td>.af</td>\n",
       "      <td>AS</td>\n",
       "      <td>Kabul</td>\n",
       "      <td>647500.00</td>\n",
       "      <td>29121286</td>\n",
       "    </tr>\n",
       "    <tr>\n",
       "      <th>3</th>\n",
       "      <td>Antigua and Barbuda</td>\n",
       "      <td>ATG</td>\n",
       "      <td>.ag</td>\n",
       "      <td>NM</td>\n",
       "      <td>St. John's</td>\n",
       "      <td>443.00</td>\n",
       "      <td>86754</td>\n",
       "    </tr>\n",
       "    <tr>\n",
       "      <th>4</th>\n",
       "      <td>Anguilla</td>\n",
       "      <td>AIA</td>\n",
       "      <td>.ai</td>\n",
       "      <td>NM</td>\n",
       "      <td>The Valley</td>\n",
       "      <td>102.00</td>\n",
       "      <td>13254</td>\n",
       "    </tr>\n",
       "    <tr>\n",
       "      <th>5</th>\n",
       "      <td>Albania</td>\n",
       "      <td>ALB</td>\n",
       "      <td>.al</td>\n",
       "      <td>EU</td>\n",
       "      <td>Tirana</td>\n",
       "      <td>28748.00</td>\n",
       "      <td>2986952</td>\n",
       "    </tr>\n",
       "    <tr>\n",
       "      <th>6</th>\n",
       "      <td>Armenia</td>\n",
       "      <td>ARM</td>\n",
       "      <td>.am</td>\n",
       "      <td>AS</td>\n",
       "      <td>Yerevan</td>\n",
       "      <td>29800.00</td>\n",
       "      <td>2968000</td>\n",
       "    </tr>\n",
       "    <tr>\n",
       "      <th>7</th>\n",
       "      <td>Angola</td>\n",
       "      <td>AGO</td>\n",
       "      <td>.ao</td>\n",
       "      <td>AF</td>\n",
       "      <td>Luanda</td>\n",
       "      <td>1246700.00</td>\n",
       "      <td>13068161</td>\n",
       "    </tr>\n",
       "    <tr>\n",
       "      <th>8</th>\n",
       "      <td>Antarctica</td>\n",
       "      <td>ATA</td>\n",
       "      <td>.aq</td>\n",
       "      <td>AN</td>\n",
       "      <td>Unknown</td>\n",
       "      <td>14000000.00</td>\n",
       "      <td>0</td>\n",
       "    </tr>\n",
       "    <tr>\n",
       "      <th>9</th>\n",
       "      <td>Argentina</td>\n",
       "      <td>ARG</td>\n",
       "      <td>.ar</td>\n",
       "      <td>SM</td>\n",
       "      <td>Buenos Aires</td>\n",
       "      <td>2766890.00</td>\n",
       "      <td>41343201</td>\n",
       "    </tr>\n",
       "    <tr>\n",
       "      <th>10</th>\n",
       "      <td>American Samoa</td>\n",
       "      <td>ASM</td>\n",
       "      <td>.as</td>\n",
       "      <td>OC</td>\n",
       "      <td>Pago Pago</td>\n",
       "      <td>199.00</td>\n",
       "      <td>57881</td>\n",
       "    </tr>\n",
       "    <tr>\n",
       "      <th>11</th>\n",
       "      <td>Austria</td>\n",
       "      <td>AUT</td>\n",
       "      <td>.at</td>\n",
       "      <td>EU</td>\n",
       "      <td>Vienna</td>\n",
       "      <td>83858.00</td>\n",
       "      <td>8205000</td>\n",
       "    </tr>\n",
       "    <tr>\n",
       "      <th>12</th>\n",
       "      <td>Australia</td>\n",
       "      <td>AUS</td>\n",
       "      <td>.au</td>\n",
       "      <td>OC</td>\n",
       "      <td>Canberra</td>\n",
       "      <td>7686850.00</td>\n",
       "      <td>21515754</td>\n",
       "    </tr>\n",
       "    <tr>\n",
       "      <th>13</th>\n",
       "      <td>Aruba</td>\n",
       "      <td>ABW</td>\n",
       "      <td>.aw</td>\n",
       "      <td>NM</td>\n",
       "      <td>Oranjestad</td>\n",
       "      <td>193.00</td>\n",
       "      <td>71566</td>\n",
       "    </tr>\n",
       "    <tr>\n",
       "      <th>14</th>\n",
       "      <td>Aland Islands</td>\n",
       "      <td>ALA</td>\n",
       "      <td>.ax</td>\n",
       "      <td>EU</td>\n",
       "      <td>Mariehamn</td>\n",
       "      <td>1580.00</td>\n",
       "      <td>26711</td>\n",
       "    </tr>\n",
       "    <tr>\n",
       "      <th>15</th>\n",
       "      <td>Azerbaijan</td>\n",
       "      <td>AZE</td>\n",
       "      <td>.az</td>\n",
       "      <td>AS</td>\n",
       "      <td>Baku</td>\n",
       "      <td>86600.00</td>\n",
       "      <td>8303512</td>\n",
       "    </tr>\n",
       "    <tr>\n",
       "      <th>16</th>\n",
       "      <td>Bosnia and Herzegovina</td>\n",
       "      <td>BIH</td>\n",
       "      <td>.ba</td>\n",
       "      <td>EU</td>\n",
       "      <td>Sarajevo</td>\n",
       "      <td>51129.00</td>\n",
       "      <td>4590000</td>\n",
       "    </tr>\n",
       "    <tr>\n",
       "      <th>17</th>\n",
       "      <td>Barbados</td>\n",
       "      <td>BRB</td>\n",
       "      <td>.bb</td>\n",
       "      <td>NM</td>\n",
       "      <td>Bridgetown</td>\n",
       "      <td>431.00</td>\n",
       "      <td>285653</td>\n",
       "    </tr>\n",
       "    <tr>\n",
       "      <th>18</th>\n",
       "      <td>Bangladesh</td>\n",
       "      <td>BGD</td>\n",
       "      <td>.bd</td>\n",
       "      <td>AS</td>\n",
       "      <td>Dhaka</td>\n",
       "      <td>144000.00</td>\n",
       "      <td>156118464</td>\n",
       "    </tr>\n",
       "    <tr>\n",
       "      <th>19</th>\n",
       "      <td>Belgium</td>\n",
       "      <td>BEL</td>\n",
       "      <td>.be</td>\n",
       "      <td>EU</td>\n",
       "      <td>Brussels</td>\n",
       "      <td>30510.00</td>\n",
       "      <td>10403000</td>\n",
       "    </tr>\n",
       "    <tr>\n",
       "      <th>20</th>\n",
       "      <td>Burkina Faso</td>\n",
       "      <td>BFA</td>\n",
       "      <td>.bf</td>\n",
       "      <td>AF</td>\n",
       "      <td>Ouagadougou</td>\n",
       "      <td>274200.00</td>\n",
       "      <td>16241811</td>\n",
       "    </tr>\n",
       "    <tr>\n",
       "      <th>21</th>\n",
       "      <td>Bulgaria</td>\n",
       "      <td>BGR</td>\n",
       "      <td>.bg</td>\n",
       "      <td>EU</td>\n",
       "      <td>Sofia</td>\n",
       "      <td>110910.00</td>\n",
       "      <td>7148785</td>\n",
       "    </tr>\n",
       "    <tr>\n",
       "      <th>22</th>\n",
       "      <td>Bahrain</td>\n",
       "      <td>BHR</td>\n",
       "      <td>.bh</td>\n",
       "      <td>AS</td>\n",
       "      <td>Manama</td>\n",
       "      <td>665.00</td>\n",
       "      <td>738004</td>\n",
       "    </tr>\n",
       "    <tr>\n",
       "      <th>23</th>\n",
       "      <td>Burundi</td>\n",
       "      <td>BDI</td>\n",
       "      <td>.bi</td>\n",
       "      <td>AF</td>\n",
       "      <td>Bujumbura</td>\n",
       "      <td>27830.00</td>\n",
       "      <td>9863117</td>\n",
       "    </tr>\n",
       "    <tr>\n",
       "      <th>24</th>\n",
       "      <td>Benin</td>\n",
       "      <td>BEN</td>\n",
       "      <td>.bj</td>\n",
       "      <td>AF</td>\n",
       "      <td>Porto-Novo</td>\n",
       "      <td>112620.00</td>\n",
       "      <td>9056010</td>\n",
       "    </tr>\n",
       "    <tr>\n",
       "      <th>25</th>\n",
       "      <td>Saint Barthelemy</td>\n",
       "      <td>BLM</td>\n",
       "      <td>.gp</td>\n",
       "      <td>NM</td>\n",
       "      <td>Gustavia</td>\n",
       "      <td>21.00</td>\n",
       "      <td>8450</td>\n",
       "    </tr>\n",
       "    <tr>\n",
       "      <th>26</th>\n",
       "      <td>Bermuda</td>\n",
       "      <td>BMU</td>\n",
       "      <td>.bm</td>\n",
       "      <td>NM</td>\n",
       "      <td>Hamilton</td>\n",
       "      <td>53.00</td>\n",
       "      <td>65365</td>\n",
       "    </tr>\n",
       "    <tr>\n",
       "      <th>27</th>\n",
       "      <td>Brunei</td>\n",
       "      <td>BRN</td>\n",
       "      <td>.bn</td>\n",
       "      <td>AS</td>\n",
       "      <td>Bandar Seri Begawan</td>\n",
       "      <td>5770.00</td>\n",
       "      <td>395027</td>\n",
       "    </tr>\n",
       "    <tr>\n",
       "      <th>28</th>\n",
       "      <td>Bolivia</td>\n",
       "      <td>BOL</td>\n",
       "      <td>.bo</td>\n",
       "      <td>SM</td>\n",
       "      <td>Sucre</td>\n",
       "      <td>1098580.00</td>\n",
       "      <td>9947418</td>\n",
       "    </tr>\n",
       "    <tr>\n",
       "      <th>29</th>\n",
       "      <td>Bonaire, Saint Eustatius and Saba</td>\n",
       "      <td>BES</td>\n",
       "      <td>.bq</td>\n",
       "      <td>NM</td>\n",
       "      <td>Unknown</td>\n",
       "      <td>328.00</td>\n",
       "      <td>18012</td>\n",
       "    </tr>\n",
       "    <tr>\n",
       "      <th>...</th>\n",
       "      <td>...</td>\n",
       "      <td>...</td>\n",
       "      <td>...</td>\n",
       "      <td>...</td>\n",
       "      <td>...</td>\n",
       "      <td>...</td>\n",
       "      <td>...</td>\n",
       "    </tr>\n",
       "    <tr>\n",
       "      <th>221</th>\n",
       "      <td>East Timor</td>\n",
       "      <td>TLS</td>\n",
       "      <td>.tl</td>\n",
       "      <td>OC</td>\n",
       "      <td>Dili</td>\n",
       "      <td>15007.00</td>\n",
       "      <td>1154625</td>\n",
       "    </tr>\n",
       "    <tr>\n",
       "      <th>222</th>\n",
       "      <td>Turkmenistan</td>\n",
       "      <td>TKM</td>\n",
       "      <td>.tm</td>\n",
       "      <td>AS</td>\n",
       "      <td>Ashgabat</td>\n",
       "      <td>488100.00</td>\n",
       "      <td>4940916</td>\n",
       "    </tr>\n",
       "    <tr>\n",
       "      <th>223</th>\n",
       "      <td>Tunisia</td>\n",
       "      <td>TUN</td>\n",
       "      <td>.tn</td>\n",
       "      <td>AF</td>\n",
       "      <td>Tunis</td>\n",
       "      <td>163610.00</td>\n",
       "      <td>10589025</td>\n",
       "    </tr>\n",
       "    <tr>\n",
       "      <th>224</th>\n",
       "      <td>Tonga</td>\n",
       "      <td>TON</td>\n",
       "      <td>.to</td>\n",
       "      <td>OC</td>\n",
       "      <td>Nuku'alofa</td>\n",
       "      <td>748.00</td>\n",
       "      <td>122580</td>\n",
       "    </tr>\n",
       "    <tr>\n",
       "      <th>225</th>\n",
       "      <td>Turkey</td>\n",
       "      <td>TUR</td>\n",
       "      <td>.tr</td>\n",
       "      <td>AS</td>\n",
       "      <td>Ankara</td>\n",
       "      <td>780580.00</td>\n",
       "      <td>77804122</td>\n",
       "    </tr>\n",
       "    <tr>\n",
       "      <th>226</th>\n",
       "      <td>Trinidad and Tobago</td>\n",
       "      <td>TTO</td>\n",
       "      <td>.tt</td>\n",
       "      <td>NM</td>\n",
       "      <td>Port of Spain</td>\n",
       "      <td>5128.00</td>\n",
       "      <td>1228691</td>\n",
       "    </tr>\n",
       "    <tr>\n",
       "      <th>227</th>\n",
       "      <td>Tuvalu</td>\n",
       "      <td>TUV</td>\n",
       "      <td>.tv</td>\n",
       "      <td>OC</td>\n",
       "      <td>Funafuti</td>\n",
       "      <td>26.00</td>\n",
       "      <td>10472</td>\n",
       "    </tr>\n",
       "    <tr>\n",
       "      <th>228</th>\n",
       "      <td>Taiwan</td>\n",
       "      <td>TWN</td>\n",
       "      <td>.tw</td>\n",
       "      <td>AS</td>\n",
       "      <td>Taipei</td>\n",
       "      <td>35980.00</td>\n",
       "      <td>22894384</td>\n",
       "    </tr>\n",
       "    <tr>\n",
       "      <th>229</th>\n",
       "      <td>Tanzania</td>\n",
       "      <td>TZA</td>\n",
       "      <td>.tz</td>\n",
       "      <td>AF</td>\n",
       "      <td>Dodoma</td>\n",
       "      <td>945087.00</td>\n",
       "      <td>41892895</td>\n",
       "    </tr>\n",
       "    <tr>\n",
       "      <th>230</th>\n",
       "      <td>Ukraine</td>\n",
       "      <td>UKR</td>\n",
       "      <td>.ua</td>\n",
       "      <td>EU</td>\n",
       "      <td>Kiev</td>\n",
       "      <td>603700.00</td>\n",
       "      <td>45415596</td>\n",
       "    </tr>\n",
       "    <tr>\n",
       "      <th>231</th>\n",
       "      <td>Uganda</td>\n",
       "      <td>UGA</td>\n",
       "      <td>.ug</td>\n",
       "      <td>AF</td>\n",
       "      <td>Kampala</td>\n",
       "      <td>236040.00</td>\n",
       "      <td>33398682</td>\n",
       "    </tr>\n",
       "    <tr>\n",
       "      <th>232</th>\n",
       "      <td>United States Minor Outlying Islands</td>\n",
       "      <td>UMI</td>\n",
       "      <td>.um</td>\n",
       "      <td>OC</td>\n",
       "      <td>Unknown</td>\n",
       "      <td>0.00</td>\n",
       "      <td>0</td>\n",
       "    </tr>\n",
       "    <tr>\n",
       "      <th>233</th>\n",
       "      <td>United States</td>\n",
       "      <td>USA</td>\n",
       "      <td>.us</td>\n",
       "      <td>NM</td>\n",
       "      <td>Washington</td>\n",
       "      <td>9629091.00</td>\n",
       "      <td>310232863</td>\n",
       "    </tr>\n",
       "    <tr>\n",
       "      <th>234</th>\n",
       "      <td>Uruguay</td>\n",
       "      <td>URY</td>\n",
       "      <td>.uy</td>\n",
       "      <td>SM</td>\n",
       "      <td>Montevideo</td>\n",
       "      <td>176220.00</td>\n",
       "      <td>3477000</td>\n",
       "    </tr>\n",
       "    <tr>\n",
       "      <th>235</th>\n",
       "      <td>Uzbekistan</td>\n",
       "      <td>UZB</td>\n",
       "      <td>.uz</td>\n",
       "      <td>AS</td>\n",
       "      <td>Tashkent</td>\n",
       "      <td>447400.00</td>\n",
       "      <td>27865738</td>\n",
       "    </tr>\n",
       "    <tr>\n",
       "      <th>236</th>\n",
       "      <td>Vatican</td>\n",
       "      <td>VAT</td>\n",
       "      <td>.va</td>\n",
       "      <td>EU</td>\n",
       "      <td>Vatican City</td>\n",
       "      <td>0.44</td>\n",
       "      <td>921</td>\n",
       "    </tr>\n",
       "    <tr>\n",
       "      <th>237</th>\n",
       "      <td>Saint Vincent and the Grenadines</td>\n",
       "      <td>VCT</td>\n",
       "      <td>.vc</td>\n",
       "      <td>NM</td>\n",
       "      <td>Kingstown</td>\n",
       "      <td>389.00</td>\n",
       "      <td>104217</td>\n",
       "    </tr>\n",
       "    <tr>\n",
       "      <th>238</th>\n",
       "      <td>Venezuela</td>\n",
       "      <td>VEN</td>\n",
       "      <td>.ve</td>\n",
       "      <td>SM</td>\n",
       "      <td>Caracas</td>\n",
       "      <td>912050.00</td>\n",
       "      <td>27223228</td>\n",
       "    </tr>\n",
       "    <tr>\n",
       "      <th>239</th>\n",
       "      <td>British Virgin Islands</td>\n",
       "      <td>VGB</td>\n",
       "      <td>.vg</td>\n",
       "      <td>NM</td>\n",
       "      <td>Road Town</td>\n",
       "      <td>153.00</td>\n",
       "      <td>21730</td>\n",
       "    </tr>\n",
       "    <tr>\n",
       "      <th>240</th>\n",
       "      <td>U.S. Virgin Islands</td>\n",
       "      <td>VIR</td>\n",
       "      <td>.vi</td>\n",
       "      <td>NM</td>\n",
       "      <td>Charlotte Amalie</td>\n",
       "      <td>352.00</td>\n",
       "      <td>108708</td>\n",
       "    </tr>\n",
       "    <tr>\n",
       "      <th>241</th>\n",
       "      <td>Vietnam</td>\n",
       "      <td>VNM</td>\n",
       "      <td>.vn</td>\n",
       "      <td>AS</td>\n",
       "      <td>Hanoi</td>\n",
       "      <td>329560.00</td>\n",
       "      <td>89571130</td>\n",
       "    </tr>\n",
       "    <tr>\n",
       "      <th>242</th>\n",
       "      <td>Vanuatu</td>\n",
       "      <td>VUT</td>\n",
       "      <td>.vu</td>\n",
       "      <td>OC</td>\n",
       "      <td>Port Vila</td>\n",
       "      <td>12200.00</td>\n",
       "      <td>221552</td>\n",
       "    </tr>\n",
       "    <tr>\n",
       "      <th>243</th>\n",
       "      <td>Wallis and Futuna</td>\n",
       "      <td>WLF</td>\n",
       "      <td>.wf</td>\n",
       "      <td>OC</td>\n",
       "      <td>Mata Utu</td>\n",
       "      <td>274.00</td>\n",
       "      <td>16025</td>\n",
       "    </tr>\n",
       "    <tr>\n",
       "      <th>244</th>\n",
       "      <td>Samoa</td>\n",
       "      <td>WSM</td>\n",
       "      <td>.ws</td>\n",
       "      <td>OC</td>\n",
       "      <td>Apia</td>\n",
       "      <td>2944.00</td>\n",
       "      <td>192001</td>\n",
       "    </tr>\n",
       "    <tr>\n",
       "      <th>245</th>\n",
       "      <td>Yemen</td>\n",
       "      <td>YEM</td>\n",
       "      <td>.ye</td>\n",
       "      <td>AS</td>\n",
       "      <td>Sanaa</td>\n",
       "      <td>527970.00</td>\n",
       "      <td>23495361</td>\n",
       "    </tr>\n",
       "    <tr>\n",
       "      <th>246</th>\n",
       "      <td>Mayotte</td>\n",
       "      <td>MYT</td>\n",
       "      <td>.yt</td>\n",
       "      <td>AF</td>\n",
       "      <td>Mamoudzou</td>\n",
       "      <td>374.00</td>\n",
       "      <td>159042</td>\n",
       "    </tr>\n",
       "    <tr>\n",
       "      <th>247</th>\n",
       "      <td>South Africa</td>\n",
       "      <td>ZAF</td>\n",
       "      <td>.za</td>\n",
       "      <td>AF</td>\n",
       "      <td>Pretoria</td>\n",
       "      <td>1219912.00</td>\n",
       "      <td>49000000</td>\n",
       "    </tr>\n",
       "    <tr>\n",
       "      <th>248</th>\n",
       "      <td>Zambia</td>\n",
       "      <td>ZMB</td>\n",
       "      <td>.zm</td>\n",
       "      <td>AF</td>\n",
       "      <td>Lusaka</td>\n",
       "      <td>752614.00</td>\n",
       "      <td>13460305</td>\n",
       "    </tr>\n",
       "    <tr>\n",
       "      <th>249</th>\n",
       "      <td>Zimbabwe</td>\n",
       "      <td>ZWE</td>\n",
       "      <td>.zw</td>\n",
       "      <td>AF</td>\n",
       "      <td>Harare</td>\n",
       "      <td>390580.00</td>\n",
       "      <td>13061000</td>\n",
       "    </tr>\n",
       "    <tr>\n",
       "      <th>250</th>\n",
       "      <td>Netherlands Antilles</td>\n",
       "      <td>ANT</td>\n",
       "      <td>.an</td>\n",
       "      <td>NM</td>\n",
       "      <td>Willemstad</td>\n",
       "      <td>960.00</td>\n",
       "      <td>300000</td>\n",
       "    </tr>\n",
       "  </tbody>\n",
       "</table>\n",
       "<p>251 rows × 7 columns</p>\n",
       "</div>"
      ],
      "text/plain": [
       "                                     name alpha_3  tld continent  \\\n",
       "0                                 Andorra     AND  .ad        EU   \n",
       "1                    United Arab Emirates     ARE  .ae        AS   \n",
       "2                             Afghanistan     AFG  .af        AS   \n",
       "3                     Antigua and Barbuda     ATG  .ag        NM   \n",
       "4                                Anguilla     AIA  .ai        NM   \n",
       "5                                 Albania     ALB  .al        EU   \n",
       "6                                 Armenia     ARM  .am        AS   \n",
       "7                                  Angola     AGO  .ao        AF   \n",
       "8                              Antarctica     ATA  .aq        AN   \n",
       "9                               Argentina     ARG  .ar        SM   \n",
       "10                         American Samoa     ASM  .as        OC   \n",
       "11                                Austria     AUT  .at        EU   \n",
       "12                              Australia     AUS  .au        OC   \n",
       "13                                  Aruba     ABW  .aw        NM   \n",
       "14                          Aland Islands     ALA  .ax        EU   \n",
       "15                             Azerbaijan     AZE  .az        AS   \n",
       "16                 Bosnia and Herzegovina     BIH  .ba        EU   \n",
       "17                               Barbados     BRB  .bb        NM   \n",
       "18                             Bangladesh     BGD  .bd        AS   \n",
       "19                                Belgium     BEL  .be        EU   \n",
       "20                           Burkina Faso     BFA  .bf        AF   \n",
       "21                               Bulgaria     BGR  .bg        EU   \n",
       "22                                Bahrain     BHR  .bh        AS   \n",
       "23                                Burundi     BDI  .bi        AF   \n",
       "24                                  Benin     BEN  .bj        AF   \n",
       "25                       Saint Barthelemy     BLM  .gp        NM   \n",
       "26                                Bermuda     BMU  .bm        NM   \n",
       "27                                 Brunei     BRN  .bn        AS   \n",
       "28                                Bolivia     BOL  .bo        SM   \n",
       "29     Bonaire, Saint Eustatius and Saba      BES  .bq        NM   \n",
       "..                                    ...     ...  ...       ...   \n",
       "221                            East Timor     TLS  .tl        OC   \n",
       "222                          Turkmenistan     TKM  .tm        AS   \n",
       "223                               Tunisia     TUN  .tn        AF   \n",
       "224                                 Tonga     TON  .to        OC   \n",
       "225                                Turkey     TUR  .tr        AS   \n",
       "226                   Trinidad and Tobago     TTO  .tt        NM   \n",
       "227                                Tuvalu     TUV  .tv        OC   \n",
       "228                                Taiwan     TWN  .tw        AS   \n",
       "229                              Tanzania     TZA  .tz        AF   \n",
       "230                               Ukraine     UKR  .ua        EU   \n",
       "231                                Uganda     UGA  .ug        AF   \n",
       "232  United States Minor Outlying Islands     UMI  .um        OC   \n",
       "233                         United States     USA  .us        NM   \n",
       "234                               Uruguay     URY  .uy        SM   \n",
       "235                            Uzbekistan     UZB  .uz        AS   \n",
       "236                               Vatican     VAT  .va        EU   \n",
       "237      Saint Vincent and the Grenadines     VCT  .vc        NM   \n",
       "238                             Venezuela     VEN  .ve        SM   \n",
       "239                British Virgin Islands     VGB  .vg        NM   \n",
       "240                   U.S. Virgin Islands     VIR  .vi        NM   \n",
       "241                               Vietnam     VNM  .vn        AS   \n",
       "242                               Vanuatu     VUT  .vu        OC   \n",
       "243                     Wallis and Futuna     WLF  .wf        OC   \n",
       "244                                 Samoa     WSM  .ws        OC   \n",
       "245                                 Yemen     YEM  .ye        AS   \n",
       "246                               Mayotte     MYT  .yt        AF   \n",
       "247                          South Africa     ZAF  .za        AF   \n",
       "248                                Zambia     ZMB  .zm        AF   \n",
       "249                              Zimbabwe     ZWE  .zw        AF   \n",
       "250                  Netherlands Antilles     ANT  .an        NM   \n",
       "\n",
       "                 capital         area  population  \n",
       "0       Andorra la Vella       468.00       84000  \n",
       "1              Abu Dhabi     82880.00     4975593  \n",
       "2                  Kabul    647500.00    29121286  \n",
       "3             St. John's       443.00       86754  \n",
       "4             The Valley       102.00       13254  \n",
       "5                 Tirana     28748.00     2986952  \n",
       "6                Yerevan     29800.00     2968000  \n",
       "7                 Luanda   1246700.00    13068161  \n",
       "8                Unknown  14000000.00           0  \n",
       "9           Buenos Aires   2766890.00    41343201  \n",
       "10             Pago Pago       199.00       57881  \n",
       "11                Vienna     83858.00     8205000  \n",
       "12              Canberra   7686850.00    21515754  \n",
       "13            Oranjestad       193.00       71566  \n",
       "14             Mariehamn      1580.00       26711  \n",
       "15                  Baku     86600.00     8303512  \n",
       "16              Sarajevo     51129.00     4590000  \n",
       "17            Bridgetown       431.00      285653  \n",
       "18                 Dhaka    144000.00   156118464  \n",
       "19              Brussels     30510.00    10403000  \n",
       "20           Ouagadougou    274200.00    16241811  \n",
       "21                 Sofia    110910.00     7148785  \n",
       "22                Manama       665.00      738004  \n",
       "23             Bujumbura     27830.00     9863117  \n",
       "24            Porto-Novo    112620.00     9056010  \n",
       "25              Gustavia        21.00        8450  \n",
       "26              Hamilton        53.00       65365  \n",
       "27   Bandar Seri Begawan      5770.00      395027  \n",
       "28                 Sucre   1098580.00     9947418  \n",
       "29               Unknown       328.00       18012  \n",
       "..                   ...          ...         ...  \n",
       "221                 Dili     15007.00     1154625  \n",
       "222             Ashgabat    488100.00     4940916  \n",
       "223                Tunis    163610.00    10589025  \n",
       "224           Nuku'alofa       748.00      122580  \n",
       "225               Ankara    780580.00    77804122  \n",
       "226        Port of Spain      5128.00     1228691  \n",
       "227             Funafuti        26.00       10472  \n",
       "228               Taipei     35980.00    22894384  \n",
       "229               Dodoma    945087.00    41892895  \n",
       "230                 Kiev    603700.00    45415596  \n",
       "231              Kampala    236040.00    33398682  \n",
       "232              Unknown         0.00           0  \n",
       "233           Washington   9629091.00   310232863  \n",
       "234           Montevideo    176220.00     3477000  \n",
       "235             Tashkent    447400.00    27865738  \n",
       "236         Vatican City         0.44         921  \n",
       "237            Kingstown       389.00      104217  \n",
       "238              Caracas    912050.00    27223228  \n",
       "239            Road Town       153.00       21730  \n",
       "240     Charlotte Amalie       352.00      108708  \n",
       "241                Hanoi    329560.00    89571130  \n",
       "242            Port Vila     12200.00      221552  \n",
       "243             Mata Utu       274.00       16025  \n",
       "244                 Apia      2944.00      192001  \n",
       "245                Sanaa    527970.00    23495361  \n",
       "246            Mamoudzou       374.00      159042  \n",
       "247             Pretoria   1219912.00    49000000  \n",
       "248               Lusaka    752614.00    13460305  \n",
       "249               Harare    390580.00    13061000  \n",
       "250           Willemstad       960.00      300000  \n",
       "\n",
       "[251 rows x 7 columns]"
      ]
     },
     "execution_count": 94,
     "metadata": {},
     "output_type": "execute_result"
    }
   ],
   "source": [
    "country_data_filled = country_data.fillna({'capital': 'Unknown'})\n",
    "country_data_filled"
   ]
  },
  {
   "cell_type": "markdown",
   "metadata": {},
   "source": [
    "### Exercise <span class=\"exercise\">3.f</span>\n",
    "\n",
    "Fill the missing values in the `'tld'` column of the `country_data` data frame with `'Missing'`.\n",
    "\n",
    "Assign the resulting data frame to `filled_tld`."
   ]
  },
  {
   "cell_type": "code",
   "execution_count": 95,
   "metadata": {},
   "outputs": [
    {
     "name": "stdout",
     "output_type": "stream",
     "text": [
      "<class 'pandas.core.frame.DataFrame'>\n",
      "RangeIndex: 251 entries, 0 to 250\n",
      "Data columns (total 7 columns):\n",
      "name          251 non-null object\n",
      "alpha_3       251 non-null object\n",
      "tld           251 non-null object\n",
      "continent     251 non-null object\n",
      "capital       245 non-null object\n",
      "area          251 non-null float64\n",
      "population    251 non-null int64\n",
      "dtypes: float64(1), int64(1), object(5)\n",
      "memory usage: 13.8+ KB\n"
     ]
    }
   ],
   "source": [
    "#// BEGIN_TODO [ORG_3f] Fill missing data (1 point)\n",
    "\n",
    "filled_tld = country_data.fillna({'tld': 'Missing'})\n",
    "#// END_TODO [ORG_3f]\n",
    "\n",
    "filled_tld.info()"
   ]
  },
  {
   "cell_type": "markdown",
   "metadata": {},
   "source": [
    "## `ts.str.strip()` to strip characters from begin/end of strings\n",
    "\n",
    "With **`ts.str.strip()`** you can remove characters from the beginning and end of all strings in a `Series` object.\n",
    "\n",
    "Without argument, it strips all leading and trailing **whitespace**.\n",
    "\n",
    "Here we strip all trailing and leading zeros from the area that was converted to a string\n",
    "in an earlier example."
   ]
  },
  {
   "cell_type": "code",
   "execution_count": 96,
   "metadata": {},
   "outputs": [
    {
     "data": {
      "text/plain": [
       "0           468.\n",
       "1         82880.\n",
       "2        647500.\n",
       "3           443.\n",
       "4           102.\n",
       "5         28748.\n",
       "6         29800.\n",
       "7       1246700.\n",
       "8      14000000.\n",
       "9       2766890.\n",
       "10          199.\n",
       "11        83858.\n",
       "12      7686850.\n",
       "13          193.\n",
       "14         1580.\n",
       "15        86600.\n",
       "16        51129.\n",
       "17          431.\n",
       "18       144000.\n",
       "19        30510.\n",
       "20       274200.\n",
       "21       110910.\n",
       "22          665.\n",
       "23        27830.\n",
       "24       112620.\n",
       "25           21.\n",
       "26           53.\n",
       "27         5770.\n",
       "28      1098580.\n",
       "29          328.\n",
       "         ...    \n",
       "221       15007.\n",
       "222      488100.\n",
       "223      163610.\n",
       "224         748.\n",
       "225      780580.\n",
       "226        5128.\n",
       "227          26.\n",
       "228       35980.\n",
       "229      945087.\n",
       "230      603700.\n",
       "231      236040.\n",
       "232            .\n",
       "233     9629091.\n",
       "234      176220.\n",
       "235      447400.\n",
       "236          .44\n",
       "237         389.\n",
       "238      912050.\n",
       "239         153.\n",
       "240         352.\n",
       "241      329560.\n",
       "242       12200.\n",
       "243         274.\n",
       "244        2944.\n",
       "245      527970.\n",
       "246         374.\n",
       "247     1219912.\n",
       "248      752614.\n",
       "249      390580.\n",
       "250         960.\n",
       "Name: area, Length: 251, dtype: object"
      ]
     },
     "execution_count": 96,
     "metadata": {},
     "output_type": "execute_result"
    }
   ],
   "source": [
    "country_data_as_str['area'].str.strip('0')"
   ]
  },
  {
   "cell_type": "markdown",
   "metadata": {},
   "source": [
    "### Exercise <span class=\"exercise\">3.g</span>\n",
    "\n",
    "Remove the character `'s'` from the beginning and end of all the country names in `country_data`. Assign the resulting series to `stripped_names`."
   ]
  },
  {
   "cell_type": "code",
   "execution_count": 97,
   "metadata": {},
   "outputs": [
    {
     "data": {
      "text/plain": [
       "0                                  Andorra\n",
       "1                      United Arab Emirate\n",
       "2                              Afghanistan\n",
       "3                      Antigua and Barbuda\n",
       "4                                 Anguilla\n",
       "5                                  Albania\n",
       "6                                  Armenia\n",
       "7                                   Angola\n",
       "8                               Antarctica\n",
       "9                                Argentina\n",
       "10                          American Samoa\n",
       "11                                 Austria\n",
       "12                               Australia\n",
       "13                                   Aruba\n",
       "14                            Aland Island\n",
       "15                              Azerbaijan\n",
       "16                  Bosnia and Herzegovina\n",
       "17                                 Barbado\n",
       "18                              Bangladesh\n",
       "19                                 Belgium\n",
       "20                            Burkina Faso\n",
       "21                                Bulgaria\n",
       "22                                 Bahrain\n",
       "23                                 Burundi\n",
       "24                                   Benin\n",
       "25                        Saint Barthelemy\n",
       "26                                 Bermuda\n",
       "27                                  Brunei\n",
       "28                                 Bolivia\n",
       "29      Bonaire, Saint Eustatius and Saba \n",
       "                      ...                 \n",
       "221                             East Timor\n",
       "222                           Turkmenistan\n",
       "223                                Tunisia\n",
       "224                                  Tonga\n",
       "225                                 Turkey\n",
       "226                    Trinidad and Tobago\n",
       "227                                 Tuvalu\n",
       "228                                 Taiwan\n",
       "229                               Tanzania\n",
       "230                                Ukraine\n",
       "231                                 Uganda\n",
       "232    United States Minor Outlying Island\n",
       "233                           United State\n",
       "234                                Uruguay\n",
       "235                             Uzbekistan\n",
       "236                                Vatican\n",
       "237        Saint Vincent and the Grenadine\n",
       "238                              Venezuela\n",
       "239                  British Virgin Island\n",
       "240                     U.S. Virgin Island\n",
       "241                                Vietnam\n",
       "242                                Vanuatu\n",
       "243                      Wallis and Futuna\n",
       "244                                  Samoa\n",
       "245                                  Yemen\n",
       "246                                Mayotte\n",
       "247                           South Africa\n",
       "248                                 Zambia\n",
       "249                               Zimbabwe\n",
       "250                    Netherlands Antille\n",
       "Name: name, Length: 251, dtype: object"
      ]
     },
     "execution_count": 97,
     "metadata": {},
     "output_type": "execute_result"
    }
   ],
   "source": [
    "#// BEGIN_TODO [ORG_3g] Strip the 's' (1 point)\n",
    "\n",
    "stripped_names = country_data_as_str['name'].str.strip('s')\n",
    "\n",
    "#// END_TODO [ORG_3g]\n",
    "\n",
    "stripped_names"
   ]
  },
  {
   "cell_type": "markdown",
   "metadata": {},
   "source": [
    "# <span class=\"section\">4.</span> Exercises\n",
    "\n",
    "In the following exercises we will analyze the data from the mouse experiment that many of you have contributed to."
   ]
  },
  {
   "cell_type": "markdown",
   "metadata": {},
   "source": [
    "### Exercise <span class=\"exercise\">4.a</span>\n",
    "\n",
    "Read the data from `'datasets/paths_props.csv'` into a data frame and assign it `df_props`."
   ]
  },
  {
   "cell_type": "code",
   "execution_count": 98,
   "metadata": {},
   "outputs": [
    {
     "data": {
      "text/html": [
       "<div>\n",
       "<style>\n",
       "    .dataframe thead tr:only-child th {\n",
       "        text-align: right;\n",
       "    }\n",
       "\n",
       "    .dataframe thead th {\n",
       "        text-align: left;\n",
       "    }\n",
       "\n",
       "    .dataframe tbody tr th {\n",
       "        vertical-align: top;\n",
       "    }\n",
       "</style>\n",
       "<table border=\"1\" class=\"dataframe\">\n",
       "  <thead>\n",
       "    <tr style=\"text-align: right;\">\n",
       "      <th></th>\n",
       "      <th>user</th>\n",
       "      <th>trial</th>\n",
       "      <th>use_tue_laptop</th>\n",
       "      <th>mouse_speed</th>\n",
       "      <th>mouse_accuracy</th>\n",
       "      <th>right_handed</th>\n",
       "      <th>input_method</th>\n",
       "      <th>major</th>\n",
       "      <th>target_x</th>\n",
       "      <th>target_y</th>\n",
       "      <th>target_radius</th>\n",
       "      <th>delay</th>\n",
       "    </tr>\n",
       "  </thead>\n",
       "  <tbody>\n",
       "    <tr>\n",
       "      <th>0</th>\n",
       "      <td>1226</td>\n",
       "      <td>5</td>\n",
       "      <td>1</td>\n",
       "      <td>1.0</td>\n",
       "      <td>1.0</td>\n",
       "      <td>1</td>\n",
       "      <td>0</td>\n",
       "      <td>Industrial Engineering</td>\n",
       "      <td>-84</td>\n",
       "      <td>-84</td>\n",
       "      <td>6</td>\n",
       "      <td>2.136719</td>\n",
       "    </tr>\n",
       "    <tr>\n",
       "      <th>1</th>\n",
       "      <td>1226</td>\n",
       "      <td>6</td>\n",
       "      <td>1</td>\n",
       "      <td>1.0</td>\n",
       "      <td>1.0</td>\n",
       "      <td>1</td>\n",
       "      <td>0</td>\n",
       "      <td>Industrial Engineering</td>\n",
       "      <td>0</td>\n",
       "      <td>190</td>\n",
       "      <td>6</td>\n",
       "      <td>3.540913</td>\n",
       "    </tr>\n",
       "    <tr>\n",
       "      <th>2</th>\n",
       "      <td>1226</td>\n",
       "      <td>7</td>\n",
       "      <td>1</td>\n",
       "      <td>1.0</td>\n",
       "      <td>1.0</td>\n",
       "      <td>1</td>\n",
       "      <td>0</td>\n",
       "      <td>Industrial Engineering</td>\n",
       "      <td>-158</td>\n",
       "      <td>-158</td>\n",
       "      <td>6</td>\n",
       "      <td>3.688381</td>\n",
       "    </tr>\n",
       "    <tr>\n",
       "      <th>3</th>\n",
       "      <td>1226</td>\n",
       "      <td>8</td>\n",
       "      <td>1</td>\n",
       "      <td>1.0</td>\n",
       "      <td>1.0</td>\n",
       "      <td>1</td>\n",
       "      <td>0</td>\n",
       "      <td>Industrial Engineering</td>\n",
       "      <td>81</td>\n",
       "      <td>-81</td>\n",
       "      <td>3</td>\n",
       "      <td>2.823134</td>\n",
       "    </tr>\n",
       "    <tr>\n",
       "      <th>4</th>\n",
       "      <td>1226</td>\n",
       "      <td>9</td>\n",
       "      <td>1</td>\n",
       "      <td>1.0</td>\n",
       "      <td>1.0</td>\n",
       "      <td>1</td>\n",
       "      <td>0</td>\n",
       "      <td>Industrial Engineering</td>\n",
       "      <td>-157</td>\n",
       "      <td>157</td>\n",
       "      <td>9</td>\n",
       "      <td>3.690253</td>\n",
       "    </tr>\n",
       "  </tbody>\n",
       "</table>\n",
       "</div>"
      ],
      "text/plain": [
       "   user  trial  use_tue_laptop  mouse_speed  mouse_accuracy  right_handed  \\\n",
       "0  1226      5               1          1.0             1.0             1   \n",
       "1  1226      6               1          1.0             1.0             1   \n",
       "2  1226      7               1          1.0             1.0             1   \n",
       "3  1226      8               1          1.0             1.0             1   \n",
       "4  1226      9               1          1.0             1.0             1   \n",
       "\n",
       "   input_method                   major  target_x  target_y  target_radius  \\\n",
       "0             0  Industrial Engineering       -84       -84              6   \n",
       "1             0  Industrial Engineering         0       190              6   \n",
       "2             0  Industrial Engineering      -158      -158              6   \n",
       "3             0  Industrial Engineering        81       -81              3   \n",
       "4             0  Industrial Engineering      -157       157              9   \n",
       "\n",
       "      delay  \n",
       "0  2.136719  \n",
       "1  3.540913  \n",
       "2  3.688381  \n",
       "3  2.823134  \n",
       "4  3.690253  "
      ]
     },
     "execution_count": 98,
     "metadata": {},
     "output_type": "execute_result"
    }
   ],
   "source": [
    "#// BEGIN_TODO [ORG_4a] Read the data (1 point)\n",
    "\n",
    "df_props = pd.read_csv('datasets/paths_props.csv')\n",
    "\n",
    "#// END_TODO [ORG_4a]\n",
    "\n",
    "df_props.head()"
   ]
  },
  {
   "cell_type": "markdown",
   "metadata": {},
   "source": [
    "Each row describes a single trial, i.e. one movement from the center to the target. The meaning of the columns is the following:\n",
    "\n",
    "- `'user'`: The id of the user that recorded this trial.\n",
    "- `'trial'`: The trial number. Trial numbers are local to each user.\n",
    "- `'use_tue_laptop'`: 1 means a TU/e laptop was used during this trial, 0 means a different laptop was used\n",
    "- `'mouse_speed'`, `'mouse_accuracy'`: 1 means the user confirmed this mouse setting, 0 or `NaN` means the user did not confirm this mouse setting (e.g. a non-TU/e laptop was used)\n",
    "- `'right_handed'`: 1 means user writes with their right hand, 0 means user writes with their left hand\n",
    "- `'input_method'`: 0 means a trackpad, 1 means a mouse\n",
    "- `'target_x'`, `'target_y'`: the screen coordinates in pixels of the blue target, relative to the red dot in the center\n",
    "- `'target_radius'`: radius of the blue target in pixels\n",
    "- `'delay'`: delay in seconds between the start of the trial (i.e. the moment that the mouse was placed on the red dot) and the moment that the blue target was shown\n",
    "- `'major'`: the major of the user\n",
    "\n",
    "As you can see, there is a lot of redundancy in the data. We will reorganize the data into two tables: one describing the user settings (which do not change), and one describing the individual trials. In particular,\n",
    "\n",
    "- a table named **users** will contain columns `'user'`, `'use_tue_laptop'`, `'mouse_speed'`, `'mouse_accuracy'`, `'right_handed'`, `'major'`\n",
    "- a table named **trials** will contain columns `'user'`, `'trial'`, `'input_method'`, `'target_x'`, `'target_y'`, `'target_radius'`, `'delay'`\n",
    "\n",
    "These two tables will be linked via the `'user'` column.\n"
   ]
  },
  {
   "cell_type": "markdown",
   "metadata": {},
   "source": [
    "### Exercise <span class=\"exercise\">4.b</span>\n",
    "\n",
    "Inspect the `df_props` data frame. You will notice that the `'mouse_speed'` and `'mouse_accuracy'` columns contain NaN  values. They are the result of a user using a non-TU/e laptop and not having to confirm these mouse settings. Replace these values in `'mouse_speed'`, `'mouse_accuracy'` by 0."
   ]
  },
  {
   "cell_type": "code",
   "execution_count": 99,
   "metadata": {},
   "outputs": [
    {
     "name": "stdout",
     "output_type": "stream",
     "text": [
      "<class 'pandas.core.frame.DataFrame'>\n",
      "RangeIndex: 33342 entries, 0 to 33341\n",
      "Data columns (total 12 columns):\n",
      "user              33342 non-null int64\n",
      "trial             33342 non-null int64\n",
      "use_tue_laptop    33342 non-null int64\n",
      "mouse_speed       33342 non-null float64\n",
      "mouse_accuracy    33342 non-null float64\n",
      "right_handed      33342 non-null int64\n",
      "input_method      33342 non-null int64\n",
      "major             33342 non-null object\n",
      "target_x          33342 non-null int64\n",
      "target_y          33342 non-null int64\n",
      "target_radius     33342 non-null int64\n",
      "delay             33342 non-null float64\n",
      "dtypes: float64(3), int64(8), object(1)\n",
      "memory usage: 3.1+ MB\n"
     ]
    }
   ],
   "source": [
    "#// BEGIN_TODO [ORG_4b] Fill missing data (1 point)\n",
    "#country_data_filled = country_data.fillna({'capital': 'Unknown'})\n",
    "df_props = df_props.fillna({'mouse_speed': 0})\n",
    "df_props = df_props.fillna({'mouse_accuracy': 0})\n",
    "\n",
    "#// END_TODO [ORG_4b]\n",
    "\n",
    "df_props.info()"
   ]
  },
  {
   "cell_type": "markdown",
   "metadata": {},
   "source": [
    "### Exercise <span class=\"exercise\">4.c</span>\n",
    "\n",
    "Convert the `'mouse_speed'`, `'mouse_accuracy'` columns to `int` type."
   ]
  },
  {
   "cell_type": "code",
   "execution_count": 100,
   "metadata": {},
   "outputs": [
    {
     "name": "stdout",
     "output_type": "stream",
     "text": [
      "<class 'pandas.core.frame.DataFrame'>\n",
      "RangeIndex: 33342 entries, 0 to 33341\n",
      "Data columns (total 12 columns):\n",
      "user              33342 non-null int64\n",
      "trial             33342 non-null int64\n",
      "use_tue_laptop    33342 non-null int64\n",
      "mouse_speed       33342 non-null int32\n",
      "mouse_accuracy    33342 non-null int32\n",
      "right_handed      33342 non-null int64\n",
      "input_method      33342 non-null int64\n",
      "major             33342 non-null object\n",
      "target_x          33342 non-null int64\n",
      "target_y          33342 non-null int64\n",
      "target_radius     33342 non-null int64\n",
      "delay             33342 non-null float64\n",
      "dtypes: float64(1), int32(2), int64(8), object(1)\n",
      "memory usage: 2.8+ MB\n"
     ]
    }
   ],
   "source": [
    "#// BEGIN_TODO [ORG_4c] Convert to integers (1 point)\n",
    "\n",
    "df_props = df_props.astype({'mouse_accuracy': int})\n",
    "df_props = df_props.astype({'mouse_speed': int})\n",
    "\n",
    "#// END_TODO [ORG_4c]\n",
    "\n",
    "df_props.info()"
   ]
  },
  {
   "cell_type": "markdown",
   "metadata": {},
   "source": [
    "### Exercise <span class=\"exercise\">4.d</span>\n",
    "\n",
    "Create a data frame `df_trials` from `df_props` with the columns from the **trials** table specified above."
   ]
  },
  {
   "cell_type": "code",
   "execution_count": 101,
   "metadata": {},
   "outputs": [
    {
     "data": {
      "text/html": [
       "<div>\n",
       "<style>\n",
       "    .dataframe thead tr:only-child th {\n",
       "        text-align: right;\n",
       "    }\n",
       "\n",
       "    .dataframe thead th {\n",
       "        text-align: left;\n",
       "    }\n",
       "\n",
       "    .dataframe tbody tr th {\n",
       "        vertical-align: top;\n",
       "    }\n",
       "</style>\n",
       "<table border=\"1\" class=\"dataframe\">\n",
       "  <thead>\n",
       "    <tr style=\"text-align: right;\">\n",
       "      <th></th>\n",
       "      <th>user</th>\n",
       "      <th>trial</th>\n",
       "      <th>input_method</th>\n",
       "      <th>target_x</th>\n",
       "      <th>target_y</th>\n",
       "      <th>target_radius</th>\n",
       "      <th>delay</th>\n",
       "    </tr>\n",
       "  </thead>\n",
       "  <tbody>\n",
       "    <tr>\n",
       "      <th>0</th>\n",
       "      <td>1226</td>\n",
       "      <td>5</td>\n",
       "      <td>0</td>\n",
       "      <td>-84</td>\n",
       "      <td>-84</td>\n",
       "      <td>6</td>\n",
       "      <td>2.136719</td>\n",
       "    </tr>\n",
       "    <tr>\n",
       "      <th>1</th>\n",
       "      <td>1226</td>\n",
       "      <td>6</td>\n",
       "      <td>0</td>\n",
       "      <td>0</td>\n",
       "      <td>190</td>\n",
       "      <td>6</td>\n",
       "      <td>3.540913</td>\n",
       "    </tr>\n",
       "    <tr>\n",
       "      <th>2</th>\n",
       "      <td>1226</td>\n",
       "      <td>7</td>\n",
       "      <td>0</td>\n",
       "      <td>-158</td>\n",
       "      <td>-158</td>\n",
       "      <td>6</td>\n",
       "      <td>3.688381</td>\n",
       "    </tr>\n",
       "    <tr>\n",
       "      <th>3</th>\n",
       "      <td>1226</td>\n",
       "      <td>8</td>\n",
       "      <td>0</td>\n",
       "      <td>81</td>\n",
       "      <td>-81</td>\n",
       "      <td>3</td>\n",
       "      <td>2.823134</td>\n",
       "    </tr>\n",
       "    <tr>\n",
       "      <th>4</th>\n",
       "      <td>1226</td>\n",
       "      <td>9</td>\n",
       "      <td>0</td>\n",
       "      <td>-157</td>\n",
       "      <td>157</td>\n",
       "      <td>9</td>\n",
       "      <td>3.690253</td>\n",
       "    </tr>\n",
       "  </tbody>\n",
       "</table>\n",
       "</div>"
      ],
      "text/plain": [
       "   user  trial  input_method  target_x  target_y  target_radius     delay\n",
       "0  1226      5             0       -84       -84              6  2.136719\n",
       "1  1226      6             0         0       190              6  3.540913\n",
       "2  1226      7             0      -158      -158              6  3.688381\n",
       "3  1226      8             0        81       -81              3  2.823134\n",
       "4  1226      9             0      -157       157              9  3.690253"
      ]
     },
     "execution_count": 101,
     "metadata": {},
     "output_type": "execute_result"
    }
   ],
   "source": [
    "#// BEGIN_TODO [ORG_4d] Collect trials information (1 point)\n",
    "\n",
    "# con = sqlite3.connect('df_props')  # connect to database in file\n",
    "\n",
    "# df_props.to_sql('', con, if_exists='replace', index=False)\n",
    "\n",
    "# query4d = \n",
    "# pd.read_sql_query(query, conn)\n",
    "df_trials = df_props[['user', 'trial', 'input_method', 'target_x', 'target_y', 'target_radius', 'delay']]\n",
    "\n",
    "#// END_TODO [ORG_4d]\n",
    "\n",
    "df_trials.head()"
   ]
  },
  {
   "cell_type": "markdown",
   "metadata": {},
   "source": [
    "### Exercise <span class=\"exercise\">4.e</span>\n",
    "\n",
    "Create a data frame `df_users` from `df_props` with the columns from the **users** table specified above, avoiding duplicate rows."
   ]
  },
  {
   "cell_type": "code",
   "execution_count": 102,
   "metadata": {},
   "outputs": [
    {
     "data": {
      "text/html": [
       "<div>\n",
       "<style>\n",
       "    .dataframe thead tr:only-child th {\n",
       "        text-align: right;\n",
       "    }\n",
       "\n",
       "    .dataframe thead th {\n",
       "        text-align: left;\n",
       "    }\n",
       "\n",
       "    .dataframe tbody tr th {\n",
       "        vertical-align: top;\n",
       "    }\n",
       "</style>\n",
       "<table border=\"1\" class=\"dataframe\">\n",
       "  <thead>\n",
       "    <tr style=\"text-align: right;\">\n",
       "      <th></th>\n",
       "      <th>user</th>\n",
       "      <th>use_tue_laptop</th>\n",
       "      <th>mouse_speed</th>\n",
       "      <th>mouse_accuracy</th>\n",
       "      <th>right_handed</th>\n",
       "      <th>major</th>\n",
       "    </tr>\n",
       "  </thead>\n",
       "  <tbody>\n",
       "    <tr>\n",
       "      <th>0</th>\n",
       "      <td>1226</td>\n",
       "      <td>1</td>\n",
       "      <td>1</td>\n",
       "      <td>1</td>\n",
       "      <td>1</td>\n",
       "      <td>Industrial Engineering</td>\n",
       "    </tr>\n",
       "    <tr>\n",
       "      <th>30</th>\n",
       "      <td>1937</td>\n",
       "      <td>1</td>\n",
       "      <td>1</td>\n",
       "      <td>1</td>\n",
       "      <td>1</td>\n",
       "      <td>Industrial Engineering</td>\n",
       "    </tr>\n",
       "    <tr>\n",
       "      <th>60</th>\n",
       "      <td>625</td>\n",
       "      <td>1</td>\n",
       "      <td>1</td>\n",
       "      <td>1</td>\n",
       "      <td>0</td>\n",
       "      <td>Applied Physics</td>\n",
       "    </tr>\n",
       "    <tr>\n",
       "      <th>90</th>\n",
       "      <td>1025</td>\n",
       "      <td>1</td>\n",
       "      <td>1</td>\n",
       "      <td>1</td>\n",
       "      <td>0</td>\n",
       "      <td>Innovation Sciences</td>\n",
       "    </tr>\n",
       "    <tr>\n",
       "      <th>120</th>\n",
       "      <td>620</td>\n",
       "      <td>1</td>\n",
       "      <td>1</td>\n",
       "      <td>1</td>\n",
       "      <td>1</td>\n",
       "      <td>Industrial Design</td>\n",
       "    </tr>\n",
       "  </tbody>\n",
       "</table>\n",
       "</div>"
      ],
      "text/plain": [
       "     user  use_tue_laptop  mouse_speed  mouse_accuracy  right_handed  \\\n",
       "0    1226               1            1               1             1   \n",
       "30   1937               1            1               1             1   \n",
       "60    625               1            1               1             0   \n",
       "90   1025               1            1               1             0   \n",
       "120   620               1            1               1             1   \n",
       "\n",
       "                      major  \n",
       "0    Industrial Engineering  \n",
       "30   Industrial Engineering  \n",
       "60          Applied Physics  \n",
       "90      Innovation Sciences  \n",
       "120       Industrial Design  "
      ]
     },
     "execution_count": 102,
     "metadata": {},
     "output_type": "execute_result"
    }
   ],
   "source": [
    "#// BEGIN_TODO [ORG_4e] Collect users information (1 point)\n",
    "\n",
    "df_users = df_props[['user', 'use_tue_laptop', 'mouse_speed', 'mouse_accuracy', 'right_handed', 'major']].drop_duplicates()\n",
    "\n",
    "#// END_TODO [ORG_4e]\n",
    "\n",
    "df_users.head()"
   ]
  },
  {
   "cell_type": "markdown",
   "metadata": {},
   "source": [
    "### Exercise <span class=\"exercise\">4.f</span>\n",
    "\n",
    "Inspect the `df_users` data frame. You will notice that for some users there is more than one row. For example, some users appear to have indicated multiple computer settings. Since at this point we cannot ask those users which settings they have actually used, we will discard those users and the corresponding trials.\n",
    "\n",
    "Identify which users have entered contradicting information, i.e. both right and left handed or using different computer settings, and assign them to a list `wrong_users`."
   ]
  },
  {
   "cell_type": "code",
   "execution_count": 106,
   "metadata": {},
   "outputs": [
    {
     "data": {
      "text/plain": [
       "25905    1598\n",
       "25920    1598\n",
       "29006    1017\n",
       "29019    1017\n",
       "Name: user, dtype: int64"
      ]
     },
     "execution_count": 106,
     "metadata": {},
     "output_type": "execute_result"
    }
   ],
   "source": [
    "#// BEGIN_TODO [ORG_4f] Find the wrong users (1 point)\n",
    "\n",
    "wrong_users_bool = df_users.duplicated(subset='user', keep=False)\n",
    "wrong_users= df_users[wrong_users_bool]['user']\n",
    "\n",
    "#// END_TODO [ORG_4f]\n",
    "\n",
    "wrong_users"
   ]
  },
  {
   "cell_type": "markdown",
   "metadata": {},
   "source": [
    "### Exercise <span class=\"exercise\">4.g</span>\n",
    "\n",
    "Discard the rows from `df_users` and `df_trials` corresponding to the users which have entered contradicting information."
   ]
  },
  {
   "cell_type": "code",
   "execution_count": 142,
   "metadata": {
    "collapsed": true
   },
   "outputs": [],
   "source": [
    "#// BEGIN_TODO [ORG_4g] Discard the wrong users (1 point)\n",
    "#country_data.drop_duplicates(subset='capital').info()\n",
    "#df = df.drop(df[<some boolean condition>].index)\n",
    "\n",
    "# df_users.drop(df_users[wrong_users].index, inplace=True)\n",
    "# wrong_id= df_users[wrong_users]\n",
    "# # df_trials.drop(df_trials[wrong_users].index, inplace=True)\n",
    "\n",
    "# wrong_id\n",
    "\n",
    "df_users = df_users[~df_users['user'].isin(wrong_users)]\n",
    "df_trials = df_trials[~df_trials['user'].isin(wrong_users)]\n",
    "\n",
    "#// END_TODO [ORG_4g]"
   ]
  },
  {
   "cell_type": "markdown",
   "metadata": {},
   "source": [
    "### Exercise <span class=\"exercise\">4.h</span>\n",
    "\n",
    "Connect to the Fitts database `'fitts.db'`, assigning the connection to variable **`conn_fitts`** and a cursor to `cur_fitts`."
   ]
  },
  {
   "cell_type": "code",
   "execution_count": 143,
   "metadata": {
    "collapsed": true
   },
   "outputs": [],
   "source": [
    "#// BEGIN_TODO [ORG_4h] Connect to Fitts database (1 point)\n",
    "\n",
    "conn_fitts = sqlite3.connect('fitts.db')\n",
    "cur_fitts = conn_fitts.cursor()\n",
    "\n",
    "#// END_TODO [ORG_4h]"
   ]
  },
  {
   "cell_type": "markdown",
   "metadata": {},
   "source": [
    "### Exercise <span class=\"exercise\">4.i</span>\n",
    "\n",
    "Use the `df_users` and `df_trials` data frames to create tables `'users'` and `'trials'` in the Fitts database."
   ]
  },
  {
   "cell_type": "code",
   "execution_count": 144,
   "metadata": {
    "collapsed": true
   },
   "outputs": [],
   "source": [
    "#// BEGIN_TODO [ORG_4i] Create new tables (1 point)\n",
    "\n",
    "df_users.to_sql('users', conn_fitts, if_exists='replace', index=False)\n",
    "df_trials.to_sql('trials', conn_fitts, if_exists='replace', index=False)\n",
    "\n",
    "#// END_TODO [ORG_4i]"
   ]
  },
  {
   "cell_type": "markdown",
   "metadata": {},
   "source": [
    "### Exercise <span class=\"exercise\">4.j</span>\n",
    "\n",
    "Execute a query to count the number of trials that were performed by user 2 with a mouse.\n",
    "\n",
    "Assign the query to variable `query_user_mouse`, and the result (an integer number) to variable `num_user_mouse`."
   ]
  },
  {
   "cell_type": "code",
   "execution_count": 150,
   "metadata": {},
   "outputs": [
    {
     "data": {
      "text/plain": [
       "15"
      ]
     },
     "execution_count": 150,
     "metadata": {},
     "output_type": "execute_result"
    }
   ],
   "source": [
    "#// BEGIN_TODO [ORG_4j] Count the trials (1 point)\n",
    "\n",
    "query_user_mouse = ''' SELECT sum(input_method) as one\n",
    "FROM trials\n",
    "WHERE  user LIKE 2'''\n",
    "\n",
    "num_user_mouse = pd.read_sql_query(query_user_mouse, conn_fitts).loc[0]['one']\n",
    "\n",
    "#// END_TODO [ORG_4j]\n",
    "\n",
    "num_user_mouse"
   ]
  },
  {
   "cell_type": "markdown",
   "metadata": {},
   "source": [
    "### Exercise <span class=\"exercise\">4.k</span>\n",
    "\n",
    "Execute a query to count the number of all trials that were performed with a trackpad.\n",
    "\n",
    "Assign the query to variable `query_all_trackpad`, and the result (an integer number) to variable `num_all_trackpad`."
   ]
  },
  {
   "cell_type": "code",
   "execution_count": 153,
   "metadata": {},
   "outputs": [
    {
     "data": {
      "text/plain": [
       "16807"
      ]
     },
     "execution_count": 153,
     "metadata": {},
     "output_type": "execute_result"
    }
   ],
   "source": [
    "#// BEGIN_TODO [ORG_4k] Count the trackpad trials (1 point)\n",
    "\n",
    "query_all_trackpad = ''' select count(input_method) as zero\n",
    "from trials\n",
    "where input_method = 0'''\n",
    "\n",
    "num_all_trackpad = pd.read_sql_query(query_all_trackpad, conn_fitts).loc[0]['zero']\n",
    "\n",
    "#// END_TODO [ORG_4k]\n",
    "\n",
    "num_all_trackpad"
   ]
  },
  {
   "cell_type": "markdown",
   "metadata": {},
   "source": [
    "### Exercise <span class=\"exercise\">4.l</span>\n",
    "\n",
    "Execute a query to count the number of all trials that were performed by left handed people.\n",
    "\n",
    "Assign the query to variable `query_lefthanded`, and the result (an integer number) to variable `num_lefthanded`."
   ]
  },
  {
   "cell_type": "code",
   "execution_count": 154,
   "metadata": {},
   "outputs": [
    {
     "data": {
      "text/plain": [
       "4346"
      ]
     },
     "execution_count": 154,
     "metadata": {},
     "output_type": "execute_result"
    }
   ],
   "source": [
    "#// BEGIN_TODO [ORG_4l] Count the lefthanded trials (1 point)\n",
    "\n",
    "query_lefthanded = ''' select count(trials.user) as trials_count\n",
    "from users, trials\n",
    "where users.user = trials.user and users.right_handed = 0'''\n",
    "\n",
    "num_lefthanded = pd.read_sql_query(query_lefthanded, conn_fitts).loc[0]['trials_count']\n",
    "\n",
    "#// END_TODO [ORG_4l]\n",
    "\n",
    "num_lefthanded"
   ]
  },
  {
   "cell_type": "markdown",
   "metadata": {},
   "source": [
    "### Exercise <span class=\"exercise\">4.m</span>\n",
    "\n",
    "Execute a query to compute the average delay between the start of a trial and the moment the target was shown for left handed vs. right handed people.\n",
    "\n",
    "Assign the query to variable `query_delay`, and the result (a data frame with two rows, first row for left handed and second for right handed people, with column name `'average delay'`) to variable `result_delay`."
   ]
  },
  {
   "cell_type": "code",
   "execution_count": 156,
   "metadata": {},
   "outputs": [
    {
     "data": {
      "text/html": [
       "<div>\n",
       "<style>\n",
       "    .dataframe thead tr:only-child th {\n",
       "        text-align: right;\n",
       "    }\n",
       "\n",
       "    .dataframe thead th {\n",
       "        text-align: left;\n",
       "    }\n",
       "\n",
       "    .dataframe tbody tr th {\n",
       "        vertical-align: top;\n",
       "    }\n",
       "</style>\n",
       "<table border=\"1\" class=\"dataframe\">\n",
       "  <thead>\n",
       "    <tr style=\"text-align: right;\">\n",
       "      <th></th>\n",
       "      <th>average delay</th>\n",
       "    </tr>\n",
       "  </thead>\n",
       "  <tbody>\n",
       "    <tr>\n",
       "      <th>0</th>\n",
       "      <td>2.979183</td>\n",
       "    </tr>\n",
       "    <tr>\n",
       "      <th>1</th>\n",
       "      <td>2.996162</td>\n",
       "    </tr>\n",
       "  </tbody>\n",
       "</table>\n",
       "</div>"
      ],
      "text/plain": [
       "   average delay\n",
       "0       2.979183\n",
       "1       2.996162"
      ]
     },
     "execution_count": 156,
     "metadata": {},
     "output_type": "execute_result"
    }
   ],
   "source": [
    "#// BEGIN_TODO [ORG_4m] Average delay (1 point)\n",
    "\n",
    "query_delay = ''' select avg(trials.delay) as 'average delay'\n",
    "from users, trials\n",
    "where users.user == trials.user\n",
    "group by users.right_handed'''\n",
    "\n",
    "result_delay = pd.read_sql_query(query_delay, conn_fitts)\n",
    "#// END_TODO [ORG_4m]\n",
    "\n",
    "result_delay"
   ]
  },
  {
   "cell_type": "markdown",
   "metadata": {},
   "source": [
    "### Exercise <span class=\"exercise\">4.n</span>\n",
    "\n",
    "Let us check whether the experiment was properly conducted, in particular whether the users working with a mouse were not disadvantaged compared to those using the trackpad. Execute a query to compute the average radius of targets that were shown to users using the different input methods.\n",
    "\n",
    "Assign the query to variable `query_radius`, and the result (a data frame with two columns `'method'` and `'average radius'`) to variable `result_radius`."
   ]
  },
  {
   "cell_type": "code",
   "execution_count": 157,
   "metadata": {},
   "outputs": [
    {
     "data": {
      "text/html": [
       "<div>\n",
       "<style>\n",
       "    .dataframe thead tr:only-child th {\n",
       "        text-align: right;\n",
       "    }\n",
       "\n",
       "    .dataframe thead th {\n",
       "        text-align: left;\n",
       "    }\n",
       "\n",
       "    .dataframe tbody tr th {\n",
       "        vertical-align: top;\n",
       "    }\n",
       "</style>\n",
       "<table border=\"1\" class=\"dataframe\">\n",
       "  <thead>\n",
       "    <tr style=\"text-align: right;\">\n",
       "      <th></th>\n",
       "      <th>average radius</th>\n",
       "      <th>method</th>\n",
       "    </tr>\n",
       "  </thead>\n",
       "  <tbody>\n",
       "    <tr>\n",
       "      <th>0</th>\n",
       "      <td>6.014994</td>\n",
       "      <td>0</td>\n",
       "    </tr>\n",
       "    <tr>\n",
       "      <th>1</th>\n",
       "      <td>6.000727</td>\n",
       "      <td>1</td>\n",
       "    </tr>\n",
       "  </tbody>\n",
       "</table>\n",
       "</div>"
      ],
      "text/plain": [
       "   average radius  method\n",
       "0        6.014994       0\n",
       "1        6.000727       1"
      ]
     },
     "execution_count": 157,
     "metadata": {},
     "output_type": "execute_result"
    }
   ],
   "source": [
    "#// BEGIN_TODO [ORG_4n] Average radius (1 point)\n",
    "\n",
    "query_radius = '''\n",
    "select avg(target_radius) as 'average radius', input_method as method\n",
    "from trials\n",
    "group by input_method\n",
    "\n",
    "'''\n",
    "\n",
    "result_radius = pd.read_sql_query(query_radius, conn_fitts)\n",
    "\n",
    "#// END_TODO [ORG_4n]\n",
    "\n",
    "result_radius"
   ]
  },
  {
   "cell_type": "markdown",
   "metadata": {},
   "source": [
    "### Exercise <span class=\"exercise\">4.o</span>\n",
    "\n",
    "We consider the experiment to be properly conducted if the average difference in target radius between the two input methods is at most 20% of the smaller value. Was the experiment properly conducted?\n",
    "\n",
    "Assign your boolean answer to `proper_experiment`."
   ]
  },
  {
   "cell_type": "code",
   "execution_count": 159,
   "metadata": {},
   "outputs": [
    {
     "data": {
      "text/plain": [
       "True"
      ]
     },
     "execution_count": 159,
     "metadata": {},
     "output_type": "execute_result"
    }
   ],
   "source": [
    "#// BEGIN_TODO [ORG_4o] Proper experiment? (1 point)\n",
    "\n",
    "proper_experiment = (result_radius.loc[1]['average radius']*0.2 >= result_radius.loc[0]['average radius']-result_radius.loc[1]['average radius'])\n",
    "\n",
    "#// END_TODO [ORG_4o]\n",
    "\n",
    "proper_experiment"
   ]
  },
  {
   "cell_type": "markdown",
   "metadata": {},
   "source": [
    "### Exercise <span class=\"exercise\">4.p</span>\n",
    "\n",
    "Close the connection to the `'fitts.db'` database."
   ]
  },
  {
   "cell_type": "code",
   "execution_count": 160,
   "metadata": {
    "collapsed": true
   },
   "outputs": [],
   "source": [
    "#// BEGIN_TODO [ORG_4p] Close the Fitts database (1 point)\n",
    "\n",
    "conn_fitts.close()\n",
    "\n",
    "#// END_TODO [ORG_4p]"
   ]
  },
  {
   "cell_type": "markdown",
   "metadata": {},
   "source": [
    "# Feedback\n",
    "\n",
    "Please fill in this questionaire to help us improve this course for the next year. Your feedback will be anonymized and will not affect your grade in any way!"
   ]
  },
  {
   "cell_type": "markdown",
   "metadata": {},
   "source": [
    "### How many hours did you spend on these Exercises?\n",
    "\n",
    "Assign a number to `feedback_time`."
   ]
  },
  {
   "cell_type": "code",
   "execution_count": 164,
   "metadata": {},
   "outputs": [
    {
     "data": {
      "text/plain": [
       "5"
      ]
     },
     "execution_count": 164,
     "metadata": {},
     "output_type": "execute_result"
    }
   ],
   "source": [
    "#// BEGIN_TODO [Feedback_1] (0 point)\n",
    "\n",
    "feedback_time = 5\n",
    "\n",
    "#// END_TODO [Feedback_1] (0 point)\n",
    "\n",
    "import numbers\n",
    "assert isinstance(feedback_time, numbers.Number), \"Please assign a number to feedback_time\"\n",
    "feedback_time"
   ]
  },
  {
   "cell_type": "markdown",
   "metadata": {},
   "source": [
    "### How difficult did you find these Exercises?\n",
    "\n",
    "Assign an integer to `feedback_difficulty`, on a scale 1 - 10, with 1 being very easy."
   ]
  },
  {
   "cell_type": "code",
   "execution_count": 161,
   "metadata": {},
   "outputs": [
    {
     "data": {
      "text/plain": [
       "3"
      ]
     },
     "execution_count": 161,
     "metadata": {},
     "output_type": "execute_result"
    }
   ],
   "source": [
    "#// BEGIN_TODO [Feedback_2] (0 point)\n",
    "\n",
    "feedback_difficulty = 3\n",
    "\n",
    "#// END_TODO [Feedback_2] (0 point)\n",
    "\n",
    "import numbers\n",
    "assert isinstance(feedback_difficulty, numbers.Number), \"Please assign a number to feedback_difficulty\"\n",
    "feedback_difficulty"
   ]
  },
  {
   "cell_type": "markdown",
   "metadata": {},
   "source": [
    "### (Optional) What did you like?\n",
    "\n",
    "Assign a string to `feedback_like`."
   ]
  },
  {
   "cell_type": "code",
   "execution_count": 163,
   "metadata": {
    "collapsed": true
   },
   "outputs": [],
   "source": [
    "#// BEGIN_TODO [Feedback_3] (0 point)\n",
    "\n",
    "feedback_like = 'this notebook was shorter and fit better in my planning'\n",
    "\n",
    "#// END_TODO [Feedback_3] (0 point)"
   ]
  },
  {
   "cell_type": "markdown",
   "metadata": {},
   "source": [
    "### (Optional) What can be improved?\n",
    "\n",
    "Assign a string to `feedback_improve`."
   ]
  },
  {
   "cell_type": "code",
   "execution_count": 162,
   "metadata": {
    "collapsed": true
   },
   "outputs": [],
   "source": [
    "#// BEGIN_TODO [Feedback_4] (0 point)\n",
    "\n",
    "feedback_improve = ''\n",
    "\n",
    "#// END_TODO [Feedback_4] (0 point)"
   ]
  },
  {
   "cell_type": "markdown",
   "metadata": {},
   "source": [
    "\n",
    "\n",
    "\n",
    "## How to submit your work\n",
    "\n",
    "1. **Before submitting**, you must run your notebook by doing **Kernel > Restart & Run All**.  \n",
    "   Make sure that your notebook runs without errors **in linear order**.\n",
    "\n",
    "2. Remember to rename the notebook, replacing `...-template.ipynb` with `...-yourIDnr.ipynb`, where `yourIDnr` is your TU/e identification number.\n",
    "\n",
    "3. Submit the executed notebook with your work\n",
    "   for the appropriate assignment in **Canvas**.\n",
    "\n",
    "* In the **Momotor** tab in Canvas,\n",
    "  you can select that assignment again to find some feedback on your submitted work.\n",
    "  \n",
    "* If there are any problems reported by _Momotor_,\n",
    "  then you need to fix those,\n",
    "  and **resubmit the fixed notebook**.\n",
    "\n",
    "In case of a high workload on our server\n",
    "(because many students submit close to the deadline),\n",
    "it may take longer to receive the feedback.\n"
   ]
  },
  {
   "cell_type": "markdown",
   "metadata": {},
   "source": [
    "---"
   ]
  },
  {
   "cell_type": "code",
   "execution_count": 165,
   "metadata": {},
   "outputs": [
    {
     "name": "stdout",
     "output_type": "stream",
     "text": [
      "Variable              Type          Data/Info\n",
      "---------------------------------------------\n",
      "AUTHOR_DATE           str           2019-02-28\n",
      "AUTHOR_ID_NR          str           1349171\n",
      "AUTHOR_NAME           str           Kyra Moviat\n",
      "area_as_int           DataFrame                              <...>n\\n[251 rows x 7 columns]\n",
      "bm_dup_capital        Series        0      False\\n1      Fals<...>nLength: 251, dtype: bool\n",
      "bm_dup_capital_all    Series        0      False\\n1      Fals<...>nLength: 251, dtype: bool\n",
      "conn                  Connection    <sqlite3.Connection object at 0x000001A9FF598650>\n",
      "conn_fitts            Connection    <sqlite3.Connection object at 0x000001A9FF2C8F10>\n",
      "continents            DataFrame                  name\\nAF    <...>ceania\\nSM  South America\n",
      "country_data          DataFrame                              <...>n\\n[251 rows x 7 columns]\n",
      "country_data_as_str   DataFrame                              <...>n\\n[251 rows x 7 columns]\n",
      "country_data_dropna   DataFrame                              <...>n\\n[243 rows x 7 columns]\n",
      "country_data_filled   DataFrame                              <...>n\\n[251 rows x 7 columns]\n",
      "cur                   Cursor        <sqlite3.Cursor object at 0x000001A980515F80>\n",
      "cur_fitts             Cursor        <sqlite3.Cursor object at 0x000001A980272E30>\n",
      "curb                  Cursor        <sqlite3.Cursor object at 0x000001A9FF59F6C0>\n",
      "curd                  Cursor        <sqlite3.Cursor object at 0x000001A980272500>\n",
      "df_props              DataFrame            user  trial  use_t<...>[33342 rows x 12 columns]\n",
      "df_trials             DataFrame            user  trial  input<...>n[33312 rows x 7 columns]\n",
      "df_users              DataFrame            user  use_tue_lapt<...>\\n[1183 rows x 6 columns]\n",
      "dropped_dup_tld       DataFrame                              <...>n\\n[248 rows x 7 columns]\n",
      "dropped_na_tld        DataFrame                              <...>n\\n[249 rows x 7 columns]\n",
      "duplicate_tld         Series        0      False\\n1      Fals<...>nLength: 251, dtype: bool\n",
      "feedback_difficulty   int           3\n",
      "feedback_improve      str           \n",
      "feedback_like         str           this notebook was shorter<...>fit better in my planning\n",
      "feedback_time         int           5\n",
      "filled_tld            DataFrame                              <...>n\\n[251 rows x 7 columns]\n",
      "get_pop_NL            str           SELECT name, population F<...>ERE name = \"Netherlands\";\n",
      "np                    module        <module 'numpy' from 'C:\\<...>ges\\\\numpy\\\\__init__.py'>\n",
      "num_all_trackpad      int64         16807\n",
      "num_lefthanded        int64         4346\n",
      "num_user_mouse        int64         15\n",
      "numbers               module        <module 'numbers' from 'C<...>conda3\\\\lib\\\\numbers.py'>\n",
      "pd                    module        <module 'pandas' from 'C:<...>es\\\\pandas\\\\__init__.py'>\n",
      "population_as_str     DataFrame                              <...>n\\n[251 rows x 7 columns]\n",
      "proper_experiment     bool_         True\n",
      "query                 str           \\n    SELECT countries.na<...>ion DESC\\n    LIMIT 10;\\n\n",
      "query1a               str            \\nSELECT name, area, pop<...>s\\nWHERE area > 1000000\\n\n",
      "query1b               str           \\nSELECT name, population<...>DER BY population DESC;\\n\n",
      "query1c               str           \\nUPDATE countries\\nSET p<...>RE name = \"Antarctica\";\\n\n",
      "query_2a              str           \\nSELECT name, capital, p<...>00\\nORDER BY area DESC;\\n\n",
      "query_2b              str           \\nSELECT continents.name <...>ex\"\\nGROUP BY continent\\n\n",
      "query_2c              str           SELECT continent\\nFROM co<...>RE population > 100000000\n",
      "query_2d              str           UPDATE countries\\nSET pop<...>WHERE name LIKE \"%land\"\\n\n",
      "query_2e              str           SELECT name, population\\n<...>\\nWHERE name LIKE \"%land\"\n",
      "query_D               str           SELECT continent\\nFROM co<...>ies\\nWHERE name LIKE \"%D\"\n",
      "query_E               str           \\n    SELECT continent\\n <...>   WHERE name LIKE \"E%\"\\n\n",
      "query_E_except_L      str           \\n    SELECT continent\\n <...>  WHERE area > 10000000\\n\n",
      "query_L               str           \\n    SELECT continent\\n <...>  WHERE area > 10000000\\n\n",
      "query_M               str           SELECT continent\\nFROM co<...>RE population > 100000000\n",
      "query_all__trackpad   str            select count(input_metho<...>s\\nwhere input_method = 0\n",
      "query_all_trackpad    str            select count(input_metho<...>s\\nwhere input_method = 0\n",
      "query_delay           str            select avg(trials.delay)<...>oup by users.right_handed\n",
      "query_lefthanded      str            select count(trials.user<...>nd users.right_handed = 0\n",
      "query_radius          str           \\nselect avg(target_radiu<...>group by input_method\\n\\n\n",
      "query_user_mouse      str            SELECT sum(input_method)<...>rials\\nWHERE  user LIKE 2\n",
      "result                DataFrame        COUNT(trial)\\n0             0\n",
      "result_1a             DataFrame                              <...>a   1219912.0    49000000\n",
      "result_1b             list          n=5\n",
      "result_2a             DataFrame     Empty DataFrame\\nColumns:<...>ulation, area]\\nIndex: []\n",
      "result_2b             DataFrame       continent name  total p<...>America         400143568\n",
      "result_2c             DataFrame       continent\\n0        AN\\n1        OC\n",
      "result_2e             DataFrame                     name  pop<...>     Thailand           0\n",
      "result_2g             DataFrame                     name  pop<...>     Thailand    67089500\n",
      "result_delay          DataFrame        average delay\\n0      <...>.979183\\n1       2.996162\n",
      "result_radius         DataFrame        average radius  method<...>1        6.000727       1\n",
      "resultt               DataFrame        count(input_method)\\n0                16807\n",
      "sqlite3               module        <module 'sqlite3' from 'C<...>b\\\\sqlite3\\\\__init__.py'>\n",
      "stripped_names        Series        0                        <...>ength: 251, dtype: object\n",
      "unique_continents     ndarray       7: 7 elems, type `object`, 56 bytes\n",
      "update_pop_NL         str           \\n    UPDATE countries\\n <...>E name = \"Netherlands\";\\n\n",
      "wrong_users           Series        0        False\\n30       <...>Length: 1184, dtype: bool\n"
     ]
    }
   ],
   "source": [
    "# List all defined names\n",
    "%whos"
   ]
  },
  {
   "cell_type": "markdown",
   "metadata": {},
   "source": [
    "---\n",
    "\n",
    "# (End of Notebook) \n",
    "\n",
    "&copy; 2017-2019 - **TU/e** - Eindhoven University of Technology"
   ]
  }
 ],
 "metadata": {
  "kernelspec": {
   "display_name": "Python 3",
   "language": "python",
   "name": "python3"
  },
  "language_info": {
   "codemirror_mode": {
    "name": "ipython",
    "version": 3
   },
   "file_extension": ".py",
   "mimetype": "text/x-python",
   "name": "python",
   "nbconvert_exporter": "python",
   "pygments_lexer": "ipython3",
   "version": "3.6.1"
  },
  "toc": {
   "base_numbering": 1,
   "nav_menu": {
    "height": "174px",
    "width": "252px"
   },
   "number_sections": false,
   "sideBar": true,
   "skip_h1_title": false,
   "title_cell": "Table of Contents",
   "title_sidebar": "Contents",
   "toc_cell": true,
   "toc_position": {},
   "toc_section_display": "block",
   "toc_window_display": true
  }
 },
 "nbformat": 4,
 "nbformat_minor": 2
}
