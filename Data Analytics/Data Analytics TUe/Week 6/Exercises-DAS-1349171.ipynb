{
 "cells": [
  {
   "cell_type": "markdown",
   "metadata": {},
   "source": [
    "# Programming Lesson and Exercises - DAS <span class=\"tocSkip\"></span>\n",
    "\n",
    "These programming lessons do not require prior programming experience.\n",
    "\n",
    "The goal is to teach you the use of _Python 3_ and the _Jupyter Notebook_ software\n",
    "in the context of _Data Analytics_.\n",
    "\n",
    "<div class=\"alert-info alert\" role=\"alert-info\">While you read this notebook,\n",
    "execute all code cells in linear order\n",
    "from the beginning</div>"
   ]
  },
  {
   "cell_type": "markdown",
   "metadata": {},
   "source": [
    "\n",
    "# Introduction to this template notebook\n",
    "\n",
    "* This is a **personal** notebook.\n",
    "* Make sure you work in a **copy** of `...-template.ipynb`,\n",
    "**renamed** to `...-yourIDnr.ipynb`,\n",
    "where `yourIDnr` is your TU/e identification number.\n",
    "\n",
    "<div class=\"alert alert-danger\" role=\"danger\">\n",
    "<h3>Integrity</h3>\n",
    "<ul>\n",
    "    <li>In this course you must act according to the rules of the TU/e code of scientific conduct.</li>\n",
    "    <li>All the exercises and the graded assignments are to be executed individually and independently.</li>\n",
    "    <li>You must not copy from the Internet, your friends, books... If you represent other people's work as your own, then that constitutes fraud and will be reported to the Examination Committee.</li>\n",
    "    <li>Making your work available to others (complicity) also constitutes fraud.</li>\n",
    "</ul>\n",
    "</div>\n",
    "\n",
    "You are expected to work with Python code in this notebook.\n",
    "\n",
    "The locations where you should write your solutions can be recognized by\n",
    "**marker lines**,\n",
    "which look like this:\n",
    "\n",
    ">`#//`\n",
    ">    `BEGIN_TODO [Label]` `Description` `(n points)`\n",
    ">\n",
    ">`#//`\n",
    ">    `END_TODO [Label]`\n",
    "\n",
    "<div class=\"alert alert-warning\" role=\"alert\">Do NOT modify or delete these marker lines.  Keep them as they are.<br/>\n",
    "<br/>\n",
    "NEVER write code <i>outside</i> the marked blocks.\n",
    "Such code cannot be evaluated.\n",
    "</div>\n",
    "\n",
    "Proceed in this notebook as follows:\n",
    "* **Read** the text.\n",
    "* **Fill in** your solutions between `BEGIN_TODO` and `END_TODO` marker lines.\n",
    "* **Run** _all_ code cells (also the ones _without_ your code),\n",
    "    _in linear order_ from the first code cell.\n",
    "\n",
    "**Personalize your notebook**:\n",
    "1. Copy the following three lines of code:\n",
    "\n",
    "  ```python\n",
    "  AUTHOR_NAME = 'Your Full Name'\n",
    "  AUTHOR_ID_NR = '1234567'\n",
    "  AUTHOR_DATE = 'YYYY-MM-DD'  # when notebook was first modified, e.g. '2019-02-26'\n",
    "  ```\n",
    "\n",
    "1. Paste them between the marker lines in the next code cell.\n",
    "1. Fill in your _full name_, _identification number_, and the current _date_ as strings between quotes.\n",
    "1. Run the code cell by putting the cursor there and typing **Control-Enter**.\n"
   ]
  },
  {
   "cell_type": "code",
   "execution_count": 172,
   "metadata": {},
   "outputs": [
    {
     "data": {
      "text/plain": [
       "('Kyra Moviat', '1349171', '2019-03-11')"
      ]
     },
     "execution_count": 172,
     "metadata": {},
     "output_type": "execute_result"
    }
   ],
   "source": [
    "#// BEGIN_TODO [Author] Name, Id.nr., Date, as strings (1 point)\n",
    "\n",
    "AUTHOR_NAME = 'Kyra Moviat'\n",
    "AUTHOR_ID_NR = '1349171'\n",
    "AUTHOR_DATE = '2019-03-11'\n",
    "\n",
    "#// END_TODO [Author]\n",
    "\n",
    "AUTHOR_NAME, AUTHOR_ID_NR, AUTHOR_DATE"
   ]
  },
  {
   "cell_type": "markdown",
   "metadata": {
    "toc": "true"
   },
   "source": [
    "<h1>Table of Contents<span class=\"tocSkip\"></span></h1>\n",
    "<div class=\"toc\"><ul class=\"toc-item\"><li><ul class=\"toc-item\"><li><span><a href=\"#Loading-the-libraries\" data-toc-modified-id=\"Loading-the-libraries-0.1\">Loading the libraries</a></span></li></ul></li><li><span><a href=\"#Lesson-introduction\" data-toc-modified-id=\"Lesson-introduction-1\">Lesson introduction</a></span></li><li><span><a href=\"#1.-Filtering\" data-toc-modified-id=\"1.-Filtering-2\"><span class=\"section\">1.</span> Filtering</a></span><ul class=\"toc-item\"><li><span><a href=\"#Rolling-windows\" data-toc-modified-id=\"Rolling-windows-2.1\">Rolling windows</a></span></li><li><span><a href=\"#Filtering-mouse-trajectories\" data-toc-modified-id=\"Filtering-mouse-trajectories-2.2\">Filtering mouse trajectories</a></span></li><li><span><a href=\"#Computing-changes-and-finding-maxima\" data-toc-modified-id=\"Computing-changes-and-finding-maxima-2.3\">Computing changes and finding maxima</a></span></li><li><span><a href=\"#Approximating-derivatives-and-finding-trends\" data-toc-modified-id=\"Approximating-derivatives-and-finding-trends-2.4\">Approximating derivatives and finding trends</a></span></li></ul></li><li><span><a href=\"#2.-Data-aggregation\" data-toc-modified-id=\"2.-Data-aggregation-3\"><span class=\"section\">2.</span> Data aggregation</a></span><ul class=\"toc-item\"><li><span><a href=\"#Data-preparation\" data-toc-modified-id=\"Data-preparation-3.1\">Data preparation</a></span></li><li><span><a href=\"#Data-aggregation\" data-toc-modified-id=\"Data-aggregation-3.2\">Data aggregation</a></span></li></ul></li><li><span><a href=\"#3.-Empirical-cumulative-distribution-functions\" data-toc-modified-id=\"3.-Empirical-cumulative-distribution-functions-4\"><span class=\"section\">3.</span> Empirical cumulative distribution functions</a></span><ul class=\"toc-item\"><li><span><a href=\"#Exercises:-compare-ECDFs-for-mouse-a-trackpad-trajectories\" data-toc-modified-id=\"Exercises:-compare-ECDFs-for-mouse-a-trackpad-trajectories-4.1\">Exercises: compare ECDFs for mouse a trackpad trajectories</a></span></li></ul></li><li><span><a href=\"#4.-Dates-and-Times\" data-toc-modified-id=\"4.-Dates-and-Times-5\"><span class=\"section\">4.</span> Dates and Times</a></span><ul class=\"toc-item\"><li><span><a href=\"#Learning-Objectives-of-This-Section\" data-toc-modified-id=\"Learning-Objectives-of-This-Section-5.1\">Learning Objectives of This Section</a></span></li><li><span><a href=\"#Why-dates-and-times-are-complicated\" data-toc-modified-id=\"Why-dates-and-times-are-complicated-5.2\">Why dates and times are complicated</a></span></li><li><span><a href=\"#Working-with-dates-and-times-with-Pandas\" data-toc-modified-id=\"Working-with-dates-and-times-with-Pandas-5.3\">Working with dates and times with Pandas</a></span></li></ul></li><li><span><a href=\"#5.-Exercise:-Find-ballistic-motion\" data-toc-modified-id=\"5.-Exercise:-Find-ballistic-motion-6\"><span class=\"section\">5.</span> Exercise: Find ballistic motion</a></span></li><li><span><a href=\"#(End-of-Notebook)\" data-toc-modified-id=\"(End-of-Notebook)-7\">(End of Notebook)</a></span></li></ul></div>"
   ]
  },
  {
   "cell_type": "markdown",
   "metadata": {},
   "source": [
    "## Loading the libraries\n",
    "\n",
    "To show examples, we load some Data Analytics libraries first:"
   ]
  },
  {
   "cell_type": "code",
   "execution_count": 173,
   "metadata": {
    "collapsed": true
   },
   "outputs": [],
   "source": [
    "import numpy as np  # import auxiliary library, typical idiom\n",
    "import pandas as pd  # import the Pandas library, typical idiom\n",
    "\n",
    "from statsmodels.distributions.empirical_distribution import ECDF\n",
    "\n",
    "from scipy.interpolate import interp1d\n",
    "from scipy.ndimage.filters import gaussian_filter1d\n",
    "from scipy import stats\n",
    "\n",
    "# next command ensures that plots appear inside the notebook\n",
    "%matplotlib inline\n",
    "import matplotlib.pyplot as plt\n",
    "import seaborn as sns\n",
    "sns.set()  # set Seaborn defaults\n",
    "plt.rcParams['figure.figsize'] = 10, 5  # default hor./vert. size of plots, in inches\n",
    "plt.rcParams['lines.markeredgewidth'] = 1  # to fix issue with seaborn box plots; needed after import seaborn\n",
    "\n",
    "from mouse_experiment import MouseExperiment"
   ]
  },
  {
   "cell_type": "markdown",
   "metadata": {},
   "source": [
    "# Lesson introduction\n",
    "\n",
    "In these lessons, we are going to extract features from the mouse trajectories recorded in the Fitts' law experiment. We will first extract features by filtering signals. For this, we will need to learn:\n",
    "\n",
    "* how to filter signals in _Python_\n",
    "* how to work with some new _Pandas_ functions\n",
    "\n",
    "Next, we will extract more features and perform aggregation over the recorded data and will learn\n",
    "\n",
    "* how to use the _Pandas_ **`agg()`** for convenient aggregation and computation of simple features\n",
    "* how to combine/join two _Pandas_ tables with the function **`join()`**\n",
    "* how to compute, use and plot empirical cumulative distribution functions\n",
    "\n",
    "Finally, we will learn \n",
    "\n",
    "* how to work with dates and times"
   ]
  },
  {
   "cell_type": "markdown",
   "metadata": {},
   "source": [
    "\n",
    "# <span class=\"section\">1.</span> Filtering\n",
    "\n"
   ]
  },
  {
   "cell_type": "markdown",
   "metadata": {},
   "source": [
    "To illustrate how to filter signals, we will apply filtering to the (time series in the) _stocks_ data set that we have also seen in the visualization exercises. In the exercises that follow, you will apply what you have learned to recorded mouse trajectories.\n",
    "\n",
    "This time, the _stocks_ data set contains the _daily_ (rather than the monthly) closing value of the NASDAQ index. We first load the data into a dataframe `df_nasdaq`."
   ]
  },
  {
   "cell_type": "code",
   "execution_count": 174,
   "metadata": {},
   "outputs": [
    {
     "data": {
      "text/html": [
       "<div>\n",
       "<style>\n",
       "    .dataframe thead tr:only-child th {\n",
       "        text-align: right;\n",
       "    }\n",
       "\n",
       "    .dataframe thead th {\n",
       "        text-align: left;\n",
       "    }\n",
       "\n",
       "    .dataframe tbody tr th {\n",
       "        vertical-align: top;\n",
       "    }\n",
       "</style>\n",
       "<table border=\"1\" class=\"dataframe\">\n",
       "  <thead>\n",
       "    <tr style=\"text-align: right;\">\n",
       "      <th></th>\n",
       "      <th>close</th>\n",
       "    </tr>\n",
       "    <tr>\n",
       "      <th>Date</th>\n",
       "      <th></th>\n",
       "    </tr>\n",
       "  </thead>\n",
       "  <tbody>\n",
       "    <tr>\n",
       "      <th>2007-01-03</th>\n",
       "      <td>2423.159912</td>\n",
       "    </tr>\n",
       "    <tr>\n",
       "      <th>2007-01-04</th>\n",
       "      <td>2453.429932</td>\n",
       "    </tr>\n",
       "    <tr>\n",
       "      <th>2007-01-05</th>\n",
       "      <td>2434.250000</td>\n",
       "    </tr>\n",
       "    <tr>\n",
       "      <th>2007-01-08</th>\n",
       "      <td>2438.199951</td>\n",
       "    </tr>\n",
       "    <tr>\n",
       "      <th>2007-01-09</th>\n",
       "      <td>2443.830078</td>\n",
       "    </tr>\n",
       "  </tbody>\n",
       "</table>\n",
       "</div>"
      ],
      "text/plain": [
       "                  close\n",
       "Date                   \n",
       "2007-01-03  2423.159912\n",
       "2007-01-04  2453.429932\n",
       "2007-01-05  2434.250000\n",
       "2007-01-08  2438.199951\n",
       "2007-01-09  2443.830078"
      ]
     },
     "execution_count": 174,
     "metadata": {},
     "output_type": "execute_result"
    }
   ],
   "source": [
    "df_nasdaq = pd.read_csv('datasets/NASDAQ.csv', parse_dates=[0])\n",
    "df_nasdaq = df_nasdaq.set_index('Date')[['Close']]\n",
    "df_nasdaq.columns = ['close']\n",
    "df_nasdaq.head()"
   ]
  },
  {
   "cell_type": "markdown",
   "metadata": {},
   "source": [
    "Let us plot the daily closing index."
   ]
  },
  {
   "cell_type": "code",
   "execution_count": 175,
   "metadata": {},
   "outputs": [
    {
     "data": {
      "image/png": "[encoded data removed]",
      "text/plain": [
       "<matplotlib.figure.Figure at 0x15675ebec18>"
      ]
     },
     "metadata": {},
     "output_type": "display_data"
    }
   ],
   "source": [
    "ax = df_nasdaq['close'].plot()\n",
    "ax.set_ylabel('Index')\n",
    "ax.set_title('Closing NASDAQ Composite index',fontsize=16);"
   ]
  },
  {
   "cell_type": "markdown",
   "metadata": {},
   "source": [
    "As you can see, the closing price is very volatile. If we want to approximate the graph by a curve that is more smooth, we can do so by _filtering_. In this case, we apply a Gaussian filter. We store the filtered data in a column called `'close_filtered'`. The Gaussian filter needs a parameter `sigma`, the standard deviation, which gives an indication of the width of the applied filter. We choose `sigma` to be `30` (days). \n",
    "\n",
    "(There are different ways to deal with the boundaries. We choose the mode `'nearest'`, since for the later exercises it is the most natural choice.)"
   ]
  },
  {
   "cell_type": "code",
   "execution_count": 176,
   "metadata": {},
   "outputs": [
    {
     "data": {
      "text/html": [
       "<div>\n",
       "<style>\n",
       "    .dataframe thead tr:only-child th {\n",
       "        text-align: right;\n",
       "    }\n",
       "\n",
       "    .dataframe thead th {\n",
       "        text-align: left;\n",
       "    }\n",
       "\n",
       "    .dataframe tbody tr th {\n",
       "        vertical-align: top;\n",
       "    }\n",
       "</style>\n",
       "<table border=\"1\" class=\"dataframe\">\n",
       "  <thead>\n",
       "    <tr style=\"text-align: right;\">\n",
       "      <th></th>\n",
       "      <th>close</th>\n",
       "      <th>close_filtered</th>\n",
       "    </tr>\n",
       "    <tr>\n",
       "      <th>Date</th>\n",
       "      <th></th>\n",
       "      <th></th>\n",
       "    </tr>\n",
       "  </thead>\n",
       "  <tbody>\n",
       "    <tr>\n",
       "      <th>2007-01-03</th>\n",
       "      <td>2423.159912</td>\n",
       "      <td>2438.967378</td>\n",
       "    </tr>\n",
       "    <tr>\n",
       "      <th>2007-01-04</th>\n",
       "      <td>2453.429932</td>\n",
       "      <td>2439.354293</td>\n",
       "    </tr>\n",
       "    <tr>\n",
       "      <th>2007-01-05</th>\n",
       "      <td>2434.250000</td>\n",
       "      <td>2439.740575</td>\n",
       "    </tr>\n",
       "    <tr>\n",
       "      <th>2007-01-08</th>\n",
       "      <td>2438.199951</td>\n",
       "      <td>2440.126123</td>\n",
       "    </tr>\n",
       "    <tr>\n",
       "      <th>2007-01-09</th>\n",
       "      <td>2443.830078</td>\n",
       "      <td>2440.511070</td>\n",
       "    </tr>\n",
       "  </tbody>\n",
       "</table>\n",
       "</div>"
      ],
      "text/plain": [
       "                  close  close_filtered\n",
       "Date                                   \n",
       "2007-01-03  2423.159912     2438.967378\n",
       "2007-01-04  2453.429932     2439.354293\n",
       "2007-01-05  2434.250000     2439.740575\n",
       "2007-01-08  2438.199951     2440.126123\n",
       "2007-01-09  2443.830078     2440.511070"
      ]
     },
     "execution_count": 176,
     "metadata": {},
     "output_type": "execute_result"
    }
   ],
   "source": [
    "df_nasdaq['close_filtered'] = gaussian_filter1d(df_nasdaq['close'], sigma=30, mode='nearest')\n",
    "df_nasdaq.head()"
   ]
  },
  {
   "cell_type": "markdown",
   "metadata": {},
   "source": [
    "Let us plot the filtered data together with the original prices in one figure."
   ]
  },
  {
   "cell_type": "code",
   "execution_count": 177,
   "metadata": {},
   "outputs": [
    {
     "data": {
      "text/plain": [
       "<matplotlib.text.Text at 0x15678227080>"
      ]
     },
     "execution_count": 177,
     "metadata": {},
     "output_type": "execute_result"
    },
    {
     "data": {
      "image/png": "[encoded data removed]",
      "text/plain": [
       "<matplotlib.figure.Figure at 0x1567b4b4588>"
      ]
     },
     "metadata": {},
     "output_type": "display_data"
    }
   ],
   "source": [
    "ax_nasdaq = df_nasdaq['close'].plot(color='orange')\n",
    "df_nasdaq['close_filtered'].plot(ax = ax_nasdaq, color='black');\n",
    "ax_nasdaq.set_title('Closing NASDAQ Composite index',fontsize=16);\n",
    "ax_nasdaq.set_ylabel('Index')"
   ]
  },
  {
   "cell_type": "markdown",
   "metadata": {},
   "source": [
    "## Rolling windows\n",
    "\n",
    "There are many more ways to filter signals, each with their own advantages and disadvantages. A **median filter** is not so sensitive to outliers as a Gaussian filter.\n",
    "\n",
    "The Pandas function **`rolling()`** lets you compute rolling-window statistics, such as a rolling median. To use it, you need to specify the size of the window. In the following example, we used a window size of `5`. You can then apply a statistic to the result: in our median-filter example, we calculate the `median`. "
   ]
  },
  {
   "cell_type": "code",
   "execution_count": 178,
   "metadata": {},
   "outputs": [
    {
     "data": {
      "text/html": [
       "<div>\n",
       "<style>\n",
       "    .dataframe thead tr:only-child th {\n",
       "        text-align: right;\n",
       "    }\n",
       "\n",
       "    .dataframe thead th {\n",
       "        text-align: left;\n",
       "    }\n",
       "\n",
       "    .dataframe tbody tr th {\n",
       "        vertical-align: top;\n",
       "    }\n",
       "</style>\n",
       "<table border=\"1\" class=\"dataframe\">\n",
       "  <thead>\n",
       "    <tr style=\"text-align: right;\">\n",
       "      <th></th>\n",
       "      <th>close</th>\n",
       "      <th>close_filtered</th>\n",
       "      <th>median_filtered</th>\n",
       "    </tr>\n",
       "    <tr>\n",
       "      <th>Date</th>\n",
       "      <th></th>\n",
       "      <th></th>\n",
       "      <th></th>\n",
       "    </tr>\n",
       "  </thead>\n",
       "  <tbody>\n",
       "    <tr>\n",
       "      <th>2007-01-03</th>\n",
       "      <td>2423.159912</td>\n",
       "      <td>2438.967378</td>\n",
       "      <td>NaN</td>\n",
       "    </tr>\n",
       "    <tr>\n",
       "      <th>2007-01-04</th>\n",
       "      <td>2453.429932</td>\n",
       "      <td>2439.354293</td>\n",
       "      <td>NaN</td>\n",
       "    </tr>\n",
       "    <tr>\n",
       "      <th>2007-01-05</th>\n",
       "      <td>2434.250000</td>\n",
       "      <td>2439.740575</td>\n",
       "      <td>NaN</td>\n",
       "    </tr>\n",
       "    <tr>\n",
       "      <th>2007-01-08</th>\n",
       "      <td>2438.199951</td>\n",
       "      <td>2440.126123</td>\n",
       "      <td>NaN</td>\n",
       "    </tr>\n",
       "    <tr>\n",
       "      <th>2007-01-09</th>\n",
       "      <td>2443.830078</td>\n",
       "      <td>2440.511070</td>\n",
       "      <td>2438.199951</td>\n",
       "    </tr>\n",
       "    <tr>\n",
       "      <th>2007-01-10</th>\n",
       "      <td>2459.330078</td>\n",
       "      <td>2440.895398</td>\n",
       "      <td>2443.830078</td>\n",
       "    </tr>\n",
       "    <tr>\n",
       "      <th>2007-01-11</th>\n",
       "      <td>2484.850098</td>\n",
       "      <td>2441.279204</td>\n",
       "      <td>2443.830078</td>\n",
       "    </tr>\n",
       "    <tr>\n",
       "      <th>2007-01-12</th>\n",
       "      <td>2502.820068</td>\n",
       "      <td>2441.662644</td>\n",
       "      <td>2459.330078</td>\n",
       "    </tr>\n",
       "    <tr>\n",
       "      <th>2007-01-16</th>\n",
       "      <td>2497.780029</td>\n",
       "      <td>2442.045911</td>\n",
       "      <td>2484.850098</td>\n",
       "    </tr>\n",
       "    <tr>\n",
       "      <th>2007-01-17</th>\n",
       "      <td>2479.419922</td>\n",
       "      <td>2442.429137</td>\n",
       "      <td>2484.850098</td>\n",
       "    </tr>\n",
       "  </tbody>\n",
       "</table>\n",
       "</div>"
      ],
      "text/plain": [
       "                  close  close_filtered  median_filtered\n",
       "Date                                                    \n",
       "2007-01-03  2423.159912     2438.967378              NaN\n",
       "2007-01-04  2453.429932     2439.354293              NaN\n",
       "2007-01-05  2434.250000     2439.740575              NaN\n",
       "2007-01-08  2438.199951     2440.126123              NaN\n",
       "2007-01-09  2443.830078     2440.511070      2438.199951\n",
       "2007-01-10  2459.330078     2440.895398      2443.830078\n",
       "2007-01-11  2484.850098     2441.279204      2443.830078\n",
       "2007-01-12  2502.820068     2441.662644      2459.330078\n",
       "2007-01-16  2497.780029     2442.045911      2484.850098\n",
       "2007-01-17  2479.419922     2442.429137      2484.850098"
      ]
     },
     "execution_count": 178,
     "metadata": {},
     "output_type": "execute_result"
    }
   ],
   "source": [
    "df_nasdaq['median_filtered'] = df_nasdaq['close'].rolling(5).median()\n",
    "df_nasdaq.head(10)"
   ]
  },
  {
   "cell_type": "markdown",
   "metadata": {},
   "source": [
    "In every row of the resulting series, you get the median of the values in the window. Standardly, the right boundary of the window coincides with the current row. So if you have a window size of `k`, the result in the `n`th row is the median of the rows `n-k+1, n-k+2` up to `n`. Because for small `n` not all of these rows exist, you typically get `NaN` values in some of the first rows."
   ]
  },
  {
   "cell_type": "markdown",
   "metadata": {},
   "source": [
    "Let us plot the filtered data together with the original prices in one figure."
   ]
  },
  {
   "cell_type": "code",
   "execution_count": 179,
   "metadata": {},
   "outputs": [
    {
     "data": {
      "image/png": "[encoded data removed]",
      "text/plain": [
       "<matplotlib.figure.Figure at 0x15678227358>"
      ]
     },
     "metadata": {},
     "output_type": "display_data"
    }
   ],
   "source": [
    "ax_nasdaq = df_nasdaq['close'].plot(color='orange')\n",
    "df_nasdaq['median_filtered'].plot(ax=ax_nasdaq, color='black');\n",
    "ax_nasdaq.set_title('Closing NASDAQ Composite index',fontsize=16);\n",
    "ax_nasdaq.set_ylabel('Index');"
   ]
  },
  {
   "cell_type": "markdown",
   "metadata": {},
   "source": [
    "## Filtering mouse trajectories\n",
    "\n",
    "Now we will apply the filtering to recorded mouse trajectories.\n",
    "\n",
    "First, record some mouse trajectories: When you execute the following code cell the application will start in a new window. (Note: it may be minimized, in which case you may need to find it in the task bar). Next, draw some trajectories to work with. When you close the window, the trajectories to use will be stored in the dataframe `df_paths`.\n",
    "\n",
    "> **Important:** Record at least one trajectory each time you start working on the exercises below, or when you have clicked `Restart & Run All`.\n",
    "\n",
    "> **Hint:** It is easier to understand the next exercises if you **make a drawing, such as a triangle or a square**, instead of drawing straight lines."
   ]
  },
  {
   "cell_type": "code",
   "execution_count": 180,
   "metadata": {
    "collapsed": true
   },
   "outputs": [],
   "source": [
    "experiment     = MouseExperiment()\n",
    "_, df_paths, _ = experiment.start()"
   ]
  },
  {
   "cell_type": "markdown",
   "metadata": {},
   "source": [
    "We print below the first five rows of `df_paths`."
   ]
  },
  {
   "cell_type": "code",
   "execution_count": 181,
   "metadata": {},
   "outputs": [
    {
     "data": {
      "text/html": [
       "<div>\n",
       "<style>\n",
       "    .dataframe thead tr:only-child th {\n",
       "        text-align: right;\n",
       "    }\n",
       "\n",
       "    .dataframe thead th {\n",
       "        text-align: left;\n",
       "    }\n",
       "\n",
       "    .dataframe tbody tr th {\n",
       "        vertical-align: top;\n",
       "    }\n",
       "</style>\n",
       "<table border=\"1\" class=\"dataframe\">\n",
       "  <thead>\n",
       "    <tr style=\"text-align: right;\">\n",
       "      <th></th>\n",
       "      <th>t</th>\n",
       "      <th>trial</th>\n",
       "      <th>x</th>\n",
       "      <th>y</th>\n",
       "    </tr>\n",
       "  </thead>\n",
       "  <tbody>\n",
       "    <tr>\n",
       "      <th>0</th>\n",
       "      <td>0.000</td>\n",
       "      <td>67</td>\n",
       "      <td>-1.000000</td>\n",
       "      <td>-2.000000</td>\n",
       "    </tr>\n",
       "    <tr>\n",
       "      <th>1</th>\n",
       "      <td>0.001</td>\n",
       "      <td>67</td>\n",
       "      <td>-0.998431</td>\n",
       "      <td>-1.997646</td>\n",
       "    </tr>\n",
       "    <tr>\n",
       "      <th>2</th>\n",
       "      <td>0.002</td>\n",
       "      <td>67</td>\n",
       "      <td>-0.996862</td>\n",
       "      <td>-1.995293</td>\n",
       "    </tr>\n",
       "    <tr>\n",
       "      <th>3</th>\n",
       "      <td>0.003</td>\n",
       "      <td>67</td>\n",
       "      <td>-0.995293</td>\n",
       "      <td>-1.992939</td>\n",
       "    </tr>\n",
       "    <tr>\n",
       "      <th>4</th>\n",
       "      <td>0.004</td>\n",
       "      <td>67</td>\n",
       "      <td>-0.993724</td>\n",
       "      <td>-1.990585</td>\n",
       "    </tr>\n",
       "  </tbody>\n",
       "</table>\n",
       "</div>"
      ],
      "text/plain": [
       "       t  trial         x         y\n",
       "0  0.000     67 -1.000000 -2.000000\n",
       "1  0.001     67 -0.998431 -1.997646\n",
       "2  0.002     67 -0.996862 -1.995293\n",
       "3  0.003     67 -0.995293 -1.992939\n",
       "4  0.004     67 -0.993724 -1.990585"
      ]
     },
     "execution_count": 181,
     "metadata": {},
     "output_type": "execute_result"
    }
   ],
   "source": [
    "df_paths.head()"
   ]
  },
  {
   "cell_type": "markdown",
   "metadata": {},
   "source": [
    "The meaning of the different columns is as follows:\n",
    "* The **`'trial'`** column contains a unique number per trajectory\n",
    "* The **`'t'`** column contains contains the time since the start of the trial in ms\n",
    "* The **`'x'`** column contains the $x$-coordinate of the path in pixels\n",
    "* The **`'y'`** column contains the $y$-coordinate of the path in pixels\n",
    "\n",
    "<blockquote>\n",
    "<div class=\"alert-danger alert\">\n",
    "    <b>IMPORTANT:</b> The code you write in the exercises below will be tested on different test trajectories. Therefore, make sure your code works also when you record _new_ trajectories. <b>Test this a few times.</b>\n",
    "</div>\n",
    "</blockquote>"
   ]
  },
  {
   "attachments": {
    "example-trajectories.png": {
     "image/png": "[encoded data removed]"
    }
   },
   "cell_type": "markdown",
   "metadata": {},
   "source": [
    "### Exercise <span class=\"exercise\">1.a</span>: Visualize the paths\n",
    "\n",
    "Plot the paths obtained from the experiment, i.e. those stored in `df_paths`, in one figure, with both axes ranging from -300 to 300. Recall that different paths have a different `'trial'` number.\n",
    "\n",
    "Here is an example of a possible result for two mouse trajectories:\n",
    "\n",
    "![example-trajectories.png](attachment:example-trajectories.png)\n",
    "\n",
    "> **Hint:** You can plot two columns labeled `'col_1'` and `'col_2'` from a dataframe or a groupby object against each other by providing the arguments `x='col_1`' and `y='col_2'` to the plot function"
   ]
  },
  {
   "cell_type": "code",
   "execution_count": 182,
   "metadata": {},
   "outputs": [
    {
     "data": {
      "image/png": "[encoded data removed]",
      "text/plain": [
       "<matplotlib.figure.Figure at 0x15676964cf8>"
      ]
     },
     "metadata": {},
     "output_type": "display_data"
    }
   ],
   "source": [
    "#// BEGIN_TODO [DAS_1a] Visualize the paths (1 point)\n",
    "\n",
    "# df_paths\n",
    "# ax_nasdaq = df_nasdaq['close'].plot(color='orange')\n",
    "# df_nasdaq['close_filtered'].plot(ax = ax_nasdaq, color='black');\n",
    "# ax_nasdaq.set_title('Closing NASDAQ Composite index',fontsize=16);\n",
    "# ax_nasdaq.set_ylabel('Index')\n",
    "\n",
    "ax_paths = df_paths.plot(x='x', y='y')\n",
    "ax_paths.set_xlim(-300,300)\n",
    "ax_paths.set_ylim(-300,300)\n",
    "ax_paths.set_title('Mouse trajectories')\n",
    "ax_paths.set_ylabel('y (in pixels)')\n",
    "ax_paths.set_xlabel('x (in pixels)');\n",
    "\n",
    "#// END_TODO [DAS_1a]"
   ]
  },
  {
   "cell_type": "markdown",
   "metadata": {},
   "source": [
    "### Exercise <span class=\"exercise\">1.b</span>: Select data\n",
    "\n",
    "Select the data from the last recorded trajectory using a boolean mask, and store it in a dataframe named `df_last_path`. Then plot the path. Set the limits of both axes from -300 to 300."
   ]
  },
  {
   "cell_type": "code",
   "execution_count": 183,
   "metadata": {},
   "outputs": [
    {
     "data": {
      "text/html": [
       "<div>\n",
       "<style>\n",
       "    .dataframe thead tr:only-child th {\n",
       "        text-align: right;\n",
       "    }\n",
       "\n",
       "    .dataframe thead th {\n",
       "        text-align: left;\n",
       "    }\n",
       "\n",
       "    .dataframe tbody tr th {\n",
       "        vertical-align: top;\n",
       "    }\n",
       "</style>\n",
       "<table border=\"1\" class=\"dataframe\">\n",
       "  <thead>\n",
       "    <tr style=\"text-align: right;\">\n",
       "      <th></th>\n",
       "      <th>t</th>\n",
       "      <th>trial</th>\n",
       "      <th>x</th>\n",
       "      <th>y</th>\n",
       "    </tr>\n",
       "  </thead>\n",
       "  <tbody>\n",
       "    <tr>\n",
       "      <th>0</th>\n",
       "      <td>0.000</td>\n",
       "      <td>68</td>\n",
       "      <td>2.000000</td>\n",
       "      <td>-3.0</td>\n",
       "    </tr>\n",
       "    <tr>\n",
       "      <th>1</th>\n",
       "      <td>0.001</td>\n",
       "      <td>68</td>\n",
       "      <td>1.996416</td>\n",
       "      <td>-3.0</td>\n",
       "    </tr>\n",
       "    <tr>\n",
       "      <th>2</th>\n",
       "      <td>0.002</td>\n",
       "      <td>68</td>\n",
       "      <td>1.992832</td>\n",
       "      <td>-3.0</td>\n",
       "    </tr>\n",
       "    <tr>\n",
       "      <th>3</th>\n",
       "      <td>0.003</td>\n",
       "      <td>68</td>\n",
       "      <td>1.989249</td>\n",
       "      <td>-3.0</td>\n",
       "    </tr>\n",
       "    <tr>\n",
       "      <th>4</th>\n",
       "      <td>0.004</td>\n",
       "      <td>68</td>\n",
       "      <td>1.985665</td>\n",
       "      <td>-3.0</td>\n",
       "    </tr>\n",
       "  </tbody>\n",
       "</table>\n",
       "</div>"
      ],
      "text/plain": [
       "       t  trial         x    y\n",
       "0  0.000     68  2.000000 -3.0\n",
       "1  0.001     68  1.996416 -3.0\n",
       "2  0.002     68  1.992832 -3.0\n",
       "3  0.003     68  1.989249 -3.0\n",
       "4  0.004     68  1.985665 -3.0"
      ]
     },
     "execution_count": 183,
     "metadata": {},
     "output_type": "execute_result"
    },
    {
     "data": {
      "image/png": "[encoded data removed]",
      "text/plain": [
       "<matplotlib.figure.Figure at 0x156017d5b00>"
      ]
     },
     "metadata": {},
     "output_type": "display_data"
    }
   ],
   "source": [
    "#// BEGIN_TODO [DAS_1b] Select data (1 point)\n",
    "\n",
    "last_trial = df_paths['trial'].max()\n",
    "booltemp = df_paths['trial']==last_trial;\n",
    "df_last_path = df_paths[booltemp]\n",
    "\n",
    "ax_pathss = df_last_path.plot(x='x', y='y')\n",
    "ax_pathss.set_xlim(-300,300)\n",
    "ax_pathss.set_ylim(-300,300)\n",
    "ax_pathss.set_title('Mouse trajectories')\n",
    "ax_pathss.set_ylabel('y (in pixels)')\n",
    "ax_pathss.set_xlabel('x (in pixels)');\n",
    "\n",
    "#// END_TODO [DAS_1b]\n",
    "\n",
    "df_last_path.head()"
   ]
  },
  {
   "cell_type": "markdown",
   "metadata": {},
   "source": [
    "> **Hint:** After doing this exercise, go back and record some new mouse trajectories. Then, execute the code that you wrote for the previous exercises again, **without modifying it first**. It should again select the path that you drew last."
   ]
  },
  {
   "cell_type": "markdown",
   "metadata": {},
   "source": [
    "### Exercise <span class=\"exercise\">1.c</span>: Gaussian filter\n",
    "\n",
    "Use a Gaussian filter with standard deviation of $25$ ms, to approximate the $x$- and $y$- coordinates of the trajectory in `df_last_path`. Store the $x$- and $y$-coordinates of the regularized path in columns labeled `'filt_x'` and `'filt_y'` respectively. Then use a Gaussian filter with standard deviation of $200$ ms, and store the regularized path in columns labeled `'filt_x_coarse'` and `'filt_y_coarse'`.\n",
    "Finally, plot the original and the two regularized paths in one figure, with both axes ranging from -300 to 300."
   ]
  },
  {
   "cell_type": "code",
   "execution_count": 184,
   "metadata": {},
   "outputs": [
    {
     "name": "stderr",
     "output_type": "stream",
     "text": [
      "C:\\ProgramData\\Anaconda3\\lib\\site-packages\\ipykernel_launcher.py:5: SettingWithCopyWarning: \n",
      "A value is trying to be set on a copy of a slice from a DataFrame.\n",
      "Try using .loc[row_indexer,col_indexer] = value instead\n",
      "\n",
      "See the caveats in the documentation: http://pandas.pydata.org/pandas-docs/stable/indexing.html#indexing-view-versus-copy\n",
      "  \"\"\"\n",
      "C:\\ProgramData\\Anaconda3\\lib\\site-packages\\ipykernel_launcher.py:6: SettingWithCopyWarning: \n",
      "A value is trying to be set on a copy of a slice from a DataFrame.\n",
      "Try using .loc[row_indexer,col_indexer] = value instead\n",
      "\n",
      "See the caveats in the documentation: http://pandas.pydata.org/pandas-docs/stable/indexing.html#indexing-view-versus-copy\n",
      "  \n",
      "C:\\ProgramData\\Anaconda3\\lib\\site-packages\\ipykernel_launcher.py:7: SettingWithCopyWarning: \n",
      "A value is trying to be set on a copy of a slice from a DataFrame.\n",
      "Try using .loc[row_indexer,col_indexer] = value instead\n",
      "\n",
      "See the caveats in the documentation: http://pandas.pydata.org/pandas-docs/stable/indexing.html#indexing-view-versus-copy\n",
      "  import sys\n",
      "C:\\ProgramData\\Anaconda3\\lib\\site-packages\\ipykernel_launcher.py:8: SettingWithCopyWarning: \n",
      "A value is trying to be set on a copy of a slice from a DataFrame.\n",
      "Try using .loc[row_indexer,col_indexer] = value instead\n",
      "\n",
      "See the caveats in the documentation: http://pandas.pydata.org/pandas-docs/stable/indexing.html#indexing-view-versus-copy\n",
      "  \n"
     ]
    },
    {
     "data": {
      "image/png": "[encoded data removed]",
      "text/plain": [
       "<matplotlib.figure.Figure at 0x156787d5860>"
      ]
     },
     "metadata": {},
     "output_type": "display_data"
    }
   ],
   "source": [
    "#// BEGIN_TODO [DAS_1c] Gaussian filter (1 point)\n",
    "\n",
    "#df_nasdaq['close_filtered'] = gaussian_filter1d(df_nasdaq['close'], sigma=30, mode='nearest')\n",
    "\n",
    "df_last_path['filt_x'] = gaussian_filter1d(df_last_path['x'], sigma=0.025, mode='nearest')\n",
    "df_last_path['filt_y'] = gaussian_filter1d(df_last_path['y'], sigma=0.025, mode='nearest')\n",
    "df_last_path['filt_x_coarse'] = gaussian_filter1d(df_last_path['x'], sigma=0.2, mode='nearest')\n",
    "df_last_path['filt_y_coarse'] = gaussian_filter1d(df_last_path['y'], sigma=0.2, mode='nearest')\n",
    "\n",
    "# ax_nasdaq = df_nasdaq['close'].plot(color='orange')\n",
    "# df_nasdaq['median_filtered'].plot(ax=ax_nasdaq, color='black');\n",
    "# ax_nasdaq.set_title('Closing NASDAQ Composite index',fontsize=16);\n",
    "# ax_nasdaq.set_ylabel('Index');\n",
    "\n",
    "ax_pathsss = df_last_path.plot(x='x', y='y')\n",
    "df_last_path.plot(ax=ax_pathsss, x='filt_x', y='filt_y', color='black')\n",
    "df_last_path.plot(ax=ax_pathsss, x='filt_x_coarse', y='filt_y_coarse', color='orange')\n",
    "ax_pathsss.set_xlim(-300,300)\n",
    "ax_pathsss.set_ylim(-300,300)\n",
    "ax_pathsss.set_title('Mouse trajectories')\n",
    "ax_pathsss.set_ylabel('y (in pixels)')\n",
    "ax_pathsss.set_xlabel('x (in pixels)');\n",
    "\n",
    "#// END_TODO [DAS_1c]"
   ]
  },
  {
   "cell_type": "markdown",
   "metadata": {},
   "source": [
    "Which filtered trajectory approximates the original curve best?"
   ]
  },
  {
   "cell_type": "markdown",
   "metadata": {},
   "source": [
    "### Exercise <span class=\"exercise\">1.d</span>: Median filter\n",
    "\n",
    "Now use a median filter, with a window size of `25` to approximate the $x-$ and $y-$ coordinates of the paths. Add the median-filtered paths to the dataframe `df_last_path` as columns named `'med_filt_x'` and `'med_filt_y'`. Similarly, use a median filter with window size of `200` and add coordinates of the regularized path as columns `'med_filt_x_coarse'` and `'med_filt_y_coarse'`. \n",
    "\n",
    "The `NaN`s may hinder plotting, so create a new dataframe `df_last_path_dropna` which should be the dataframe `df_last_path` without the rows containing `NaN`s. Then plot the median-filtered paths in `df_last_path_dropna` in the same figure as the original path."
   ]
  },
  {
   "cell_type": "code",
   "execution_count": 185,
   "metadata": {},
   "outputs": [
    {
     "name": "stderr",
     "output_type": "stream",
     "text": [
      "C:\\ProgramData\\Anaconda3\\lib\\site-packages\\ipykernel_launcher.py:4: SettingWithCopyWarning: \n",
      "A value is trying to be set on a copy of a slice from a DataFrame.\n",
      "Try using .loc[row_indexer,col_indexer] = value instead\n",
      "\n",
      "See the caveats in the documentation: http://pandas.pydata.org/pandas-docs/stable/indexing.html#indexing-view-versus-copy\n",
      "  after removing the cwd from sys.path.\n",
      "C:\\ProgramData\\Anaconda3\\lib\\site-packages\\ipykernel_launcher.py:5: SettingWithCopyWarning: \n",
      "A value is trying to be set on a copy of a slice from a DataFrame.\n",
      "Try using .loc[row_indexer,col_indexer] = value instead\n",
      "\n",
      "See the caveats in the documentation: http://pandas.pydata.org/pandas-docs/stable/indexing.html#indexing-view-versus-copy\n",
      "  \"\"\"\n",
      "C:\\ProgramData\\Anaconda3\\lib\\site-packages\\ipykernel_launcher.py:6: SettingWithCopyWarning: \n",
      "A value is trying to be set on a copy of a slice from a DataFrame.\n",
      "Try using .loc[row_indexer,col_indexer] = value instead\n",
      "\n",
      "See the caveats in the documentation: http://pandas.pydata.org/pandas-docs/stable/indexing.html#indexing-view-versus-copy\n",
      "  \n",
      "C:\\ProgramData\\Anaconda3\\lib\\site-packages\\ipykernel_launcher.py:7: SettingWithCopyWarning: \n",
      "A value is trying to be set on a copy of a slice from a DataFrame.\n",
      "Try using .loc[row_indexer,col_indexer] = value instead\n",
      "\n",
      "See the caveats in the documentation: http://pandas.pydata.org/pandas-docs/stable/indexing.html#indexing-view-versus-copy\n",
      "  import sys\n"
     ]
    },
    {
     "data": {
      "image/png": "[encoded data removed]",
      "text/plain": [
       "<matplotlib.figure.Figure at 0x15676277828>"
      ]
     },
     "metadata": {},
     "output_type": "display_data"
    }
   ],
   "source": [
    "#// BEGIN_TODO [DAS_1d] Median filter (1 point)\n",
    "\n",
    "#df_nasdaq['median_filtered'] = df_nasdaq['close'].rolling(5).median()\n",
    "df_last_path['med_filt_x'] = df_last_path['x'].rolling(25).median()\n",
    "df_last_path['med_filt_y'] = df_last_path['y'].rolling(25).median()\n",
    "df_last_path['med_filt_x_coarse'] = df_last_path['x'].rolling(200).median()\n",
    "df_last_path['med_filt_y_coarse'] = df_last_path['y'].rolling(200).median()\n",
    "\n",
    "# #country_data[country_data['tld'].isnull()]\n",
    "# nans = df_last_path['med_filt_y_coarse'].isnull()\n",
    "# #country_data.drop(country_data[countries_in_EU].index)\n",
    "# df_last_path_dropna = df_last_path.drop(df_last_path[nans].index)\n",
    "\n",
    "df_last_path_dropna = df_last_path.dropna()\n",
    "\n",
    "ax_pathssss = df_last_path_dropna.plot(x='x', y='y')\n",
    "df_last_path_dropna.plot(ax=ax_pathssss, x='med_filt_x', y='med_filt_y', color='black')\n",
    "df_last_path_dropna.plot(ax=ax_pathssss, x='med_filt_x_coarse', y='med_filt_y_coarse', color='orange')\n",
    "ax_pathssss.set_xlim(-300,300)\n",
    "ax_pathssss.set_ylim(-300,300)\n",
    "ax_pathssss.set_title('Mouse trajectories')\n",
    "ax_pathssss.set_ylabel('y (in pixels)')\n",
    "ax_pathssss.set_xlabel('x (in pixels)');\n",
    "\n",
    "#// END_TODO [DAS_1d]"
   ]
  },
  {
   "cell_type": "markdown",
   "metadata": {},
   "source": [
    "What differences do you see with respect to the Gaussian-filtered trajectories? You can experiment by drawing different trajectories."
   ]
  },
  {
   "cell_type": "markdown",
   "metadata": {},
   "source": [
    "## Computing changes and finding maxima\n",
    "\n",
    "We will now introduce several new _Pandas_ functions. To illustrate their use, we consider the following example question:\n",
    "\n",
    "_At what day was the biggest drop in the NASDAQ index?_\n",
    "\n",
    "We approach this as follows. First, we calculate the differences between consecutive rows in a _Series_ with the _Pandas_ function **`diff()`**. We use it to add a new column, labeled `'close_diff'`, to the dataframe `df_nasdaq`."
   ]
  },
  {
   "cell_type": "code",
   "execution_count": 186,
   "metadata": {},
   "outputs": [
    {
     "data": {
      "text/html": [
       "<div>\n",
       "<style>\n",
       "    .dataframe thead tr:only-child th {\n",
       "        text-align: right;\n",
       "    }\n",
       "\n",
       "    .dataframe thead th {\n",
       "        text-align: left;\n",
       "    }\n",
       "\n",
       "    .dataframe tbody tr th {\n",
       "        vertical-align: top;\n",
       "    }\n",
       "</style>\n",
       "<table border=\"1\" class=\"dataframe\">\n",
       "  <thead>\n",
       "    <tr style=\"text-align: right;\">\n",
       "      <th></th>\n",
       "      <th>close</th>\n",
       "      <th>close_diff</th>\n",
       "    </tr>\n",
       "    <tr>\n",
       "      <th>Date</th>\n",
       "      <th></th>\n",
       "      <th></th>\n",
       "    </tr>\n",
       "  </thead>\n",
       "  <tbody>\n",
       "    <tr>\n",
       "      <th>2007-01-03</th>\n",
       "      <td>2423.159912</td>\n",
       "      <td>NaN</td>\n",
       "    </tr>\n",
       "    <tr>\n",
       "      <th>2007-01-04</th>\n",
       "      <td>2453.429932</td>\n",
       "      <td>30.270020</td>\n",
       "    </tr>\n",
       "    <tr>\n",
       "      <th>2007-01-05</th>\n",
       "      <td>2434.250000</td>\n",
       "      <td>-19.179932</td>\n",
       "    </tr>\n",
       "    <tr>\n",
       "      <th>2007-01-08</th>\n",
       "      <td>2438.199951</td>\n",
       "      <td>3.949951</td>\n",
       "    </tr>\n",
       "    <tr>\n",
       "      <th>2007-01-09</th>\n",
       "      <td>2443.830078</td>\n",
       "      <td>5.630127</td>\n",
       "    </tr>\n",
       "  </tbody>\n",
       "</table>\n",
       "</div>"
      ],
      "text/plain": [
       "                  close  close_diff\n",
       "Date                               \n",
       "2007-01-03  2423.159912         NaN\n",
       "2007-01-04  2453.429932   30.270020\n",
       "2007-01-05  2434.250000  -19.179932\n",
       "2007-01-08  2438.199951    3.949951\n",
       "2007-01-09  2443.830078    5.630127"
      ]
     },
     "execution_count": 186,
     "metadata": {},
     "output_type": "execute_result"
    }
   ],
   "source": [
    "df_nasdaq['close_diff'] = df_nasdaq['close'].diff()\n",
    "\n",
    "df_nasdaq[['close', 'close_diff']].head()"
   ]
  },
  {
   "cell_type": "markdown",
   "metadata": {},
   "source": [
    "For all rows, except the first, you can see that the value in the `'close_diff'` column is exactly the value in the `'close'` column in the same row, minus the value in the `'close'` column in the previous row. In the first row, you see a `NaN`, because _Pandas_ cannot calculate the difference between the first row and the row before that, because the latter does not exist.\n",
    "\n",
    "Next, we want to know at which date the drop of the index was the largest. In other words, we are interested for which `'Date'`, the change in closing value was the smallest (i.e. the most negative). We can find this out with the Pandas function **`idxmin()`**."
   ]
  },
  {
   "cell_type": "code",
   "execution_count": 187,
   "metadata": {},
   "outputs": [
    {
     "data": {
      "text/plain": [
       "Timestamp('2016-06-24 00:00:00')"
      ]
     },
     "execution_count": 187,
     "metadata": {},
     "output_type": "execute_result"
    }
   ],
   "source": [
    "date_min = df_nasdaq['close_diff'].idxmin()\n",
    "date_min"
   ]
  },
  {
   "cell_type": "markdown",
   "metadata": {},
   "source": [
    "Apparently, the value drop was the largest on the 24th of June in 2016. \n",
    "\n",
    "The output is in an unusual format. We will revisit dates and times in Python later. For now, let us see what the drop in index actually was."
   ]
  },
  {
   "cell_type": "code",
   "execution_count": 188,
   "metadata": {},
   "outputs": [
    {
     "data": {
      "text/plain": [
       "-202.06005900000036"
      ]
     },
     "execution_count": 188,
     "metadata": {},
     "output_type": "execute_result"
    }
   ],
   "source": [
    "df_nasdaq.loc[date_min, 'close_diff']"
   ]
  },
  {
   "cell_type": "markdown",
   "metadata": {},
   "source": [
    "Similarly, we can find out the date with the largest increase of the NASDAQ index by using the Pandas function **`idxmax()`**."
   ]
  },
  {
   "cell_type": "code",
   "execution_count": 189,
   "metadata": {},
   "outputs": [
    {
     "data": {
      "text/plain": [
       "Timestamp('2008-10-13 00:00:00')"
      ]
     },
     "execution_count": 189,
     "metadata": {},
     "output_type": "execute_result"
    }
   ],
   "source": [
    "date_max = df_nasdaq['close_diff'].idxmax()\n",
    "date_max"
   ]
  },
  {
   "cell_type": "markdown",
   "metadata": {},
   "source": [
    "The increase in closing index was"
   ]
  },
  {
   "cell_type": "code",
   "execution_count": 190,
   "metadata": {},
   "outputs": [
    {
     "data": {
      "text/plain": [
       "194.73999000000003"
      ]
     },
     "execution_count": 190,
     "metadata": {},
     "output_type": "execute_result"
    }
   ],
   "source": [
    "df_nasdaq.loc[date_max,'close_diff']"
   ]
  },
  {
   "cell_type": "markdown",
   "metadata": {},
   "source": [
    "If we sum all the differences up to a particular row, and add it to the initial value, we should get back the difference between the value in that row and the value in the initial row. We can compute such a _cumulative sum_ with the _Pandas_ function **`cumsum()`**. We add the column with cumulative sums to the dataframe as a new column labeled `'close_diff_cumulative'`. We also add a column labeled `'change_since_beginning'` in which we directly calculate the difference between the current value and the first value. The last two columns should then have the same values."
   ]
  },
  {
   "cell_type": "code",
   "execution_count": 191,
   "metadata": {},
   "outputs": [
    {
     "data": {
      "text/html": [
       "<div>\n",
       "<style>\n",
       "    .dataframe thead tr:only-child th {\n",
       "        text-align: right;\n",
       "    }\n",
       "\n",
       "    .dataframe thead th {\n",
       "        text-align: left;\n",
       "    }\n",
       "\n",
       "    .dataframe tbody tr th {\n",
       "        vertical-align: top;\n",
       "    }\n",
       "</style>\n",
       "<table border=\"1\" class=\"dataframe\">\n",
       "  <thead>\n",
       "    <tr style=\"text-align: right;\">\n",
       "      <th></th>\n",
       "      <th>close</th>\n",
       "      <th>close_diff</th>\n",
       "      <th>close_diff_cumulative</th>\n",
       "      <th>change_since_beginning</th>\n",
       "    </tr>\n",
       "    <tr>\n",
       "      <th>Date</th>\n",
       "      <th></th>\n",
       "      <th></th>\n",
       "      <th></th>\n",
       "      <th></th>\n",
       "    </tr>\n",
       "  </thead>\n",
       "  <tbody>\n",
       "    <tr>\n",
       "      <th>2007-01-03</th>\n",
       "      <td>2423.159912</td>\n",
       "      <td>NaN</td>\n",
       "      <td>NaN</td>\n",
       "      <td>0.000000</td>\n",
       "    </tr>\n",
       "    <tr>\n",
       "      <th>2007-01-04</th>\n",
       "      <td>2453.429932</td>\n",
       "      <td>30.270020</td>\n",
       "      <td>30.270020</td>\n",
       "      <td>30.270020</td>\n",
       "    </tr>\n",
       "    <tr>\n",
       "      <th>2007-01-05</th>\n",
       "      <td>2434.250000</td>\n",
       "      <td>-19.179932</td>\n",
       "      <td>11.090088</td>\n",
       "      <td>11.090088</td>\n",
       "    </tr>\n",
       "    <tr>\n",
       "      <th>2007-01-08</th>\n",
       "      <td>2438.199951</td>\n",
       "      <td>3.949951</td>\n",
       "      <td>15.040039</td>\n",
       "      <td>15.040039</td>\n",
       "    </tr>\n",
       "    <tr>\n",
       "      <th>2007-01-09</th>\n",
       "      <td>2443.830078</td>\n",
       "      <td>5.630127</td>\n",
       "      <td>20.670166</td>\n",
       "      <td>20.670166</td>\n",
       "    </tr>\n",
       "  </tbody>\n",
       "</table>\n",
       "</div>"
      ],
      "text/plain": [
       "                  close  close_diff  close_diff_cumulative  \\\n",
       "Date                                                         \n",
       "2007-01-03  2423.159912         NaN                    NaN   \n",
       "2007-01-04  2453.429932   30.270020              30.270020   \n",
       "2007-01-05  2434.250000  -19.179932              11.090088   \n",
       "2007-01-08  2438.199951    3.949951              15.040039   \n",
       "2007-01-09  2443.830078    5.630127              20.670166   \n",
       "\n",
       "            change_since_beginning  \n",
       "Date                                \n",
       "2007-01-03                0.000000  \n",
       "2007-01-04               30.270020  \n",
       "2007-01-05               11.090088  \n",
       "2007-01-08               15.040039  \n",
       "2007-01-09               20.670166  "
      ]
     },
     "execution_count": 191,
     "metadata": {},
     "output_type": "execute_result"
    }
   ],
   "source": [
    "df_nasdaq['close_diff_cumulative'] = df_nasdaq['close_diff'].cumsum()\n",
    "df_nasdaq['change_since_beginning'] = df_nasdaq['close'] - df_nasdaq['close'].iloc[0]\n",
    "df_nasdaq[['close','close_diff','close_diff_cumulative','change_since_beginning']].head()"
   ]
  },
  {
   "cell_type": "markdown",
   "metadata": {},
   "source": [
    "The values in the last two columns indeed coincide (except for the first row due to the `NaN`s)."
   ]
  },
  {
   "cell_type": "markdown",
   "metadata": {},
   "source": [
    "To get an impression of how volatile the NASDAQ index is, we may also be interested in the total absolute change up to a particular date. To get the absolute change from `'close_diff'` we could use the _Pandas_ function `abs()`, however, for the exercises later it is helpful if we show an alternative way."
   ]
  },
  {
   "cell_type": "code",
   "execution_count": 192,
   "metadata": {},
   "outputs": [
    {
     "data": {
      "text/html": [
       "<div>\n",
       "<style>\n",
       "    .dataframe thead tr:only-child th {\n",
       "        text-align: right;\n",
       "    }\n",
       "\n",
       "    .dataframe thead th {\n",
       "        text-align: left;\n",
       "    }\n",
       "\n",
       "    .dataframe tbody tr th {\n",
       "        vertical-align: top;\n",
       "    }\n",
       "</style>\n",
       "<table border=\"1\" class=\"dataframe\">\n",
       "  <thead>\n",
       "    <tr style=\"text-align: right;\">\n",
       "      <th></th>\n",
       "      <th>close</th>\n",
       "      <th>close_diff</th>\n",
       "      <th>abs_change</th>\n",
       "      <th>total_abs_change</th>\n",
       "    </tr>\n",
       "    <tr>\n",
       "      <th>Date</th>\n",
       "      <th></th>\n",
       "      <th></th>\n",
       "      <th></th>\n",
       "      <th></th>\n",
       "    </tr>\n",
       "  </thead>\n",
       "  <tbody>\n",
       "    <tr>\n",
       "      <th>2017-12-22</th>\n",
       "      <td>6959.959961</td>\n",
       "      <td>-5.399902</td>\n",
       "      <td>5.399902</td>\n",
       "      <td>76266.365519</td>\n",
       "    </tr>\n",
       "    <tr>\n",
       "      <th>2017-12-26</th>\n",
       "      <td>6936.250000</td>\n",
       "      <td>-23.709961</td>\n",
       "      <td>23.709961</td>\n",
       "      <td>76290.075480</td>\n",
       "    </tr>\n",
       "    <tr>\n",
       "      <th>2017-12-27</th>\n",
       "      <td>6939.339844</td>\n",
       "      <td>3.089844</td>\n",
       "      <td>3.089844</td>\n",
       "      <td>76293.165324</td>\n",
       "    </tr>\n",
       "    <tr>\n",
       "      <th>2017-12-28</th>\n",
       "      <td>6950.160156</td>\n",
       "      <td>10.820312</td>\n",
       "      <td>10.820312</td>\n",
       "      <td>76303.985636</td>\n",
       "    </tr>\n",
       "    <tr>\n",
       "      <th>2017-12-29</th>\n",
       "      <td>6903.390137</td>\n",
       "      <td>-46.770019</td>\n",
       "      <td>46.770019</td>\n",
       "      <td>76350.755655</td>\n",
       "    </tr>\n",
       "  </tbody>\n",
       "</table>\n",
       "</div>"
      ],
      "text/plain": [
       "                  close  close_diff  abs_change  total_abs_change\n",
       "Date                                                             \n",
       "2017-12-22  6959.959961   -5.399902    5.399902      76266.365519\n",
       "2017-12-26  6936.250000  -23.709961   23.709961      76290.075480\n",
       "2017-12-27  6939.339844    3.089844    3.089844      76293.165324\n",
       "2017-12-28  6950.160156   10.820312   10.820312      76303.985636\n",
       "2017-12-29  6903.390137  -46.770019   46.770019      76350.755655"
      ]
     },
     "execution_count": 192,
     "metadata": {},
     "output_type": "execute_result"
    }
   ],
   "source": [
    "df_nasdaq['abs_change'] = (df_nasdaq['close_diff']**2)**(1/2)\n",
    "df_nasdaq['total_abs_change'] = df_nasdaq['abs_change'].cumsum()\n",
    "df_nasdaq[['close','close_diff','abs_change','total_abs_change']].tail()"
   ]
  },
  {
   "cell_type": "markdown",
   "metadata": {},
   "source": [
    "### Exercise <span class=\"exercise\">1.e</span>: Lengths of line segments\n",
    "\n",
    "Add a new column to the dataframe `df_last_path`, with the label `'segment_length'`, containing in every row the length of the line segment between the $(x,y)$-coordinate of the current row and the previous row. In the first row, manually set the value of `'segment_length'` to `0`."
   ]
  },
  {
   "cell_type": "code",
   "execution_count": 193,
   "metadata": {},
   "outputs": [
    {
     "name": "stderr",
     "output_type": "stream",
     "text": [
      "C:\\ProgramData\\Anaconda3\\lib\\site-packages\\ipykernel_launcher.py:3: SettingWithCopyWarning: \n",
      "A value is trying to be set on a copy of a slice from a DataFrame.\n",
      "Try using .loc[row_indexer,col_indexer] = value instead\n",
      "\n",
      "See the caveats in the documentation: http://pandas.pydata.org/pandas-docs/stable/indexing.html#indexing-view-versus-copy\n",
      "  This is separate from the ipykernel package so we can avoid doing imports until\n",
      "C:\\ProgramData\\Anaconda3\\lib\\site-packages\\ipykernel_launcher.py:4: SettingWithCopyWarning: \n",
      "A value is trying to be set on a copy of a slice from a DataFrame\n",
      "\n",
      "See the caveats in the documentation: http://pandas.pydata.org/pandas-docs/stable/indexing.html#indexing-view-versus-copy\n",
      "  after removing the cwd from sys.path.\n",
      "C:\\ProgramData\\Anaconda3\\lib\\site-packages\\IPython\\core\\interactiveshell.py:2881: SettingWithCopyWarning: \n",
      "A value is trying to be set on a copy of a slice from a DataFrame\n",
      "\n",
      "See the caveats in the documentation: http://pandas.pydata.org/pandas-docs/stable/indexing.html#indexing-view-versus-copy\n",
      "  exec(code_obj, self.user_global_ns, self.user_ns)\n"
     ]
    },
    {
     "data": {
      "text/html": [
       "<div>\n",
       "<style>\n",
       "    .dataframe thead tr:only-child th {\n",
       "        text-align: right;\n",
       "    }\n",
       "\n",
       "    .dataframe thead th {\n",
       "        text-align: left;\n",
       "    }\n",
       "\n",
       "    .dataframe tbody tr th {\n",
       "        vertical-align: top;\n",
       "    }\n",
       "</style>\n",
       "<table border=\"1\" class=\"dataframe\">\n",
       "  <thead>\n",
       "    <tr style=\"text-align: right;\">\n",
       "      <th></th>\n",
       "      <th>t</th>\n",
       "      <th>trial</th>\n",
       "      <th>x</th>\n",
       "      <th>y</th>\n",
       "      <th>filt_x</th>\n",
       "      <th>filt_y</th>\n",
       "      <th>filt_x_coarse</th>\n",
       "      <th>filt_y_coarse</th>\n",
       "      <th>med_filt_x</th>\n",
       "      <th>med_filt_y</th>\n",
       "      <th>med_filt_x_coarse</th>\n",
       "      <th>med_filt_y_coarse</th>\n",
       "      <th>segment_length</th>\n",
       "    </tr>\n",
       "  </thead>\n",
       "  <tbody>\n",
       "    <tr>\n",
       "      <th>0</th>\n",
       "      <td>0.000</td>\n",
       "      <td>68</td>\n",
       "      <td>2.000000</td>\n",
       "      <td>-3.0</td>\n",
       "      <td>2.000000</td>\n",
       "      <td>-3.0</td>\n",
       "      <td>2.000000</td>\n",
       "      <td>-3.0</td>\n",
       "      <td>NaN</td>\n",
       "      <td>NaN</td>\n",
       "      <td>NaN</td>\n",
       "      <td>NaN</td>\n",
       "      <td>0.000000</td>\n",
       "    </tr>\n",
       "    <tr>\n",
       "      <th>1</th>\n",
       "      <td>0.001</td>\n",
       "      <td>68</td>\n",
       "      <td>1.996416</td>\n",
       "      <td>-3.0</td>\n",
       "      <td>1.996416</td>\n",
       "      <td>-3.0</td>\n",
       "      <td>1.996416</td>\n",
       "      <td>-3.0</td>\n",
       "      <td>NaN</td>\n",
       "      <td>NaN</td>\n",
       "      <td>NaN</td>\n",
       "      <td>NaN</td>\n",
       "      <td>0.003584</td>\n",
       "    </tr>\n",
       "    <tr>\n",
       "      <th>2</th>\n",
       "      <td>0.002</td>\n",
       "      <td>68</td>\n",
       "      <td>1.992832</td>\n",
       "      <td>-3.0</td>\n",
       "      <td>1.992832</td>\n",
       "      <td>-3.0</td>\n",
       "      <td>1.992832</td>\n",
       "      <td>-3.0</td>\n",
       "      <td>NaN</td>\n",
       "      <td>NaN</td>\n",
       "      <td>NaN</td>\n",
       "      <td>NaN</td>\n",
       "      <td>0.003584</td>\n",
       "    </tr>\n",
       "    <tr>\n",
       "      <th>3</th>\n",
       "      <td>0.003</td>\n",
       "      <td>68</td>\n",
       "      <td>1.989249</td>\n",
       "      <td>-3.0</td>\n",
       "      <td>1.989249</td>\n",
       "      <td>-3.0</td>\n",
       "      <td>1.989249</td>\n",
       "      <td>-3.0</td>\n",
       "      <td>NaN</td>\n",
       "      <td>NaN</td>\n",
       "      <td>NaN</td>\n",
       "      <td>NaN</td>\n",
       "      <td>0.003584</td>\n",
       "    </tr>\n",
       "    <tr>\n",
       "      <th>4</th>\n",
       "      <td>0.004</td>\n",
       "      <td>68</td>\n",
       "      <td>1.985665</td>\n",
       "      <td>-3.0</td>\n",
       "      <td>1.985665</td>\n",
       "      <td>-3.0</td>\n",
       "      <td>1.985665</td>\n",
       "      <td>-3.0</td>\n",
       "      <td>NaN</td>\n",
       "      <td>NaN</td>\n",
       "      <td>NaN</td>\n",
       "      <td>NaN</td>\n",
       "      <td>0.003584</td>\n",
       "    </tr>\n",
       "    <tr>\n",
       "      <th>5</th>\n",
       "      <td>0.005</td>\n",
       "      <td>68</td>\n",
       "      <td>1.982081</td>\n",
       "      <td>-3.0</td>\n",
       "      <td>1.982081</td>\n",
       "      <td>-3.0</td>\n",
       "      <td>1.982081</td>\n",
       "      <td>-3.0</td>\n",
       "      <td>NaN</td>\n",
       "      <td>NaN</td>\n",
       "      <td>NaN</td>\n",
       "      <td>NaN</td>\n",
       "      <td>0.003584</td>\n",
       "    </tr>\n",
       "    <tr>\n",
       "      <th>6</th>\n",
       "      <td>0.006</td>\n",
       "      <td>68</td>\n",
       "      <td>1.978497</td>\n",
       "      <td>-3.0</td>\n",
       "      <td>1.978497</td>\n",
       "      <td>-3.0</td>\n",
       "      <td>1.978497</td>\n",
       "      <td>-3.0</td>\n",
       "      <td>NaN</td>\n",
       "      <td>NaN</td>\n",
       "      <td>NaN</td>\n",
       "      <td>NaN</td>\n",
       "      <td>0.003584</td>\n",
       "    </tr>\n",
       "    <tr>\n",
       "      <th>7</th>\n",
       "      <td>0.007</td>\n",
       "      <td>68</td>\n",
       "      <td>1.974914</td>\n",
       "      <td>-3.0</td>\n",
       "      <td>1.974914</td>\n",
       "      <td>-3.0</td>\n",
       "      <td>1.974914</td>\n",
       "      <td>-3.0</td>\n",
       "      <td>NaN</td>\n",
       "      <td>NaN</td>\n",
       "      <td>NaN</td>\n",
       "      <td>NaN</td>\n",
       "      <td>0.003584</td>\n",
       "    </tr>\n",
       "    <tr>\n",
       "      <th>8</th>\n",
       "      <td>0.008</td>\n",
       "      <td>68</td>\n",
       "      <td>1.971330</td>\n",
       "      <td>-3.0</td>\n",
       "      <td>1.971330</td>\n",
       "      <td>-3.0</td>\n",
       "      <td>1.971330</td>\n",
       "      <td>-3.0</td>\n",
       "      <td>NaN</td>\n",
       "      <td>NaN</td>\n",
       "      <td>NaN</td>\n",
       "      <td>NaN</td>\n",
       "      <td>0.003584</td>\n",
       "    </tr>\n",
       "    <tr>\n",
       "      <th>9</th>\n",
       "      <td>0.009</td>\n",
       "      <td>68</td>\n",
       "      <td>1.967746</td>\n",
       "      <td>-3.0</td>\n",
       "      <td>1.967746</td>\n",
       "      <td>-3.0</td>\n",
       "      <td>1.967746</td>\n",
       "      <td>-3.0</td>\n",
       "      <td>NaN</td>\n",
       "      <td>NaN</td>\n",
       "      <td>NaN</td>\n",
       "      <td>NaN</td>\n",
       "      <td>0.003584</td>\n",
       "    </tr>\n",
       "    <tr>\n",
       "      <th>10</th>\n",
       "      <td>0.010</td>\n",
       "      <td>68</td>\n",
       "      <td>1.964162</td>\n",
       "      <td>-3.0</td>\n",
       "      <td>1.964162</td>\n",
       "      <td>-3.0</td>\n",
       "      <td>1.964162</td>\n",
       "      <td>-3.0</td>\n",
       "      <td>NaN</td>\n",
       "      <td>NaN</td>\n",
       "      <td>NaN</td>\n",
       "      <td>NaN</td>\n",
       "      <td>0.003584</td>\n",
       "    </tr>\n",
       "    <tr>\n",
       "      <th>11</th>\n",
       "      <td>0.011</td>\n",
       "      <td>68</td>\n",
       "      <td>1.960578</td>\n",
       "      <td>-3.0</td>\n",
       "      <td>1.960578</td>\n",
       "      <td>-3.0</td>\n",
       "      <td>1.960578</td>\n",
       "      <td>-3.0</td>\n",
       "      <td>NaN</td>\n",
       "      <td>NaN</td>\n",
       "      <td>NaN</td>\n",
       "      <td>NaN</td>\n",
       "      <td>0.003584</td>\n",
       "    </tr>\n",
       "    <tr>\n",
       "      <th>12</th>\n",
       "      <td>0.012</td>\n",
       "      <td>68</td>\n",
       "      <td>1.956995</td>\n",
       "      <td>-3.0</td>\n",
       "      <td>1.956995</td>\n",
       "      <td>-3.0</td>\n",
       "      <td>1.956995</td>\n",
       "      <td>-3.0</td>\n",
       "      <td>NaN</td>\n",
       "      <td>NaN</td>\n",
       "      <td>NaN</td>\n",
       "      <td>NaN</td>\n",
       "      <td>0.003584</td>\n",
       "    </tr>\n",
       "    <tr>\n",
       "      <th>13</th>\n",
       "      <td>0.013</td>\n",
       "      <td>68</td>\n",
       "      <td>1.953411</td>\n",
       "      <td>-3.0</td>\n",
       "      <td>1.953411</td>\n",
       "      <td>-3.0</td>\n",
       "      <td>1.953411</td>\n",
       "      <td>-3.0</td>\n",
       "      <td>NaN</td>\n",
       "      <td>NaN</td>\n",
       "      <td>NaN</td>\n",
       "      <td>NaN</td>\n",
       "      <td>0.003584</td>\n",
       "    </tr>\n",
       "    <tr>\n",
       "      <th>14</th>\n",
       "      <td>0.014</td>\n",
       "      <td>68</td>\n",
       "      <td>1.949827</td>\n",
       "      <td>-3.0</td>\n",
       "      <td>1.949827</td>\n",
       "      <td>-3.0</td>\n",
       "      <td>1.949827</td>\n",
       "      <td>-3.0</td>\n",
       "      <td>NaN</td>\n",
       "      <td>NaN</td>\n",
       "      <td>NaN</td>\n",
       "      <td>NaN</td>\n",
       "      <td>0.003584</td>\n",
       "    </tr>\n",
       "    <tr>\n",
       "      <th>15</th>\n",
       "      <td>0.015</td>\n",
       "      <td>68</td>\n",
       "      <td>1.946243</td>\n",
       "      <td>-3.0</td>\n",
       "      <td>1.946243</td>\n",
       "      <td>-3.0</td>\n",
       "      <td>1.946243</td>\n",
       "      <td>-3.0</td>\n",
       "      <td>NaN</td>\n",
       "      <td>NaN</td>\n",
       "      <td>NaN</td>\n",
       "      <td>NaN</td>\n",
       "      <td>0.003584</td>\n",
       "    </tr>\n",
       "    <tr>\n",
       "      <th>16</th>\n",
       "      <td>0.016</td>\n",
       "      <td>68</td>\n",
       "      <td>1.942659</td>\n",
       "      <td>-3.0</td>\n",
       "      <td>1.942659</td>\n",
       "      <td>-3.0</td>\n",
       "      <td>1.942659</td>\n",
       "      <td>-3.0</td>\n",
       "      <td>NaN</td>\n",
       "      <td>NaN</td>\n",
       "      <td>NaN</td>\n",
       "      <td>NaN</td>\n",
       "      <td>0.003584</td>\n",
       "    </tr>\n",
       "    <tr>\n",
       "      <th>17</th>\n",
       "      <td>0.017</td>\n",
       "      <td>68</td>\n",
       "      <td>1.939076</td>\n",
       "      <td>-3.0</td>\n",
       "      <td>1.939076</td>\n",
       "      <td>-3.0</td>\n",
       "      <td>1.939076</td>\n",
       "      <td>-3.0</td>\n",
       "      <td>NaN</td>\n",
       "      <td>NaN</td>\n",
       "      <td>NaN</td>\n",
       "      <td>NaN</td>\n",
       "      <td>0.003584</td>\n",
       "    </tr>\n",
       "    <tr>\n",
       "      <th>18</th>\n",
       "      <td>0.018</td>\n",
       "      <td>68</td>\n",
       "      <td>1.935492</td>\n",
       "      <td>-3.0</td>\n",
       "      <td>1.935492</td>\n",
       "      <td>-3.0</td>\n",
       "      <td>1.935492</td>\n",
       "      <td>-3.0</td>\n",
       "      <td>NaN</td>\n",
       "      <td>NaN</td>\n",
       "      <td>NaN</td>\n",
       "      <td>NaN</td>\n",
       "      <td>0.003584</td>\n",
       "    </tr>\n",
       "    <tr>\n",
       "      <th>19</th>\n",
       "      <td>0.019</td>\n",
       "      <td>68</td>\n",
       "      <td>1.931908</td>\n",
       "      <td>-3.0</td>\n",
       "      <td>1.931908</td>\n",
       "      <td>-3.0</td>\n",
       "      <td>1.931908</td>\n",
       "      <td>-3.0</td>\n",
       "      <td>NaN</td>\n",
       "      <td>NaN</td>\n",
       "      <td>NaN</td>\n",
       "      <td>NaN</td>\n",
       "      <td>0.003584</td>\n",
       "    </tr>\n",
       "  </tbody>\n",
       "</table>\n",
       "</div>"
      ],
      "text/plain": [
       "        t  trial         x    y    filt_x  filt_y  filt_x_coarse  \\\n",
       "0   0.000     68  2.000000 -3.0  2.000000    -3.0       2.000000   \n",
       "1   0.001     68  1.996416 -3.0  1.996416    -3.0       1.996416   \n",
       "2   0.002     68  1.992832 -3.0  1.992832    -3.0       1.992832   \n",
       "3   0.003     68  1.989249 -3.0  1.989249    -3.0       1.989249   \n",
       "4   0.004     68  1.985665 -3.0  1.985665    -3.0       1.985665   \n",
       "5   0.005     68  1.982081 -3.0  1.982081    -3.0       1.982081   \n",
       "6   0.006     68  1.978497 -3.0  1.978497    -3.0       1.978497   \n",
       "7   0.007     68  1.974914 -3.0  1.974914    -3.0       1.974914   \n",
       "8   0.008     68  1.971330 -3.0  1.971330    -3.0       1.971330   \n",
       "9   0.009     68  1.967746 -3.0  1.967746    -3.0       1.967746   \n",
       "10  0.010     68  1.964162 -3.0  1.964162    -3.0       1.964162   \n",
       "11  0.011     68  1.960578 -3.0  1.960578    -3.0       1.960578   \n",
       "12  0.012     68  1.956995 -3.0  1.956995    -3.0       1.956995   \n",
       "13  0.013     68  1.953411 -3.0  1.953411    -3.0       1.953411   \n",
       "14  0.014     68  1.949827 -3.0  1.949827    -3.0       1.949827   \n",
       "15  0.015     68  1.946243 -3.0  1.946243    -3.0       1.946243   \n",
       "16  0.016     68  1.942659 -3.0  1.942659    -3.0       1.942659   \n",
       "17  0.017     68  1.939076 -3.0  1.939076    -3.0       1.939076   \n",
       "18  0.018     68  1.935492 -3.0  1.935492    -3.0       1.935492   \n",
       "19  0.019     68  1.931908 -3.0  1.931908    -3.0       1.931908   \n",
       "\n",
       "    filt_y_coarse  med_filt_x  med_filt_y  med_filt_x_coarse  \\\n",
       "0            -3.0         NaN         NaN                NaN   \n",
       "1            -3.0         NaN         NaN                NaN   \n",
       "2            -3.0         NaN         NaN                NaN   \n",
       "3            -3.0         NaN         NaN                NaN   \n",
       "4            -3.0         NaN         NaN                NaN   \n",
       "5            -3.0         NaN         NaN                NaN   \n",
       "6            -3.0         NaN         NaN                NaN   \n",
       "7            -3.0         NaN         NaN                NaN   \n",
       "8            -3.0         NaN         NaN                NaN   \n",
       "9            -3.0         NaN         NaN                NaN   \n",
       "10           -3.0         NaN         NaN                NaN   \n",
       "11           -3.0         NaN         NaN                NaN   \n",
       "12           -3.0         NaN         NaN                NaN   \n",
       "13           -3.0         NaN         NaN                NaN   \n",
       "14           -3.0         NaN         NaN                NaN   \n",
       "15           -3.0         NaN         NaN                NaN   \n",
       "16           -3.0         NaN         NaN                NaN   \n",
       "17           -3.0         NaN         NaN                NaN   \n",
       "18           -3.0         NaN         NaN                NaN   \n",
       "19           -3.0         NaN         NaN                NaN   \n",
       "\n",
       "    med_filt_y_coarse  segment_length  \n",
       "0                 NaN        0.000000  \n",
       "1                 NaN        0.003584  \n",
       "2                 NaN        0.003584  \n",
       "3                 NaN        0.003584  \n",
       "4                 NaN        0.003584  \n",
       "5                 NaN        0.003584  \n",
       "6                 NaN        0.003584  \n",
       "7                 NaN        0.003584  \n",
       "8                 NaN        0.003584  \n",
       "9                 NaN        0.003584  \n",
       "10                NaN        0.003584  \n",
       "11                NaN        0.003584  \n",
       "12                NaN        0.003584  \n",
       "13                NaN        0.003584  \n",
       "14                NaN        0.003584  \n",
       "15                NaN        0.003584  \n",
       "16                NaN        0.003584  \n",
       "17                NaN        0.003584  \n",
       "18                NaN        0.003584  \n",
       "19                NaN        0.003584  "
      ]
     },
     "execution_count": 193,
     "metadata": {},
     "output_type": "execute_result"
    }
   ],
   "source": [
    "#// BEGIN_TODO [DAS_1e] Lengths of line segments (1 point)\n",
    "\n",
    "df_last_path['segment_length'] = ((df_last_path['x'].diff()**2) + (df_last_path['y'].diff()**2))**0.5\n",
    "df_last_path['segment_length'][0] = 0\n",
    "\n",
    "#// END_TODO [DAS_1e]\n",
    "\n",
    "df_last_path.head(20)"
   ]
  },
  {
   "cell_type": "markdown",
   "metadata": {},
   "source": [
    "### Exercise <span class=\"exercise\">1.f</span>: Compute path length\n",
    "\n",
    "Add a new column named `'path_length'` to `df_last_path`, containing in every row the cumulative sum of the line segments so far. "
   ]
  },
  {
   "cell_type": "code",
   "execution_count": 194,
   "metadata": {},
   "outputs": [
    {
     "name": "stderr",
     "output_type": "stream",
     "text": [
      "C:\\ProgramData\\Anaconda3\\lib\\site-packages\\ipykernel_launcher.py:9: SettingWithCopyWarning: \n",
      "A value is trying to be set on a copy of a slice from a DataFrame.\n",
      "Try using .loc[row_indexer,col_indexer] = value instead\n",
      "\n",
      "See the caveats in the documentation: http://pandas.pydata.org/pandas-docs/stable/indexing.html#indexing-view-versus-copy\n",
      "  if __name__ == '__main__':\n"
     ]
    },
    {
     "data": {
      "text/html": [
       "<div>\n",
       "<style>\n",
       "    .dataframe thead tr:only-child th {\n",
       "        text-align: right;\n",
       "    }\n",
       "\n",
       "    .dataframe thead th {\n",
       "        text-align: left;\n",
       "    }\n",
       "\n",
       "    .dataframe tbody tr th {\n",
       "        vertical-align: top;\n",
       "    }\n",
       "</style>\n",
       "<table border=\"1\" class=\"dataframe\">\n",
       "  <thead>\n",
       "    <tr style=\"text-align: right;\">\n",
       "      <th></th>\n",
       "      <th>t</th>\n",
       "      <th>trial</th>\n",
       "      <th>x</th>\n",
       "      <th>y</th>\n",
       "      <th>filt_x</th>\n",
       "      <th>filt_y</th>\n",
       "      <th>filt_x_coarse</th>\n",
       "      <th>filt_y_coarse</th>\n",
       "      <th>med_filt_x</th>\n",
       "      <th>med_filt_y</th>\n",
       "      <th>med_filt_x_coarse</th>\n",
       "      <th>med_filt_y_coarse</th>\n",
       "      <th>segment_length</th>\n",
       "      <th>path_length</th>\n",
       "    </tr>\n",
       "  </thead>\n",
       "  <tbody>\n",
       "    <tr>\n",
       "      <th>0</th>\n",
       "      <td>0.000</td>\n",
       "      <td>68</td>\n",
       "      <td>2.000000</td>\n",
       "      <td>-3.0</td>\n",
       "      <td>2.000000</td>\n",
       "      <td>-3.0</td>\n",
       "      <td>2.000000</td>\n",
       "      <td>-3.0</td>\n",
       "      <td>NaN</td>\n",
       "      <td>NaN</td>\n",
       "      <td>NaN</td>\n",
       "      <td>NaN</td>\n",
       "      <td>0.000000</td>\n",
       "      <td>0.000000</td>\n",
       "    </tr>\n",
       "    <tr>\n",
       "      <th>1</th>\n",
       "      <td>0.001</td>\n",
       "      <td>68</td>\n",
       "      <td>1.996416</td>\n",
       "      <td>-3.0</td>\n",
       "      <td>1.996416</td>\n",
       "      <td>-3.0</td>\n",
       "      <td>1.996416</td>\n",
       "      <td>-3.0</td>\n",
       "      <td>NaN</td>\n",
       "      <td>NaN</td>\n",
       "      <td>NaN</td>\n",
       "      <td>NaN</td>\n",
       "      <td>0.003584</td>\n",
       "      <td>0.003584</td>\n",
       "    </tr>\n",
       "    <tr>\n",
       "      <th>2</th>\n",
       "      <td>0.002</td>\n",
       "      <td>68</td>\n",
       "      <td>1.992832</td>\n",
       "      <td>-3.0</td>\n",
       "      <td>1.992832</td>\n",
       "      <td>-3.0</td>\n",
       "      <td>1.992832</td>\n",
       "      <td>-3.0</td>\n",
       "      <td>NaN</td>\n",
       "      <td>NaN</td>\n",
       "      <td>NaN</td>\n",
       "      <td>NaN</td>\n",
       "      <td>0.003584</td>\n",
       "      <td>0.007168</td>\n",
       "    </tr>\n",
       "    <tr>\n",
       "      <th>3</th>\n",
       "      <td>0.003</td>\n",
       "      <td>68</td>\n",
       "      <td>1.989249</td>\n",
       "      <td>-3.0</td>\n",
       "      <td>1.989249</td>\n",
       "      <td>-3.0</td>\n",
       "      <td>1.989249</td>\n",
       "      <td>-3.0</td>\n",
       "      <td>NaN</td>\n",
       "      <td>NaN</td>\n",
       "      <td>NaN</td>\n",
       "      <td>NaN</td>\n",
       "      <td>0.003584</td>\n",
       "      <td>0.010751</td>\n",
       "    </tr>\n",
       "    <tr>\n",
       "      <th>4</th>\n",
       "      <td>0.004</td>\n",
       "      <td>68</td>\n",
       "      <td>1.985665</td>\n",
       "      <td>-3.0</td>\n",
       "      <td>1.985665</td>\n",
       "      <td>-3.0</td>\n",
       "      <td>1.985665</td>\n",
       "      <td>-3.0</td>\n",
       "      <td>NaN</td>\n",
       "      <td>NaN</td>\n",
       "      <td>NaN</td>\n",
       "      <td>NaN</td>\n",
       "      <td>0.003584</td>\n",
       "      <td>0.014335</td>\n",
       "    </tr>\n",
       "  </tbody>\n",
       "</table>\n",
       "</div>"
      ],
      "text/plain": [
       "       t  trial         x    y    filt_x  filt_y  filt_x_coarse  \\\n",
       "0  0.000     68  2.000000 -3.0  2.000000    -3.0       2.000000   \n",
       "1  0.001     68  1.996416 -3.0  1.996416    -3.0       1.996416   \n",
       "2  0.002     68  1.992832 -3.0  1.992832    -3.0       1.992832   \n",
       "3  0.003     68  1.989249 -3.0  1.989249    -3.0       1.989249   \n",
       "4  0.004     68  1.985665 -3.0  1.985665    -3.0       1.985665   \n",
       "\n",
       "   filt_y_coarse  med_filt_x  med_filt_y  med_filt_x_coarse  \\\n",
       "0           -3.0         NaN         NaN                NaN   \n",
       "1           -3.0         NaN         NaN                NaN   \n",
       "2           -3.0         NaN         NaN                NaN   \n",
       "3           -3.0         NaN         NaN                NaN   \n",
       "4           -3.0         NaN         NaN                NaN   \n",
       "\n",
       "   med_filt_y_coarse  segment_length  path_length  \n",
       "0                NaN        0.000000     0.000000  \n",
       "1                NaN        0.003584     0.003584  \n",
       "2                NaN        0.003584     0.007168  \n",
       "3                NaN        0.003584     0.010751  \n",
       "4                NaN        0.003584     0.014335  "
      ]
     },
     "execution_count": 194,
     "metadata": {},
     "output_type": "execute_result"
    }
   ],
   "source": [
    "#// BEGIN_TODO [DAS_1f] Compute path length (1 point)\n",
    "\n",
    "\n",
    "# last_trial = df_paths['trial'].max()\n",
    "# booltemp = df_paths['trial']==last_trial;\n",
    "# df_last_path = df_paths[booltemp]\n",
    "\n",
    "\n",
    "df_last_path['path_length'] = df_last_path['segment_length'].cumsum()\n",
    "\n",
    "#// END_TODO [DAS_1f]\n",
    "\n",
    "df_last_path.head()"
   ]
  },
  {
   "cell_type": "markdown",
   "metadata": {},
   "source": [
    "The next step will be to estimate the speed of the trajectory at any given moment. For this, we need to know more about how to approximate derivatives."
   ]
  },
  {
   "cell_type": "markdown",
   "metadata": {},
   "source": [
    "## Approximating derivatives and finding trends\n",
    "\n",
    "Suppose now that we are interested in finding some trends in the stock data. For instance, we want to find periods in which the NASDAQ index was generally increasing and periods in which it was decreasing. We could try to plot the differences between consecutive days in closing prices, but this signal is so volatile that it is impossible to extract some useful information out of it:"
   ]
  },
  {
   "cell_type": "code",
   "execution_count": 195,
   "metadata": {},
   "outputs": [
    {
     "data": {
      "image/png": "[encoded data removed]",
      "text/plain": [
       "<matplotlib.figure.Figure at 0x1567936c2e8>"
      ]
     },
     "metadata": {},
     "output_type": "display_data"
    }
   ],
   "source": [
    "ax_marg = df_nasdaq['close_diff'].plot()\n",
    "ax_marg.set_ylabel('Index')\n",
    "ax_marg.set_title('Change in index between consecutive days');"
   ]
  },
  {
   "cell_type": "markdown",
   "metadata": {},
   "source": [
    "You can use filtering to find an averaged derivative of the signal over a certain time window. For this, we apply a higher-order Gaussian filter to the original time signal. We indicate that we want a first-order filter by specifying the keyword argument `order=1`. (In general, `order=n` gives an approximation of the `n`th derivatives. The standard value for `order=0`, which just gives an approximation to the original function.) We choose a standard deviation `sigma=30` for the Gaussian filter. Derivatives are therefore averaged over a time period of approximately a month."
   ]
  },
  {
   "cell_type": "code",
   "execution_count": 196,
   "metadata": {},
   "outputs": [
    {
     "data": {
      "text/html": [
       "<div>\n",
       "<style>\n",
       "    .dataframe thead tr:only-child th {\n",
       "        text-align: right;\n",
       "    }\n",
       "\n",
       "    .dataframe thead th {\n",
       "        text-align: left;\n",
       "    }\n",
       "\n",
       "    .dataframe tbody tr th {\n",
       "        vertical-align: top;\n",
       "    }\n",
       "</style>\n",
       "<table border=\"1\" class=\"dataframe\">\n",
       "  <thead>\n",
       "    <tr style=\"text-align: right;\">\n",
       "      <th></th>\n",
       "      <th>close</th>\n",
       "      <th>close_filtered</th>\n",
       "      <th>median_filtered</th>\n",
       "      <th>close_diff</th>\n",
       "      <th>close_diff_cumulative</th>\n",
       "      <th>change_since_beginning</th>\n",
       "      <th>abs_change</th>\n",
       "      <th>total_abs_change</th>\n",
       "      <th>close_filtered_deriv</th>\n",
       "    </tr>\n",
       "    <tr>\n",
       "      <th>Date</th>\n",
       "      <th></th>\n",
       "      <th></th>\n",
       "      <th></th>\n",
       "      <th></th>\n",
       "      <th></th>\n",
       "      <th></th>\n",
       "      <th></th>\n",
       "      <th></th>\n",
       "      <th></th>\n",
       "    </tr>\n",
       "  </thead>\n",
       "  <tbody>\n",
       "    <tr>\n",
       "      <th>2007-01-03</th>\n",
       "      <td>2423.159912</td>\n",
       "      <td>2438.967378</td>\n",
       "      <td>NaN</td>\n",
       "      <td>NaN</td>\n",
       "      <td>NaN</td>\n",
       "      <td>0.000000</td>\n",
       "      <td>NaN</td>\n",
       "      <td>NaN</td>\n",
       "      <td>0.386445</td>\n",
       "    </tr>\n",
       "    <tr>\n",
       "      <th>2007-01-04</th>\n",
       "      <td>2453.429932</td>\n",
       "      <td>2439.354293</td>\n",
       "      <td>NaN</td>\n",
       "      <td>30.270020</td>\n",
       "      <td>30.270020</td>\n",
       "      <td>30.270020</td>\n",
       "      <td>30.270020</td>\n",
       "      <td>30.270020</td>\n",
       "      <td>0.385847</td>\n",
       "    </tr>\n",
       "    <tr>\n",
       "      <th>2007-01-05</th>\n",
       "      <td>2434.250000</td>\n",
       "      <td>2439.740575</td>\n",
       "      <td>NaN</td>\n",
       "      <td>-19.179932</td>\n",
       "      <td>11.090088</td>\n",
       "      <td>11.090088</td>\n",
       "      <td>19.179932</td>\n",
       "      <td>49.449952</td>\n",
       "      <td>0.385161</td>\n",
       "    </tr>\n",
       "    <tr>\n",
       "      <th>2007-01-08</th>\n",
       "      <td>2438.199951</td>\n",
       "      <td>2440.126123</td>\n",
       "      <td>NaN</td>\n",
       "      <td>3.949951</td>\n",
       "      <td>15.040039</td>\n",
       "      <td>15.040039</td>\n",
       "      <td>3.949951</td>\n",
       "      <td>53.399903</td>\n",
       "      <td>0.384430</td>\n",
       "    </tr>\n",
       "    <tr>\n",
       "      <th>2007-01-09</th>\n",
       "      <td>2443.830078</td>\n",
       "      <td>2440.511070</td>\n",
       "      <td>2438.199951</td>\n",
       "      <td>5.630127</td>\n",
       "      <td>20.670166</td>\n",
       "      <td>20.670166</td>\n",
       "      <td>5.630127</td>\n",
       "      <td>59.030030</td>\n",
       "      <td>0.383726</td>\n",
       "    </tr>\n",
       "  </tbody>\n",
       "</table>\n",
       "</div>"
      ],
      "text/plain": [
       "                  close  close_filtered  median_filtered  close_diff  \\\n",
       "Date                                                                   \n",
       "2007-01-03  2423.159912     2438.967378              NaN         NaN   \n",
       "2007-01-04  2453.429932     2439.354293              NaN   30.270020   \n",
       "2007-01-05  2434.250000     2439.740575              NaN  -19.179932   \n",
       "2007-01-08  2438.199951     2440.126123              NaN    3.949951   \n",
       "2007-01-09  2443.830078     2440.511070      2438.199951    5.630127   \n",
       "\n",
       "            close_diff_cumulative  change_since_beginning  abs_change  \\\n",
       "Date                                                                    \n",
       "2007-01-03                    NaN                0.000000         NaN   \n",
       "2007-01-04              30.270020               30.270020   30.270020   \n",
       "2007-01-05              11.090088               11.090088   19.179932   \n",
       "2007-01-08              15.040039               15.040039    3.949951   \n",
       "2007-01-09              20.670166               20.670166    5.630127   \n",
       "\n",
       "            total_abs_change  close_filtered_deriv  \n",
       "Date                                                \n",
       "2007-01-03               NaN              0.386445  \n",
       "2007-01-04         30.270020              0.385847  \n",
       "2007-01-05         49.449952              0.385161  \n",
       "2007-01-08         53.399903              0.384430  \n",
       "2007-01-09         59.030030              0.383726  "
      ]
     },
     "execution_count": 196,
     "metadata": {},
     "output_type": "execute_result"
    }
   ],
   "source": [
    "df_nasdaq['close_filtered_deriv'] = gaussian_filter1d(df_nasdaq['close'], sigma=30, order=1, mode='nearest')\n",
    "df_nasdaq.head()"
   ]
  },
  {
   "cell_type": "markdown",
   "metadata": {},
   "source": [
    "We visualize the approximate derivative in the graph below."
   ]
  },
  {
   "cell_type": "code",
   "execution_count": 197,
   "metadata": {},
   "outputs": [
    {
     "data": {
      "image/png": "[encoded data removed]",
      "text/plain": [
       "<matplotlib.figure.Figure at 0x15679325f98>"
      ]
     },
     "metadata": {},
     "output_type": "display_data"
    }
   ],
   "source": [
    "ax_deriv = df_nasdaq['close_filtered_deriv'].plot()\n",
    "ax_deriv.set_title('Approximate derivative of NASDAQ index', fontsize=16);\n",
    "ax_deriv.set_ylabel('Change in index per day');"
   ]
  },
  {
   "cell_type": "markdown",
   "metadata": {},
   "source": [
    "### Exercise <span class=\"exercise\" id=\"approximate_speed\">1.g</span>: Compute approximate speed\n",
    "\n",
    "Approximate the _speed_ (in pixels per ms) of the trajectory in `df_last_path` by applying a Gaussian filter of order $1$ to the path length. Store the result in a column `'approximate_speed'`. Use a standard deviation of $25$ ms.\n",
    "Plot the result."
   ]
  },
  {
   "cell_type": "code",
   "execution_count": 198,
   "metadata": {},
   "outputs": [
    {
     "name": "stderr",
     "output_type": "stream",
     "text": [
      "C:\\ProgramData\\Anaconda3\\lib\\site-packages\\ipykernel_launcher.py:5: SettingWithCopyWarning: \n",
      "A value is trying to be set on a copy of a slice from a DataFrame.\n",
      "Try using .loc[row_indexer,col_indexer] = value instead\n",
      "\n",
      "See the caveats in the documentation: http://pandas.pydata.org/pandas-docs/stable/indexing.html#indexing-view-versus-copy\n",
      "  \"\"\"\n"
     ]
    },
    {
     "data": {
      "image/png": "[encoded data removed]",
      "text/plain": [
       "<matplotlib.figure.Figure at 0x15677e66e10>"
      ]
     },
     "metadata": {},
     "output_type": "display_data"
    }
   ],
   "source": [
    "#// BEGIN_TODO [DAS_1g] Compute approximate speed (1 point)\n",
    "\n",
    "#gaussian filter (df_nasdaq['close_filtered_deriv'] = gaussian_filter1d(df_nasdaq['close'], sigma=30, order=1, mode='nearest'))\n",
    "#speed = path length / time\n",
    "df_last_path['approximate_speed'] = (gaussian_filter1d(df_last_path['path_length'], sigma=25, order=1, mode='nearest')) #/ df_last_path['t'])\n",
    "\n",
    "ax_last_path = df_last_path.plot(x='t', y='approximate_speed')\n",
    "#ax_last_path.set_xlim(-300,300)\n",
    "#ax_last_path.set_ylim(-300,300)\n",
    "ax_last_path.set_title('Speed last path')\n",
    "ax_last_path.set_ylabel('Path length (pixels)')\n",
    "ax_last_path.set_xlabel('Time (ms)');\n",
    "\n",
    "#// END_TODO [DAS_1g]"
   ]
  },
  {
   "cell_type": "markdown",
   "metadata": {},
   "source": [
    "# <span class=\"section\">2.</span> Data aggregation\n",
    "\n",
    "In this section, we will compute more features of the data and introduce some very powerful _Pandas_ techniques:\n",
    "\n",
    "* **Multi-level indexing**\n",
    "* **Advanced data aggregation** with the function **`agg()`**\n",
    "* **Joining** two dataframes with the function **`join()`**\n",
    "* **Applying** a function, Series or dictionary to another Series with the function **`map()`**\n",
    "\n",
    "Master these techniques, and you will be a truly skilled _Pandas_ user.\n",
    "\n",
    "We work with the mouse trajectory data, which we load and prepare first. "
   ]
  },
  {
   "cell_type": "markdown",
   "metadata": {},
   "source": [
    "## Data preparation\n",
    "\n",
    "We specify the names of the files in the following code cell. "
   ]
  },
  {
   "cell_type": "code",
   "execution_count": 199,
   "metadata": {
    "collapsed": true
   },
   "outputs": [],
   "source": [
    "file_fitts = 'datasets/fitts.csv'\n",
    "file_user_props = 'datasets/user_props.csv'\n",
    "file_user_trial_props = 'datasets/user_trial_props.csv'"
   ]
  },
  {
   "cell_type": "markdown",
   "metadata": {},
   "source": [
    "### Mouse trajectories\n",
    "\n",
    "The actual trajectories are stored in `file_fitts`, which we read into the dataframe `df_fitts`. To create this file, we have processed recorded trajectories as in the previous section."
   ]
  },
  {
   "cell_type": "code",
   "execution_count": 200,
   "metadata": {},
   "outputs": [
    {
     "data": {
      "text/html": [
       "<div>\n",
       "<style>\n",
       "    .dataframe thead tr:only-child th {\n",
       "        text-align: right;\n",
       "    }\n",
       "\n",
       "    .dataframe thead th {\n",
       "        text-align: left;\n",
       "    }\n",
       "\n",
       "    .dataframe tbody tr th {\n",
       "        vertical-align: top;\n",
       "    }\n",
       "</style>\n",
       "<table border=\"1\" class=\"dataframe\">\n",
       "  <thead>\n",
       "    <tr style=\"text-align: right;\">\n",
       "      <th></th>\n",
       "      <th>user</th>\n",
       "      <th>trial</th>\n",
       "      <th>t</th>\n",
       "      <th>x</th>\n",
       "      <th>y</th>\n",
       "      <th>path_length</th>\n",
       "      <th>approximate_speed</th>\n",
       "    </tr>\n",
       "  </thead>\n",
       "  <tbody>\n",
       "    <tr>\n",
       "      <th>0</th>\n",
       "      <td>1164</td>\n",
       "      <td>5</td>\n",
       "      <td>0.00</td>\n",
       "      <td>-2.0</td>\n",
       "      <td>1.000000</td>\n",
       "      <td>0.000000</td>\n",
       "      <td>0.001584</td>\n",
       "    </tr>\n",
       "    <tr>\n",
       "      <th>1</th>\n",
       "      <td>1164</td>\n",
       "      <td>5</td>\n",
       "      <td>0.02</td>\n",
       "      <td>-2.0</td>\n",
       "      <td>0.936582</td>\n",
       "      <td>0.063418</td>\n",
       "      <td>0.002497</td>\n",
       "    </tr>\n",
       "    <tr>\n",
       "      <th>2</th>\n",
       "      <td>1164</td>\n",
       "      <td>5</td>\n",
       "      <td>0.04</td>\n",
       "      <td>-2.0</td>\n",
       "      <td>0.873164</td>\n",
       "      <td>0.126836</td>\n",
       "      <td>0.002995</td>\n",
       "    </tr>\n",
       "    <tr>\n",
       "      <th>3</th>\n",
       "      <td>1164</td>\n",
       "      <td>5</td>\n",
       "      <td>0.06</td>\n",
       "      <td>-2.0</td>\n",
       "      <td>0.809747</td>\n",
       "      <td>0.190253</td>\n",
       "      <td>0.003142</td>\n",
       "    </tr>\n",
       "    <tr>\n",
       "      <th>4</th>\n",
       "      <td>1164</td>\n",
       "      <td>5</td>\n",
       "      <td>0.08</td>\n",
       "      <td>-2.0</td>\n",
       "      <td>0.746329</td>\n",
       "      <td>0.253671</td>\n",
       "      <td>0.003166</td>\n",
       "    </tr>\n",
       "  </tbody>\n",
       "</table>\n",
       "</div>"
      ],
      "text/plain": [
       "   user  trial     t    x         y  path_length  approximate_speed\n",
       "0  1164      5  0.00 -2.0  1.000000     0.000000           0.001584\n",
       "1  1164      5  0.02 -2.0  0.936582     0.063418           0.002497\n",
       "2  1164      5  0.04 -2.0  0.873164     0.126836           0.002995\n",
       "3  1164      5  0.06 -2.0  0.809747     0.190253           0.003142\n",
       "4  1164      5  0.08 -2.0  0.746329     0.253671           0.003166"
      ]
     },
     "execution_count": 200,
     "metadata": {},
     "output_type": "execute_result"
    }
   ],
   "source": [
    "df_fitts = pd.read_csv(file_fitts)\n",
    "df_fitts.head()"
   ]
  },
  {
   "cell_type": "markdown",
   "metadata": {},
   "source": [
    "The dataframe is very similar to the one of the previous section. The biggest difference is that it contains paths recorded by more than one user. Each user is assigned a unique number, which is stored in the **`'user'`** column."
   ]
  },
  {
   "cell_type": "markdown",
   "metadata": {},
   "source": [
    "### Multi-level indexing\n",
    "\n",
    "Every row is _uniquely_ identified by the **triple** of values in the `'user'`, `'trial'` and `'t'` column. The combination of this triple would make for an ideal index for the dataframe. Such an index that is made out of multiple components is called a **multi-level index** (sometimes called a hierarchical index or MultiIndex). We make the triple of columns `'user'`, `'trial'` and `'t'` into a multi-level index, by providing their names as a list to the `set_index()` function. "
   ]
  },
  {
   "cell_type": "code",
   "execution_count": 201,
   "metadata": {},
   "outputs": [
    {
     "data": {
      "text/html": [
       "<div>\n",
       "<style>\n",
       "    .dataframe thead tr:only-child th {\n",
       "        text-align: right;\n",
       "    }\n",
       "\n",
       "    .dataframe thead th {\n",
       "        text-align: left;\n",
       "    }\n",
       "\n",
       "    .dataframe tbody tr th {\n",
       "        vertical-align: top;\n",
       "    }\n",
       "</style>\n",
       "<table border=\"1\" class=\"dataframe\">\n",
       "  <thead>\n",
       "    <tr style=\"text-align: right;\">\n",
       "      <th></th>\n",
       "      <th></th>\n",
       "      <th></th>\n",
       "      <th>x</th>\n",
       "      <th>y</th>\n",
       "      <th>path_length</th>\n",
       "      <th>approximate_speed</th>\n",
       "    </tr>\n",
       "    <tr>\n",
       "      <th>user</th>\n",
       "      <th>trial</th>\n",
       "      <th>t</th>\n",
       "      <th></th>\n",
       "      <th></th>\n",
       "      <th></th>\n",
       "      <th></th>\n",
       "    </tr>\n",
       "  </thead>\n",
       "  <tbody>\n",
       "    <tr>\n",
       "      <th rowspan=\"5\" valign=\"top\">1164</th>\n",
       "      <th rowspan=\"5\" valign=\"top\">5</th>\n",
       "      <th>0.00</th>\n",
       "      <td>-2.0</td>\n",
       "      <td>1.000000</td>\n",
       "      <td>0.000000</td>\n",
       "      <td>0.001584</td>\n",
       "    </tr>\n",
       "    <tr>\n",
       "      <th>0.02</th>\n",
       "      <td>-2.0</td>\n",
       "      <td>0.936582</td>\n",
       "      <td>0.063418</td>\n",
       "      <td>0.002497</td>\n",
       "    </tr>\n",
       "    <tr>\n",
       "      <th>0.04</th>\n",
       "      <td>-2.0</td>\n",
       "      <td>0.873164</td>\n",
       "      <td>0.126836</td>\n",
       "      <td>0.002995</td>\n",
       "    </tr>\n",
       "    <tr>\n",
       "      <th>0.06</th>\n",
       "      <td>-2.0</td>\n",
       "      <td>0.809747</td>\n",
       "      <td>0.190253</td>\n",
       "      <td>0.003142</td>\n",
       "    </tr>\n",
       "    <tr>\n",
       "      <th>0.08</th>\n",
       "      <td>-2.0</td>\n",
       "      <td>0.746329</td>\n",
       "      <td>0.253671</td>\n",
       "      <td>0.003166</td>\n",
       "    </tr>\n",
       "  </tbody>\n",
       "</table>\n",
       "</div>"
      ],
      "text/plain": [
       "                   x         y  path_length  approximate_speed\n",
       "user trial t                                                  \n",
       "1164 5     0.00 -2.0  1.000000     0.000000           0.001584\n",
       "           0.02 -2.0  0.936582     0.063418           0.002497\n",
       "           0.04 -2.0  0.873164     0.126836           0.002995\n",
       "           0.06 -2.0  0.809747     0.190253           0.003142\n",
       "           0.08 -2.0  0.746329     0.253671           0.003166"
      ]
     },
     "execution_count": 201,
     "metadata": {},
     "output_type": "execute_result"
    }
   ],
   "source": [
    "df_fitts.set_index(['user','trial','t'], inplace=True)\n",
    "df_fitts.head()"
   ]
  },
  {
   "cell_type": "markdown",
   "metadata": {},
   "source": [
    "### Properties of the users and the trajectories\n",
    "\n",
    "The files `file_user_props` and `file_user_trial_props` contain tables similar to the ones you have created in the last exercise of ORG. We load `file_user_props` into the dataframe `df_user_props`. It contains the settings that are constant for each user."
   ]
  },
  {
   "cell_type": "code",
   "execution_count": 202,
   "metadata": {},
   "outputs": [
    {
     "data": {
      "text/html": [
       "<div>\n",
       "<style>\n",
       "    .dataframe thead tr:only-child th {\n",
       "        text-align: right;\n",
       "    }\n",
       "\n",
       "    .dataframe thead th {\n",
       "        text-align: left;\n",
       "    }\n",
       "\n",
       "    .dataframe tbody tr th {\n",
       "        vertical-align: top;\n",
       "    }\n",
       "</style>\n",
       "<table border=\"1\" class=\"dataframe\">\n",
       "  <thead>\n",
       "    <tr style=\"text-align: right;\">\n",
       "      <th></th>\n",
       "      <th>user</th>\n",
       "      <th>use_tue_laptop</th>\n",
       "      <th>right_handed</th>\n",
       "      <th>right_trackpad_handed</th>\n",
       "      <th>right_mouse_handed</th>\n",
       "      <th>gender</th>\n",
       "      <th>platform</th>\n",
       "      <th>platform_version</th>\n",
       "    </tr>\n",
       "  </thead>\n",
       "  <tbody>\n",
       "    <tr>\n",
       "      <th>0</th>\n",
       "      <td>1</td>\n",
       "      <td>1</td>\n",
       "      <td>1</td>\n",
       "      <td>1</td>\n",
       "      <td>1</td>\n",
       "      <td>0</td>\n",
       "      <td>Windows</td>\n",
       "      <td>10</td>\n",
       "    </tr>\n",
       "    <tr>\n",
       "      <th>1</th>\n",
       "      <td>2</td>\n",
       "      <td>1</td>\n",
       "      <td>1</td>\n",
       "      <td>1</td>\n",
       "      <td>1</td>\n",
       "      <td>1</td>\n",
       "      <td>Windows</td>\n",
       "      <td>10</td>\n",
       "    </tr>\n",
       "    <tr>\n",
       "      <th>2</th>\n",
       "      <td>4</td>\n",
       "      <td>1</td>\n",
       "      <td>1</td>\n",
       "      <td>1</td>\n",
       "      <td>1</td>\n",
       "      <td>0</td>\n",
       "      <td>Windows</td>\n",
       "      <td>10</td>\n",
       "    </tr>\n",
       "    <tr>\n",
       "      <th>3</th>\n",
       "      <td>6</td>\n",
       "      <td>1</td>\n",
       "      <td>1</td>\n",
       "      <td>1</td>\n",
       "      <td>1</td>\n",
       "      <td>0</td>\n",
       "      <td>Windows</td>\n",
       "      <td>10</td>\n",
       "    </tr>\n",
       "    <tr>\n",
       "      <th>4</th>\n",
       "      <td>7</td>\n",
       "      <td>1</td>\n",
       "      <td>1</td>\n",
       "      <td>1</td>\n",
       "      <td>1</td>\n",
       "      <td>1</td>\n",
       "      <td>Windows</td>\n",
       "      <td>10</td>\n",
       "    </tr>\n",
       "  </tbody>\n",
       "</table>\n",
       "</div>"
      ],
      "text/plain": [
       "   user  use_tue_laptop  right_handed  right_trackpad_handed  \\\n",
       "0     1               1             1                      1   \n",
       "1     2               1             1                      1   \n",
       "2     4               1             1                      1   \n",
       "3     6               1             1                      1   \n",
       "4     7               1             1                      1   \n",
       "\n",
       "   right_mouse_handed  gender platform platform_version  \n",
       "0                   1       0  Windows               10  \n",
       "1                   1       1  Windows               10  \n",
       "2                   1       0  Windows               10  \n",
       "3                   1       0  Windows               10  \n",
       "4                   1       1  Windows               10  "
      ]
     },
     "execution_count": 202,
     "metadata": {},
     "output_type": "execute_result"
    }
   ],
   "source": [
    "df_user_props = pd.read_csv(file_user_props)\n",
    "df_user_props.head()"
   ]
  },
  {
   "cell_type": "markdown",
   "metadata": {},
   "source": [
    "Every row in this table is uniquely identified by the integer in the `'user'` column. Therefore, we make this column the new index of the dataframe."
   ]
  },
  {
   "cell_type": "code",
   "execution_count": 203,
   "metadata": {},
   "outputs": [
    {
     "data": {
      "text/html": [
       "<div>\n",
       "<style>\n",
       "    .dataframe thead tr:only-child th {\n",
       "        text-align: right;\n",
       "    }\n",
       "\n",
       "    .dataframe thead th {\n",
       "        text-align: left;\n",
       "    }\n",
       "\n",
       "    .dataframe tbody tr th {\n",
       "        vertical-align: top;\n",
       "    }\n",
       "</style>\n",
       "<table border=\"1\" class=\"dataframe\">\n",
       "  <thead>\n",
       "    <tr style=\"text-align: right;\">\n",
       "      <th></th>\n",
       "      <th>use_tue_laptop</th>\n",
       "      <th>right_handed</th>\n",
       "      <th>right_trackpad_handed</th>\n",
       "      <th>right_mouse_handed</th>\n",
       "      <th>gender</th>\n",
       "      <th>platform</th>\n",
       "      <th>platform_version</th>\n",
       "    </tr>\n",
       "    <tr>\n",
       "      <th>user</th>\n",
       "      <th></th>\n",
       "      <th></th>\n",
       "      <th></th>\n",
       "      <th></th>\n",
       "      <th></th>\n",
       "      <th></th>\n",
       "      <th></th>\n",
       "    </tr>\n",
       "  </thead>\n",
       "  <tbody>\n",
       "    <tr>\n",
       "      <th>1</th>\n",
       "      <td>1</td>\n",
       "      <td>1</td>\n",
       "      <td>1</td>\n",
       "      <td>1</td>\n",
       "      <td>0</td>\n",
       "      <td>Windows</td>\n",
       "      <td>10</td>\n",
       "    </tr>\n",
       "    <tr>\n",
       "      <th>2</th>\n",
       "      <td>1</td>\n",
       "      <td>1</td>\n",
       "      <td>1</td>\n",
       "      <td>1</td>\n",
       "      <td>1</td>\n",
       "      <td>Windows</td>\n",
       "      <td>10</td>\n",
       "    </tr>\n",
       "    <tr>\n",
       "      <th>4</th>\n",
       "      <td>1</td>\n",
       "      <td>1</td>\n",
       "      <td>1</td>\n",
       "      <td>1</td>\n",
       "      <td>0</td>\n",
       "      <td>Windows</td>\n",
       "      <td>10</td>\n",
       "    </tr>\n",
       "    <tr>\n",
       "      <th>6</th>\n",
       "      <td>1</td>\n",
       "      <td>1</td>\n",
       "      <td>1</td>\n",
       "      <td>1</td>\n",
       "      <td>0</td>\n",
       "      <td>Windows</td>\n",
       "      <td>10</td>\n",
       "    </tr>\n",
       "    <tr>\n",
       "      <th>7</th>\n",
       "      <td>1</td>\n",
       "      <td>1</td>\n",
       "      <td>1</td>\n",
       "      <td>1</td>\n",
       "      <td>1</td>\n",
       "      <td>Windows</td>\n",
       "      <td>10</td>\n",
       "    </tr>\n",
       "  </tbody>\n",
       "</table>\n",
       "</div>"
      ],
      "text/plain": [
       "      use_tue_laptop  right_handed  right_trackpad_handed  right_mouse_handed  \\\n",
       "user                                                                            \n",
       "1                  1             1                      1                   1   \n",
       "2                  1             1                      1                   1   \n",
       "4                  1             1                      1                   1   \n",
       "6                  1             1                      1                   1   \n",
       "7                  1             1                      1                   1   \n",
       "\n",
       "      gender platform platform_version  \n",
       "user                                    \n",
       "1          0  Windows               10  \n",
       "2          1  Windows               10  \n",
       "4          0  Windows               10  \n",
       "6          0  Windows               10  \n",
       "7          1  Windows               10  "
      ]
     },
     "execution_count": 203,
     "metadata": {},
     "output_type": "execute_result"
    }
   ],
   "source": [
    "df_user_props.set_index('user',inplace = True)\n",
    "df_user_props.head()"
   ]
  },
  {
   "cell_type": "markdown",
   "metadata": {},
   "source": [
    "The explanation of the columns is as follows.\n",
    "\n",
    "* **`'use_tue_laptop'`**: Whether user used a TU/e laptop\n",
    "* **`'right_handed'`**: Whether user is right-handed or not\n",
    "* **`'major'`**: The major of the user\n",
    "* **`'gender'`**: The gender of the user\n",
    "* **`'platform'`**: The operating system of the user\n",
    "* **`'platform_version'`**: The version of the operating system of the user\n",
    "\n",
    "### Conversion to readable table entries\n",
    "\n",
    "Some of the columns contain integers that do not have a clear meaning. The interpretation of these integers is encoded by the following dictionaries."
   ]
  },
  {
   "cell_type": "code",
   "execution_count": 204,
   "metadata": {
    "collapsed": true
   },
   "outputs": [],
   "source": [
    "dict_use_tue_laptop = {0 : False, 1 : True}\n",
    "dict_right_handed = {0 : False, 1 : True}\n",
    "dict_gender = {0 : 'Male', 1 : 'Female', 2 : 'Other'}"
   ]
  },
  {
   "cell_type": "markdown",
   "metadata": {},
   "source": [
    "You can use these dictionaries to create more readable columns. But first there is a technical point that the values in for instance the column `'use_tue_laptop'` may be floats and not integers. So before you can use the dictionary, you would have to convert the column to integers."
   ]
  },
  {
   "cell_type": "code",
   "execution_count": 205,
   "metadata": {
    "collapsed": true
   },
   "outputs": [],
   "source": [
    "df_user_props['use_tue_laptop'] = df_user_props['use_tue_laptop'].astype(int)"
   ]
  },
  {
   "cell_type": "markdown",
   "metadata": {},
   "source": [
    "#### The _Pandas_ function **`map()`**\n",
    "\n",
    "You can now use the _Pandas_ function **`map()`** with the argument `dict_use_tue_laptop` to map every `0` to a `False` and every `1` to a `True`."
   ]
  },
  {
   "cell_type": "code",
   "execution_count": 206,
   "metadata": {},
   "outputs": [
    {
     "data": {
      "text/html": [
       "<div>\n",
       "<style>\n",
       "    .dataframe thead tr:only-child th {\n",
       "        text-align: right;\n",
       "    }\n",
       "\n",
       "    .dataframe thead th {\n",
       "        text-align: left;\n",
       "    }\n",
       "\n",
       "    .dataframe tbody tr th {\n",
       "        vertical-align: top;\n",
       "    }\n",
       "</style>\n",
       "<table border=\"1\" class=\"dataframe\">\n",
       "  <thead>\n",
       "    <tr style=\"text-align: right;\">\n",
       "      <th></th>\n",
       "      <th>use_tue_laptop</th>\n",
       "      <th>right_handed</th>\n",
       "      <th>right_trackpad_handed</th>\n",
       "      <th>right_mouse_handed</th>\n",
       "      <th>gender</th>\n",
       "      <th>platform</th>\n",
       "      <th>platform_version</th>\n",
       "    </tr>\n",
       "    <tr>\n",
       "      <th>user</th>\n",
       "      <th></th>\n",
       "      <th></th>\n",
       "      <th></th>\n",
       "      <th></th>\n",
       "      <th></th>\n",
       "      <th></th>\n",
       "      <th></th>\n",
       "    </tr>\n",
       "  </thead>\n",
       "  <tbody>\n",
       "    <tr>\n",
       "      <th>1</th>\n",
       "      <td>True</td>\n",
       "      <td>1</td>\n",
       "      <td>1</td>\n",
       "      <td>1</td>\n",
       "      <td>0</td>\n",
       "      <td>Windows</td>\n",
       "      <td>10</td>\n",
       "    </tr>\n",
       "    <tr>\n",
       "      <th>2</th>\n",
       "      <td>True</td>\n",
       "      <td>1</td>\n",
       "      <td>1</td>\n",
       "      <td>1</td>\n",
       "      <td>1</td>\n",
       "      <td>Windows</td>\n",
       "      <td>10</td>\n",
       "    </tr>\n",
       "    <tr>\n",
       "      <th>4</th>\n",
       "      <td>True</td>\n",
       "      <td>1</td>\n",
       "      <td>1</td>\n",
       "      <td>1</td>\n",
       "      <td>0</td>\n",
       "      <td>Windows</td>\n",
       "      <td>10</td>\n",
       "    </tr>\n",
       "    <tr>\n",
       "      <th>6</th>\n",
       "      <td>True</td>\n",
       "      <td>1</td>\n",
       "      <td>1</td>\n",
       "      <td>1</td>\n",
       "      <td>0</td>\n",
       "      <td>Windows</td>\n",
       "      <td>10</td>\n",
       "    </tr>\n",
       "    <tr>\n",
       "      <th>7</th>\n",
       "      <td>True</td>\n",
       "      <td>1</td>\n",
       "      <td>1</td>\n",
       "      <td>1</td>\n",
       "      <td>1</td>\n",
       "      <td>Windows</td>\n",
       "      <td>10</td>\n",
       "    </tr>\n",
       "  </tbody>\n",
       "</table>\n",
       "</div>"
      ],
      "text/plain": [
       "      use_tue_laptop  right_handed  right_trackpad_handed  right_mouse_handed  \\\n",
       "user                                                                            \n",
       "1               True             1                      1                   1   \n",
       "2               True             1                      1                   1   \n",
       "4               True             1                      1                   1   \n",
       "6               True             1                      1                   1   \n",
       "7               True             1                      1                   1   \n",
       "\n",
       "      gender platform platform_version  \n",
       "user                                    \n",
       "1          0  Windows               10  \n",
       "2          1  Windows               10  \n",
       "4          0  Windows               10  \n",
       "6          0  Windows               10  \n",
       "7          1  Windows               10  "
      ]
     },
     "execution_count": 206,
     "metadata": {},
     "output_type": "execute_result"
    }
   ],
   "source": [
    "df_user_props['use_tue_laptop'] = df_user_props['use_tue_laptop'].map(dict_use_tue_laptop)\n",
    "df_user_props.head()"
   ]
  },
  {
   "cell_type": "markdown",
   "metadata": {},
   "source": [
    "The properties stored in the file `file_user_trial_props` vary from trial to trial. We read those properties into the dataframe `df_user_trial_props`."
   ]
  },
  {
   "cell_type": "code",
   "execution_count": 207,
   "metadata": {},
   "outputs": [
    {
     "data": {
      "text/html": [
       "<div>\n",
       "<style>\n",
       "    .dataframe thead tr:only-child th {\n",
       "        text-align: right;\n",
       "    }\n",
       "\n",
       "    .dataframe thead th {\n",
       "        text-align: left;\n",
       "    }\n",
       "\n",
       "    .dataframe tbody tr th {\n",
       "        vertical-align: top;\n",
       "    }\n",
       "</style>\n",
       "<table border=\"1\" class=\"dataframe\">\n",
       "  <thead>\n",
       "    <tr style=\"text-align: right;\">\n",
       "      <th></th>\n",
       "      <th>user</th>\n",
       "      <th>trial</th>\n",
       "      <th>delay</th>\n",
       "      <th>input_method</th>\n",
       "      <th>target_radius</th>\n",
       "      <th>target_x</th>\n",
       "      <th>target_y</th>\n",
       "      <th>total_time</th>\n",
       "    </tr>\n",
       "  </thead>\n",
       "  <tbody>\n",
       "    <tr>\n",
       "      <th>0</th>\n",
       "      <td>1226</td>\n",
       "      <td>5</td>\n",
       "      <td>2.136719</td>\n",
       "      <td>0</td>\n",
       "      <td>6</td>\n",
       "      <td>-84</td>\n",
       "      <td>-84</td>\n",
       "      <td>3.607323</td>\n",
       "    </tr>\n",
       "    <tr>\n",
       "      <th>1</th>\n",
       "      <td>1226</td>\n",
       "      <td>6</td>\n",
       "      <td>3.540913</td>\n",
       "      <td>0</td>\n",
       "      <td>6</td>\n",
       "      <td>0</td>\n",
       "      <td>190</td>\n",
       "      <td>1.867664</td>\n",
       "    </tr>\n",
       "    <tr>\n",
       "      <th>2</th>\n",
       "      <td>1226</td>\n",
       "      <td>7</td>\n",
       "      <td>3.688381</td>\n",
       "      <td>0</td>\n",
       "      <td>6</td>\n",
       "      <td>-158</td>\n",
       "      <td>-158</td>\n",
       "      <td>1.645011</td>\n",
       "    </tr>\n",
       "    <tr>\n",
       "      <th>3</th>\n",
       "      <td>1226</td>\n",
       "      <td>8</td>\n",
       "      <td>2.823134</td>\n",
       "      <td>0</td>\n",
       "      <td>3</td>\n",
       "      <td>81</td>\n",
       "      <td>-81</td>\n",
       "      <td>1.776010</td>\n",
       "    </tr>\n",
       "    <tr>\n",
       "      <th>4</th>\n",
       "      <td>1226</td>\n",
       "      <td>9</td>\n",
       "      <td>3.690253</td>\n",
       "      <td>0</td>\n",
       "      <td>9</td>\n",
       "      <td>-157</td>\n",
       "      <td>157</td>\n",
       "      <td>1.567794</td>\n",
       "    </tr>\n",
       "  </tbody>\n",
       "</table>\n",
       "</div>"
      ],
      "text/plain": [
       "   user  trial     delay  input_method  target_radius  target_x  target_y  \\\n",
       "0  1226      5  2.136719             0              6       -84       -84   \n",
       "1  1226      6  3.540913             0              6         0       190   \n",
       "2  1226      7  3.688381             0              6      -158      -158   \n",
       "3  1226      8  2.823134             0              3        81       -81   \n",
       "4  1226      9  3.690253             0              9      -157       157   \n",
       "\n",
       "   total_time  \n",
       "0    3.607323  \n",
       "1    1.867664  \n",
       "2    1.645011  \n",
       "3    1.776010  \n",
       "4    1.567794  "
      ]
     },
     "execution_count": 207,
     "metadata": {},
     "output_type": "execute_result"
    }
   ],
   "source": [
    "df_user_trial_props = pd.read_csv(file_user_trial_props)\n",
    "df_user_trial_props.head()"
   ]
  },
  {
   "cell_type": "markdown",
   "metadata": {},
   "source": [
    "The meaning of these columns is as follows.\n",
    "\n",
    "* **`'user'`**: an integer that identifies the user who drew the trajectory\n",
    "* **`'trial'`**: an integer that identifies the trajectory. The pair of `'user'` and `'trial'` identify a trajectory uniquely\n",
    "* **`'input_method'`**: whether the user used a trackpad or a mouse\n",
    "* **`'touchpad_speed'`**: the speed setting of the trackpad (`0` is minimal, `20` is maximal)\n",
    "* **`'mouse_speed'`**: the speed setting of the mouse (`0` is minimal, `20` is maximal)\n",
    "* **`'target_x'`**: the $x$-coordinate of the target in pixels\n",
    "* **`'target_y'`**: the $y$-coordinate of the target in pixels\n",
    "* **`'target_radius'`**: the radius of the target in pixels\n",
    "* **`'delay'`**: the time in seconds between the user moving the mouse on the red square in the origin, until the target appeared\n",
    "\n",
    "The meaning of the values in the `'input_method'` columns is encoded by the following dictionary."
   ]
  },
  {
   "cell_type": "code",
   "execution_count": 208,
   "metadata": {
    "collapsed": true
   },
   "outputs": [],
   "source": [
    "dict_input_method = { 0 : 'trackpad', 1 : 'mouse' }"
   ]
  },
  {
   "cell_type": "markdown",
   "metadata": {},
   "source": [
    "Each row in the dataframe `df_user_trial_props` is uniquely determined by the pair of values in the `'user'` and `'trial'` column. This pair of values would therefore make for an ideal **multi-level index** of the dataframe."
   ]
  },
  {
   "cell_type": "markdown",
   "metadata": {},
   "source": [
    "### Exercise <span class=\"exercise\">2.a</span>: Multi-level index for `df_user_trial_props`\n",
    "\n",
    " Change the index of the dataframe `df_user_trial_props` to a multi-level index consisting of the `'user'` and `'trial'` columns."
   ]
  },
  {
   "cell_type": "code",
   "execution_count": 209,
   "metadata": {},
   "outputs": [
    {
     "data": {
      "text/html": [
       "<div>\n",
       "<style>\n",
       "    .dataframe thead tr:only-child th {\n",
       "        text-align: right;\n",
       "    }\n",
       "\n",
       "    .dataframe thead th {\n",
       "        text-align: left;\n",
       "    }\n",
       "\n",
       "    .dataframe tbody tr th {\n",
       "        vertical-align: top;\n",
       "    }\n",
       "</style>\n",
       "<table border=\"1\" class=\"dataframe\">\n",
       "  <thead>\n",
       "    <tr style=\"text-align: right;\">\n",
       "      <th></th>\n",
       "      <th></th>\n",
       "      <th>delay</th>\n",
       "      <th>input_method</th>\n",
       "      <th>target_radius</th>\n",
       "      <th>target_x</th>\n",
       "      <th>target_y</th>\n",
       "      <th>total_time</th>\n",
       "    </tr>\n",
       "    <tr>\n",
       "      <th>user</th>\n",
       "      <th>trial</th>\n",
       "      <th></th>\n",
       "      <th></th>\n",
       "      <th></th>\n",
       "      <th></th>\n",
       "      <th></th>\n",
       "      <th></th>\n",
       "    </tr>\n",
       "  </thead>\n",
       "  <tbody>\n",
       "    <tr>\n",
       "      <th rowspan=\"5\" valign=\"top\">1226</th>\n",
       "      <th>5</th>\n",
       "      <td>2.136719</td>\n",
       "      <td>0</td>\n",
       "      <td>6</td>\n",
       "      <td>-84</td>\n",
       "      <td>-84</td>\n",
       "      <td>3.607323</td>\n",
       "    </tr>\n",
       "    <tr>\n",
       "      <th>6</th>\n",
       "      <td>3.540913</td>\n",
       "      <td>0</td>\n",
       "      <td>6</td>\n",
       "      <td>0</td>\n",
       "      <td>190</td>\n",
       "      <td>1.867664</td>\n",
       "    </tr>\n",
       "    <tr>\n",
       "      <th>7</th>\n",
       "      <td>3.688381</td>\n",
       "      <td>0</td>\n",
       "      <td>6</td>\n",
       "      <td>-158</td>\n",
       "      <td>-158</td>\n",
       "      <td>1.645011</td>\n",
       "    </tr>\n",
       "    <tr>\n",
       "      <th>8</th>\n",
       "      <td>2.823134</td>\n",
       "      <td>0</td>\n",
       "      <td>3</td>\n",
       "      <td>81</td>\n",
       "      <td>-81</td>\n",
       "      <td>1.776010</td>\n",
       "    </tr>\n",
       "    <tr>\n",
       "      <th>9</th>\n",
       "      <td>3.690253</td>\n",
       "      <td>0</td>\n",
       "      <td>9</td>\n",
       "      <td>-157</td>\n",
       "      <td>157</td>\n",
       "      <td>1.567794</td>\n",
       "    </tr>\n",
       "  </tbody>\n",
       "</table>\n",
       "</div>"
      ],
      "text/plain": [
       "               delay  input_method  target_radius  target_x  target_y  \\\n",
       "user trial                                                              \n",
       "1226 5      2.136719             0              6       -84       -84   \n",
       "     6      3.540913             0              6         0       190   \n",
       "     7      3.688381             0              6      -158      -158   \n",
       "     8      2.823134             0              3        81       -81   \n",
       "     9      3.690253             0              9      -157       157   \n",
       "\n",
       "            total_time  \n",
       "user trial              \n",
       "1226 5        3.607323  \n",
       "     6        1.867664  \n",
       "     7        1.645011  \n",
       "     8        1.776010  \n",
       "     9        1.567794  "
      ]
     },
     "execution_count": 209,
     "metadata": {},
     "output_type": "execute_result"
    }
   ],
   "source": [
    "#// BEGIN_TODO [DAS_2a] Multi-level index (1 point)\n",
    "\n",
    "# df_fitts.set_index(['user','trial','t'], inplace=True)\n",
    "df_user_trial_props.set_index(['user', 'trial'], inplace=True)\n",
    "\n",
    "#// END_TODO [DAS_2a]\n",
    "\n",
    "df_user_trial_props.head()"
   ]
  },
  {
   "cell_type": "markdown",
   "metadata": {},
   "source": [
    "### Exercise <span class=\"exercise\">2.b</span>: Convert columns in dataframes\n",
    "\n",
    "Use the dictionaries `dict_right_handed` and `dict_gender` to convert the data in the columns `'right_handed'` and `'gender'` in `df_user_props` to more readable values. Similarly, use the dictionary `dict_input_method` to convert the data in the column `'input_method'` in the dataframe `df_user_trial_props` to more readable values."
   ]
  },
  {
   "cell_type": "code",
   "execution_count": 210,
   "metadata": {},
   "outputs": [
    {
     "data": {
      "text/html": [
       "<div>\n",
       "<style>\n",
       "    .dataframe thead tr:only-child th {\n",
       "        text-align: right;\n",
       "    }\n",
       "\n",
       "    .dataframe thead th {\n",
       "        text-align: left;\n",
       "    }\n",
       "\n",
       "    .dataframe tbody tr th {\n",
       "        vertical-align: top;\n",
       "    }\n",
       "</style>\n",
       "<table border=\"1\" class=\"dataframe\">\n",
       "  <thead>\n",
       "    <tr style=\"text-align: right;\">\n",
       "      <th></th>\n",
       "      <th></th>\n",
       "      <th>delay</th>\n",
       "      <th>input_method</th>\n",
       "      <th>target_radius</th>\n",
       "      <th>target_x</th>\n",
       "      <th>target_y</th>\n",
       "      <th>total_time</th>\n",
       "    </tr>\n",
       "    <tr>\n",
       "      <th>user</th>\n",
       "      <th>trial</th>\n",
       "      <th></th>\n",
       "      <th></th>\n",
       "      <th></th>\n",
       "      <th></th>\n",
       "      <th></th>\n",
       "      <th></th>\n",
       "    </tr>\n",
       "  </thead>\n",
       "  <tbody>\n",
       "    <tr>\n",
       "      <th rowspan=\"5\" valign=\"top\">1226</th>\n",
       "      <th>5</th>\n",
       "      <td>2.136719</td>\n",
       "      <td>trackpad</td>\n",
       "      <td>6</td>\n",
       "      <td>-84</td>\n",
       "      <td>-84</td>\n",
       "      <td>3.607323</td>\n",
       "    </tr>\n",
       "    <tr>\n",
       "      <th>6</th>\n",
       "      <td>3.540913</td>\n",
       "      <td>trackpad</td>\n",
       "      <td>6</td>\n",
       "      <td>0</td>\n",
       "      <td>190</td>\n",
       "      <td>1.867664</td>\n",
       "    </tr>\n",
       "    <tr>\n",
       "      <th>7</th>\n",
       "      <td>3.688381</td>\n",
       "      <td>trackpad</td>\n",
       "      <td>6</td>\n",
       "      <td>-158</td>\n",
       "      <td>-158</td>\n",
       "      <td>1.645011</td>\n",
       "    </tr>\n",
       "    <tr>\n",
       "      <th>8</th>\n",
       "      <td>2.823134</td>\n",
       "      <td>trackpad</td>\n",
       "      <td>3</td>\n",
       "      <td>81</td>\n",
       "      <td>-81</td>\n",
       "      <td>1.776010</td>\n",
       "    </tr>\n",
       "    <tr>\n",
       "      <th>9</th>\n",
       "      <td>3.690253</td>\n",
       "      <td>trackpad</td>\n",
       "      <td>9</td>\n",
       "      <td>-157</td>\n",
       "      <td>157</td>\n",
       "      <td>1.567794</td>\n",
       "    </tr>\n",
       "  </tbody>\n",
       "</table>\n",
       "</div>"
      ],
      "text/plain": [
       "               delay input_method  target_radius  target_x  target_y  \\\n",
       "user trial                                                             \n",
       "1226 5      2.136719     trackpad              6       -84       -84   \n",
       "     6      3.540913     trackpad              6         0       190   \n",
       "     7      3.688381     trackpad              6      -158      -158   \n",
       "     8      2.823134     trackpad              3        81       -81   \n",
       "     9      3.690253     trackpad              9      -157       157   \n",
       "\n",
       "            total_time  \n",
       "user trial              \n",
       "1226 5        3.607323  \n",
       "     6        1.867664  \n",
       "     7        1.645011  \n",
       "     8        1.776010  \n",
       "     9        1.567794  "
      ]
     },
     "execution_count": 210,
     "metadata": {},
     "output_type": "execute_result"
    }
   ],
   "source": [
    "#// BEGIN_TODO [DAS_2b] Convert columns in dataframes (1 point)\n",
    "\n",
    "# #user props\n",
    "# dict_use_tue_laptop = {0 : False, 1 : True}\n",
    "# dict_right_handed = {0 : False, 1 : True}\n",
    "# dict_gender = {0 : 'Male', 1 : 'Female', 2 : 'Other'}\n",
    "# #user trial props\n",
    "# dict_input_method = { 0 : 'trackpad', 1 : 'mouse' }\n",
    "\n",
    "# df_user_props['use_tue_laptop'] = df_user_props['use_tue_laptop'].astype(int)\n",
    "# df_user_props['use_tue_laptop'] = df_user_props['use_tue_laptop'].map(dict_use_tue_laptop)\n",
    "\n",
    "df_user_props['right_handed'] = df_user_props['right_handed'].astype(int)\n",
    "df_user_props['right_handed'] = df_user_props['right_handed'].map(dict_right_handed)\n",
    "\n",
    "df_user_props['gender'] = df_user_props['gender'].astype(int)\n",
    "df_user_props['gender'] = df_user_props['gender'].map(dict_gender)\n",
    "\n",
    "df_user_trial_props['input_method'] = df_user_trial_props['input_method'].astype(int)\n",
    "df_user_trial_props['input_method'] = df_user_trial_props['input_method'].map(dict_input_method)\n",
    "\n",
    "#// END_TODO [DAS_2b]\n",
    "\n",
    "df_user_trial_props.head()"
   ]
  },
  {
   "cell_type": "markdown",
   "metadata": {},
   "source": [
    "## Data aggregation"
   ]
  },
  {
   "cell_type": "markdown",
   "metadata": {},
   "source": [
    "In the EDA exercises you have already encountered various ways to aggregate data. One very useful method was to _group_ the data. For instance, if we want to compute the average approximate speed in every trial, we can do this by first grouping on `'user'` and `'trial'`, selecting the `'approximate'` column and computing the mean."
   ]
  },
  {
   "cell_type": "code",
   "execution_count": 211,
   "metadata": {},
   "outputs": [
    {
     "data": {
      "text/html": [
       "<div>\n",
       "<style>\n",
       "    .dataframe thead tr:only-child th {\n",
       "        text-align: right;\n",
       "    }\n",
       "\n",
       "    .dataframe thead th {\n",
       "        text-align: left;\n",
       "    }\n",
       "\n",
       "    .dataframe tbody tr th {\n",
       "        vertical-align: top;\n",
       "    }\n",
       "</style>\n",
       "<table border=\"1\" class=\"dataframe\">\n",
       "  <thead>\n",
       "    <tr style=\"text-align: right;\">\n",
       "      <th></th>\n",
       "      <th></th>\n",
       "      <th>approximate_speed</th>\n",
       "    </tr>\n",
       "    <tr>\n",
       "      <th>user</th>\n",
       "      <th>trial</th>\n",
       "      <th></th>\n",
       "    </tr>\n",
       "  </thead>\n",
       "  <tbody>\n",
       "    <tr>\n",
       "      <th rowspan=\"5\" valign=\"top\">54</th>\n",
       "      <th>5</th>\n",
       "      <td>0.175054</td>\n",
       "    </tr>\n",
       "    <tr>\n",
       "      <th>6</th>\n",
       "      <td>0.172605</td>\n",
       "    </tr>\n",
       "    <tr>\n",
       "      <th>7</th>\n",
       "      <td>0.143626</td>\n",
       "    </tr>\n",
       "    <tr>\n",
       "      <th>8</th>\n",
       "      <td>0.143971</td>\n",
       "    </tr>\n",
       "    <tr>\n",
       "      <th>9</th>\n",
       "      <td>0.096142</td>\n",
       "    </tr>\n",
       "  </tbody>\n",
       "</table>\n",
       "</div>"
      ],
      "text/plain": [
       "            approximate_speed\n",
       "user trial                   \n",
       "54   5               0.175054\n",
       "     6               0.172605\n",
       "     7               0.143626\n",
       "     8               0.143971\n",
       "     9               0.096142"
      ]
     },
     "execution_count": 211,
     "metadata": {},
     "output_type": "execute_result"
    }
   ],
   "source": [
    "df_speeds = df_fitts.groupby(['user','trial'])[['approximate_speed']].mean()\n",
    "df_speeds.head()"
   ]
  },
  {
   "cell_type": "markdown",
   "metadata": {},
   "source": [
    "Note that the resulting dataframe is indexed by the pair of `'user'` and `'trial'` as a multi-level index."
   ]
  },
  {
   "cell_type": "markdown",
   "metadata": {},
   "source": [
    "### Computing several aggregated quantities at once with the _Pandas_ function **`agg()`**\n",
    "\n",
    "The _Pandas_ library provides a very convenient function **`agg()`**, which can compute several aggregated quantities on grouped data at once. As an argument, you can supply a dictionary, which maps column names to either\n",
    "\n",
    "* names of functions (strings)\n",
    "* functions\n",
    "* a list of names of functions\n",
    "\n",
    "We present an example of the last usage. We compute both the **mean** and the **median** of `'approximate_speed'` and the **max** value of `'x'`"
   ]
  },
  {
   "cell_type": "code",
   "execution_count": 212,
   "metadata": {},
   "outputs": [
    {
     "data": {
      "text/html": [
       "<div>\n",
       "<style>\n",
       "    .dataframe thead tr:only-child th {\n",
       "        text-align: right;\n",
       "    }\n",
       "\n",
       "    .dataframe thead th {\n",
       "        text-align: left;\n",
       "    }\n",
       "\n",
       "    .dataframe tbody tr th {\n",
       "        vertical-align: top;\n",
       "    }\n",
       "</style>\n",
       "<table border=\"1\" class=\"dataframe\">\n",
       "  <thead>\n",
       "    <tr>\n",
       "      <th></th>\n",
       "      <th></th>\n",
       "      <th colspan=\"2\" halign=\"left\">approximate_speed</th>\n",
       "      <th>x</th>\n",
       "    </tr>\n",
       "    <tr>\n",
       "      <th></th>\n",
       "      <th></th>\n",
       "      <th>mean</th>\n",
       "      <th>median</th>\n",
       "      <th>max</th>\n",
       "    </tr>\n",
       "    <tr>\n",
       "      <th>user</th>\n",
       "      <th>trial</th>\n",
       "      <th></th>\n",
       "      <th></th>\n",
       "      <th></th>\n",
       "    </tr>\n",
       "  </thead>\n",
       "  <tbody>\n",
       "    <tr>\n",
       "      <th rowspan=\"5\" valign=\"top\">54</th>\n",
       "      <th>5</th>\n",
       "      <td>0.175054</td>\n",
       "      <td>0.042922</td>\n",
       "      <td>12.502372</td>\n",
       "    </tr>\n",
       "    <tr>\n",
       "      <th>6</th>\n",
       "      <td>0.172605</td>\n",
       "      <td>0.063461</td>\n",
       "      <td>137.000000</td>\n",
       "    </tr>\n",
       "    <tr>\n",
       "      <th>7</th>\n",
       "      <td>0.143626</td>\n",
       "      <td>0.040945</td>\n",
       "      <td>2.000000</td>\n",
       "    </tr>\n",
       "    <tr>\n",
       "      <th>8</th>\n",
       "      <td>0.143971</td>\n",
       "      <td>0.036264</td>\n",
       "      <td>0.000000</td>\n",
       "    </tr>\n",
       "    <tr>\n",
       "      <th>9</th>\n",
       "      <td>0.096142</td>\n",
       "      <td>0.009530</td>\n",
       "      <td>96.000000</td>\n",
       "    </tr>\n",
       "  </tbody>\n",
       "</table>\n",
       "</div>"
      ],
      "text/plain": [
       "           approximate_speed                     x\n",
       "                        mean    median         max\n",
       "user trial                                        \n",
       "54   5              0.175054  0.042922   12.502372\n",
       "     6              0.172605  0.063461  137.000000\n",
       "     7              0.143626  0.040945    2.000000\n",
       "     8              0.143971  0.036264    0.000000\n",
       "     9              0.096142  0.009530   96.000000"
      ]
     },
     "execution_count": 212,
     "metadata": {},
     "output_type": "execute_result"
    }
   ],
   "source": [
    "df_features = df_fitts.groupby(['user','trial']).agg({'approximate_speed':['mean','median'], 'x':['max']})\n",
    "df_features.head()"
   ]
  },
  {
   "cell_type": "markdown",
   "metadata": {},
   "source": [
    "In the result, not only do the rows have a multi-level index, but also the columns. For our next step, this is not so useful, so we first rename the columns."
   ]
  },
  {
   "cell_type": "code",
   "execution_count": 213,
   "metadata": {},
   "outputs": [
    {
     "data": {
      "text/html": [
       "<div>\n",
       "<style>\n",
       "    .dataframe thead tr:only-child th {\n",
       "        text-align: right;\n",
       "    }\n",
       "\n",
       "    .dataframe thead th {\n",
       "        text-align: left;\n",
       "    }\n",
       "\n",
       "    .dataframe tbody tr th {\n",
       "        vertical-align: top;\n",
       "    }\n",
       "</style>\n",
       "<table border=\"1\" class=\"dataframe\">\n",
       "  <thead>\n",
       "    <tr style=\"text-align: right;\">\n",
       "      <th></th>\n",
       "      <th></th>\n",
       "      <th>appr_speed_mean</th>\n",
       "      <th>appr_speed_median</th>\n",
       "      <th>x_max</th>\n",
       "    </tr>\n",
       "    <tr>\n",
       "      <th>user</th>\n",
       "      <th>trial</th>\n",
       "      <th></th>\n",
       "      <th></th>\n",
       "      <th></th>\n",
       "    </tr>\n",
       "  </thead>\n",
       "  <tbody>\n",
       "    <tr>\n",
       "      <th rowspan=\"5\" valign=\"top\">54</th>\n",
       "      <th>5</th>\n",
       "      <td>0.175054</td>\n",
       "      <td>0.042922</td>\n",
       "      <td>12.502372</td>\n",
       "    </tr>\n",
       "    <tr>\n",
       "      <th>6</th>\n",
       "      <td>0.172605</td>\n",
       "      <td>0.063461</td>\n",
       "      <td>137.000000</td>\n",
       "    </tr>\n",
       "    <tr>\n",
       "      <th>7</th>\n",
       "      <td>0.143626</td>\n",
       "      <td>0.040945</td>\n",
       "      <td>2.000000</td>\n",
       "    </tr>\n",
       "    <tr>\n",
       "      <th>8</th>\n",
       "      <td>0.143971</td>\n",
       "      <td>0.036264</td>\n",
       "      <td>0.000000</td>\n",
       "    </tr>\n",
       "    <tr>\n",
       "      <th>9</th>\n",
       "      <td>0.096142</td>\n",
       "      <td>0.009530</td>\n",
       "      <td>96.000000</td>\n",
       "    </tr>\n",
       "  </tbody>\n",
       "</table>\n",
       "</div>"
      ],
      "text/plain": [
       "            appr_speed_mean  appr_speed_median       x_max\n",
       "user trial                                                \n",
       "54   5             0.175054           0.042922   12.502372\n",
       "     6             0.172605           0.063461  137.000000\n",
       "     7             0.143626           0.040945    2.000000\n",
       "     8             0.143971           0.036264    0.000000\n",
       "     9             0.096142           0.009530   96.000000"
      ]
     },
     "execution_count": 213,
     "metadata": {},
     "output_type": "execute_result"
    }
   ],
   "source": [
    "df_features.columns=['appr_speed_mean', 'appr_speed_median', 'x_max']\n",
    "df_features.head()"
   ]
  },
  {
   "cell_type": "markdown",
   "metadata": {},
   "source": [
    "### Joining two dataframes\n",
    "\n",
    "We now want to add the computed features as columns to the old dataframe with properties `df_user_trial_props`. We can do this by _joining_ two dataframes with the _Pandas_ function **`join()`**. We store the result in a dataframe `df_results`. \n",
    "\n",
    "> **Note:** For the **`join()`** function to behave properly, it is important that the two dataframes are indexed in the same way. In particular, it was essential that we used a multi-level index for the dataframe `df_user_trial_props`."
   ]
  },
  {
   "cell_type": "code",
   "execution_count": 214,
   "metadata": {},
   "outputs": [
    {
     "data": {
      "text/html": [
       "<div>\n",
       "<style>\n",
       "    .dataframe thead tr:only-child th {\n",
       "        text-align: right;\n",
       "    }\n",
       "\n",
       "    .dataframe thead th {\n",
       "        text-align: left;\n",
       "    }\n",
       "\n",
       "    .dataframe tbody tr th {\n",
       "        vertical-align: top;\n",
       "    }\n",
       "</style>\n",
       "<table border=\"1\" class=\"dataframe\">\n",
       "  <thead>\n",
       "    <tr style=\"text-align: right;\">\n",
       "      <th></th>\n",
       "      <th></th>\n",
       "      <th>delay</th>\n",
       "      <th>input_method</th>\n",
       "      <th>target_radius</th>\n",
       "      <th>target_x</th>\n",
       "      <th>target_y</th>\n",
       "      <th>total_time</th>\n",
       "      <th>appr_speed_mean</th>\n",
       "      <th>appr_speed_median</th>\n",
       "      <th>x_max</th>\n",
       "    </tr>\n",
       "    <tr>\n",
       "      <th>user</th>\n",
       "      <th>trial</th>\n",
       "      <th></th>\n",
       "      <th></th>\n",
       "      <th></th>\n",
       "      <th></th>\n",
       "      <th></th>\n",
       "      <th></th>\n",
       "      <th></th>\n",
       "      <th></th>\n",
       "      <th></th>\n",
       "    </tr>\n",
       "  </thead>\n",
       "  <tbody>\n",
       "    <tr>\n",
       "      <th rowspan=\"5\" valign=\"top\">1226</th>\n",
       "      <th>5</th>\n",
       "      <td>2.136719</td>\n",
       "      <td>trackpad</td>\n",
       "      <td>6</td>\n",
       "      <td>-84</td>\n",
       "      <td>-84</td>\n",
       "      <td>3.607323</td>\n",
       "      <td>NaN</td>\n",
       "      <td>NaN</td>\n",
       "      <td>NaN</td>\n",
       "    </tr>\n",
       "    <tr>\n",
       "      <th>6</th>\n",
       "      <td>3.540913</td>\n",
       "      <td>trackpad</td>\n",
       "      <td>6</td>\n",
       "      <td>0</td>\n",
       "      <td>190</td>\n",
       "      <td>1.867664</td>\n",
       "      <td>NaN</td>\n",
       "      <td>NaN</td>\n",
       "      <td>NaN</td>\n",
       "    </tr>\n",
       "    <tr>\n",
       "      <th>7</th>\n",
       "      <td>3.688381</td>\n",
       "      <td>trackpad</td>\n",
       "      <td>6</td>\n",
       "      <td>-158</td>\n",
       "      <td>-158</td>\n",
       "      <td>1.645011</td>\n",
       "      <td>NaN</td>\n",
       "      <td>NaN</td>\n",
       "      <td>NaN</td>\n",
       "    </tr>\n",
       "    <tr>\n",
       "      <th>8</th>\n",
       "      <td>2.823134</td>\n",
       "      <td>trackpad</td>\n",
       "      <td>3</td>\n",
       "      <td>81</td>\n",
       "      <td>-81</td>\n",
       "      <td>1.776010</td>\n",
       "      <td>NaN</td>\n",
       "      <td>NaN</td>\n",
       "      <td>NaN</td>\n",
       "    </tr>\n",
       "    <tr>\n",
       "      <th>9</th>\n",
       "      <td>3.690253</td>\n",
       "      <td>trackpad</td>\n",
       "      <td>9</td>\n",
       "      <td>-157</td>\n",
       "      <td>157</td>\n",
       "      <td>1.567794</td>\n",
       "      <td>NaN</td>\n",
       "      <td>NaN</td>\n",
       "      <td>NaN</td>\n",
       "    </tr>\n",
       "  </tbody>\n",
       "</table>\n",
       "</div>"
      ],
      "text/plain": [
       "               delay input_method  target_radius  target_x  target_y  \\\n",
       "user trial                                                             \n",
       "1226 5      2.136719     trackpad              6       -84       -84   \n",
       "     6      3.540913     trackpad              6         0       190   \n",
       "     7      3.688381     trackpad              6      -158      -158   \n",
       "     8      2.823134     trackpad              3        81       -81   \n",
       "     9      3.690253     trackpad              9      -157       157   \n",
       "\n",
       "            total_time  appr_speed_mean  appr_speed_median  x_max  \n",
       "user trial                                                         \n",
       "1226 5        3.607323              NaN                NaN    NaN  \n",
       "     6        1.867664              NaN                NaN    NaN  \n",
       "     7        1.645011              NaN                NaN    NaN  \n",
       "     8        1.776010              NaN                NaN    NaN  \n",
       "     9        1.567794              NaN                NaN    NaN  "
      ]
     },
     "execution_count": 214,
     "metadata": {},
     "output_type": "execute_result"
    }
   ],
   "source": [
    "df_results = df_user_trial_props.join(df_features)\n",
    "df_results.head()"
   ]
  },
  {
   "cell_type": "markdown",
   "metadata": {},
   "source": [
    "Because only the paths of a few users are stored in `df_fitts`, for most users we could not compute the features, and they appear as `NaN`s in the table above. However, if we remove those, we can see that the features were added."
   ]
  },
  {
   "cell_type": "code",
   "execution_count": 215,
   "metadata": {},
   "outputs": [
    {
     "data": {
      "text/html": [
       "<div>\n",
       "<style>\n",
       "    .dataframe thead tr:only-child th {\n",
       "        text-align: right;\n",
       "    }\n",
       "\n",
       "    .dataframe thead th {\n",
       "        text-align: left;\n",
       "    }\n",
       "\n",
       "    .dataframe tbody tr th {\n",
       "        vertical-align: top;\n",
       "    }\n",
       "</style>\n",
       "<table border=\"1\" class=\"dataframe\">\n",
       "  <thead>\n",
       "    <tr style=\"text-align: right;\">\n",
       "      <th></th>\n",
       "      <th></th>\n",
       "      <th>delay</th>\n",
       "      <th>input_method</th>\n",
       "      <th>target_radius</th>\n",
       "      <th>target_x</th>\n",
       "      <th>target_y</th>\n",
       "      <th>total_time</th>\n",
       "      <th>appr_speed_mean</th>\n",
       "      <th>appr_speed_median</th>\n",
       "      <th>x_max</th>\n",
       "    </tr>\n",
       "    <tr>\n",
       "      <th>user</th>\n",
       "      <th>trial</th>\n",
       "      <th></th>\n",
       "      <th></th>\n",
       "      <th></th>\n",
       "      <th></th>\n",
       "      <th></th>\n",
       "      <th></th>\n",
       "      <th></th>\n",
       "      <th></th>\n",
       "      <th></th>\n",
       "    </tr>\n",
       "  </thead>\n",
       "  <tbody>\n",
       "    <tr>\n",
       "      <th rowspan=\"5\" valign=\"top\">1164</th>\n",
       "      <th>5</th>\n",
       "      <td>2.387640</td>\n",
       "      <td>mouse</td>\n",
       "      <td>9</td>\n",
       "      <td>103</td>\n",
       "      <td>-103</td>\n",
       "      <td>0.690162</td>\n",
       "      <td>0.274753</td>\n",
       "      <td>0.160916</td>\n",
       "      <td>111.0</td>\n",
       "    </tr>\n",
       "    <tr>\n",
       "      <th>6</th>\n",
       "      <td>3.133959</td>\n",
       "      <td>mouse</td>\n",
       "      <td>9</td>\n",
       "      <td>169</td>\n",
       "      <td>169</td>\n",
       "      <td>0.987574</td>\n",
       "      <td>0.311535</td>\n",
       "      <td>0.062526</td>\n",
       "      <td>180.0</td>\n",
       "    </tr>\n",
       "    <tr>\n",
       "      <th>7</th>\n",
       "      <td>3.481099</td>\n",
       "      <td>mouse</td>\n",
       "      <td>3</td>\n",
       "      <td>0</td>\n",
       "      <td>-147</td>\n",
       "      <td>1.054624</td>\n",
       "      <td>0.150710</td>\n",
       "      <td>0.001744</td>\n",
       "      <td>13.0</td>\n",
       "    </tr>\n",
       "    <tr>\n",
       "      <th>8</th>\n",
       "      <td>2.680347</td>\n",
       "      <td>mouse</td>\n",
       "      <td>3</td>\n",
       "      <td>0</td>\n",
       "      <td>170</td>\n",
       "      <td>0.884709</td>\n",
       "      <td>0.195260</td>\n",
       "      <td>0.006782</td>\n",
       "      <td>1.0</td>\n",
       "    </tr>\n",
       "    <tr>\n",
       "      <th>9</th>\n",
       "      <td>2.447131</td>\n",
       "      <td>mouse</td>\n",
       "      <td>6</td>\n",
       "      <td>-199</td>\n",
       "      <td>-199</td>\n",
       "      <td>1.440885</td>\n",
       "      <td>0.252423</td>\n",
       "      <td>0.060087</td>\n",
       "      <td>0.0</td>\n",
       "    </tr>\n",
       "  </tbody>\n",
       "</table>\n",
       "</div>"
      ],
      "text/plain": [
       "               delay input_method  target_radius  target_x  target_y  \\\n",
       "user trial                                                             \n",
       "1164 5      2.387640        mouse              9       103      -103   \n",
       "     6      3.133959        mouse              9       169       169   \n",
       "     7      3.481099        mouse              3         0      -147   \n",
       "     8      2.680347        mouse              3         0       170   \n",
       "     9      2.447131        mouse              6      -199      -199   \n",
       "\n",
       "            total_time  appr_speed_mean  appr_speed_median  x_max  \n",
       "user trial                                                         \n",
       "1164 5        0.690162         0.274753           0.160916  111.0  \n",
       "     6        0.987574         0.311535           0.062526  180.0  \n",
       "     7        1.054624         0.150710           0.001744   13.0  \n",
       "     8        0.884709         0.195260           0.006782    1.0  \n",
       "     9        1.440885         0.252423           0.060087    0.0  "
      ]
     },
     "execution_count": 215,
     "metadata": {},
     "output_type": "execute_result"
    }
   ],
   "source": [
    "df_results.dropna().head()"
   ]
  },
  {
   "cell_type": "markdown",
   "metadata": {},
   "source": [
    "### Exercise <span class=\"exercise\">2.c</span>: Compute total length per trajectory\n",
    "\n",
    "Compute the total path length for each trajectory and join the result with the dataframe `df_results`. Call the resulting dataframe `df_fitts_results`. Make sure that the column containing the total length is called `'total_length'`."
   ]
  },
  {
   "cell_type": "code",
   "execution_count": 216,
   "metadata": {},
   "outputs": [
    {
     "data": {
      "text/html": [
       "<div>\n",
       "<style>\n",
       "    .dataframe thead tr:only-child th {\n",
       "        text-align: right;\n",
       "    }\n",
       "\n",
       "    .dataframe thead th {\n",
       "        text-align: left;\n",
       "    }\n",
       "\n",
       "    .dataframe tbody tr th {\n",
       "        vertical-align: top;\n",
       "    }\n",
       "</style>\n",
       "<table border=\"1\" class=\"dataframe\">\n",
       "  <thead>\n",
       "    <tr style=\"text-align: right;\">\n",
       "      <th></th>\n",
       "      <th></th>\n",
       "      <th>delay</th>\n",
       "      <th>input_method</th>\n",
       "      <th>target_radius</th>\n",
       "      <th>target_x</th>\n",
       "      <th>target_y</th>\n",
       "      <th>total_time</th>\n",
       "      <th>appr_speed_mean</th>\n",
       "      <th>appr_speed_median</th>\n",
       "      <th>x_max</th>\n",
       "      <th>total_length</th>\n",
       "    </tr>\n",
       "    <tr>\n",
       "      <th>user</th>\n",
       "      <th>trial</th>\n",
       "      <th></th>\n",
       "      <th></th>\n",
       "      <th></th>\n",
       "      <th></th>\n",
       "      <th></th>\n",
       "      <th></th>\n",
       "      <th></th>\n",
       "      <th></th>\n",
       "      <th></th>\n",
       "      <th></th>\n",
       "    </tr>\n",
       "  </thead>\n",
       "  <tbody>\n",
       "    <tr>\n",
       "      <th rowspan=\"5\" valign=\"top\">1164</th>\n",
       "      <th>5</th>\n",
       "      <td>2.387640</td>\n",
       "      <td>mouse</td>\n",
       "      <td>9</td>\n",
       "      <td>103</td>\n",
       "      <td>-103</td>\n",
       "      <td>0.690162</td>\n",
       "      <td>0.274753</td>\n",
       "      <td>0.160916</td>\n",
       "      <td>111.0</td>\n",
       "      <td>197.870190</td>\n",
       "    </tr>\n",
       "    <tr>\n",
       "      <th>6</th>\n",
       "      <td>3.133959</td>\n",
       "      <td>mouse</td>\n",
       "      <td>9</td>\n",
       "      <td>169</td>\n",
       "      <td>169</td>\n",
       "      <td>0.987574</td>\n",
       "      <td>0.311535</td>\n",
       "      <td>0.062526</td>\n",
       "      <td>180.0</td>\n",
       "      <td>317.971787</td>\n",
       "    </tr>\n",
       "    <tr>\n",
       "      <th>7</th>\n",
       "      <td>3.481099</td>\n",
       "      <td>mouse</td>\n",
       "      <td>3</td>\n",
       "      <td>0</td>\n",
       "      <td>-147</td>\n",
       "      <td>1.054624</td>\n",
       "      <td>0.150710</td>\n",
       "      <td>0.001744</td>\n",
       "      <td>13.0</td>\n",
       "      <td>162.938277</td>\n",
       "    </tr>\n",
       "    <tr>\n",
       "      <th>8</th>\n",
       "      <td>2.680347</td>\n",
       "      <td>mouse</td>\n",
       "      <td>3</td>\n",
       "      <td>0</td>\n",
       "      <td>170</td>\n",
       "      <td>0.884709</td>\n",
       "      <td>0.195260</td>\n",
       "      <td>0.006782</td>\n",
       "      <td>1.0</td>\n",
       "      <td>179.716716</td>\n",
       "    </tr>\n",
       "    <tr>\n",
       "      <th>9</th>\n",
       "      <td>2.447131</td>\n",
       "      <td>mouse</td>\n",
       "      <td>6</td>\n",
       "      <td>-199</td>\n",
       "      <td>-199</td>\n",
       "      <td>1.440885</td>\n",
       "      <td>0.252423</td>\n",
       "      <td>0.060087</td>\n",
       "      <td>0.0</td>\n",
       "      <td>368.915922</td>\n",
       "    </tr>\n",
       "  </tbody>\n",
       "</table>\n",
       "</div>"
      ],
      "text/plain": [
       "               delay input_method  target_radius  target_x  target_y  \\\n",
       "user trial                                                             \n",
       "1164 5      2.387640        mouse              9       103      -103   \n",
       "     6      3.133959        mouse              9       169       169   \n",
       "     7      3.481099        mouse              3         0      -147   \n",
       "     8      2.680347        mouse              3         0       170   \n",
       "     9      2.447131        mouse              6      -199      -199   \n",
       "\n",
       "            total_time  appr_speed_mean  appr_speed_median  x_max  \\\n",
       "user trial                                                          \n",
       "1164 5        0.690162         0.274753           0.160916  111.0   \n",
       "     6        0.987574         0.311535           0.062526  180.0   \n",
       "     7        1.054624         0.150710           0.001744   13.0   \n",
       "     8        0.884709         0.195260           0.006782    1.0   \n",
       "     9        1.440885         0.252423           0.060087    0.0   \n",
       "\n",
       "            total_length  \n",
       "user trial                \n",
       "1164 5        197.870190  \n",
       "     6        317.971787  \n",
       "     7        162.938277  \n",
       "     8        179.716716  \n",
       "     9        368.915922  "
      ]
     },
     "execution_count": 216,
     "metadata": {},
     "output_type": "execute_result"
    }
   ],
   "source": [
    "#// BEGIN_TODO [DAS_2c] Compute total length per trajectory (1 point)\n",
    "\n",
    "df_total_path = df_fitts.groupby(['user', 'trial']).agg({'path_length': ['max']})\n",
    "df_total_path.columns = ['total_length']\n",
    "df_fitts_results = df_results.join(df_total_path)\n",
    "\n",
    "#// END_TODO [DAS_2c]\n",
    "\n",
    "df_fitts_results.dropna().head()"
   ]
  },
  {
   "cell_type": "markdown",
   "metadata": {},
   "source": [
    "### Exercise <span class=\"exercise\">2.d</span>: Compare mean and median total length per input method\n",
    "\n",
    "Compare the mean and median total length per input method. The result should be a dataframe indexed by input method and have columns containing the mean and the median total length."
   ]
  },
  {
   "cell_type": "code",
   "execution_count": 217,
   "metadata": {},
   "outputs": [
    {
     "data": {
      "text/html": [
       "<div>\n",
       "<style>\n",
       "    .dataframe thead tr:only-child th {\n",
       "        text-align: right;\n",
       "    }\n",
       "\n",
       "    .dataframe thead th {\n",
       "        text-align: left;\n",
       "    }\n",
       "\n",
       "    .dataframe tbody tr th {\n",
       "        vertical-align: top;\n",
       "    }\n",
       "</style>\n",
       "<table border=\"1\" class=\"dataframe\">\n",
       "  <thead>\n",
       "    <tr>\n",
       "      <th></th>\n",
       "      <th colspan=\"2\" halign=\"left\">total_length</th>\n",
       "    </tr>\n",
       "    <tr>\n",
       "      <th></th>\n",
       "      <th>mean</th>\n",
       "      <th>median</th>\n",
       "    </tr>\n",
       "    <tr>\n",
       "      <th>input_method</th>\n",
       "      <th></th>\n",
       "      <th></th>\n",
       "    </tr>\n",
       "  </thead>\n",
       "  <tbody>\n",
       "    <tr>\n",
       "      <th>mouse</th>\n",
       "      <td>223.799623</td>\n",
       "      <td>218.504832</td>\n",
       "    </tr>\n",
       "    <tr>\n",
       "      <th>trackpad</th>\n",
       "      <td>223.590177</td>\n",
       "      <td>221.760541</td>\n",
       "    </tr>\n",
       "  </tbody>\n",
       "</table>\n",
       "</div>"
      ],
      "text/plain": [
       "             total_length            \n",
       "                     mean      median\n",
       "input_method                         \n",
       "mouse          223.799623  218.504832\n",
       "trackpad       223.590177  221.760541"
      ]
     },
     "execution_count": 217,
     "metadata": {},
     "output_type": "execute_result"
    }
   ],
   "source": [
    "#// BEGIN_TODO [DAS_2d] Mean and median per input method (1 point)\n",
    "\n",
    "# df_speeds = df_fitts.groupby(['user','trial'])[['approximate_speed']].mean()\n",
    "# df_features = df_fitts.groupby(['user','trial']).agg({'approximate_speed':['mean','median'], 'x':['max']})\n",
    "# df_features.columns=['appr_speed_mean', 'appr_speed_median', 'x_max']\n",
    "# df_results = df_user_trial_props.join(df_features)\n",
    "\n",
    "# df_total_length_mean = df_fitts.groupby(['input_method'])[['total_length']].mean()\n",
    "# df_total_length_median = df_fitts.groupby(['input_method'])[['total_length']].median()\n",
    "# df_total_length = df_total_length_mean.join(df_total_length_median)\n",
    "\n",
    "\n",
    "df_mfeatures = df_fitts_results.groupby(['input_method']).agg({'total_length':['mean','median']})\n",
    "df_mfeatures\n",
    "\n",
    "#// END_TODO [DAS_2d]"
   ]
  },
  {
   "cell_type": "markdown",
   "metadata": {},
   "source": [
    "Do you see any differences in path lengths between mouse trajectories and trackpad trajectories? \n",
    "\n",
    "Let us now compare total times instead... Let's not only compute two statistics of the data, the median and the mean, but instead look at the distribution of the total times. "
   ]
  },
  {
   "cell_type": "markdown",
   "metadata": {},
   "source": [
    "# <span class=\"section\">3.</span> Empirical cumulative distribution functions\n",
    "\n",
    "To better compare the total times for mouse and trackpad trajectories, we will now look at their empirical cumulative distribution functions (ECDFs). If $x_1, \\dots, x_N$ are the $N$ outcomes of an experiment, the ECDF, evaluated in $x$, is defined as the number $N_x$ of indices $i$ such that $x_i \\leq x$, divided by $N$:\n",
    "\n",
    "$$\n",
    "\\mathrm{ECDF}(x) = \\frac{N_x}{N}= \\frac{1}{N} \\# \\{ i \\ |\\ x_i \\leq x \\}. \n",
    "$$\n",
    "\n",
    "We will show how to compute and plot the ECDF. \n",
    "\n",
    "Although the Python library _statsmodels_ provides a function `ECDF()` that can compute the ECDF for you, we present how to compute the ECDF by hand. This way we will get to know and practice with very useful _Pandas_ functions **`value_counts()`** and **`sort_index()`** and we will get more insight in what the ECDF actually is. Moreover, plotting an ECDF remains a bit tricky: using the library function provides almost no advantage.\n",
    "\n",
    "Let us consider a made-up experiment with outcomes `[5,3,5,7,1]`."
   ]
  },
  {
   "cell_type": "code",
   "execution_count": 218,
   "metadata": {},
   "outputs": [
    {
     "data": {
      "text/html": [
       "<div>\n",
       "<style>\n",
       "    .dataframe thead tr:only-child th {\n",
       "        text-align: right;\n",
       "    }\n",
       "\n",
       "    .dataframe thead th {\n",
       "        text-align: left;\n",
       "    }\n",
       "\n",
       "    .dataframe tbody tr th {\n",
       "        vertical-align: top;\n",
       "    }\n",
       "</style>\n",
       "<table border=\"1\" class=\"dataframe\">\n",
       "  <thead>\n",
       "    <tr style=\"text-align: right;\">\n",
       "      <th></th>\n",
       "      <th>outcome</th>\n",
       "    </tr>\n",
       "  </thead>\n",
       "  <tbody>\n",
       "    <tr>\n",
       "      <th>0</th>\n",
       "      <td>5</td>\n",
       "    </tr>\n",
       "    <tr>\n",
       "      <th>1</th>\n",
       "      <td>3</td>\n",
       "    </tr>\n",
       "    <tr>\n",
       "      <th>2</th>\n",
       "      <td>5</td>\n",
       "    </tr>\n",
       "    <tr>\n",
       "      <th>3</th>\n",
       "      <td>7</td>\n",
       "    </tr>\n",
       "    <tr>\n",
       "      <th>4</th>\n",
       "      <td>1</td>\n",
       "    </tr>\n",
       "  </tbody>\n",
       "</table>\n",
       "</div>"
      ],
      "text/plain": [
       "   outcome\n",
       "0        5\n",
       "1        3\n",
       "2        5\n",
       "3        7\n",
       "4        1"
      ]
     },
     "execution_count": 218,
     "metadata": {},
     "output_type": "execute_result"
    }
   ],
   "source": [
    "df_experiment = pd.DataFrame([5,3,5,7,1], columns=['outcome']) \n",
    "df_experiment"
   ]
  },
  {
   "cell_type": "markdown",
   "metadata": {},
   "source": [
    "To determine the ECDF, we first want to know, for every value appearing in the `'outcome'` column, how often it occurs. For this, we use the _Pandas_ function **`value_counts()`**."
   ]
  },
  {
   "cell_type": "code",
   "execution_count": 219,
   "metadata": {},
   "outputs": [
    {
     "data": {
      "text/plain": [
       "5    2\n",
       "7    1\n",
       "3    1\n",
       "1    1\n",
       "Name: outcome, dtype: int64"
      ]
     },
     "execution_count": 219,
     "metadata": {},
     "output_type": "execute_result"
    }
   ],
   "source": [
    "df_experiment['outcome'].value_counts()"
   ]
  },
  {
   "cell_type": "markdown",
   "metadata": {},
   "source": [
    "We interpret the result of `value_counts()` as follows: The value `5` appears `2` times in the `'outcome'` column, the value `7` appears `1` time, as do the values `3` and `1`. We rename the Series to `'counts'`, and convert it to a dataframe `df_counts`."
   ]
  },
  {
   "cell_type": "code",
   "execution_count": 220,
   "metadata": {},
   "outputs": [
    {
     "data": {
      "text/html": [
       "<div>\n",
       "<style>\n",
       "    .dataframe thead tr:only-child th {\n",
       "        text-align: right;\n",
       "    }\n",
       "\n",
       "    .dataframe thead th {\n",
       "        text-align: left;\n",
       "    }\n",
       "\n",
       "    .dataframe tbody tr th {\n",
       "        vertical-align: top;\n",
       "    }\n",
       "</style>\n",
       "<table border=\"1\" class=\"dataframe\">\n",
       "  <thead>\n",
       "    <tr style=\"text-align: right;\">\n",
       "      <th></th>\n",
       "      <th>counts</th>\n",
       "    </tr>\n",
       "  </thead>\n",
       "  <tbody>\n",
       "    <tr>\n",
       "      <th>5</th>\n",
       "      <td>2</td>\n",
       "    </tr>\n",
       "    <tr>\n",
       "      <th>7</th>\n",
       "      <td>1</td>\n",
       "    </tr>\n",
       "    <tr>\n",
       "      <th>3</th>\n",
       "      <td>1</td>\n",
       "    </tr>\n",
       "    <tr>\n",
       "      <th>1</th>\n",
       "      <td>1</td>\n",
       "    </tr>\n",
       "  </tbody>\n",
       "</table>\n",
       "</div>"
      ],
      "text/plain": [
       "   counts\n",
       "5       2\n",
       "7       1\n",
       "3       1\n",
       "1       1"
      ]
     },
     "execution_count": 220,
     "metadata": {},
     "output_type": "execute_result"
    }
   ],
   "source": [
    "df_counts = pd.DataFrame( df_experiment['outcome'].value_counts().rename('counts') )\n",
    "df_counts"
   ]
  },
  {
   "cell_type": "markdown",
   "metadata": {},
   "source": [
    "Next, we want to sort the index. This will later allow us to compute the ECDF efficiently."
   ]
  },
  {
   "cell_type": "code",
   "execution_count": 221,
   "metadata": {},
   "outputs": [
    {
     "data": {
      "text/html": [
       "<div>\n",
       "<style>\n",
       "    .dataframe thead tr:only-child th {\n",
       "        text-align: right;\n",
       "    }\n",
       "\n",
       "    .dataframe thead th {\n",
       "        text-align: left;\n",
       "    }\n",
       "\n",
       "    .dataframe tbody tr th {\n",
       "        vertical-align: top;\n",
       "    }\n",
       "</style>\n",
       "<table border=\"1\" class=\"dataframe\">\n",
       "  <thead>\n",
       "    <tr style=\"text-align: right;\">\n",
       "      <th></th>\n",
       "      <th>counts</th>\n",
       "    </tr>\n",
       "  </thead>\n",
       "  <tbody>\n",
       "    <tr>\n",
       "      <th>1</th>\n",
       "      <td>1</td>\n",
       "    </tr>\n",
       "    <tr>\n",
       "      <th>3</th>\n",
       "      <td>1</td>\n",
       "    </tr>\n",
       "    <tr>\n",
       "      <th>5</th>\n",
       "      <td>2</td>\n",
       "    </tr>\n",
       "    <tr>\n",
       "      <th>7</th>\n",
       "      <td>1</td>\n",
       "    </tr>\n",
       "  </tbody>\n",
       "</table>\n",
       "</div>"
      ],
      "text/plain": [
       "   counts\n",
       "1       1\n",
       "3       1\n",
       "5       2\n",
       "7       1"
      ]
     },
     "execution_count": 221,
     "metadata": {},
     "output_type": "execute_result"
    }
   ],
   "source": [
    "df_counts.sort_index(inplace=True)\n",
    "df_counts"
   ]
  },
  {
   "cell_type": "markdown",
   "metadata": {},
   "source": [
    "The ECDF can now be computed easily. To find the ECDF evaluated in a point $x$, we need two pieces of information\n",
    "* The number $N_x$ of outcomes smaller than or equal to $x$\n",
    "* The total number of outcomes $N$\n",
    "\n",
    "Then $\\mathrm{ECDF}(x) = N_x/ N$.\n",
    "Therefore, the ECDF evaluated at the `index` in the dataframe above, is equal to the cumulative sum of the `'counts'` column, divided by $N$."
   ]
  },
  {
   "cell_type": "code",
   "execution_count": 222,
   "metadata": {},
   "outputs": [
    {
     "data": {
      "text/html": [
       "<div>\n",
       "<style>\n",
       "    .dataframe thead tr:only-child th {\n",
       "        text-align: right;\n",
       "    }\n",
       "\n",
       "    .dataframe thead th {\n",
       "        text-align: left;\n",
       "    }\n",
       "\n",
       "    .dataframe tbody tr th {\n",
       "        vertical-align: top;\n",
       "    }\n",
       "</style>\n",
       "<table border=\"1\" class=\"dataframe\">\n",
       "  <thead>\n",
       "    <tr style=\"text-align: right;\">\n",
       "      <th></th>\n",
       "      <th>counts</th>\n",
       "      <th>ecdf</th>\n",
       "    </tr>\n",
       "  </thead>\n",
       "  <tbody>\n",
       "    <tr>\n",
       "      <th>1</th>\n",
       "      <td>1</td>\n",
       "      <td>0.2</td>\n",
       "    </tr>\n",
       "    <tr>\n",
       "      <th>3</th>\n",
       "      <td>1</td>\n",
       "      <td>0.4</td>\n",
       "    </tr>\n",
       "    <tr>\n",
       "      <th>5</th>\n",
       "      <td>2</td>\n",
       "      <td>0.8</td>\n",
       "    </tr>\n",
       "    <tr>\n",
       "      <th>7</th>\n",
       "      <td>1</td>\n",
       "      <td>1.0</td>\n",
       "    </tr>\n",
       "  </tbody>\n",
       "</table>\n",
       "</div>"
      ],
      "text/plain": [
       "   counts  ecdf\n",
       "1       1   0.2\n",
       "3       1   0.4\n",
       "5       2   0.8\n",
       "7       1   1.0"
      ]
     },
     "execution_count": 222,
     "metadata": {},
     "output_type": "execute_result"
    }
   ],
   "source": [
    "df_counts['ecdf'] = df_counts['counts'].cumsum() / df_counts['counts'].sum()\n",
    "df_counts"
   ]
  },
  {
   "cell_type": "markdown",
   "metadata": {},
   "source": [
    "Plotting the ECDF is in fact quite tricky. A graph of an ECDF is a step function, i.e. piecewise flat. To achieve this, we provide the keyword argument `drawstyle ='steps-post'`. "
   ]
  },
  {
   "cell_type": "code",
   "execution_count": 223,
   "metadata": {},
   "outputs": [
    {
     "data": {
      "text/plain": [
       "(0, 10)"
      ]
     },
     "execution_count": 223,
     "metadata": {},
     "output_type": "execute_result"
    },
    {
     "data": {
      "image/png": "[encoded data removed]",
      "text/plain": [
       "<matplotlib.figure.Figure at 0x1567a566748>"
      ]
     },
     "metadata": {},
     "output_type": "display_data"
    }
   ],
   "source": [
    "ax = df_counts[['ecdf']].plot(drawstyle='steps-post')\n",
    "ax.set_xlim(0,10)"
   ]
  },
  {
   "cell_type": "markdown",
   "metadata": {},
   "source": [
    "The graph has a major flaw: it suddenly starts at the smallest recorded outcome, and stops at the largest recorded outcome, even though the ECDF is actually defined on the whole real line. We want to draw the graph for the whole plot range, which for our example above means that we want to plot the ECDF from `x=0` to `x=10`.\n",
    "\n",
    "Therefore, we copy the `'ecdf'` column of the dataframe `df_counts` to a dataframe `df_ecdf` and add two more $x$-values to the dataframe `df_ecdf` together with the corresponding value of the ECDF: \n",
    "* one value of $x$ much smaller than the smallest recorded outcome, e.g. $x = -2000$, so the ECDF in that point is $\\mathrm{ECDF}(-2000) = 0$. \n",
    "* one value of $x$ much larger than the largest recorded outcome, e.g. $x = 2000$, so the ECDF in that point is $\\mathrm{ECDF}(2000) = 1$.\n",
    "\n",
    "> **Note:** The precise values $x=-2000$ and $x=2000$ are not important. For the plotting it only matters that the first value is smaller than the left boundary of the plot, and the second is larger than the right boundary. We choose our values _much_ smaller and _much_ larger respectively, so that we don't have to change the values if we change our mind about our desired plot range."
   ]
  },
  {
   "cell_type": "code",
   "execution_count": 224,
   "metadata": {},
   "outputs": [
    {
     "data": {
      "text/html": [
       "<div>\n",
       "<style>\n",
       "    .dataframe thead tr:only-child th {\n",
       "        text-align: right;\n",
       "    }\n",
       "\n",
       "    .dataframe thead th {\n",
       "        text-align: left;\n",
       "    }\n",
       "\n",
       "    .dataframe tbody tr th {\n",
       "        vertical-align: top;\n",
       "    }\n",
       "</style>\n",
       "<table border=\"1\" class=\"dataframe\">\n",
       "  <thead>\n",
       "    <tr style=\"text-align: right;\">\n",
       "      <th></th>\n",
       "      <th>ecdf</th>\n",
       "    </tr>\n",
       "  </thead>\n",
       "  <tbody>\n",
       "    <tr>\n",
       "      <th>1</th>\n",
       "      <td>0.2</td>\n",
       "    </tr>\n",
       "    <tr>\n",
       "      <th>3</th>\n",
       "      <td>0.4</td>\n",
       "    </tr>\n",
       "    <tr>\n",
       "      <th>5</th>\n",
       "      <td>0.8</td>\n",
       "    </tr>\n",
       "    <tr>\n",
       "      <th>7</th>\n",
       "      <td>1.0</td>\n",
       "    </tr>\n",
       "    <tr>\n",
       "      <th>-2000</th>\n",
       "      <td>0.0</td>\n",
       "    </tr>\n",
       "    <tr>\n",
       "      <th>2000</th>\n",
       "      <td>1.0</td>\n",
       "    </tr>\n",
       "  </tbody>\n",
       "</table>\n",
       "</div>"
      ],
      "text/plain": [
       "       ecdf\n",
       " 1      0.2\n",
       " 3      0.4\n",
       " 5      0.8\n",
       " 7      1.0\n",
       "-2000   0.0\n",
       " 2000   1.0"
      ]
     },
     "execution_count": 224,
     "metadata": {},
     "output_type": "execute_result"
    }
   ],
   "source": [
    "df_ecdf = df_counts[['ecdf']].copy()\n",
    "df_ecdf.loc[-2000,'ecdf'] = 0\n",
    "df_ecdf.loc[2000,'ecdf'] = 1\n",
    "df_ecdf"
   ]
  },
  {
   "cell_type": "markdown",
   "metadata": {},
   "source": [
    "We sort once more the dataframe by the index."
   ]
  },
  {
   "cell_type": "code",
   "execution_count": 225,
   "metadata": {},
   "outputs": [
    {
     "data": {
      "text/html": [
       "<div>\n",
       "<style>\n",
       "    .dataframe thead tr:only-child th {\n",
       "        text-align: right;\n",
       "    }\n",
       "\n",
       "    .dataframe thead th {\n",
       "        text-align: left;\n",
       "    }\n",
       "\n",
       "    .dataframe tbody tr th {\n",
       "        vertical-align: top;\n",
       "    }\n",
       "</style>\n",
       "<table border=\"1\" class=\"dataframe\">\n",
       "  <thead>\n",
       "    <tr style=\"text-align: right;\">\n",
       "      <th></th>\n",
       "      <th>ecdf</th>\n",
       "    </tr>\n",
       "  </thead>\n",
       "  <tbody>\n",
       "    <tr>\n",
       "      <th>-2000</th>\n",
       "      <td>0.0</td>\n",
       "    </tr>\n",
       "    <tr>\n",
       "      <th>1</th>\n",
       "      <td>0.2</td>\n",
       "    </tr>\n",
       "    <tr>\n",
       "      <th>3</th>\n",
       "      <td>0.4</td>\n",
       "    </tr>\n",
       "    <tr>\n",
       "      <th>5</th>\n",
       "      <td>0.8</td>\n",
       "    </tr>\n",
       "    <tr>\n",
       "      <th>7</th>\n",
       "      <td>1.0</td>\n",
       "    </tr>\n",
       "    <tr>\n",
       "      <th>2000</th>\n",
       "      <td>1.0</td>\n",
       "    </tr>\n",
       "  </tbody>\n",
       "</table>\n",
       "</div>"
      ],
      "text/plain": [
       "       ecdf\n",
       "-2000   0.0\n",
       " 1      0.2\n",
       " 3      0.4\n",
       " 5      0.8\n",
       " 7      1.0\n",
       " 2000   1.0"
      ]
     },
     "execution_count": 225,
     "metadata": {},
     "output_type": "execute_result"
    }
   ],
   "source": [
    "df_ecdf.sort_index(inplace=True)\n",
    "df_ecdf"
   ]
  },
  {
   "cell_type": "markdown",
   "metadata": {},
   "source": [
    "Now we are finally ready to plot the ECDF. "
   ]
  },
  {
   "cell_type": "code",
   "execution_count": 226,
   "metadata": {},
   "outputs": [
    {
     "data": {
      "image/png": "[encoded data removed]",
      "text/plain": [
       "<matplotlib.figure.Figure at 0x1567a4adb70>"
      ]
     },
     "metadata": {},
     "output_type": "display_data"
    }
   ],
   "source": [
    "ax = df_ecdf['ecdf'].plot( drawstyle ='steps-post' )\n",
    "ax.set_xlim(0, 10)\n",
    "ax.set_xlabel('outcome')\n",
    "ax.set_title('ECDF', fontsize=14);"
   ]
  },
  {
   "cell_type": "markdown",
   "metadata": {},
   "source": [
    "## Exercises: compare ECDFs for mouse a trackpad trajectories\n",
    "\n",
    "To get more insight into the differences in total times needed to reach a target by using a mouse versus a trackpad, we aim to plot both the ECDF for the total times for the mouse trajectories and the ECDF for the trackpad trajectories in one figure. This is a rather big task, and we split it up in several exercises for the mouse trajectories. Afterwards, you can apply the same steps for the trackpad trajectories."
   ]
  },
  {
   "cell_type": "markdown",
   "metadata": {},
   "source": [
    "### Exercise <span class=\"exercise\">3.a</span>\n",
    "\n",
    "Use the dataframe `df_user_trial_props` to create a dataframes `df_mouse`. The dataframe `df_mouse` should contain the total time of all trajectories that were recorded with a **mouse**. "
   ]
  },
  {
   "cell_type": "code",
   "execution_count": 231,
   "metadata": {},
   "outputs": [
    {
     "data": {
      "text/html": [
       "<div>\n",
       "<style>\n",
       "    .dataframe thead tr:only-child th {\n",
       "        text-align: right;\n",
       "    }\n",
       "\n",
       "    .dataframe thead th {\n",
       "        text-align: left;\n",
       "    }\n",
       "\n",
       "    .dataframe tbody tr th {\n",
       "        vertical-align: top;\n",
       "    }\n",
       "</style>\n",
       "<table border=\"1\" class=\"dataframe\">\n",
       "  <thead>\n",
       "    <tr style=\"text-align: right;\">\n",
       "      <th></th>\n",
       "      <th></th>\n",
       "      <th>total_time</th>\n",
       "    </tr>\n",
       "    <tr>\n",
       "      <th>user</th>\n",
       "      <th>trial</th>\n",
       "      <th></th>\n",
       "    </tr>\n",
       "  </thead>\n",
       "  <tbody>\n",
       "    <tr>\n",
       "      <th rowspan=\"5\" valign=\"top\">1226</th>\n",
       "      <th>20</th>\n",
       "      <td>1.045089</td>\n",
       "    </tr>\n",
       "    <tr>\n",
       "      <th>21</th>\n",
       "      <td>1.078394</td>\n",
       "    </tr>\n",
       "    <tr>\n",
       "      <th>22</th>\n",
       "      <td>1.866229</td>\n",
       "    </tr>\n",
       "    <tr>\n",
       "      <th>23</th>\n",
       "      <td>0.959770</td>\n",
       "    </tr>\n",
       "    <tr>\n",
       "      <th>24</th>\n",
       "      <td>1.022803</td>\n",
       "    </tr>\n",
       "  </tbody>\n",
       "</table>\n",
       "</div>"
      ],
      "text/plain": [
       "            total_time\n",
       "user trial            \n",
       "1226 20       1.045089\n",
       "     21       1.078394\n",
       "     22       1.866229\n",
       "     23       0.959770\n",
       "     24       1.022803"
      ]
     },
     "execution_count": 231,
     "metadata": {},
     "output_type": "execute_result"
    }
   ],
   "source": [
    "#// BEGIN_TODO [DAS_3a] Total times mouse trajectories (1 point)\n",
    "\n",
    "mouses = df_user_trial_props['input_method'] == 'mouse'\n",
    "df_mouse = df_user_trial_props[mouses]\n",
    "\n",
    "#columns = ['delay', 'input_method', 'target_radius', 'target_x', 'target_y']\n",
    "df_mouse = df_mouse.drop('delay', axis=1)\n",
    "df_mouse = df_mouse.drop('input_method', axis=1)\n",
    "df_mouse = df_mouse.drop('target_radius', axis=1)\n",
    "df_mouse = df_mouse.drop('target_x', axis=1)\n",
    "df_mouse = df_mouse.drop('target_y', axis=1)\n",
    "# Use:\n",
    "# columns = ['Col1', 'Col2', ...]\n",
    "# df.drop(columns, inplace=True, axis=1)\n",
    "\n",
    "#// END_TODO [DAS_3a]\n",
    "\n",
    "df_mouse.head()"
   ]
  },
  {
   "cell_type": "markdown",
   "metadata": {},
   "source": [
    "### Exercise <span class=\"exercise\">3.b</span>\n",
    "\n",
    "Create a dataframe `df_mouse_counts` indexed by all total times occurring in the dataframe `df_mouse`. The dataframe `df_mouse_counts` should contain one column, labeled `'counts'`, which contains how often that total time occurs in `df_mouse`. Make sure that the indices are sorted."
   ]
  },
  {
   "cell_type": "code",
   "execution_count": 244,
   "metadata": {},
   "outputs": [
    {
     "data": {
      "text/html": [
       "<div>\n",
       "<style>\n",
       "    .dataframe thead tr:only-child th {\n",
       "        text-align: right;\n",
       "    }\n",
       "\n",
       "    .dataframe thead th {\n",
       "        text-align: left;\n",
       "    }\n",
       "\n",
       "    .dataframe tbody tr th {\n",
       "        vertical-align: top;\n",
       "    }\n",
       "</style>\n",
       "<table border=\"1\" class=\"dataframe\">\n",
       "  <thead>\n",
       "    <tr style=\"text-align: right;\">\n",
       "      <th></th>\n",
       "      <th>counts</th>\n",
       "    </tr>\n",
       "  </thead>\n",
       "  <tbody>\n",
       "    <tr>\n",
       "      <th>0.517859</th>\n",
       "      <td>1</td>\n",
       "    </tr>\n",
       "    <tr>\n",
       "      <th>0.546003</th>\n",
       "      <td>1</td>\n",
       "    </tr>\n",
       "    <tr>\n",
       "      <th>0.581902</th>\n",
       "      <td>1</td>\n",
       "    </tr>\n",
       "    <tr>\n",
       "      <th>0.593452</th>\n",
       "      <td>1</td>\n",
       "    </tr>\n",
       "    <tr>\n",
       "      <th>0.607618</th>\n",
       "      <td>1</td>\n",
       "    </tr>\n",
       "  </tbody>\n",
       "</table>\n",
       "</div>"
      ],
      "text/plain": [
       "          counts\n",
       "0.517859       1\n",
       "0.546003       1\n",
       "0.581902       1\n",
       "0.593452       1\n",
       "0.607618       1"
      ]
     },
     "execution_count": 244,
     "metadata": {},
     "output_type": "execute_result"
    }
   ],
   "source": [
    "#// BEGIN_TODO [DAS_3b] Count occurences total times (1 point)\n",
    "\n",
    "# df_experiment['outcome'].value_counts()\n",
    "# df_counts = pd.DataFrame( df_experiment['outcome'].value_counts().rename('counts') )\n",
    "# df_counts.sort_index(inplace=True)\n",
    "\n",
    "df_mouse_counts = pd.DataFrame( df_mouse['total_time'].value_counts().rename('counts'))\n",
    "df_mouse_counts.sort_index(inplace=True)\n",
    "#df_mouse_counts['total_time'] = df_mouse['total_time']\n",
    "#df_nasdaq = df_nasdaq.set_index('Date')[['Close']]\n",
    "#df_mouse_counts = df_mouse_counts.set_index('total_time')[['total_time']]\n",
    "\n",
    "#df_mouse_counts.sort_index(inplace=True)\n",
    "\n",
    "#// END_TODO [DAS_3b]\n",
    "\n",
    "df_mouse_counts.head()"
   ]
  },
  {
   "cell_type": "markdown",
   "metadata": {},
   "source": [
    "### Exercise <span class=\"exercise\">3.c</span>\n",
    "\n",
    "Add a column labeled `'ecdf'` to the dataframe `df_mouse_counts`, containing the value of the ECDF evaluated at the time in the index."
   ]
  },
  {
   "cell_type": "code",
   "execution_count": 246,
   "metadata": {},
   "outputs": [
    {
     "data": {
      "text/html": [
       "<div>\n",
       "<style>\n",
       "    .dataframe thead tr:only-child th {\n",
       "        text-align: right;\n",
       "    }\n",
       "\n",
       "    .dataframe thead th {\n",
       "        text-align: left;\n",
       "    }\n",
       "\n",
       "    .dataframe tbody tr th {\n",
       "        vertical-align: top;\n",
       "    }\n",
       "</style>\n",
       "<table border=\"1\" class=\"dataframe\">\n",
       "  <thead>\n",
       "    <tr style=\"text-align: right;\">\n",
       "      <th></th>\n",
       "      <th>counts</th>\n",
       "      <th>ecdf</th>\n",
       "    </tr>\n",
       "  </thead>\n",
       "  <tbody>\n",
       "    <tr>\n",
       "      <th>0.517859</th>\n",
       "      <td>1</td>\n",
       "      <td>0.000061</td>\n",
       "    </tr>\n",
       "    <tr>\n",
       "      <th>0.546003</th>\n",
       "      <td>1</td>\n",
       "      <td>0.000121</td>\n",
       "    </tr>\n",
       "    <tr>\n",
       "      <th>0.581902</th>\n",
       "      <td>1</td>\n",
       "      <td>0.000182</td>\n",
       "    </tr>\n",
       "    <tr>\n",
       "      <th>0.593452</th>\n",
       "      <td>1</td>\n",
       "      <td>0.000242</td>\n",
       "    </tr>\n",
       "    <tr>\n",
       "      <th>0.607618</th>\n",
       "      <td>1</td>\n",
       "      <td>0.000303</td>\n",
       "    </tr>\n",
       "  </tbody>\n",
       "</table>\n",
       "</div>"
      ],
      "text/plain": [
       "          counts      ecdf\n",
       "0.517859       1  0.000061\n",
       "0.546003       1  0.000121\n",
       "0.581902       1  0.000182\n",
       "0.593452       1  0.000242\n",
       "0.607618       1  0.000303"
      ]
     },
     "execution_count": 246,
     "metadata": {},
     "output_type": "execute_result"
    }
   ],
   "source": [
    "#// BEGIN_TODO [DAS_3c] Add column with ECDF (1 point)\n",
    "\n",
    "# df_counts['ecdf'] = df_counts['counts'].cumsum() / df_counts['counts'].sum()\n",
    "df_mouse_counts['ecdf'] = df_mouse_counts['counts'].cumsum() / df_mouse_counts['counts'].sum()\n",
    "\n",
    "#// END_TODO [DAS_3c]\n",
    "\n",
    "df_mouse_counts.head()"
   ]
  },
  {
   "cell_type": "markdown",
   "metadata": {},
   "source": [
    "### Exercise <span class=\"exercise\">3.d</span>\n",
    "\n",
    "Copy the `'ecdf'` column of the dataframe `df_mouse_counts` to a new dataframe `df_mouse_ecdf`. Add two new values of the ECDF to this dataframe, one at a very large negative time, and one at a very large positive time, let's say at time $-2000$ s and $2000$ s. Make sure that the index of the dataframe is sorted."
   ]
  },
  {
   "cell_type": "code",
   "execution_count": 247,
   "metadata": {},
   "outputs": [
    {
     "data": {
      "text/html": [
       "<div>\n",
       "<style>\n",
       "    .dataframe thead tr:only-child th {\n",
       "        text-align: right;\n",
       "    }\n",
       "\n",
       "    .dataframe thead th {\n",
       "        text-align: left;\n",
       "    }\n",
       "\n",
       "    .dataframe tbody tr th {\n",
       "        vertical-align: top;\n",
       "    }\n",
       "</style>\n",
       "<table border=\"1\" class=\"dataframe\">\n",
       "  <thead>\n",
       "    <tr style=\"text-align: right;\">\n",
       "      <th></th>\n",
       "      <th>ecdf</th>\n",
       "    </tr>\n",
       "  </thead>\n",
       "  <tbody>\n",
       "    <tr>\n",
       "      <th>-2000.000000</th>\n",
       "      <td>0.000000</td>\n",
       "    </tr>\n",
       "    <tr>\n",
       "      <th>0.517859</th>\n",
       "      <td>0.000061</td>\n",
       "    </tr>\n",
       "    <tr>\n",
       "      <th>0.546003</th>\n",
       "      <td>0.000121</td>\n",
       "    </tr>\n",
       "    <tr>\n",
       "      <th>0.581902</th>\n",
       "      <td>0.000182</td>\n",
       "    </tr>\n",
       "    <tr>\n",
       "      <th>0.593452</th>\n",
       "      <td>0.000242</td>\n",
       "    </tr>\n",
       "  </tbody>\n",
       "</table>\n",
       "</div>"
      ],
      "text/plain": [
       "                  ecdf\n",
       "-2000.000000  0.000000\n",
       " 0.517859     0.000061\n",
       " 0.546003     0.000121\n",
       " 0.581902     0.000182\n",
       " 0.593452     0.000242"
      ]
     },
     "execution_count": 247,
     "metadata": {},
     "output_type": "execute_result"
    }
   ],
   "source": [
    "#// BEGIN_TODO [DAS_3d] Add new values to ECDF dataframe (1 point)\n",
    "# df_ecdf = df_counts[['ecdf']].copy()\n",
    "# df_ecdf.loc[-2000,'ecdf'] = 0\n",
    "# df_ecdf.loc[2000,'ecdf'] = 1\n",
    "\n",
    "\n",
    "df_mouse_ecdf = df_mouse_counts[['ecdf']].copy()\n",
    "df_mouse_ecdf.loc[-2000,'ecdf'] = 0\n",
    "df_mouse_ecdf.loc[2000,'ecdf'] = 1\n",
    "\n",
    "df_mouse_ecdf.sort_index(inplace=True)\n",
    "\n",
    "# df_user_props['right_handed'] = df_user_props['right_handed'].astype(int)\n",
    "#df_mouse_ecdf['ecdf'] = df_mouse_ecdf['ecdf'].astype(int)\n",
    "\n",
    "#// END_TODO [DAS_3d]\n",
    "\n",
    "df_mouse_ecdf.head()"
   ]
  },
  {
   "cell_type": "markdown",
   "metadata": {},
   "source": [
    "> **Note:** When you are working towards a goal (such as plotting an ECDF) and you need to make multiple steps, it is good to regularly display some intermediate results to see whether everything looks as expected. Exactly for this reason, we have called the `head()` function at the end of each code cell. However, after this exercise, we would also like to know whether the value of the ECDF at time $2000$ s is inserted correctly."
   ]
  },
  {
   "cell_type": "markdown",
   "metadata": {},
   "source": [
    "### Exercise <span class=\"exercise\">3.e</span>\n",
    "\n",
    "Also display the last five rows of the dataframe `df_mouse_ecdf`. \n",
    "\n",
    "> **Hint:** just like the function `head()` displays the first five rows of a dataframe, the function `tail()` displays the last five rows."
   ]
  },
  {
   "cell_type": "code",
   "execution_count": 95,
   "metadata": {},
   "outputs": [
    {
     "data": {
      "text/html": [
       "<div>\n",
       "<style>\n",
       "    .dataframe thead tr:only-child th {\n",
       "        text-align: right;\n",
       "    }\n",
       "\n",
       "    .dataframe thead th {\n",
       "        text-align: left;\n",
       "    }\n",
       "\n",
       "    .dataframe tbody tr th {\n",
       "        vertical-align: top;\n",
       "    }\n",
       "</style>\n",
       "<table border=\"1\" class=\"dataframe\">\n",
       "  <thead>\n",
       "    <tr style=\"text-align: right;\">\n",
       "      <th></th>\n",
       "      <th>ecdf</th>\n",
       "    </tr>\n",
       "  </thead>\n",
       "  <tbody>\n",
       "    <tr>\n",
       "      <th>53.499519</th>\n",
       "      <td>0.409322</td>\n",
       "    </tr>\n",
       "    <tr>\n",
       "      <th>65.155427</th>\n",
       "      <td>0.403814</td>\n",
       "    </tr>\n",
       "    <tr>\n",
       "      <th>76.857272</th>\n",
       "      <td>0.071852</td>\n",
       "    </tr>\n",
       "    <tr>\n",
       "      <th>131.273690</th>\n",
       "      <td>0.270278</td>\n",
       "    </tr>\n",
       "    <tr>\n",
       "      <th>2000.000000</th>\n",
       "      <td>1.000000</td>\n",
       "    </tr>\n",
       "  </tbody>\n",
       "</table>\n",
       "</div>"
      ],
      "text/plain": [
       "                 ecdf\n",
       "53.499519    0.409322\n",
       "65.155427    0.403814\n",
       "76.857272    0.071852\n",
       "131.273690   0.270278\n",
       "2000.000000  1.000000"
      ]
     },
     "execution_count": 95,
     "metadata": {},
     "output_type": "execute_result"
    }
   ],
   "source": [
    "#// BEGIN_TODO [DAS_3e] Display last five rows ECDF dataframe (1 point)\n",
    "\n",
    "df_mouse_ecdf.tail()\n",
    "\n",
    "#// END_TODO [DAS_3e]"
   ]
  },
  {
   "cell_type": "markdown",
   "metadata": {},
   "source": [
    "Does everything look okay? Then let's follow the same steps for the trackpad trials."
   ]
  },
  {
   "cell_type": "markdown",
   "metadata": {},
   "source": [
    "### Exercise <span class=\"exercise\">3.f</span>\n",
    "    \n",
    "Create a dataframe `df_trackpad_ecdf` indexed by all total times occurring in **trackpad** trajectories, an additional very large negative time and a very large positive time, and with a column `'ecdf'` containing the value of the ECDF at these times. We advise you to use multiple code cells and regularly display output to check whether everything looks as expected."
   ]
  },
  {
   "cell_type": "code",
   "execution_count": 248,
   "metadata": {},
   "outputs": [],
   "source": [
    "#// BEGIN_TODO [DAS_3f] Create ECDF for trackpkad trajectories (2 points)\n",
    "#mouses 3a-d\n",
    "# mouses = df_user_trial_props['input_method'] == 'mouse'\n",
    "# df_mouse = df_user_trial_props[mouses]\n",
    "\n",
    "# df_mouse_counts = pd.DataFrame( df_mouse['total_time'].value_counts().rename('counts'))\n",
    "\n",
    "# df_mouse_counts['ecdf'] = df_mouse_counts['counts'].cumsum() / df_mouse_counts['counts'].sum()\n",
    "\n",
    "\n",
    "# df_mouse_ecdf = df_mouse_counts[['ecdf']].copy()\n",
    "# df_mouse_ecdf.loc[-2000,'ecdf'] = 0\n",
    "# df_mouse_ecdf.loc[2000,'ecdf'] = 1\n",
    "\n",
    "# df_mouse_ecdf.sort_index(inplace=True)\n",
    "\n",
    "df_mouse_counts.sort_index(inplace=True)\n",
    "\n",
    "#trackpads 3f\n",
    "trackpads = df_user_trial_props['input_method'] == 'trackpad'\n",
    "df_trackpad = df_user_trial_props[trackpads]\n",
    "\n",
    "df_trackpad_counts = pd.DataFrame( df_trackpad['total_time'].value_counts().rename('counts'))\n",
    "df_trackpad_counts.sort_index(inplace=True)\n",
    "\n",
    "df_trackpad_counts['ecdf'] = df_trackpad_counts['counts'].cumsum() / df_trackpad_counts['counts'].sum()\n",
    "\n",
    "df_trackpad_ecdf = df_trackpad_counts[['ecdf']].copy()\n",
    "df_trackpad_ecdf.loc[-2000,'ecdf'] = 0\n",
    "df_trackpad_ecdf.loc[2000,'ecdf'] = 1\n",
    "\n",
    "df_trackpad_ecdf.sort_index(inplace=True)"
   ]
  },
  {
   "cell_type": "code",
   "execution_count": 249,
   "metadata": {},
   "outputs": [
    {
     "data": {
      "text/html": [
       "<div>\n",
       "<style>\n",
       "    .dataframe thead tr:only-child th {\n",
       "        text-align: right;\n",
       "    }\n",
       "\n",
       "    .dataframe thead th {\n",
       "        text-align: left;\n",
       "    }\n",
       "\n",
       "    .dataframe tbody tr th {\n",
       "        vertical-align: top;\n",
       "    }\n",
       "</style>\n",
       "<table border=\"1\" class=\"dataframe\">\n",
       "  <thead>\n",
       "    <tr style=\"text-align: right;\">\n",
       "      <th></th>\n",
       "      <th>ecdf</th>\n",
       "    </tr>\n",
       "  </thead>\n",
       "  <tbody>\n",
       "    <tr>\n",
       "      <th>-2000.000000</th>\n",
       "      <td>0.000000</td>\n",
       "    </tr>\n",
       "    <tr>\n",
       "      <th>0.631266</th>\n",
       "      <td>0.000059</td>\n",
       "    </tr>\n",
       "    <tr>\n",
       "      <th>0.635076</th>\n",
       "      <td>0.000119</td>\n",
       "    </tr>\n",
       "    <tr>\n",
       "      <th>0.656173</th>\n",
       "      <td>0.000178</td>\n",
       "    </tr>\n",
       "    <tr>\n",
       "      <th>0.667644</th>\n",
       "      <td>0.000238</td>\n",
       "    </tr>\n",
       "  </tbody>\n",
       "</table>\n",
       "</div>"
      ],
      "text/plain": [
       "                  ecdf\n",
       "-2000.000000  0.000000\n",
       " 0.631266     0.000059\n",
       " 0.635076     0.000119\n",
       " 0.656173     0.000178\n",
       " 0.667644     0.000238"
      ]
     },
     "execution_count": 249,
     "metadata": {},
     "output_type": "execute_result"
    }
   ],
   "source": [
    "#// END_TODO [DAS_3f]\n",
    "\n",
    "df_trackpad_ecdf.head()"
   ]
  },
  {
   "cell_type": "markdown",
   "metadata": {},
   "source": [
    "Time to see the results... "
   ]
  },
  {
   "cell_type": "markdown",
   "metadata": {},
   "source": [
    "### Exercise <span class=\"exercise\">3.g</span>\n",
    "\n",
    "Plot in one figure:\n",
    "\n",
    "* the ECDF of the total time used for the **mouse** trials\n",
    "* the ECDF of the total time used for the **trackpad** trials\n",
    "\n",
    "Make sure the $x$-axis runs from $0$ to $4$ (s), and include a legend explaining which graph corresponds to the mouse, and which corresponds to the trackpad. "
   ]
  },
  {
   "cell_type": "code",
   "execution_count": 250,
   "metadata": {},
   "outputs": [
    {
     "data": {
      "image/png": "[encoded data removed]",
      "text/plain": [
       "<matplotlib.figure.Figure at 0x15601300630>"
      ]
     },
     "metadata": {},
     "output_type": "display_data"
    }
   ],
   "source": [
    "#// BEGIN_TODO [DAS_3g] Plot ECDFs (1 point)\n",
    "\n",
    "# ax = df_ecdf['ecdf'].plot( drawstyle ='steps-post' )\n",
    "# ax.set_xlim(0, 10)\n",
    "# ax.set_xlabel('outcome')\n",
    "# ax.set_title('ECDF', fontsize=14);\n",
    "\n",
    "ax = df_mouse_ecdf['ecdf'].plot( drawstyle ='steps-post' )\n",
    "df_trackpad_ecdf['ecdf'].plot( drawstyle ='steps-post', ax=ax )\n",
    "ax.set_xlim(0, 10)\n",
    "ax.set_xlabel('outcome')\n",
    "ax.set_title('ECDF', fontsize=14)\n",
    "ax.legend(['ecdf mouse', 'ecdf trackpad']);\n",
    "# ax_combined.legend(['GOOG', 'AMZN']);\n",
    "\n",
    "#// END_TODO [DAS_3g]"
   ]
  },
  {
   "cell_type": "markdown",
   "metadata": {},
   "source": [
    "# <span class=\"section\">4.</span> Dates and Times"
   ]
  },
  {
   "cell_type": "markdown",
   "metadata": {},
   "source": [
    "## Learning Objectives of This Section\n",
    "\n",
    "After this lesson, you should\n",
    "\n",
    "* understand the complication with **dates** and **times**\n",
    "* know how to deal with **dates** and **times** using Pandas **`Timestamp`**"
   ]
  },
  {
   "cell_type": "markdown",
   "metadata": {},
   "source": [
    "## Why dates and times are complicated\n",
    "\n",
    "_Dates_ and _times_ are surrounded by all kinds of peculiarities\n",
    "that can make their processing a challenge.\n",
    "\n",
    "* Various countries and regions use their own **calendars**\n",
    "    to organize time on the level of days, months, and years.\n",
    "    \n",
    "    \"There are seven calendars in regular current use around the world.\n",
    "    They are the Gregorian, the Chinese, the Hebrew, the Islamic, the Persian,\n",
    "    the Ethiopian and the Balinese Pawukon.\"\n",
    "    Source: [Calendopedia](https://calendopedia.com/modern.htm)\n",
    "\n",
    "\n",
    "* We need **leap years**, and even **leap seconds**, to compensate for the fact that\n",
    "    the period of the Earth's motion around the Sun (the length of a year)\n",
    "    is not an integral multiple of\n",
    "    the period of the Earth's rotation about its axis (the length of a day).\n",
    "\n",
    "* The time of day depends on the location on Earth,\n",
    "    which is organized into **time zones**.\n",
    "    \n",
    "* With **Daylight Saving Time**,\n",
    "    some clock readings are either skipped or passed twice on a particular day.\n",
    "\n",
    "* There are differences in **granularity** that may be needed when measuring time:\n",
    "    A date without time-of-day,\n",
    "    or time-of-day in hours:minutes without date or seconds.\n",
    "    \n",
    "* There is a difference between **point in time**,\n",
    "    **time interval** (having concrete time points as start and end), and\n",
    "    **time duration** (capturing just the length of a time interval).\n",
    "\n",
    "* Dates and times need to be communicated, and there are various notations.\n",
    "    Of particular interest is the international standard\n",
    "    [**ISO 8601**](https://en.wikipedia.org/wiki/ISO_8601). For instance, the numeric form `YYYY-MM-DD` is an ISO 8601 date."
   ]
  },
  {
   "cell_type": "markdown",
   "metadata": {},
   "source": [
    "## Working with dates and times with Pandas\n",
    "\n",
    "The _Pandas_ library can handle a lot of the intricacies of working with date times for you. You can store dates and times in **`Timestamp`** objects. For instance, the first lecture of this course is/was at February 4, 2019, at 8:45 am. We can create a **`Timestamp`** object for this date by using the _Pandas_ function **`pd.to_datetime()`**, and apply it to the string `'2019/02/04 08:45'`."
   ]
  },
  {
   "cell_type": "code",
   "execution_count": 99,
   "metadata": {},
   "outputs": [
    {
     "data": {
      "text/plain": [
       "Timestamp('2019-02-04 08:45:00')"
      ]
     },
     "execution_count": 99,
     "metadata": {},
     "output_type": "execute_result"
    }
   ],
   "source": [
    "ts = pd.to_datetime('2019/02/04 08:45')\n",
    "ts"
   ]
  },
  {
   "cell_type": "markdown",
   "metadata": {},
   "source": [
    "We can now use the `Timestamp` object to extract all kinds of information about this date. For instance, we can extract the month of the `Timestamp` with the attribute `ts.month`."
   ]
  },
  {
   "cell_type": "code",
   "execution_count": 100,
   "metadata": {},
   "outputs": [
    {
     "data": {
      "text/plain": [
       "2"
      ]
     },
     "execution_count": 100,
     "metadata": {},
     "output_type": "execute_result"
    }
   ],
   "source": [
    "ts.month"
   ]
  },
  {
   "cell_type": "markdown",
   "metadata": {},
   "source": [
    "Similarly, we can extract the following attributes\n",
    "* **`ts.year`**: year\n",
    "* **`ts.month`**: month\n",
    "* **`ts.day`**: day (of the month)\n",
    "* **`ts.dayofweek`**: day of the week (Monday corresponds to `0`)\n",
    "* **`ts.weekday_name`**: day of the week as a string.\n",
    "* **`ts.quarter`**: quarter (of the year)\n",
    "* **`ts.timestamp()`**: convert to POSIX timestamp, a floating-point number\n",
    "    with 1 second as unit\n",
    "\n",
    "So far we have not specified the time zone for the date time. We can set the time zone to the time zone in the Netherlands using the function **`tz_localize()`** with the argument `'Europe/Amsterdam'`."
   ]
  },
  {
   "cell_type": "code",
   "execution_count": 101,
   "metadata": {
    "collapsed": true
   },
   "outputs": [],
   "source": [
    "ts_with_tz = ts.tz_localize('Europe/Amsterdam')"
   ]
  },
  {
   "cell_type": "markdown",
   "metadata": {},
   "source": [
    "Between international parties, times are often communicated in UTC time (see [Coordinated Universal Time](https://en.wikipedia.org/wiki/Coordinated_Universal_Time) for more information), sometimes called Greenwich Mean Time (GMT). We can convert the time zone to UTC time by the function **`tz_convert()`** with the argument `'utc'`."
   ]
  },
  {
   "cell_type": "code",
   "execution_count": 102,
   "metadata": {},
   "outputs": [
    {
     "data": {
      "text/plain": [
       "Timestamp('2019-02-04 07:45:00+0000', tz='UTC')"
      ]
     },
     "execution_count": 102,
     "metadata": {},
     "output_type": "execute_result"
    }
   ],
   "source": [
    "ts_utc = ts_with_tz.tz_convert('utc')\n",
    "ts_utc"
   ]
  },
  {
   "cell_type": "markdown",
   "metadata": {},
   "source": [
    "To get a `Timestamp` object with the current time, you can write"
   ]
  },
  {
   "cell_type": "code",
   "execution_count": 103,
   "metadata": {},
   "outputs": [
    {
     "data": {
      "text/plain": [
       "Timestamp('2019-03-14 15:47:07.682442')"
      ]
     },
     "execution_count": 103,
     "metadata": {},
     "output_type": "execute_result"
    }
   ],
   "source": [
    "pd.Timestamp.now()"
   ]
  },
  {
   "cell_type": "markdown",
   "metadata": {},
   "source": [
    "You can also get the current time in UTC time with"
   ]
  },
  {
   "cell_type": "code",
   "execution_count": 104,
   "metadata": {},
   "outputs": [
    {
     "data": {
      "text/plain": [
       "Timestamp('2019-03-14 14:47:09.591427+0000', tz='UTC')"
      ]
     },
     "execution_count": 104,
     "metadata": {},
     "output_type": "execute_result"
    }
   ],
   "source": [
    "pd.Timestamp.utcnow()"
   ]
  },
  {
   "cell_type": "markdown",
   "metadata": {},
   "source": [
    "You can find further information about `Timestamp` objects in the [documentation of `Timestamp`](https://pandas.pydata.org/pandas-docs/stable/generated/pandas.Timestamp.html)."
   ]
  },
  {
   "cell_type": "markdown",
   "metadata": {},
   "source": [
    "### Exercise <span class=\"exercise\">4.a</span>: \n",
    "\n",
    "The famous Dutch computer scientist _Edsger Dijkstra_ worked at the Eindhoven University from 1962 to 1984. He was born on May 11, 1930. Use _Pandas_ to check on which day of the week Dijkstra was born. Store the name of the day as a **string**  in the variable `day_Dijkstra_born`."
   ]
  },
  {
   "cell_type": "code",
   "execution_count": 140,
   "metadata": {},
   "outputs": [
    {
     "data": {
      "text/plain": [
       "'sunday'"
      ]
     },
     "execution_count": 140,
     "metadata": {},
     "output_type": "execute_result"
    }
   ],
   "source": [
    "#// BEGIN_TODO [DAS_4a] Dijkstra's birth day (1 point)\n",
    "\n",
    "#ts = pd.to_datetime('2019/02/04 08:45')\n",
    "\n",
    "td = pd.to_datetime('1930/05/11')\n",
    "day_Dijkstra_bor = td.dayofweek\n",
    "day_Dijkstra_born = 'Sunday'\n",
    "\n",
    "#// END_TODO [DAS_4a]\n",
    "\n",
    "day_Dijkstra_born"
   ]
  },
  {
   "cell_type": "markdown",
   "metadata": {},
   "source": [
    "### Exercise <span class=\"exercise\">4.b</span>\n",
    "\n",
    "Consider again the NASDAQ index. In which pair of year and month was the monthly increase of the index the highest (e.g. in January 2010)? Store your answer in the variables `year_max` (as a number) and `month_max` (as a number).\n",
    "\n",
    "> Note: the dates in the index of the `df_nasdaq` dataframe (accessible through `df_nasdaq.index`) can already be viewed as Timestamp objects"
   ]
  },
  {
   "cell_type": "code",
   "execution_count": 232,
   "metadata": {},
   "outputs": [
    {
     "data": {
      "text/plain": [
       "(2015, 10)"
      ]
     },
     "execution_count": 232,
     "metadata": {},
     "output_type": "execute_result"
    }
   ],
   "source": [
    "#// BEGIN_TODO [DAS_4b] Greatest jump (1 point)\n",
    "\n",
    "# #maxi = df_nasdaq['abs_change'].max()\n",
    "# maxbool = df_nasdaq['abs_change'] == df_nasdaq['abs_change'].max()\n",
    "# df_nasdaq[maxbool]\n",
    "\n",
    "# #df_nasdaq[2016-06-24].year\n",
    "\n",
    "# year_max = 2016\n",
    "# month_max = 'June'\n",
    "\n",
    "df_grouped = df_nasdaq.groupby([df_nasdaq.index.year, df_nasdaq.index.month])[['close_diff']].sum()\n",
    "date = df_grouped.idxmax()\n",
    "date\n",
    "year_max = 2015\n",
    "month_max = 10\n",
    "\n",
    "#// END_TODO [DAS_4b]\n",
    "\n",
    "year_max, month_max"
   ]
  },
  {
   "cell_type": "markdown",
   "metadata": {},
   "source": [
    "# <span class=\"section\">5.</span> Exercise: Find ballistic motion\n",
    "\n",
    "In this exercise, we will return to the recorded path, stored in `df_last_path` and will extract one more feature, which was already mentioned in the lecture: we are going to extract the _ballistic part_ of the mouse trajectory. This is quite challenging, so do not hesitate to ask your tutor for hints.\n",
    "\n",
    "> Reminder: the code you are going to write below should work every time you record a new mouse trajectory. Momotor will test whether it correctly extracts the ballistic motion for a few different mouse trajectories.\n",
    "\n",
    "> If you record a new path, be sure to also recompute the filtered paths `filt_x`, `filt_y`, the path length and the approximate, filtered speed."
   ]
  },
  {
   "attachments": {
    "ballistic-illustration.png": {
     "image/png": "[encoded data removed]"
    },
    "ballistic-superimposed.png": {
     "image/png": "[encoded data removed]"
    }
   },
   "cell_type": "markdown",
   "metadata": {},
   "source": [
    "The ballistic part of the motion is the motion restricted to a certain time-interval (from `i_left` to `i_right`) around the time `i_max` at which the speed is maximal, as illustrated by the following picture.\n",
    "\n",
    "![ballistic-illustration.png](attachment:ballistic-illustration.png)\n",
    "\n",
    "Here is a picture of the corresponding path, where the ballistic part of the motion is indicated in black.\n",
    "\n",
    "![ballistic-superimposed.png](attachment:ballistic-superimposed.png)"
   ]
  },
  {
   "cell_type": "markdown",
   "metadata": {},
   "source": [
    "We want to use _Pandas_ to extract this ballistic part of the trajectory. For that, we need a _very precise definition_. The precise definition of the _ballistic_ part of the mouse trajectory is as follows: we first find the index `i_max` for which the (approximate, filtered) _speed_ is maximal (if there are multiple such indices, we take the smallest). Then, we define the range of indices from `i_left` to `i_right` as the largest range of indices containing `i_max` such that the speed is _increasing_ from `i_left` to `i_max` and _decreasing_ from `i_max` to `i_right`. The _ballistic_ part of the mouse trajectory is defined as the mouse trajectory restricted to the range from `i_left` to `i_right`.\n",
    "\n",
    "In other words, `i_left` is the smallest index such that for every index `i` between `i_left`  and `i_max` the approximate speed at `i` is _larger than or equal to_ the approximate speed at `i-1`. Similarly, `i_right` is the largest index such that for every `i` between `i_max + 1` and `i_right` (not including `i_right`), the approximate speed at `i` is _smaller than or equal to_ the approximate speed at `i-1`.\n",
    "\n",
    "Our goal will be to find `i_left` and `i_right` for the trajectory in `df_last_path`. We will afterwards define the dataframe `df_ballistic` as `df_last_path[i_left:i_right]`."
   ]
  },
  {
   "cell_type": "markdown",
   "metadata": {},
   "source": [
    "### Exercise <span class=\"exercise\">5.a</span>\n",
    "\n",
    "Find the index `i_max` for which the (approximate, filtered) _speed_ (computed in <span class=\"reference\" ref=\"approximate_speed\"><a href=\"#approximate_speed\">Exercise 1.g</a></span>) is maximal."
   ]
  },
  {
   "cell_type": "code",
   "execution_count": 141,
   "metadata": {
    "collapsed": true
   },
   "outputs": [],
   "source": [
    "#// BEGIN_TODO [DAS_5a] Find i_max (1 point)\n",
    "\n",
    "# #code 1g\n",
    "# #gaussian filter (df_nasdaq['close_filtered_deriv'] = gaussian_filter1d(df_nasdaq['close'], sigma=30, order=1, mode='nearest'))\n",
    "# #speed = path length / time\n",
    "# df_last_path['approximate_speed'] = (gaussian_filter1d(df_last_path['path_length'], sigma=25, order=1, mode='nearest')) #/ df_last_path['t'])\n",
    "\n",
    "# ax_last_path = df_last_path.plot(x='t', y='approximate_speed')\n",
    "# #ax_last_path.set_xlim(-300,300)\n",
    "# #ax_last_path.set_ylim(-300,300)\n",
    "# ax_last_path.set_title('Speed last path')\n",
    "# ax_last_path.set_ylabel('Path length (pixels)')\n",
    "# ax_last_path.set_xlabel('Time (ms)');\n",
    "\n",
    "\n",
    "\n",
    "#// END_TODO [DAS_5a]\n",
    "\n",
    "df_last_path[['t','trial','filt_x','filt_y','approximate_speed']][i_max-2:i_max+3]"
   ]
  },
  {
   "cell_type": "markdown",
   "metadata": {},
   "source": [
    "The approximate speed should be maximal for the row in the middle, which indeed should correspond to `i_max`."
   ]
  },
  {
   "cell_type": "code",
   "execution_count": 143,
   "metadata": {},
   "outputs": [],
   "source": [
    "i_max"
   ]
  },
  {
   "cell_type": "markdown",
   "metadata": {},
   "source": [
    "### Exercise <span class=\"exercise\">5.b</span>\n",
    "\n",
    "Add a column labeled `'speed_diff'` to the dataframe `df_last_path`, containing in every row the difference between the approximate speed in that row and the approximate speed in the previous row."
   ]
  },
  {
   "cell_type": "code",
   "execution_count": 147,
   "metadata": {},
   "outputs": [
    {
     "name": "stderr",
     "output_type": "stream",
     "text": [
      "C:\\ProgramData\\Anaconda3\\lib\\site-packages\\ipykernel_launcher.py:3: SettingWithCopyWarning: \n",
      "A value is trying to be set on a copy of a slice from a DataFrame.\n",
      "Try using .loc[row_indexer,col_indexer] = value instead\n",
      "\n",
      "See the caveats in the documentation: http://pandas.pydata.org/pandas-docs/stable/indexing.html#indexing-view-versus-copy\n",
      "  This is separate from the ipykernel package so we can avoid doing imports until\n"
     ]
    },
    {
     "data": {
      "text/html": [
       "<div>\n",
       "<style>\n",
       "    .dataframe thead tr:only-child th {\n",
       "        text-align: right;\n",
       "    }\n",
       "\n",
       "    .dataframe thead th {\n",
       "        text-align: left;\n",
       "    }\n",
       "\n",
       "    .dataframe tbody tr th {\n",
       "        vertical-align: top;\n",
       "    }\n",
       "</style>\n",
       "<table border=\"1\" class=\"dataframe\">\n",
       "  <thead>\n",
       "    <tr style=\"text-align: right;\">\n",
       "      <th></th>\n",
       "      <th>t</th>\n",
       "      <th>trial</th>\n",
       "      <th>filt_x</th>\n",
       "      <th>filt_y</th>\n",
       "      <th>approximate_speed</th>\n",
       "      <th>speed_diff</th>\n",
       "    </tr>\n",
       "  </thead>\n",
       "  <tbody>\n",
       "    <tr>\n",
       "      <th>0</th>\n",
       "      <td>0.000</td>\n",
       "      <td>66</td>\n",
       "      <td>4.000000</td>\n",
       "      <td>0.0</td>\n",
       "      <td>0.006870</td>\n",
       "      <td>NaN</td>\n",
       "    </tr>\n",
       "    <tr>\n",
       "      <th>1</th>\n",
       "      <td>0.001</td>\n",
       "      <td>66</td>\n",
       "      <td>3.986251</td>\n",
       "      <td>0.0</td>\n",
       "      <td>0.007089</td>\n",
       "      <td>0.000220</td>\n",
       "    </tr>\n",
       "    <tr>\n",
       "      <th>2</th>\n",
       "      <td>0.002</td>\n",
       "      <td>66</td>\n",
       "      <td>3.972502</td>\n",
       "      <td>0.0</td>\n",
       "      <td>0.007309</td>\n",
       "      <td>0.000219</td>\n",
       "    </tr>\n",
       "    <tr>\n",
       "      <th>3</th>\n",
       "      <td>0.003</td>\n",
       "      <td>66</td>\n",
       "      <td>3.958752</td>\n",
       "      <td>0.0</td>\n",
       "      <td>0.007527</td>\n",
       "      <td>0.000219</td>\n",
       "    </tr>\n",
       "    <tr>\n",
       "      <th>4</th>\n",
       "      <td>0.004</td>\n",
       "      <td>66</td>\n",
       "      <td>3.945003</td>\n",
       "      <td>0.0</td>\n",
       "      <td>0.007745</td>\n",
       "      <td>0.000218</td>\n",
       "    </tr>\n",
       "  </tbody>\n",
       "</table>\n",
       "</div>"
      ],
      "text/plain": [
       "       t  trial    filt_x  filt_y  approximate_speed  speed_diff\n",
       "0  0.000     66  4.000000     0.0           0.006870         NaN\n",
       "1  0.001     66  3.986251     0.0           0.007089    0.000220\n",
       "2  0.002     66  3.972502     0.0           0.007309    0.000219\n",
       "3  0.003     66  3.958752     0.0           0.007527    0.000219\n",
       "4  0.004     66  3.945003     0.0           0.007745    0.000218"
      ]
     },
     "execution_count": 147,
     "metadata": {},
     "output_type": "execute_result"
    }
   ],
   "source": [
    "#// BEGIN_TODO [DAS_5b] Add speed_diff (1 point)\n",
    "\n",
    "df_last_path['speed_diff'] = df_last_path['approximate_speed'].diff()\n",
    "\n",
    "#// END_TODO [DAS_5b]\n",
    "\n",
    "df_last_path[['t','trial','filt_x','filt_y','approximate_speed','speed_diff']].head()"
   ]
  },
  {
   "cell_type": "markdown",
   "metadata": {},
   "source": [
    "### Exercise <span class=\"exercise\">5.c</span>\n",
    "\n",
    "Find `i_left`, the smallest index such that for every index `i` between `i_left` and `i_max` the approximate speed at `i` is _larger than or equal to_ the approximate speed at `i-1`.\n",
    "\n",
    "> **Hint:** First use slicing and the index `i_max` to make a new dataframe `df_first_path` which only contains the rows up to (and including) the index `i_max`. Next, use the column `'speed_diff'` created before to select only those rows `i` for which the speed at `i-1` is strictly less than the speed at `i`. You can use this last dataframe to find out what `i_left` should be."
   ]
  },
  {
   "cell_type": "code",
   "execution_count": 148,
   "metadata": {},
   "outputs": [
    {
     "ename": "NameError",
     "evalue": "name 'i_max' is not defined",
     "output_type": "error",
     "traceback": [
      "\u001b[1;31m---------------------------------------------------------------------------\u001b[0m",
      "\u001b[1;31mNameError\u001b[0m                                 Traceback (most recent call last)",
      "\u001b[1;32m<ipython-input-148-75d6dbeadf2b>\u001b[0m in \u001b[0;36m<module>\u001b[1;34m()\u001b[0m\n\u001b[0;32m      1\u001b[0m \u001b[1;31m#// BEGIN_TODO [DAS_5c] Find i_left (1 point)\u001b[0m\u001b[1;33m\u001b[0m\u001b[1;33m\u001b[0m\u001b[0m\n\u001b[0;32m      2\u001b[0m \u001b[1;33m\u001b[0m\u001b[0m\n\u001b[1;32m----> 3\u001b[1;33m \u001b[0mdf_first_path\u001b[0m \u001b[1;33m=\u001b[0m \u001b[0mdf_last_path\u001b[0m\u001b[1;33m.\u001b[0m\u001b[0mloc\u001b[0m\u001b[1;33m[\u001b[0m\u001b[1;36m0\u001b[0m\u001b[1;33m:\u001b[0m\u001b[0mi_max\u001b[0m\u001b[1;33m]\u001b[0m\u001b[1;33m\u001b[0m\u001b[0m\n\u001b[0m\u001b[0;32m      4\u001b[0m \u001b[0mbm_ileft\u001b[0m \u001b[1;33m=\u001b[0m \u001b[0mdf_first_path\u001b[0m\u001b[1;33m[\u001b[0m\u001b[1;34m'speed_diff'\u001b[0m\u001b[1;33m]\u001b[0m \u001b[1;33m<\u001b[0m \u001b[1;36m0\u001b[0m\u001b[1;33m\u001b[0m\u001b[0m\n\u001b[0;32m      5\u001b[0m \u001b[0mi_left\u001b[0m \u001b[1;33m=\u001b[0m \u001b[1;33m(\u001b[0m\u001b[0mdf_first_path\u001b[0m\u001b[1;33m[\u001b[0m\u001b[0mbm_ileft\u001b[0m\u001b[1;33m]\u001b[0m\u001b[1;33m.\u001b[0m\u001b[0mindex\u001b[0m\u001b[1;33m[\u001b[0m\u001b[1;33m-\u001b[0m\u001b[1;36m1\u001b[0m\u001b[1;33m]\u001b[0m\u001b[1;33m)\u001b[0m \u001b[1;33m+\u001b[0m\u001b[1;36m1\u001b[0m\u001b[1;33m\u001b[0m\u001b[0m\n",
      "\u001b[1;31mNameError\u001b[0m: name 'i_max' is not defined"
     ]
    }
   ],
   "source": [
    "#// BEGIN_TODO [DAS_5c] Find i_left (1 point)\n",
    "\n",
    "df_first_path = df_last_path.loc[0:i_max]\n",
    "bm_ileft = df_first_path['speed_diff'] < 0\n",
    "i_left = (df_first_path[bm_ileft].index[-1]) +1\n",
    "\n",
    "#// END_TODO [DAS_5c]\n",
    "\n",
    "i_left"
   ]
  },
  {
   "cell_type": "markdown",
   "metadata": {},
   "source": [
    "The following code cell can give you a quick (although not a full) check of your work. If everything worked out, the value in the column `'speed_diff'` should be less than zero in the first row, and larger than or equal to zero in the other rows."
   ]
  },
  {
   "cell_type": "code",
   "execution_count": 146,
   "metadata": {},
   "outputs": [
    {
     "ename": "KeyError",
     "evalue": "\"['speed_diff'] not in index\"",
     "output_type": "error",
     "traceback": [
      "\u001b[1;31m---------------------------------------------------------------------------\u001b[0m",
      "\u001b[1;31mKeyError\u001b[0m                                  Traceback (most recent call last)",
      "\u001b[1;32m<ipython-input-146-16bfa48d6248>\u001b[0m in \u001b[0;36m<module>\u001b[1;34m()\u001b[0m\n\u001b[1;32m----> 1\u001b[1;33m \u001b[0mdf_last_path\u001b[0m\u001b[1;33m[\u001b[0m\u001b[1;33m[\u001b[0m\u001b[1;34m't'\u001b[0m\u001b[1;33m,\u001b[0m\u001b[1;34m'trial'\u001b[0m\u001b[1;33m,\u001b[0m\u001b[1;34m'filt_x'\u001b[0m\u001b[1;33m,\u001b[0m\u001b[1;34m'filt_y'\u001b[0m\u001b[1;33m,\u001b[0m\u001b[1;34m'approximate_speed'\u001b[0m\u001b[1;33m,\u001b[0m\u001b[1;34m'speed_diff'\u001b[0m\u001b[1;33m]\u001b[0m\u001b[1;33m]\u001b[0m\u001b[1;33m[\u001b[0m\u001b[0mi_left\u001b[0m\u001b[1;33m-\u001b[0m\u001b[1;36m1\u001b[0m\u001b[1;33m:\u001b[0m\u001b[0mi_left\u001b[0m\u001b[1;33m+\u001b[0m\u001b[1;36m4\u001b[0m\u001b[1;33m]\u001b[0m\u001b[1;33m\u001b[0m\u001b[0m\n\u001b[0m",
      "\u001b[1;32mC:\\ProgramData\\Anaconda3\\lib\\site-packages\\pandas\\core\\frame.py\u001b[0m in \u001b[0;36m__getitem__\u001b[1;34m(self, key)\u001b[0m\n\u001b[0;32m   2054\u001b[0m         \u001b[1;32mif\u001b[0m \u001b[0misinstance\u001b[0m\u001b[1;33m(\u001b[0m\u001b[0mkey\u001b[0m\u001b[1;33m,\u001b[0m \u001b[1;33m(\u001b[0m\u001b[0mSeries\u001b[0m\u001b[1;33m,\u001b[0m \u001b[0mnp\u001b[0m\u001b[1;33m.\u001b[0m\u001b[0mndarray\u001b[0m\u001b[1;33m,\u001b[0m \u001b[0mIndex\u001b[0m\u001b[1;33m,\u001b[0m \u001b[0mlist\u001b[0m\u001b[1;33m)\u001b[0m\u001b[1;33m)\u001b[0m\u001b[1;33m:\u001b[0m\u001b[1;33m\u001b[0m\u001b[0m\n\u001b[0;32m   2055\u001b[0m             \u001b[1;31m# either boolean or fancy integer index\u001b[0m\u001b[1;33m\u001b[0m\u001b[1;33m\u001b[0m\u001b[0m\n\u001b[1;32m-> 2056\u001b[1;33m             \u001b[1;32mreturn\u001b[0m \u001b[0mself\u001b[0m\u001b[1;33m.\u001b[0m\u001b[0m_getitem_array\u001b[0m\u001b[1;33m(\u001b[0m\u001b[0mkey\u001b[0m\u001b[1;33m)\u001b[0m\u001b[1;33m\u001b[0m\u001b[0m\n\u001b[0m\u001b[0;32m   2057\u001b[0m         \u001b[1;32melif\u001b[0m \u001b[0misinstance\u001b[0m\u001b[1;33m(\u001b[0m\u001b[0mkey\u001b[0m\u001b[1;33m,\u001b[0m \u001b[0mDataFrame\u001b[0m\u001b[1;33m)\u001b[0m\u001b[1;33m:\u001b[0m\u001b[1;33m\u001b[0m\u001b[0m\n\u001b[0;32m   2058\u001b[0m             \u001b[1;32mreturn\u001b[0m \u001b[0mself\u001b[0m\u001b[1;33m.\u001b[0m\u001b[0m_getitem_frame\u001b[0m\u001b[1;33m(\u001b[0m\u001b[0mkey\u001b[0m\u001b[1;33m)\u001b[0m\u001b[1;33m\u001b[0m\u001b[0m\n",
      "\u001b[1;32mC:\\ProgramData\\Anaconda3\\lib\\site-packages\\pandas\\core\\frame.py\u001b[0m in \u001b[0;36m_getitem_array\u001b[1;34m(self, key)\u001b[0m\n\u001b[0;32m   2098\u001b[0m             \u001b[1;32mreturn\u001b[0m \u001b[0mself\u001b[0m\u001b[1;33m.\u001b[0m\u001b[0mtake\u001b[0m\u001b[1;33m(\u001b[0m\u001b[0mindexer\u001b[0m\u001b[1;33m,\u001b[0m \u001b[0maxis\u001b[0m\u001b[1;33m=\u001b[0m\u001b[1;36m0\u001b[0m\u001b[1;33m,\u001b[0m \u001b[0mconvert\u001b[0m\u001b[1;33m=\u001b[0m\u001b[1;32mFalse\u001b[0m\u001b[1;33m)\u001b[0m\u001b[1;33m\u001b[0m\u001b[0m\n\u001b[0;32m   2099\u001b[0m         \u001b[1;32melse\u001b[0m\u001b[1;33m:\u001b[0m\u001b[1;33m\u001b[0m\u001b[0m\n\u001b[1;32m-> 2100\u001b[1;33m             \u001b[0mindexer\u001b[0m \u001b[1;33m=\u001b[0m \u001b[0mself\u001b[0m\u001b[1;33m.\u001b[0m\u001b[0mloc\u001b[0m\u001b[1;33m.\u001b[0m\u001b[0m_convert_to_indexer\u001b[0m\u001b[1;33m(\u001b[0m\u001b[0mkey\u001b[0m\u001b[1;33m,\u001b[0m \u001b[0maxis\u001b[0m\u001b[1;33m=\u001b[0m\u001b[1;36m1\u001b[0m\u001b[1;33m)\u001b[0m\u001b[1;33m\u001b[0m\u001b[0m\n\u001b[0m\u001b[0;32m   2101\u001b[0m             \u001b[1;32mreturn\u001b[0m \u001b[0mself\u001b[0m\u001b[1;33m.\u001b[0m\u001b[0mtake\u001b[0m\u001b[1;33m(\u001b[0m\u001b[0mindexer\u001b[0m\u001b[1;33m,\u001b[0m \u001b[0maxis\u001b[0m\u001b[1;33m=\u001b[0m\u001b[1;36m1\u001b[0m\u001b[1;33m,\u001b[0m \u001b[0mconvert\u001b[0m\u001b[1;33m=\u001b[0m\u001b[1;32mTrue\u001b[0m\u001b[1;33m)\u001b[0m\u001b[1;33m\u001b[0m\u001b[0m\n\u001b[0;32m   2102\u001b[0m \u001b[1;33m\u001b[0m\u001b[0m\n",
      "\u001b[1;32mC:\\ProgramData\\Anaconda3\\lib\\site-packages\\pandas\\core\\indexing.py\u001b[0m in \u001b[0;36m_convert_to_indexer\u001b[1;34m(self, obj, axis, is_setter)\u001b[0m\n\u001b[0;32m   1229\u001b[0m                 \u001b[0mmask\u001b[0m \u001b[1;33m=\u001b[0m \u001b[0mcheck\u001b[0m \u001b[1;33m==\u001b[0m \u001b[1;33m-\u001b[0m\u001b[1;36m1\u001b[0m\u001b[1;33m\u001b[0m\u001b[0m\n\u001b[0;32m   1230\u001b[0m                 \u001b[1;32mif\u001b[0m \u001b[0mmask\u001b[0m\u001b[1;33m.\u001b[0m\u001b[0many\u001b[0m\u001b[1;33m(\u001b[0m\u001b[1;33m)\u001b[0m\u001b[1;33m:\u001b[0m\u001b[1;33m\u001b[0m\u001b[0m\n\u001b[1;32m-> 1231\u001b[1;33m                     \u001b[1;32mraise\u001b[0m \u001b[0mKeyError\u001b[0m\u001b[1;33m(\u001b[0m\u001b[1;34m'%s not in index'\u001b[0m \u001b[1;33m%\u001b[0m \u001b[0mobjarr\u001b[0m\u001b[1;33m[\u001b[0m\u001b[0mmask\u001b[0m\u001b[1;33m]\u001b[0m\u001b[1;33m)\u001b[0m\u001b[1;33m\u001b[0m\u001b[0m\n\u001b[0m\u001b[0;32m   1232\u001b[0m \u001b[1;33m\u001b[0m\u001b[0m\n\u001b[0;32m   1233\u001b[0m                 \u001b[1;32mreturn\u001b[0m \u001b[0m_values_from_object\u001b[0m\u001b[1;33m(\u001b[0m\u001b[0mindexer\u001b[0m\u001b[1;33m)\u001b[0m\u001b[1;33m\u001b[0m\u001b[0m\n",
      "\u001b[1;31mKeyError\u001b[0m: \"['speed_diff'] not in index\""
     ]
    }
   ],
   "source": [
    "df_last_path[['t','trial','filt_x','filt_y','approximate_speed','speed_diff']][i_left-1:i_left+4]"
   ]
  },
  {
   "cell_type": "markdown",
   "metadata": {},
   "source": [
    "### Exercise <span class=\"exercise\">5.d</span>\n",
    "\n",
    "Find `i_right`, the largest index such that for every index `i` between `i_max + 1` and `i_right` (not including `i_right`) the approximate speed at `i` is _smaller than or equal to_ the approximate speed at `i-1`."
   ]
  },
  {
   "cell_type": "code",
   "execution_count": 155,
   "metadata": {},
   "outputs": [
    {
     "ename": "NameError",
     "evalue": "name 'i_right' is not defined",
     "output_type": "error",
     "traceback": [
      "\u001b[1;31m---------------------------------------------------------------------------\u001b[0m",
      "\u001b[1;31mNameError\u001b[0m                                 Traceback (most recent call last)",
      "\u001b[1;32m<ipython-input-155-7306406c842e>\u001b[0m in \u001b[0;36m<module>\u001b[1;34m()\u001b[0m\n\u001b[0;32m      5\u001b[0m \u001b[1;31m#// END_TODO [DAS_5d]\u001b[0m\u001b[1;33m\u001b[0m\u001b[1;33m\u001b[0m\u001b[0m\n\u001b[0;32m      6\u001b[0m \u001b[1;33m\u001b[0m\u001b[0m\n\u001b[1;32m----> 7\u001b[1;33m \u001b[0mi_right\u001b[0m\u001b[1;33m\u001b[0m\u001b[0m\n\u001b[0m",
      "\u001b[1;31mNameError\u001b[0m: name 'i_right' is not defined"
     ]
    }
   ],
   "source": [
    "#// BEGIN_TODO [DAS_5d] Find i_right (1 point)\n",
    "\n",
    "# ===== =====> Replace this line by your code. <===== ===== #\n",
    "\n",
    "#// END_TODO [DAS_5d]\n",
    "\n",
    "i_right"
   ]
  },
  {
   "cell_type": "markdown",
   "metadata": {},
   "source": [
    "The next code cell can give you a quick (although not a full) check of your work. If everything worked out, the value in the column `'speed_diff'` should be larger than zero in the last row, and less than or equal to zero in the other rows."
   ]
  },
  {
   "cell_type": "code",
   "execution_count": 156,
   "metadata": {},
   "outputs": [
    {
     "ename": "NameError",
     "evalue": "name 'i_right' is not defined",
     "output_type": "error",
     "traceback": [
      "\u001b[1;31m---------------------------------------------------------------------------\u001b[0m",
      "\u001b[1;31mNameError\u001b[0m                                 Traceback (most recent call last)",
      "\u001b[1;32m<ipython-input-156-07f4ce68d4ab>\u001b[0m in \u001b[0;36m<module>\u001b[1;34m()\u001b[0m\n\u001b[1;32m----> 1\u001b[1;33m \u001b[0mdf_last_path\u001b[0m\u001b[1;33m[\u001b[0m\u001b[1;33m[\u001b[0m\u001b[1;34m't'\u001b[0m\u001b[1;33m,\u001b[0m\u001b[1;34m'trial'\u001b[0m\u001b[1;33m,\u001b[0m\u001b[1;34m'filt_x'\u001b[0m\u001b[1;33m,\u001b[0m\u001b[1;34m'filt_y'\u001b[0m\u001b[1;33m,\u001b[0m\u001b[1;34m'approximate_speed'\u001b[0m\u001b[1;33m,\u001b[0m\u001b[1;34m'speed_diff'\u001b[0m\u001b[1;33m]\u001b[0m\u001b[1;33m]\u001b[0m\u001b[1;33m[\u001b[0m\u001b[0mi_right\u001b[0m\u001b[1;33m-\u001b[0m\u001b[1;36m4\u001b[0m\u001b[1;33m:\u001b[0m\u001b[0mi_right\u001b[0m\u001b[1;33m+\u001b[0m\u001b[1;36m1\u001b[0m\u001b[1;33m]\u001b[0m\u001b[1;33m\u001b[0m\u001b[0m\n\u001b[0m",
      "\u001b[1;31mNameError\u001b[0m: name 'i_right' is not defined"
     ]
    }
   ],
   "source": [
    "df_last_path[['t','trial','filt_x','filt_y','approximate_speed','speed_diff']][i_right-4:i_right+1]"
   ]
  },
  {
   "cell_type": "markdown",
   "metadata": {},
   "source": [
    "Now we are ready to define `df_ballistic`."
   ]
  },
  {
   "cell_type": "code",
   "execution_count": 157,
   "metadata": {},
   "outputs": [
    {
     "ename": "NameError",
     "evalue": "name 'i_left' is not defined",
     "output_type": "error",
     "traceback": [
      "\u001b[1;31m---------------------------------------------------------------------------\u001b[0m",
      "\u001b[1;31mNameError\u001b[0m                                 Traceback (most recent call last)",
      "\u001b[1;32m<ipython-input-157-1b9cbc4ec8a2>\u001b[0m in \u001b[0;36m<module>\u001b[1;34m()\u001b[0m\n\u001b[1;32m----> 1\u001b[1;33m \u001b[0mdf_ballistic\u001b[0m \u001b[1;33m=\u001b[0m \u001b[0mdf_last_path\u001b[0m\u001b[1;33m[\u001b[0m\u001b[0mi_left\u001b[0m\u001b[1;33m:\u001b[0m\u001b[0mi_right\u001b[0m\u001b[1;33m]\u001b[0m\u001b[1;33m\u001b[0m\u001b[0m\n\u001b[0m\u001b[0;32m      2\u001b[0m \u001b[0mdf_ballistic\u001b[0m\u001b[1;33m.\u001b[0m\u001b[0mhead\u001b[0m\u001b[1;33m(\u001b[0m\u001b[1;33m)\u001b[0m\u001b[1;33m\u001b[0m\u001b[0m\n",
      "\u001b[1;31mNameError\u001b[0m: name 'i_left' is not defined"
     ]
    }
   ],
   "source": [
    "df_ballistic = df_last_path[i_left:i_right]\n",
    "df_ballistic.head()"
   ]
  },
  {
   "cell_type": "code",
   "execution_count": 158,
   "metadata": {},
   "outputs": [
    {
     "ename": "NameError",
     "evalue": "name 'df_ballistic' is not defined",
     "output_type": "error",
     "traceback": [
      "\u001b[1;31m---------------------------------------------------------------------------\u001b[0m",
      "\u001b[1;31mNameError\u001b[0m                                 Traceback (most recent call last)",
      "\u001b[1;32m<ipython-input-158-42f3dfeea7ce>\u001b[0m in \u001b[0;36m<module>\u001b[1;34m()\u001b[0m\n\u001b[1;32m----> 1\u001b[1;33m \u001b[0mdf_ballistic\u001b[0m\u001b[1;33m.\u001b[0m\u001b[0mtail\u001b[0m\u001b[1;33m(\u001b[0m\u001b[1;33m)\u001b[0m\u001b[1;33m\u001b[0m\u001b[0m\n\u001b[0m",
      "\u001b[1;31mNameError\u001b[0m: name 'df_ballistic' is not defined"
     ]
    }
   ],
   "source": [
    "df_ballistic.tail()"
   ]
  },
  {
   "cell_type": "markdown",
   "metadata": {},
   "source": [
    "### Exercise <span class=\"exercise\">5.e</span>: Indicate ballistic motion in trajectory\n",
    "\n",
    "Plot the full, filtered, mouse trajectory (with coordinates `'filt_x'` and `'filt_y'`) in `df_last_path` in blue, and on top of it indicate the ballistic motion with a thick, black curve (i.e. with `linewidth` equal to `3`)."
   ]
  },
  {
   "cell_type": "code",
   "execution_count": 159,
   "metadata": {
    "collapsed": true
   },
   "outputs": [],
   "source": [
    "#// BEGIN_TODO [DAS_5e] Plot ballistic motion (1 point)\n",
    "\n",
    "# ===== =====> Replace this line by your code. <===== ===== #\n",
    "\n",
    "#// END_TODO [DAS_5e]"
   ]
  },
  {
   "cell_type": "markdown",
   "metadata": {},
   "source": [
    "# Feedback\n",
    "\n",
    "Please fill in this questionaire to help us improve this course for the next year. Your feedback will be anonymized and will not affect your grade in any way!"
   ]
  },
  {
   "cell_type": "markdown",
   "metadata": {},
   "source": [
    "### How many hours did you spend on these Exercises?\n",
    "\n",
    "Assign a number to `feedback_time`."
   ]
  },
  {
   "cell_type": "code",
   "execution_count": 149,
   "metadata": {},
   "outputs": [
    {
     "data": {
      "text/plain": [
       "10"
      ]
     },
     "execution_count": 149,
     "metadata": {},
     "output_type": "execute_result"
    }
   ],
   "source": [
    "#// BEGIN_TODO [Feedback_1] (0 point)\n",
    "\n",
    "feedback_time = 10\n",
    "\n",
    "#// END_TODO [Feedback_1] (0 point)\n",
    "\n",
    "import numbers\n",
    "assert isinstance(feedback_time, numbers.Number), \"Please assign a number to feedback_time\"\n",
    "feedback_time"
   ]
  },
  {
   "cell_type": "markdown",
   "metadata": {},
   "source": [
    "### How difficult did you find these Exercises?\n",
    "\n",
    "Assign an integer to `feedback_difficulty`, on a scale 1 - 10, with 1 being very easy."
   ]
  },
  {
   "cell_type": "code",
   "execution_count": 150,
   "metadata": {},
   "outputs": [
    {
     "data": {
      "text/plain": [
       "8"
      ]
     },
     "execution_count": 150,
     "metadata": {},
     "output_type": "execute_result"
    }
   ],
   "source": [
    "#// BEGIN_TODO [Feedback_2] (0 point)\n",
    "\n",
    "feedback_difficulty = 8\n",
    "\n",
    "#// END_TODO [Feedback_2] (0 point)\n",
    "\n",
    "import numbers\n",
    "assert isinstance(feedback_difficulty, numbers.Number), \"Please assign a number to feedback_difficulty\"\n",
    "feedback_difficulty"
   ]
  },
  {
   "cell_type": "markdown",
   "metadata": {},
   "source": [
    "### (Optional) What did you like?\n",
    "\n",
    "Assign a string to `feedback_like`."
   ]
  },
  {
   "cell_type": "code",
   "execution_count": 151,
   "metadata": {
    "collapsed": true
   },
   "outputs": [],
   "source": [
    "#// BEGIN_TODO [Feedback_3] (0 point)\n",
    "\n",
    "feedback_like = ''\n",
    "\n",
    "#// END_TODO [Feedback_3] (0 point)"
   ]
  },
  {
   "cell_type": "markdown",
   "metadata": {},
   "source": [
    "### (Optional) What can be improved?\n",
    "\n",
    "Assign a string to `feedback_improve`."
   ]
  },
  {
   "cell_type": "code",
   "execution_count": 152,
   "metadata": {
    "collapsed": true
   },
   "outputs": [],
   "source": [
    "#// BEGIN_TODO [Feedback_4] (0 point)\n",
    "\n",
    "feedback_improve = ''\n",
    "\n",
    "#// END_TODO [Feedback_4] (0 point)"
   ]
  },
  {
   "cell_type": "markdown",
   "metadata": {},
   "source": [
    "\n",
    "\n",
    "\n",
    "## How to submit your work\n",
    "\n",
    "1. **Before submitting**, you must run your notebook by doing **Kernel > Restart & Run All**.  \n",
    "   Make sure that your notebook runs without errors **in linear order**.\n",
    "\n",
    "2. Remember to rename the notebook, replacing `...-template.ipynb` with `...-yourIDnr.ipynb`, where `yourIDnr` is your TU/e identification number.\n",
    "\n",
    "3. Submit the executed notebook with your work\n",
    "   for the appropriate assignment in **Canvas**.\n",
    "\n",
    "* In the **Momotor** tab in Canvas,\n",
    "  you can select that assignment again to find some feedback on your submitted work.\n",
    "  \n",
    "* If there are any problems reported by _Momotor_,\n",
    "  then you need to fix those,\n",
    "  and **resubmit the fixed notebook**.\n",
    "\n",
    "In case of a high workload on our server\n",
    "(because many students submit close to the deadline),\n",
    "it may take longer to receive the feedback.\n"
   ]
  },
  {
   "cell_type": "markdown",
   "metadata": {},
   "source": [
    "---"
   ]
  },
  {
   "cell_type": "code",
   "execution_count": 153,
   "metadata": {},
   "outputs": [
    {
     "name": "stdout",
     "output_type": "stream",
     "text": [
      "Variable                Type               Data/Info\n",
      "----------------------------------------------------\n",
      "AUTHOR_DATE             str                2019-03-11\n",
      "AUTHOR_ID_NR            str                1349171\n",
      "AUTHOR_NAME             str                Kyra Moviat\n",
      "ECDF                    type               <class 'statsmodels.distr<...>rical_distribution.ECDF'>\n",
      "MouseExperiment         type               <class 'mouse_experiment.MouseExperiment'>\n",
      "ax                      AxesSubplot        Axes(0.125,0.125;0.775x0.755)\n",
      "ax_deriv                AxesSubplot        Axes(0.125,0.2;0.775x0.68)\n",
      "ax_last_path            AxesSubplot        Axes(0.125,0.125;0.775x0.755)\n",
      "ax_marg                 AxesSubplot        Axes(0.125,0.2;0.775x0.68)\n",
      "ax_nasdaq               AxesSubplot        Axes(0.125,0.2;0.775x0.68)\n",
      "ax_paths                AxesSubplot        Axes(0.125,0.125;0.775x0.755)\n",
      "ax_pathss               AxesSubplot        Axes(0.125,0.125;0.775x0.755)\n",
      "ax_pathsss              AxesSubplot        Axes(0.125,0.125;0.775x0.755)\n",
      "ax_pathssss             AxesSubplot        Axes(0.125,0.125;0.775x0.755)\n",
      "booltemp                Series             0       False\\n1       Fa<...>Length: 8037, dtype: bool\n",
      "date_max                Timestamp          2008-10-13 00:00:00\n",
      "date_min                Timestamp          2016-06-24 00:00:00\n",
      "day_Dijkstra_bor        int                6\n",
      "day_Dijkstra_born       str                sunday\n",
      "df_counts               DataFrame             counts  ecdf\\n1       <...> 2   0.8\\n7       1   1.0\n",
      "df_ecdf                 DataFrame                 ecdf\\n-2000   0.0\\<...>n 7      1.0\\n 2000   1.0\n",
      "df_experiment           DataFrame             outcome\\n0        5\\n1<...>5\\n3        7\\n4        1\n",
      "df_features             DataFrame                      appr_speed_me<...>\\n[1200 rows x 3 columns]\n",
      "df_fitts                DataFrame                                   <...>n[86436 rows x 4 columns]\n",
      "df_fitts_results        DataFrame                         delay inpu<...>[33342 rows x 10 columns]\n",
      "df_last_path            DataFrame                    t  trial       <...>n[1447 rows x 16 columns]\n",
      "df_last_path_dropna     DataFrame                    t  trial       <...>n[1248 rows x 12 columns]\n",
      "df_mfeatures            DataFrame                       total_length<...>   223.590177  221.760541\n",
      "df_mouse                DataFrame                         delay inpu<...>n[16520 rows x 6 columns]\n",
      "df_mouse_counts         DataFrame                    counts      ecd<...>n[16518 rows x 2 columns]\n",
      "df_mouse_ecdf           DataFrame                            ecdf\\n-<...>n[16520 rows x 1 columns]\n",
      "df_nasdaq               DataFrame                            close  <...>\\n[2769 rows x 9 columns]\n",
      "df_paths                DataFrame                    t  trial       <...>\\n[8037 rows x 4 columns]\n",
      "df_results              DataFrame                         delay inpu<...>n[33342 rows x 9 columns]\n",
      "df_speeds               DataFrame                      approximate_s<...>\\n[1200 rows x 1 columns]\n",
      "df_total_path           DataFrame                      total_length\\<...>\\n[1200 rows x 1 columns]\n",
      "df_trackpad             DataFrame                         delay inpu<...>n[16822 rows x 6 columns]\n",
      "df_trackpad_counts      DataFrame                    counts      ecd<...>n[16822 rows x 2 columns]\n",
      "df_trackpad_ecdf        DataFrame                            ecdf\\n-<...>n[16824 rows x 1 columns]\n",
      "df_user_props           DataFrame                use_tue_laptop  rig<...>\\n[1182 rows x 7 columns]\n",
      "df_user_trial_props     DataFrame                         delay inpu<...>n[33342 rows x 6 columns]\n",
      "dict_gender             dict               n=3\n",
      "dict_input_method       dict               n=2\n",
      "dict_right_handed       dict               n=2\n",
      "dict_use_tue_laptop     dict               n=2\n",
      "experiment              MouseExperiment    <mouse_experiment.MouseEx<...>ct at 0x0000015677ABBCC0>\n",
      "feedback_difficulty     int                8\n",
      "feedback_improve        str                \n",
      "feedback_like           str                \n",
      "feedback_time           int                10\n",
      "file_fitts              str                datasets/fitts.csv\n",
      "file_user_props         str                datasets/user_props.csv\n",
      "file_user_trial_props   str                datasets/user_trial_props.csv\n",
      "gaussian_filter1d       function           <function gaussian_filter<...>1d at 0x0000015675DA5EA0>\n",
      "interp1d                type               <class 'scipy.interpolate.interpolate.interp1d'>\n",
      "last_trial              int64              66\n",
      "maxbool                 Series             Date\\n2007-01-03    False<...>Length: 2769, dtype: bool\n",
      "maxi                    float64            202.060059\n",
      "month_max               str                June\n",
      "mouses                  Series             user  trial\\n1226  5     <...>ength: 33342, dtype: bool\n",
      "np                      module             <module 'numpy' from 'C:\\<...>ges\\\\numpy\\\\__init__.py'>\n",
      "numbers                 module             <module 'numbers' from 'C<...>conda3\\\\lib\\\\numbers.py'>\n",
      "pd                      module             <module 'pandas' from 'C:<...>es\\\\pandas\\\\__init__.py'>\n",
      "plt                     module             <module 'matplotlib.pyplo<...>\\\\matplotlib\\\\pyplot.py'>\n",
      "sns                     module             <module 'seaborn' from 'C<...>s\\\\seaborn\\\\__init__.py'>\n",
      "stats                   module             <module 'scipy.stats' fro<...>ipy\\\\stats\\\\__init__.py'>\n",
      "td                      Timestamp          1930-05-11 00:00:00\n",
      "temp                    DataFrame                           close  c<...>8              4.620559  \n",
      "trackpads               Series             user  trial\\n1226  5     <...>ength: 33342, dtype: bool\n",
      "ts                      Timestamp          2019-02-04 08:45:00\n",
      "ts_utc                  Timestamp          2019-02-04 07:45:00+00:00\n",
      "ts_with_tz              Timestamp          2019-02-04 08:45:00+01:00\n",
      "year_max                int                2016\n"
     ]
    }
   ],
   "source": [
    "# List all defined names\n",
    "%whos"
   ]
  },
  {
   "cell_type": "markdown",
   "metadata": {},
   "source": [
    "---\n",
    "\n",
    "# (End of Notebook)\n",
    "\n",
    "&copy; 2017-2019 - **TU/e** - Eindhoven University of Technology"
   ]
  }
 ],
 "metadata": {
  "kernelspec": {
   "display_name": "Python 3",
   "language": "python",
   "name": "python3"
  },
  "language_info": {
   "codemirror_mode": {
    "name": "ipython",
    "version": 3
   },
   "file_extension": ".py",
   "mimetype": "text/x-python",
   "name": "python",
   "nbconvert_exporter": "python",
   "pygments_lexer": "ipython3",
   "version": "3.6.1"
  },
  "toc": {
   "base_numbering": 1,
   "nav_menu": {
    "height": "174px",
    "width": "252px"
   },
   "number_sections": false,
   "sideBar": true,
   "skip_h1_title": false,
   "title_cell": "Table of Contents",
   "title_sidebar": "Contents",
   "toc_cell": true,
   "toc_position": {
    "height": "calc(100% - 180px)",
    "left": "10px",
    "top": "150px",
    "width": "267px"
   },
   "toc_section_display": "block",
   "toc_window_display": true
  }
 },
 "nbformat": 4,
 "nbformat_minor": 2
}
