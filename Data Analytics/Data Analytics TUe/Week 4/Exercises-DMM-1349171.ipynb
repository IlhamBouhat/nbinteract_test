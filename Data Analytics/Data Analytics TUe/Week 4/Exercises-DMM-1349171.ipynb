{
 "cells": [
  {
   "cell_type": "markdown",
   "metadata": {},
   "source": [
    "# Programming Lesson and Exercises - DMM<span class=\"tocSkip\"></span>\n",
    "\n",
    "These programming lessons do not require prior programming experience.\n",
    "\n",
    "The goal is to teach you the use of _Python 3_ and the _Jupyter Notebook_ software\n",
    "in the context of _Data Analytics_.\n",
    "\n",
    "<div class=\"alert-info alert\" role=\"alert-info\">While you read this notebook,\n",
    "execute all code cells in linear order\n",
    "from the beginning</div>"
   ]
  },
  {
   "cell_type": "markdown",
   "metadata": {},
   "source": [
    "\n",
    "# Introduction to this template notebook\n",
    "\n",
    "* This is a **personal** notebook.\n",
    "* Make sure you work in a **copy** of `...-template.ipynb`,\n",
    "**renamed** to `...-yourIDnr.ipynb`,\n",
    "where `yourIDnr` is your TU/e identification number.\n",
    "\n",
    "<div class=\"alert alert-danger\" role=\"danger\">\n",
    "<h3>Integrity</h3>\n",
    "<ul>\n",
    "    <li>In this course you must act according to the rules of the TU/e code of scientific conduct.</li>\n",
    "    <li>All the exercises and the graded assignments are to be executed individually and independently.</li>\n",
    "    <li>You must not copy from the Internet, your friends, books... If you represent other people's work as your own, then that constitutes fraud and will be reported to the Examination Committee.</li>\n",
    "    <li>Making your work available to others (complicity) also constitutes fraud.</li>\n",
    "</ul>\n",
    "</div>\n",
    "\n",
    "You are expected to work with Python code in this notebook.\n",
    "\n",
    "The locations where you should write your solutions can be recognized by\n",
    "**marker lines**,\n",
    "which look like this:\n",
    "\n",
    ">`#//`\n",
    ">    `BEGIN_TODO [Label]` `Description` `(n points)`\n",
    ">\n",
    ">`#//`\n",
    ">    `END_TODO [Label]`\n",
    "\n",
    "<div class=\"alert alert-warning\" role=\"alert\">Do NOT modify or delete these marker lines.  Keep them as they are.<br/>\n",
    "<br/>\n",
    "NEVER write code <i>outside</i> the marked blocks.\n",
    "Such code cannot be evaluated.\n",
    "</div>\n",
    "\n",
    "Proceed in this notebook as follows:\n",
    "* **Read** the text.\n",
    "* **Fill in** your solutions between `BEGIN_TODO` and `END_TODO` marker lines.\n",
    "* **Run** _all_ code cells (also the ones _without_ your code),\n",
    "    _in linear order_ from the first code cell.\n",
    "\n",
    "**Personalize your notebook**:\n",
    "1. Copy the following three lines of code:\n",
    "\n",
    "  ```python\n",
    "  AUTHOR_NAME = 'Your Full Name'\n",
    "  AUTHOR_ID_NR = '1234567'\n",
    "  AUTHOR_DATE = 'YYYY-MM-DD'  # when notebook was first modified, e.g. '2019-02-26'\n",
    "  ```\n",
    "\n",
    "1. Paste them between the marker lines in the next code cell.\n",
    "1. Fill in your _full name_, _identification number_, and the current _date_ as strings between quotes.\n",
    "1. Run the code cell by putting the cursor there and typing **Control-Enter**.\n"
   ]
  },
  {
   "cell_type": "code",
   "execution_count": 2,
   "metadata": {},
   "outputs": [
    {
     "data": {
      "text/plain": [
       "('Kyra Moviat', '1349171', '1999-03-08')"
      ]
     },
     "execution_count": 2,
     "metadata": {},
     "output_type": "execute_result"
    }
   ],
   "source": [
    "#// BEGIN_TODO [Author] Name, Id.nr., Date, as strings (1 point)\n",
    "\n",
    "AUTHOR_NAME = 'Kyra Moviat'\n",
    "AUTHOR_ID_NR = '1349171'\n",
    "AUTHOR_DATE = '1999-03-08' \n",
    "\n",
    "#// END_TODO [Author]\n",
    "\n",
    "AUTHOR_NAME, AUTHOR_ID_NR, AUTHOR_DATE"
   ]
  },
  {
   "cell_type": "markdown",
   "metadata": {
    "toc": "true"
   },
   "source": [
    "<h1>Table of Contents<span class=\"tocSkip\"></span></h1>\n",
    "<div class=\"toc\"><ul class=\"toc-item\"><li><ul class=\"toc-item\"><li><span><a href=\"#Learning-Objectives-of-This-Lesson\" data-toc-modified-id=\"Learning-Objectives-of-This-Lesson-0.1\">Learning Objectives of This Lesson</a></span></li><li><span><a href=\"#Loading-the-libraries\" data-toc-modified-id=\"Loading-the-libraries-0.2\">Loading the libraries</a></span></li><li><span><a href=\"#Data-sets\" data-toc-modified-id=\"Data-sets-0.3\">Data sets</a></span></li></ul></li><li><span><a href=\"#1.-Linear-Regression\" data-toc-modified-id=\"1.-Linear-Regression-1\"><span class=\"section\" id=\"linear_regression_simple\">1.</span> Linear Regression</a></span><ul class=\"toc-item\"><li><span><a href=\"#Exercises-on-linear-regression\" data-toc-modified-id=\"Exercises-on-linear-regression-1.1\">Exercises on linear regression</a></span></li></ul></li><li><span><a href=\"#2.-Clustering\" data-toc-modified-id=\"2.-Clustering-2\"><span class=\"section\">2.</span> Clustering</a></span><ul class=\"toc-item\"><li><span><a href=\"#Exercises-on-clustering\" data-toc-modified-id=\"Exercises-on-clustering-2.1\">Exercises on clustering</a></span></li></ul></li><li><span><a href=\"#3.-Decision-Tree-Mining\" data-toc-modified-id=\"3.-Decision-Tree-Mining-3\"><span class=\"section\">3.</span> Decision Tree Mining</a></span><ul class=\"toc-item\"><li><span><a href=\"#Exercises-on-decision-trees\" data-toc-modified-id=\"Exercises-on-decision-trees-3.1\">Exercises on decision trees</a></span></li></ul></li><li><span><a href=\"#4.-Accuracy-and-Confusion-Matrix\" data-toc-modified-id=\"4.-Accuracy-and-Confusion-Matrix-4\"><span class=\"section\">4.</span> Accuracy and Confusion Matrix</a></span><ul class=\"toc-item\"><li><span><a href=\"#Exercises-on-accuracy-scores-and-confusion-matrices\" data-toc-modified-id=\"Exercises-on-accuracy-scores-and-confusion-matrices-4.1\">Exercises on accuracy scores and confusion matrices</a></span></li></ul></li><li><span><a href=\"#5.-Exercise:-Different-models-for-linear-regression\" data-toc-modified-id=\"5.-Exercise:-Different-models-for-linear-regression-5\"><span class=\"section\">5.</span> Exercise: Different models for linear regression</a></span></li><li><span><a href=\"#6.-Exercise:-Depths-of-decision-trees\" data-toc-modified-id=\"6.-Exercise:-Depths-of-decision-trees-6\"><span class=\"section\">6.</span> Exercise: Depths of decision trees</a></span></li></ul></div>"
   ]
  },
  {
   "cell_type": "markdown",
   "metadata": {},
   "source": [
    "\n",
    "## How to submit your work\n",
    "\n",
    "1. **Before submitting**, you must run your notebook by doing **Kernel > Restart & Run All**.  \n",
    "   Make sure that your notebook runs without errors **in linear order**.\n",
    "\n",
    "2. Remember to rename the notebook, replacing `...-template.ipynb` with `...-yourIDnr.ipynb`, where `yourIDnr` is your TU/e identification number.\n",
    "\n",
    "3. Submit the executed notebook with your work\n",
    "   for the appropriate assignment in **Canvas**.\n",
    "\n",
    "* In the **Momotor** tab in Canvas,\n",
    "  you can select that assignment again to find some feedback on your submitted work.\n",
    "  \n",
    "* If there are any problems reported by _Momotor_,\n",
    "  then you need to fix those,\n",
    "  and **resubmit the fixed notebook**.\n",
    "\n",
    "In case of a high workload on our server\n",
    "(because many students submit close to the deadline),\n",
    "it may take longer to receive the feedback.\n"
   ]
  },
  {
   "cell_type": "markdown",
   "metadata": {},
   "source": [
    "## Learning Objectives of This Lesson\n",
    "\n",
    "After this lesson, you should\n",
    "\n",
    "* know how to do **linear regression** on data frames\n",
    "* know how to do **k-means clustering** on data frames\n",
    "* know how to do **decision tree mining** on data frames\n",
    "* know how to determine the **$R^2$ quality** parameter of a linear model\n",
    "* know how to determine the **accuracy** and **confusion matrix** of a prediction"
   ]
  },
  {
   "cell_type": "markdown",
   "metadata": {},
   "source": [
    "## Loading the libraries\n",
    "\n",
    "To show examples, we load some Data Analytics libraries first:"
   ]
  },
  {
   "cell_type": "code",
   "execution_count": 3,
   "metadata": {
    "collapsed": true
   },
   "outputs": [],
   "source": [
    "import numpy as np  # import auxiliary library, typical idiom\n",
    "import pandas as pd  # import the Pandas library, typical idiom\n",
    "\n",
    "# next command ensures that plots appear inside the notebook\n",
    "%matplotlib inline\n",
    "import matplotlib as mpl\n",
    "import matplotlib.pyplot as plt\n",
    "import seaborn as sns  # also improves the look of plots\n",
    "sns.set()\n",
    "plt.rcParams['figure.figsize'] = 10, 5  # default hor./vert. size of plots, in inches\n",
    "plt.rcParams['lines.markeredgewidth'] = 1  # to fix issue with seaborn box plots; needed after import seaborn"
   ]
  },
  {
   "cell_type": "markdown",
   "metadata": {},
   "source": [
    "Now, we selectively import the relevant classes and functions from `sklearn`\n",
    "(_SciKit Learn_, a Python library for machine learning). Its documentation can be found here: http://scikit-learn.org/."
   ]
  },
  {
   "cell_type": "code",
   "execution_count": 4,
   "metadata": {
    "collapsed": true
   },
   "outputs": [],
   "source": [
    "from sklearn.linear_model import LinearRegression  # for linear regression\n",
    "from sklearn.cluster import KMeans  # for clustering\n",
    "from sklearn.tree import DecisionTreeClassifier  # for decision tree mining\n",
    "from sklearn.metrics import accuracy_score, confusion_matrix, mean_squared_error\n",
    "from sklearn.model_selection import train_test_split\n",
    "from treeviz import tree_print  # to print decision tree"
   ]
  },
  {
   "cell_type": "markdown",
   "metadata": {},
   "source": [
    "### Warning:\n",
    "\n",
    "* Data mining methods are often **non-deterministic**. This means that some of the data mining methods can return different answers every time they are executed, even when the same input data is used."
   ]
  },
  {
   "cell_type": "markdown",
   "metadata": {},
   "source": [
    "## Data sets\n",
    "\n",
    "Throughout this notebook we will use two main data sets. The data mining techniques will be introduced using a synthetic **example data set**, while in many of the exercises you will work on the **Auto MPG data set**."
   ]
  },
  {
   "cell_type": "markdown",
   "metadata": {},
   "source": [
    "### Example data set\n",
    "\n",
    "In order to show you how to use the Scikit Learn Python libraries to do the data mining, we will illustrate the use of the techniques on a running example:\n",
    "a small idealized data set.\n",
    "It does not matter how this is generated.\n",
    "\n",
    "The example data set has two numeric columns labeled `'a'` and `'b'`,\n",
    "and twelve rows."
   ]
  },
  {
   "cell_type": "code",
   "execution_count": 5,
   "metadata": {},
   "outputs": [
    {
     "data": {
      "text/html": [
       "<div>\n",
       "<style>\n",
       "    .dataframe thead tr:only-child th {\n",
       "        text-align: right;\n",
       "    }\n",
       "\n",
       "    .dataframe thead th {\n",
       "        text-align: left;\n",
       "    }\n",
       "\n",
       "    .dataframe tbody tr th {\n",
       "        vertical-align: top;\n",
       "    }\n",
       "</style>\n",
       "<table border=\"1\" class=\"dataframe\">\n",
       "  <thead>\n",
       "    <tr style=\"text-align: right;\">\n",
       "      <th></th>\n",
       "      <th>a</th>\n",
       "      <th>b</th>\n",
       "    </tr>\n",
       "  </thead>\n",
       "  <tbody>\n",
       "    <tr>\n",
       "      <th>0</th>\n",
       "      <td>0</td>\n",
       "      <td>1</td>\n",
       "    </tr>\n",
       "    <tr>\n",
       "      <th>1</th>\n",
       "      <td>1</td>\n",
       "      <td>2</td>\n",
       "    </tr>\n",
       "    <tr>\n",
       "      <th>2</th>\n",
       "      <td>2</td>\n",
       "      <td>1</td>\n",
       "    </tr>\n",
       "    <tr>\n",
       "      <th>3</th>\n",
       "      <td>3</td>\n",
       "      <td>3</td>\n",
       "    </tr>\n",
       "    <tr>\n",
       "      <th>4</th>\n",
       "      <td>4</td>\n",
       "      <td>2</td>\n",
       "    </tr>\n",
       "    <tr>\n",
       "      <th>5</th>\n",
       "      <td>5</td>\n",
       "      <td>3</td>\n",
       "    </tr>\n",
       "    <tr>\n",
       "      <th>6</th>\n",
       "      <td>4</td>\n",
       "      <td>7</td>\n",
       "    </tr>\n",
       "    <tr>\n",
       "      <th>7</th>\n",
       "      <td>5</td>\n",
       "      <td>8</td>\n",
       "    </tr>\n",
       "    <tr>\n",
       "      <th>8</th>\n",
       "      <td>6</td>\n",
       "      <td>7</td>\n",
       "    </tr>\n",
       "    <tr>\n",
       "      <th>9</th>\n",
       "      <td>7</td>\n",
       "      <td>9</td>\n",
       "    </tr>\n",
       "    <tr>\n",
       "      <th>10</th>\n",
       "      <td>8</td>\n",
       "      <td>8</td>\n",
       "    </tr>\n",
       "    <tr>\n",
       "      <th>11</th>\n",
       "      <td>9</td>\n",
       "      <td>9</td>\n",
       "    </tr>\n",
       "  </tbody>\n",
       "</table>\n",
       "</div>"
      ],
      "text/plain": [
       "    a  b\n",
       "0   0  1\n",
       "1   1  2\n",
       "2   2  1\n",
       "3   3  3\n",
       "4   4  2\n",
       "5   5  3\n",
       "6   4  7\n",
       "7   5  8\n",
       "8   6  7\n",
       "9   7  9\n",
       "10  8  8\n",
       "11  9  9"
      ]
     },
     "execution_count": 5,
     "metadata": {},
     "output_type": "execute_result"
    }
   ],
   "source": [
    "df_sk = pd.DataFrame([[0, 1], [1, 2], [2, 1], [3, 3], [4, 2], [5, 3], [4, 7],\n",
    "                      [5, 8], [6, 7], [7, 9], [8, 8], [9, 9]],\n",
    "                        columns=['a', 'b'])\n",
    "df_sk"
   ]
  },
  {
   "cell_type": "markdown",
   "metadata": {},
   "source": [
    "Here is a scatter plot:"
   ]
  },
  {
   "cell_type": "code",
   "execution_count": 6,
   "metadata": {},
   "outputs": [
    {
     "data": {
      "image/png": "[encoded data removed]",
      "text/plain": [
       "<matplotlib.figure.Figure at 0x217e5ecbcf8>"
      ]
     },
     "metadata": {},
     "output_type": "display_data"
    }
   ],
   "source": [
    "df_sk.plot(kind='scatter', x='a', y='b', s=50, c='r');"
   ]
  },
  {
   "cell_type": "markdown",
   "metadata": {},
   "source": [
    "This reveals some structure in the data."
   ]
  },
  {
   "cell_type": "markdown",
   "metadata": {},
   "source": [
    "### Auto MPG data set\n",
    "\n",
    "In the exercises you will apply the data mining techniques to find patterns in a data set containing information about the fuel efficiency of cars.\n",
    "\n",
    "The original Auto MPG data set for these exercises can be accessed at\n",
    "https://archive.ics.uci.edu/ml/machine-learning-databases/auto-mpg/.\n",
    "It explores the fuel efficiency of cars, measured in Miles Per Gallon (MPG):\n",
    "the higher this number, the more efficient the car.\n",
    "Some background information is available in http://lib.stat.cmu.edu/datasets/cars.desc.\n",
    "\n",
    "Here is a summary of the columns:\n",
    "\n",
    "1. mpg:           continuous; [fuel efficiency in miles per gallon; higher value is more efficient]\n",
    "2. cylinders:     multi-valued discrete [number]\n",
    "3. displacement:  continuous [volume of cylinders; in cubic inches]\n",
    "4. horsepower:    continuous [engine power; in hp]\n",
    "5. weight:        continuous [car mass; in lbs]\n",
    "6. acceleration:  continuous [time to accelerate from 0 to 60 mph; in s; higher value is less acceleration]\n",
    "7. year:    multi-valued discrete [last two digits of the year]\n",
    "8. origin:        multi-valued discrete [1. American, 2. European, 3. Japanese]\n",
    "9. name:      string (make and model; not unique)\n",
    "\n",
    "We have cleaned the set for you, so that it is easier to analyze.\n",
    "See the file `auto-mpg-clean.csv`.\n",
    "\n",
    "#### Training and test data set\n",
    "\n",
    "In the exercises we will use the data to make predictions about the fuel efficiency of a car based on its weight. We would ideally like to test the predictions on new cars. To simulate this type of testing, one often divides the whole data set into a _training set_ and a _test set_. The models are then fit using the _training set_ alone, and the predictions are evaluated using the test set.\n",
    "\n",
    "In the next code cell, we load the full data set into the data frame `df_mpg`. Next, we use the built-in `sklearn` function `train_test_split()` to split the data into data frames `df_mpg_train` and `df_mpg_test`. We will use the former for training the models, and the latter for testing."
   ]
  },
  {
   "cell_type": "code",
   "execution_count": 7,
   "metadata": {},
   "outputs": [
    {
     "data": {
      "text/html": [
       "<div>\n",
       "<style>\n",
       "    .dataframe thead tr:only-child th {\n",
       "        text-align: right;\n",
       "    }\n",
       "\n",
       "    .dataframe thead th {\n",
       "        text-align: left;\n",
       "    }\n",
       "\n",
       "    .dataframe tbody tr th {\n",
       "        vertical-align: top;\n",
       "    }\n",
       "</style>\n",
       "<table border=\"1\" class=\"dataframe\">\n",
       "  <thead>\n",
       "    <tr style=\"text-align: right;\">\n",
       "      <th></th>\n",
       "      <th>mpg</th>\n",
       "      <th>cylinders</th>\n",
       "      <th>displacement</th>\n",
       "      <th>horsepower</th>\n",
       "      <th>weight</th>\n",
       "      <th>acceleration</th>\n",
       "      <th>year</th>\n",
       "      <th>origin</th>\n",
       "      <th>name</th>\n",
       "    </tr>\n",
       "  </thead>\n",
       "  <tbody>\n",
       "    <tr>\n",
       "      <th>3</th>\n",
       "      <td>16.0</td>\n",
       "      <td>8</td>\n",
       "      <td>304.0</td>\n",
       "      <td>150.0</td>\n",
       "      <td>3433.0</td>\n",
       "      <td>12.0</td>\n",
       "      <td>70</td>\n",
       "      <td>American</td>\n",
       "      <td>amc rebel sst</td>\n",
       "    </tr>\n",
       "    <tr>\n",
       "      <th>18</th>\n",
       "      <td>27.0</td>\n",
       "      <td>4</td>\n",
       "      <td>97.0</td>\n",
       "      <td>88.0</td>\n",
       "      <td>2130.0</td>\n",
       "      <td>14.5</td>\n",
       "      <td>70</td>\n",
       "      <td>Japanese</td>\n",
       "      <td>datsun pl510</td>\n",
       "    </tr>\n",
       "    <tr>\n",
       "      <th>376</th>\n",
       "      <td>37.0</td>\n",
       "      <td>4</td>\n",
       "      <td>91.0</td>\n",
       "      <td>68.0</td>\n",
       "      <td>2025.0</td>\n",
       "      <td>18.2</td>\n",
       "      <td>82</td>\n",
       "      <td>Japanese</td>\n",
       "      <td>mazda glc custom l</td>\n",
       "    </tr>\n",
       "    <tr>\n",
       "      <th>248</th>\n",
       "      <td>36.1</td>\n",
       "      <td>4</td>\n",
       "      <td>91.0</td>\n",
       "      <td>60.0</td>\n",
       "      <td>1800.0</td>\n",
       "      <td>16.4</td>\n",
       "      <td>78</td>\n",
       "      <td>Japanese</td>\n",
       "      <td>honda civic cvcc</td>\n",
       "    </tr>\n",
       "    <tr>\n",
       "      <th>177</th>\n",
       "      <td>23.0</td>\n",
       "      <td>4</td>\n",
       "      <td>115.0</td>\n",
       "      <td>95.0</td>\n",
       "      <td>2694.0</td>\n",
       "      <td>15.0</td>\n",
       "      <td>75</td>\n",
       "      <td>European</td>\n",
       "      <td>audi 100ls</td>\n",
       "    </tr>\n",
       "    <tr>\n",
       "      <th>63</th>\n",
       "      <td>14.0</td>\n",
       "      <td>8</td>\n",
       "      <td>400.0</td>\n",
       "      <td>175.0</td>\n",
       "      <td>4385.0</td>\n",
       "      <td>12.0</td>\n",
       "      <td>72</td>\n",
       "      <td>American</td>\n",
       "      <td>pontiac catalina</td>\n",
       "    </tr>\n",
       "    <tr>\n",
       "      <th>246</th>\n",
       "      <td>32.8</td>\n",
       "      <td>4</td>\n",
       "      <td>78.0</td>\n",
       "      <td>52.0</td>\n",
       "      <td>1985.0</td>\n",
       "      <td>19.4</td>\n",
       "      <td>78</td>\n",
       "      <td>Japanese</td>\n",
       "      <td>mazda glc deluxe</td>\n",
       "    </tr>\n",
       "    <tr>\n",
       "      <th>352</th>\n",
       "      <td>29.9</td>\n",
       "      <td>4</td>\n",
       "      <td>98.0</td>\n",
       "      <td>65.0</td>\n",
       "      <td>2380.0</td>\n",
       "      <td>20.7</td>\n",
       "      <td>81</td>\n",
       "      <td>American</td>\n",
       "      <td>ford escort 2h</td>\n",
       "    </tr>\n",
       "    <tr>\n",
       "      <th>108</th>\n",
       "      <td>20.0</td>\n",
       "      <td>4</td>\n",
       "      <td>97.0</td>\n",
       "      <td>88.0</td>\n",
       "      <td>2279.0</td>\n",
       "      <td>19.0</td>\n",
       "      <td>73</td>\n",
       "      <td>Japanese</td>\n",
       "      <td>toyota carina</td>\n",
       "    </tr>\n",
       "    <tr>\n",
       "      <th>90</th>\n",
       "      <td>12.0</td>\n",
       "      <td>8</td>\n",
       "      <td>429.0</td>\n",
       "      <td>198.0</td>\n",
       "      <td>4952.0</td>\n",
       "      <td>11.5</td>\n",
       "      <td>73</td>\n",
       "      <td>American</td>\n",
       "      <td>mercury marquis brougham</td>\n",
       "    </tr>\n",
       "  </tbody>\n",
       "</table>\n",
       "</div>"
      ],
      "text/plain": [
       "      mpg  cylinders  displacement  horsepower  weight  acceleration  year  \\\n",
       "3    16.0          8         304.0       150.0  3433.0          12.0    70   \n",
       "18   27.0          4          97.0        88.0  2130.0          14.5    70   \n",
       "376  37.0          4          91.0        68.0  2025.0          18.2    82   \n",
       "248  36.1          4          91.0        60.0  1800.0          16.4    78   \n",
       "177  23.0          4         115.0        95.0  2694.0          15.0    75   \n",
       "63   14.0          8         400.0       175.0  4385.0          12.0    72   \n",
       "246  32.8          4          78.0        52.0  1985.0          19.4    78   \n",
       "352  29.9          4          98.0        65.0  2380.0          20.7    81   \n",
       "108  20.0          4          97.0        88.0  2279.0          19.0    73   \n",
       "90   12.0          8         429.0       198.0  4952.0          11.5    73   \n",
       "\n",
       "       origin                      name  \n",
       "3    American             amc rebel sst  \n",
       "18   Japanese              datsun pl510  \n",
       "376  Japanese        mazda glc custom l  \n",
       "248  Japanese          honda civic cvcc  \n",
       "177  European                audi 100ls  \n",
       "63   American          pontiac catalina  \n",
       "246  Japanese          mazda glc deluxe  \n",
       "352  American            ford escort 2h  \n",
       "108  Japanese             toyota carina  \n",
       "90   American  mercury marquis brougham  "
      ]
     },
     "execution_count": 7,
     "metadata": {},
     "output_type": "execute_result"
    }
   ],
   "source": [
    "df_mpg = pd.read_csv('datasets/auto-mpg.csv')\n",
    "df_mpg_train, df_mpg_test = train_test_split(df_mpg, test_size=0.2, random_state=42)\n",
    "\n",
    "df_mpg_train.head(10)"
   ]
  },
  {
   "cell_type": "markdown",
   "metadata": {},
   "source": [
    "Consider the following columns:\n",
    "\n",
    "* mpg, cylinders, displacement, horsepower, weight, acceleration\n",
    "\n",
    "Which correlations do you expect?\n",
    "\n",
    "You can check your expectations against the following scatter plots."
   ]
  },
  {
   "cell_type": "code",
   "execution_count": 8,
   "metadata": {},
   "outputs": [
    {
     "data": {
      "image/png": "[encoded data removed]",
      "text/plain": [
       "<matplotlib.figure.Figure at 0x217e6331940>"
      ]
     },
     "metadata": {},
     "output_type": "display_data"
    }
   ],
   "source": [
    "pd.plotting.scatter_matrix(df_mpg_train[['mpg', 'cylinders', 'displacement', 'horsepower', 'weight', 'acceleration']],\n",
    "                           diagonal='kde', figsize=(10, 10));"
   ]
  },
  {
   "cell_type": "markdown",
   "metadata": {},
   "source": [
    "# <span class=\"section\" id=\"linear_regression_simple\">1.</span> Linear Regression\n",
    "\n",
    "The goal of _linear regression_ is to come up with a _linear model_ that best fits the data.\n",
    "It is a _supervised learning_ method\n",
    "that seeks to 'explain' the dependent variable(s) from the explanatory variable(s)\n",
    "by a _linear model_.\n",
    "\n",
    "> **Note**:\n",
    "> The term _variable_ means something else in statistics than in programming.\n",
    "> A (statistical) variable is any characteristic,\n",
    "> number, or quantity that can be measured or counted.\n",
    "> Its value can vary from individual to individual in the population.\n",
    ">\n",
    "> In statistics, we distinguish _independent_ or _explanatory_ variables and\n",
    "> _dependent_ variables.\n",
    "> The value of _dependent_ variables are considered to be influenced by the\n",
    "> values of the _explanatory_ variables.\n",
    "\n",
    "In this lesson,\n",
    "we will use the **Ordinary Least Squares** (OLS) algorithm for linear regression.\n",
    "It is deterministic.\n",
    "\n",
    "If you are interested in more details,\n",
    "then you can consult the SciKit Learn documentation:\n",
    "\n",
    "* [Ordinary Least Squares algorithm](http://scikit-learn.org/stable/modules/linear_model.html)\n",
    "* [the `sklearn.linear_model.LinearRegression` object](http://scikit-learn.org/stable/modules/generated/sklearn.linear_model.LinearRegression.html)\n",
    "\n",
    "In the case of our example data set,\n",
    "we see a tendency that larger values of `a` correspond to larger values of `b`,\n",
    "and vice versa.\n",
    "\n",
    "Can we quantify this relationship?"
   ]
  },
  {
   "cell_type": "markdown",
   "metadata": {},
   "source": [
    "### Step 1. Select the data\n",
    "\n",
    "Because linear regression is a supervised learning method,\n",
    "we need to split the data into an explanatory variable and a dependent variable.\n",
    "\n",
    "In this example,\n",
    "we (fairly arbitrarily) _choose_ `a` to be the _independent_ (or _explanatory_) variable\n",
    "and `b` the _dependent_ (or _response_) variable.\n",
    "In real-life applications,\n",
    "it is often more obvious how to make that distinction.\n",
    "\n",
    "We select the data as follows for linear regression:"
   ]
  },
  {
   "cell_type": "code",
   "execution_count": 9,
   "metadata": {
    "collapsed": true
   },
   "outputs": [],
   "source": [
    "X_reg = df_sk[['a']].copy()  # independent/explanatory variable; just one column in this case\n",
    "y_reg = df_sk[['b']].copy()  # dependent/response variable; just one column"
   ]
  },
  {
   "cell_type": "markdown",
   "metadata": {},
   "source": [
    "It is good practice to copy the data (as we have done above).\n",
    "That way, you will not accidentally modify the original data,\n",
    "when you start to play around with the selected data\n",
    "(e.g., to assess the quality of the mined model).\n",
    "\n",
    "> **NOTE:** `X_reg` and  `y_reg` should be data frames, even if they contain only one column (therefore the double square brackets in `df_sk[['a']]`).\n",
    "\n",
    "> **NOTE:** In case of **multiple explanatory variables**, the `X_reg` data frame will contain several columns, one for each variable (e.g. `X_reg = df[['a', 'b', 'c']].copy()`)."
   ]
  },
  {
   "cell_type": "markdown",
   "metadata": {},
   "source": [
    "### Step 2. Create the regression object\n",
    "\n",
    "Next, we create the _regression object_ for **linear regression**,\n",
    "and store it in the variable `reg`.\n",
    "We do not need to supply any parameters;\n",
    "the default values suffice."
   ]
  },
  {
   "cell_type": "code",
   "execution_count": 10,
   "metadata": {
    "collapsed": true
   },
   "outputs": [],
   "source": [
    "reg = LinearRegression()"
   ]
  },
  {
   "cell_type": "markdown",
   "metadata": {},
   "source": [
    "Note that the order of Steps 1 and 2 does not matter."
   ]
  },
  {
   "cell_type": "markdown",
   "metadata": {},
   "source": [
    "### Step 3. Fit the model\n",
    "\n",
    "Invoke the **`fit()`** function of the regression object,\n",
    "supplying the selected data:"
   ]
  },
  {
   "cell_type": "code",
   "execution_count": 11,
   "metadata": {},
   "outputs": [
    {
     "data": {
      "text/plain": [
       "LinearRegression(copy_X=True, fit_intercept=True, n_jobs=1, normalize=False)"
      ]
     },
     "execution_count": 11,
     "metadata": {},
     "output_type": "execute_result"
    }
   ],
   "source": [
    "reg.fit(X_reg, y_reg)"
   ]
  },
  {
   "cell_type": "markdown",
   "metadata": {},
   "source": [
    "The result that is shown\n",
    "``` python\n",
    "LinearRegression(...)\n",
    "```\n",
    "\n",
    "is not interesting;\n",
    "it shows the parameters, which in our case are all default values.\n",
    "You could suppress that output by appending a semicolon ('**`;`**').\n",
    "\n",
    "The regression object now 'knows' the best linear model for the given data."
   ]
  },
  {
   "cell_type": "markdown",
   "metadata": {},
   "source": [
    "### Step 4.a. Extract model parameters\n",
    "\n",
    "The regression object 'holds' the model parameters that it determined.\n",
    "These parameters can be accessed via various attributes of the miner object.\n",
    "In case of a linear regression miner `reg`,\n",
    "the relevant attributes are:\n",
    "\n",
    "* **`reg.coef_`** : the _coefficient(s)_, one for each of the independent features\n",
    "* **`reg.intercept_`** : the _intercept(s)_, that is, the constant term (additive offset)\n",
    "\n",
    "Thus, the linear model has the form\n",
    "\n",
    "```\n",
    "y = coef_ * X + intercept_\n",
    "```\n",
    "\n",
    "For our example data, we get the following coefficient and intercept:"
   ]
  },
  {
   "cell_type": "code",
   "execution_count": 12,
   "metadata": {},
   "outputs": [
    {
     "data": {
      "text/plain": [
       "(array([[ 1.01204819]]), array([ 0.44578313]))"
      ]
     },
     "execution_count": 12,
     "metadata": {},
     "output_type": "execute_result"
    }
   ],
   "source": [
    "reg.coef_, reg.intercept_"
   ]
  },
  {
   "cell_type": "markdown",
   "metadata": {},
   "source": [
    "### Step 4.b. Visualize the model\n",
    "\n",
    "In the case of a linear model where we have one independent feature and one dependent feature,\n",
    "we can visualize that model as a _line_ in the scatter plot.\n",
    "\n",
    "For higher dimensional linear models (when there are multiple independent features),\n",
    "such a visualization is more complex (outside the scope of these lessons).\n",
    "\n",
    "Visualizing this line could be done on the basis of the extracted _coefficient_ and _intercept_. However, for the specific case of a single explanatory variable and a single dependent variable,\n",
    "Seaborn offers the function **`regplot()`** that produces a **scatter plot with regression line**."
   ]
  },
  {
   "cell_type": "code",
   "execution_count": 13,
   "metadata": {},
   "outputs": [
    {
     "data": {
      "image/png": "[encoded data removed]",
      "text/plain": [
       "<matplotlib.figure.Figure at 0x217e722fa90>"
      ]
     },
     "metadata": {},
     "output_type": "display_data"
    }
   ],
   "source": [
    "sns.regplot(X_reg['a'], y_reg['b'], line_kws={'color':'orange'}, ci=None);"
   ]
  },
  {
   "cell_type": "markdown",
   "metadata": {},
   "source": [
    "By providing the argument `line_kws={'color':'orange'}`, we set the color of the line to orange.\n",
    "\n",
    "We also provided the argument `ci = None`, to indicate that Seaborn should not draw a confidence interval (we will learn this later in the course). \n",
    "\n",
    "Note that this way of plotting the regression line does not use the regression object. Rather, Seaborn just recomputes the parameters for the linear regression from the data."
   ]
  },
  {
   "cell_type": "markdown",
   "metadata": {},
   "source": [
    "### Step 4.c. Assess the model's quality\n",
    "\n",
    "There are various ways to assess the quality of a linear model.\n",
    "One common way is to look at the value for $R^2$,\n",
    "also known as the _coefficient of determination_.\n",
    "The best value for $R^2$ is 1.0;\n",
    "it can also take on any smaller value, including negative values.\n",
    "\n",
    "$R^2$ can be computed as follows:"
   ]
  },
  {
   "cell_type": "code",
   "execution_count": 14,
   "metadata": {},
   "outputs": [
    {
     "data": {
      "text/plain": [
       "0.73286248442044033"
      ]
     },
     "execution_count": 14,
     "metadata": {},
     "output_type": "execute_result"
    }
   ],
   "source": [
    "R2 = reg.score(X_reg, y_reg)\n",
    "R2"
   ]
  },
  {
   "cell_type": "markdown",
   "metadata": {},
   "source": [
    "If you add more explanatory features in the selected data,\n",
    "the value of $R^2$ stays the same or goes up (it never goes down)."
   ]
  },
  {
   "cell_type": "markdown",
   "metadata": {},
   "source": [
    "### Step 5. Make predictions\n",
    "\n",
    "Once you have fitted a model,\n",
    "you can use it to predict outcomes for other input data.\n",
    "For that purpose,\n",
    "the regression object provides a function **`predict()`**.\n",
    "\n",
    "Let's use it in our example to predict the outcomes for all given `a` values.\n",
    "We store the predictions in a new column labeled `'predicted'`:"
   ]
  },
  {
   "cell_type": "code",
   "execution_count": 15,
   "metadata": {},
   "outputs": [
    {
     "data": {
      "text/html": [
       "<div>\n",
       "<style>\n",
       "    .dataframe thead tr:only-child th {\n",
       "        text-align: right;\n",
       "    }\n",
       "\n",
       "    .dataframe thead th {\n",
       "        text-align: left;\n",
       "    }\n",
       "\n",
       "    .dataframe tbody tr th {\n",
       "        vertical-align: top;\n",
       "    }\n",
       "</style>\n",
       "<table border=\"1\" class=\"dataframe\">\n",
       "  <thead>\n",
       "    <tr style=\"text-align: right;\">\n",
       "      <th></th>\n",
       "      <th>a</th>\n",
       "      <th>b</th>\n",
       "      <th>predicted</th>\n",
       "    </tr>\n",
       "  </thead>\n",
       "  <tbody>\n",
       "    <tr>\n",
       "      <th>0</th>\n",
       "      <td>0</td>\n",
       "      <td>1</td>\n",
       "      <td>0.445783</td>\n",
       "    </tr>\n",
       "    <tr>\n",
       "      <th>1</th>\n",
       "      <td>1</td>\n",
       "      <td>2</td>\n",
       "      <td>1.457831</td>\n",
       "    </tr>\n",
       "    <tr>\n",
       "      <th>2</th>\n",
       "      <td>2</td>\n",
       "      <td>1</td>\n",
       "      <td>2.469880</td>\n",
       "    </tr>\n",
       "    <tr>\n",
       "      <th>3</th>\n",
       "      <td>3</td>\n",
       "      <td>3</td>\n",
       "      <td>3.481928</td>\n",
       "    </tr>\n",
       "    <tr>\n",
       "      <th>4</th>\n",
       "      <td>4</td>\n",
       "      <td>2</td>\n",
       "      <td>4.493976</td>\n",
       "    </tr>\n",
       "    <tr>\n",
       "      <th>5</th>\n",
       "      <td>5</td>\n",
       "      <td>3</td>\n",
       "      <td>5.506024</td>\n",
       "    </tr>\n",
       "    <tr>\n",
       "      <th>6</th>\n",
       "      <td>4</td>\n",
       "      <td>7</td>\n",
       "      <td>4.493976</td>\n",
       "    </tr>\n",
       "    <tr>\n",
       "      <th>7</th>\n",
       "      <td>5</td>\n",
       "      <td>8</td>\n",
       "      <td>5.506024</td>\n",
       "    </tr>\n",
       "    <tr>\n",
       "      <th>8</th>\n",
       "      <td>6</td>\n",
       "      <td>7</td>\n",
       "      <td>6.518072</td>\n",
       "    </tr>\n",
       "    <tr>\n",
       "      <th>9</th>\n",
       "      <td>7</td>\n",
       "      <td>9</td>\n",
       "      <td>7.530120</td>\n",
       "    </tr>\n",
       "    <tr>\n",
       "      <th>10</th>\n",
       "      <td>8</td>\n",
       "      <td>8</td>\n",
       "      <td>8.542169</td>\n",
       "    </tr>\n",
       "    <tr>\n",
       "      <th>11</th>\n",
       "      <td>9</td>\n",
       "      <td>9</td>\n",
       "      <td>9.554217</td>\n",
       "    </tr>\n",
       "  </tbody>\n",
       "</table>\n",
       "</div>"
      ],
      "text/plain": [
       "    a  b  predicted\n",
       "0   0  1   0.445783\n",
       "1   1  2   1.457831\n",
       "2   2  1   2.469880\n",
       "3   3  3   3.481928\n",
       "4   4  2   4.493976\n",
       "5   5  3   5.506024\n",
       "6   4  7   4.493976\n",
       "7   5  8   5.506024\n",
       "8   6  7   6.518072\n",
       "9   7  9   7.530120\n",
       "10  8  8   8.542169\n",
       "11  9  9   9.554217"
      ]
     },
     "execution_count": 15,
     "metadata": {},
     "output_type": "execute_result"
    }
   ],
   "source": [
    "df_sk['predicted'] = reg.predict(X_reg)\n",
    "df_sk"
   ]
  },
  {
   "cell_type": "markdown",
   "metadata": {},
   "source": [
    "> **NOTE**:\n",
    "> `reg.predict()` requires a two-dimensional structure as argument,\n",
    "> such as a `DataFrame`, and it also returns a two-dimensional result.\n",
    "\n",
    "If you want a prediction for a single input value,\n",
    "then you need to _wrap_ that value in a `DataFrame`:"
   ]
  },
  {
   "cell_type": "code",
   "execution_count": 16,
   "metadata": {},
   "outputs": [
    {
     "data": {
      "text/plain": [
       "array([[ 5.]])"
      ]
     },
     "execution_count": 16,
     "metadata": {},
     "output_type": "execute_result"
    }
   ],
   "source": [
    "reg.predict(pd.DataFrame([4.5]))"
   ]
  },
  {
   "cell_type": "markdown",
   "metadata": {},
   "source": [
    "To obtain the prediction as a single value,\n",
    "you can extract it from the result by _indexing_:"
   ]
  },
  {
   "cell_type": "code",
   "execution_count": 17,
   "metadata": {},
   "outputs": [
    {
     "data": {
      "text/plain": [
       "5.0"
      ]
     },
     "execution_count": 17,
     "metadata": {},
     "output_type": "execute_result"
    }
   ],
   "source": [
    "reg.predict(pd.DataFrame([4.5]))[0, 0]"
   ]
  },
  {
   "cell_type": "markdown",
   "metadata": {},
   "source": [
    "## Exercises on linear regression\n",
    "\n",
    "Now apply this yourself to the Auto MPG data set."
   ]
  },
  {
   "cell_type": "markdown",
   "metadata": {},
   "source": [
    "### Exercise <span class=\"exercise\">1.a</span>: Linear model 'explaining' `mpg` from `weight`\n",
    "\n",
    "Fit a linear regression model using the _training data set_ with `mpg` as _dependent variable_ and\n",
    "`weight` as _explanatory variable_. Perform the following steps:\n",
    "\n",
    "**Step 1. Select the data**\n",
    "\n",
    "* Assign the data for the explanatory variable to `X_weight`,\n",
    "* Assign the data for the dependent variable to `y_mpg`\n",
    "\n",
    "**Step 2. Create the regression object**\n",
    "\n",
    "* Assign the regression object to `reg_mpg_weight`,\n",
    "\n",
    "**Step 3. Fit the regression model**\n",
    "\n",
    "**Step 4. Extract the regression parameters**\n",
    "\n",
    "* Assign the coefficient to `coef_mpg_weight`, and\n",
    "* Assign the intercept to `intercept_mpg_weight`."
   ]
  },
  {
   "cell_type": "code",
   "execution_count": 18,
   "metadata": {},
   "outputs": [
    {
     "data": {
      "text/plain": [
       "(array([[-0.00780524]]), array([ 46.78206337]))"
      ]
     },
     "execution_count": 18,
     "metadata": {},
     "output_type": "execute_result"
    }
   ],
   "source": [
    "#// BEGIN_TODO [DMM_1a] Linear regression (4 points)\n",
    "\n",
    "X_weight = df_mpg_train[['weight']].copy()\n",
    "y_mpg = df_mpg_train[['mpg']].copy() #copy/select data\n",
    "\n",
    "reg = LinearRegression() #create regression object\n",
    "\n",
    "reg_mpg_weight = reg.fit(X_weight, y_mpg) #fit regression model\n",
    "\n",
    "\n",
    "coef_mpg_weight = reg.coef_\n",
    "intercept_mpg_weight = reg.intercept_ #extract regression parameters\n",
    "\n",
    "#// END_TODO [DMM_1a]\n",
    "\n",
    "coef_mpg_weight, intercept_mpg_weight"
   ]
  },
  {
   "cell_type": "markdown",
   "metadata": {},
   "source": [
    "### Exercise <span class=\"exercise\">1.b</span>: Visualize the model\n",
    "\n",
    "Create a scatter plot with regression line for this linear model.  \n",
    "Hint: Use `sns.regplot()`."
   ]
  },
  {
   "cell_type": "code",
   "execution_count": 19,
   "metadata": {},
   "outputs": [
    {
     "data": {
      "image/png": "[encoded data removed]",
      "text/plain": [
       "<matplotlib.figure.Figure at 0x217e5d6e080>"
      ]
     },
     "metadata": {},
     "output_type": "display_data"
    }
   ],
   "source": [
    "#// BEGIN_TODO [DMM_1b] Scatter plot with regression line (2 points)\n",
    "\n",
    "sns.regplot(X_weight['weight'], y_mpg['mpg'], line_kws={'color':'orange'}, ci=None);\n",
    "\n",
    "#// END_TODO [DMM_1b]"
   ]
  },
  {
   "cell_type": "markdown",
   "metadata": {},
   "source": [
    "### Exercise <span class=\"exercise\">1.c</span>: Interpretation of relation\n",
    "\n",
    "Does the fitted model suggest that a _higher_ weight correspond to a _higher_ number of miles per gallon?  \n",
    "Assign your (boolean) answer to the string variable `higher_weight_higher_mpg`."
   ]
  },
  {
   "cell_type": "code",
   "execution_count": 20,
   "metadata": {},
   "outputs": [
    {
     "data": {
      "text/plain": [
       "False"
      ]
     },
     "execution_count": 20,
     "metadata": {},
     "output_type": "execute_result"
    }
   ],
   "source": [
    "#// BEGIN_TODO [DMM_1c] Linear regression (1 point)\n",
    "\n",
    "higher_weight_higher_mpg = False\n",
    "\n",
    "#// END_TODO [DMM_1c]\n",
    "\n",
    "higher_weight_higher_mpg"
   ]
  },
  {
   "cell_type": "markdown",
   "metadata": {},
   "source": [
    "### Exercise <span class=\"exercise\" id=\"model_score_mpg_weight\">1.d</span>: Quality of the model\n",
    "\n",
    "What is the quality of the model, i.e. what is the coefficient of determination $R^2$?\n",
    "Assign your (numeric) answer to the variable `R2_mpg_weight`."
   ]
  },
  {
   "cell_type": "code",
   "execution_count": 21,
   "metadata": {},
   "outputs": [
    {
     "data": {
      "text/plain": [
       "0.68447981123325818"
      ]
     },
     "execution_count": 21,
     "metadata": {},
     "output_type": "execute_result"
    }
   ],
   "source": [
    "#// BEGIN_TODO [DMM_1d] R squared (2 points)\n",
    "\n",
    "R2_mpg_weight = reg.score(X_weight, y_mpg)\n",
    "\n",
    "#// END_TODO [DMM_1d]\n",
    "\n",
    "R2_mpg_weight"
   ]
  },
  {
   "cell_type": "markdown",
   "metadata": {},
   "source": [
    "### Exercise <span class=\"exercise\">1.e</span>: Make predictions\n",
    "\n",
    "Predict the fuel efficiency (in mpg) of the cars in the test set.\n",
    "To this end, create a new data frame `X_weight_test` as a copy of the `'weight'` column of `df_mpg_test`.\n",
    "Assign your answer as a new column labeled `'predicted_mpg'` to the data frame `df_mpg_test`. \n",
    "Hint: Use `reg_mpg_weight.predict()`."
   ]
  },
  {
   "cell_type": "code",
   "execution_count": 22,
   "metadata": {},
   "outputs": [
    {
     "name": "stderr",
     "output_type": "stream",
     "text": [
      "C:\\ProgramData\\Anaconda3\\lib\\site-packages\\ipykernel_launcher.py:4: SettingWithCopyWarning: \n",
      "A value is trying to be set on a copy of a slice from a DataFrame.\n",
      "Try using .loc[row_indexer,col_indexer] = value instead\n",
      "\n",
      "See the caveats in the documentation: http://pandas.pydata.org/pandas-docs/stable/indexing.html#indexing-view-versus-copy\n",
      "  after removing the cwd from sys.path.\n"
     ]
    },
    {
     "data": {
      "text/html": [
       "<div>\n",
       "<style>\n",
       "    .dataframe thead tr:only-child th {\n",
       "        text-align: right;\n",
       "    }\n",
       "\n",
       "    .dataframe thead th {\n",
       "        text-align: left;\n",
       "    }\n",
       "\n",
       "    .dataframe tbody tr th {\n",
       "        vertical-align: top;\n",
       "    }\n",
       "</style>\n",
       "<table border=\"1\" class=\"dataframe\">\n",
       "  <thead>\n",
       "    <tr style=\"text-align: right;\">\n",
       "      <th></th>\n",
       "      <th>mpg</th>\n",
       "      <th>cylinders</th>\n",
       "      <th>displacement</th>\n",
       "      <th>horsepower</th>\n",
       "      <th>weight</th>\n",
       "      <th>acceleration</th>\n",
       "      <th>year</th>\n",
       "      <th>origin</th>\n",
       "      <th>name</th>\n",
       "      <th>predicted_mpg</th>\n",
       "    </tr>\n",
       "  </thead>\n",
       "  <tbody>\n",
       "    <tr>\n",
       "      <th>198</th>\n",
       "      <td>33.0</td>\n",
       "      <td>4</td>\n",
       "      <td>91.0</td>\n",
       "      <td>53.0</td>\n",
       "      <td>1795.0</td>\n",
       "      <td>17.4</td>\n",
       "      <td>76</td>\n",
       "      <td>Japanese</td>\n",
       "      <td>honda civic</td>\n",
       "      <td>32.771653</td>\n",
       "    </tr>\n",
       "    <tr>\n",
       "      <th>396</th>\n",
       "      <td>28.0</td>\n",
       "      <td>4</td>\n",
       "      <td>120.0</td>\n",
       "      <td>79.0</td>\n",
       "      <td>2625.0</td>\n",
       "      <td>18.6</td>\n",
       "      <td>82</td>\n",
       "      <td>American</td>\n",
       "      <td>ford ranger</td>\n",
       "      <td>26.293302</td>\n",
       "    </tr>\n",
       "    <tr>\n",
       "      <th>33</th>\n",
       "      <td>19.0</td>\n",
       "      <td>6</td>\n",
       "      <td>232.0</td>\n",
       "      <td>100.0</td>\n",
       "      <td>2634.0</td>\n",
       "      <td>13.0</td>\n",
       "      <td>71</td>\n",
       "      <td>American</td>\n",
       "      <td>amc gremlin</td>\n",
       "      <td>26.223055</td>\n",
       "    </tr>\n",
       "    <tr>\n",
       "      <th>208</th>\n",
       "      <td>13.0</td>\n",
       "      <td>8</td>\n",
       "      <td>318.0</td>\n",
       "      <td>150.0</td>\n",
       "      <td>3940.0</td>\n",
       "      <td>13.2</td>\n",
       "      <td>76</td>\n",
       "      <td>American</td>\n",
       "      <td>plymouth volare premier v8</td>\n",
       "      <td>16.029409</td>\n",
       "    </tr>\n",
       "    <tr>\n",
       "      <th>93</th>\n",
       "      <td>14.0</td>\n",
       "      <td>8</td>\n",
       "      <td>318.0</td>\n",
       "      <td>150.0</td>\n",
       "      <td>4237.0</td>\n",
       "      <td>14.5</td>\n",
       "      <td>73</td>\n",
       "      <td>American</td>\n",
       "      <td>plymouth fury gran sedan</td>\n",
       "      <td>13.711252</td>\n",
       "    </tr>\n",
       "  </tbody>\n",
       "</table>\n",
       "</div>"
      ],
      "text/plain": [
       "      mpg  cylinders  displacement  horsepower  weight  acceleration  year  \\\n",
       "198  33.0          4          91.0        53.0  1795.0          17.4    76   \n",
       "396  28.0          4         120.0        79.0  2625.0          18.6    82   \n",
       "33   19.0          6         232.0       100.0  2634.0          13.0    71   \n",
       "208  13.0          8         318.0       150.0  3940.0          13.2    76   \n",
       "93   14.0          8         318.0       150.0  4237.0          14.5    73   \n",
       "\n",
       "       origin                        name  predicted_mpg  \n",
       "198  Japanese                 honda civic      32.771653  \n",
       "396  American                 ford ranger      26.293302  \n",
       "33   American                 amc gremlin      26.223055  \n",
       "208  American  plymouth volare premier v8      16.029409  \n",
       "93   American    plymouth fury gran sedan      13.711252  "
      ]
     },
     "execution_count": 22,
     "metadata": {},
     "output_type": "execute_result"
    }
   ],
   "source": [
    "#// BEGIN_TODO [DMM_1e] Predict fuel efficiency (2 points)\n",
    "\n",
    "X_weight_test = df_mpg_test[['weight']].copy()\n",
    "df_mpg_test['predicted_mpg'] = reg_mpg_weight.predict(X_weight_test)\n",
    "\n",
    "#// END_TODO [DMM_1e]\n",
    "\n",
    "df_mpg_test.head()"
   ]
  },
  {
   "cell_type": "markdown",
   "metadata": {},
   "source": [
    "### Exercise <span class=\"exercise\">1.f</span>: Quality of the predictions\n",
    "\n",
    "Let us see how good the predictions really are. Evaluate $R^2$ on the _test set_ and assign its value to the variable `R2_test_mpg_weight`. "
   ]
  },
  {
   "cell_type": "code",
   "execution_count": 23,
   "metadata": {},
   "outputs": [
    {
     "data": {
      "text/plain": [
       "0.68447981123325818"
      ]
     },
     "execution_count": 23,
     "metadata": {},
     "output_type": "execute_result"
    }
   ],
   "source": [
    "#// BEGIN_TODO [DMM_1f] Prediction accuracy (2 points)\n",
    "\n",
    "R2_test_mpg_weight = reg.score(X_weight, y_mpg)\n",
    "\n",
    "#// END_TODO [DMM_1f]\n",
    "\n",
    "R2_test_mpg_weight"
   ]
  },
  {
   "cell_type": "markdown",
   "metadata": {},
   "source": [
    "### Exercise <span class=\"exercise\">1.g</span>: Linear model with a quadratic term\n",
    "\n",
    "When we look at the initial plot of `mpg` versus `weight`,\n",
    "it does not look linear, but curved.\n",
    "That is why it might help to include higher-order terms,\n",
    "such as the square of `weight`. \n",
    "\n",
    "In this exercise, we will try to find coefficients $a$, $b$ and $c$ such that\n",
    "\n",
    "  `mpg` $\\approx a$ `weight`${}^2$ + $b$ `weight` + $c$\n",
    "\n",
    "To this end, create a new data frame named `df_qt` by first copying `df_mpg_train` and then adding \n",
    "a column `'weight^2'` holding the values for `weight`${}^2$.\n",
    "\n",
    "Next, fit a linear regression model with `mpg` as dependent variable,\n",
    "and both `weight` and `weight`$^2$ as explanatory variables.\n",
    "\n",
    "Which equation do we find?\n",
    "\n",
    "Assign\n",
    "\n",
    "* the data for the explanatory variable (a data frame with the `'weight'` and `'weight^2'` columns) to `X_qt`,\n",
    "* the data for the dependent variable to `y_qt`,\n",
    "* the regression object to `reg_qt`,\n",
    "* the coefficients to `coef_qt`, and\n",
    "* the intercept to `intercept_qt`,\n",
    "* $R^2$ (for the training set `df_qt`) to `R2_qt`."
   ]
  },
  {
   "cell_type": "code",
   "execution_count": 24,
   "metadata": {},
   "outputs": [
    {
     "data": {
      "text/plain": [
       "(array([[ -1.84092332e-02,   1.66777086e-06]]),\n",
       " array([ 62.3891836]),\n",
       " 0.70551590344616488)"
      ]
     },
     "execution_count": 24,
     "metadata": {},
     "output_type": "execute_result"
    }
   ],
   "source": [
    "#// BEGIN_TODO [DMM_1g] Model with quadratic term explaining mpg from weight (5 points)\n",
    "\n",
    "df_qt = df_mpg_train.copy()\n",
    "df_qt['weight^2'] = df_qt['weight']**2\n",
    "\n",
    "X_qt = df_qt[['weight', 'weight^2']].copy()\n",
    "y_qt = df_qt[['mpg']].copy()\n",
    "\n",
    "reg_qt = LinearRegression()\n",
    "\n",
    "reg_mpg_weight2 = reg_qt.fit(X_qt, y_qt)\n",
    "coef_qt = reg_qt.coef_\n",
    "intercept_qt = reg_qt.intercept_\n",
    "R2_qt = reg_qt.score(X_qt, y_qt)\n",
    "\n",
    "#// END_TODO [DMM_1g]\n",
    "\n",
    "coef_qt, intercept_qt, R2_qt"
   ]
  },
  {
   "cell_type": "markdown",
   "metadata": {},
   "source": [
    "### Exercise <span class=\"exercise\">1.h</span>: Which equation did we find?\n",
    "\n",
    "From the linear regression we can extract coefficients $a$, $b$ and $c$ such that\n",
    "\n",
    "`mpg` $\\approx a$ `weight`${}^2$ + $b$ `weight` + $c$\n",
    "\n",
    "Assign those values of $a$, $b$ and $c$ to the variables `a`, `b` and `c`. Use the equation to compute the predicted `mpg` when the `weight` is $4000$ lbs and assign it to `y_mpg_4000`."
   ]
  },
  {
   "cell_type": "code",
   "execution_count": 25,
   "metadata": {},
   "outputs": [
    {
     "data": {
      "text/plain": [
       "(1.6677708577627938e-06,\n",
       " -0.018409233194489439,\n",
       " 62.38918359501357,\n",
       " 15.436584541260522)"
      ]
     },
     "execution_count": 25,
     "metadata": {},
     "output_type": "execute_result"
    }
   ],
   "source": [
    "#// BEGIN_TODO [DMM_1h] The equation (2 points)\n",
    "\n",
    "a = coef_qt[0,1]\n",
    "b = coef_qt[0,0]\n",
    "c= intercept_qt[0]\n",
    "\n",
    "weight = 4000\n",
    "\n",
    "y_mpg_4000 = a*weight**2 + b*weight + c\n",
    "\n",
    "#// END_TODO [DMM_1h]\n",
    "\n",
    "a, b, c, y_mpg_4000"
   ]
  },
  {
   "cell_type": "markdown",
   "metadata": {},
   "source": [
    "### Exercise <span class=\"exercise\">1.i</span>: Did $R^2$ improve?\n",
    "\n",
    "Is the value of $R^2$ better than in <span class=\"reference\" ref=\"model_score_mpg_weight\"><a href=\"#model_score_mpg_weight\">Exercise 1.d</a></span>?  \n",
    "Assign your boolean answer to the string variable `score_improved`."
   ]
  },
  {
   "cell_type": "code",
   "execution_count": 26,
   "metadata": {},
   "outputs": [
    {
     "data": {
      "text/plain": [
       "True"
      ]
     },
     "execution_count": 26,
     "metadata": {},
     "output_type": "execute_result"
    }
   ],
   "source": [
    "#// BEGIN_TODO [DMM_1i] Is this better than the linear model from 1.a? (1 point)\n",
    "\n",
    "score_improved = True\n",
    "\n",
    "#// END_TODO [DMM_1i]\n",
    "\n",
    "score_improved"
   ]
  },
  {
   "cell_type": "markdown",
   "metadata": {},
   "source": [
    "> **WARNING**: In fact, if you add more explanatory variables, the value of $R^2$ will _always_ increase. \n",
    "> This does not necessarily mean that the model gets better. If you add too many variables, the model will **overfit**, i.e. although predictions for data the model has seen are good, predictions on new data will be terrible. "
   ]
  },
  {
   "cell_type": "markdown",
   "metadata": {},
   "source": [
    "### Exercise <span class=\"exercise\">1.j</span>: Scatter plot with regression curve\n",
    "\n",
    "Plot your quadratic model. Add the test data to the plot in a different color.\n",
    "Hint: Use `sns.regplot()` with argument `order=2`. "
   ]
  },
  {
   "cell_type": "code",
   "execution_count": 27,
   "metadata": {},
   "outputs": [
    {
     "data": {
      "image/png": "[encoded data removed]",
      "text/plain": [
       "<matplotlib.figure.Figure at 0x217e721bd68>"
      ]
     },
     "metadata": {},
     "output_type": "display_data"
    }
   ],
   "source": [
    "#// BEGIN_TODO [DMM_1j] Scatter plot and quadratic model (2 points)\n",
    "\n",
    "sns.regplot(X_qt['weight'], y_qt['mpg'], line_kws={'color': 'orange'}, ci=None, order=2);\n",
    "sns.regplot(X_weight['weight'], y_mpg['mpg'], line_kws={'color':'purple'}, ci=None);\n",
    "\n",
    "#// END_TODO [DMM_1j]"
   ]
  },
  {
   "cell_type": "markdown",
   "metadata": {},
   "source": [
    "# <span class=\"section\">2.</span> Clustering\n",
    "\n",
    "The goal of _clustering_ is to come up with a _collection of clusters_ that best fits the data.\n",
    "It is an _unsupervised learning_ method\n",
    "that seeks to group the data 'points' in coherent groups, where\n",
    "\n",
    "* distances _within_ (intra) groups are relatively _small_, and\n",
    "* distances _between_ (inter) groups are relatively _large_.\n",
    "\n",
    "In this lesson, we will use the **K-Means** algorithm for clustering.\n",
    "It is non-deterministic, and must be started with the desired number of clusters.\n",
    "\n",
    "If you are interested in more details, you can consult the documentation at SciKit Learn:\n",
    "\n",
    "* [K-Means algorithm](http://scikit-learn.org/stable/modules/clustering.html#k-means)\n",
    "* [the `sklearn.cluster.KMeans` cluster object](http://scikit-learn.org/stable/modules/generated/sklearn.cluster.KMeans.html)"
   ]
  },
  {
   "cell_type": "markdown",
   "metadata": {},
   "source": [
    "### Step 1. Select the data\n",
    "\n",
    "We select the `'a'` and `'b'` columns from `df_sk`:"
   ]
  },
  {
   "cell_type": "code",
   "execution_count": 28,
   "metadata": {
    "collapsed": true
   },
   "outputs": [],
   "source": [
    "X_km = df_sk[['a', 'b']].copy()"
   ]
  },
  {
   "cell_type": "markdown",
   "metadata": {},
   "source": [
    "### Step 2. Create the cluster object\n",
    "\n",
    "Next, we create the _cluster object_ for **K-Means clustering**,\n",
    "supplying the desired number of clusters as argument (**`n_clusters=...`**),\n",
    "and store it in the variable `km`.\n",
    "\n",
    "In this example, we go for four clusters:"
   ]
  },
  {
   "cell_type": "code",
   "execution_count": 29,
   "metadata": {
    "collapsed": true
   },
   "outputs": [],
   "source": [
    "km = KMeans(n_clusters=4)"
   ]
  },
  {
   "cell_type": "markdown",
   "metadata": {},
   "source": [
    "### Step 3. Fit the model\n",
    "\n",
    "Invoke the **`fit()`** function of the cluster object,\n",
    "supplying the selected data:"
   ]
  },
  {
   "cell_type": "code",
   "execution_count": 30,
   "metadata": {},
   "outputs": [
    {
     "data": {
      "text/plain": [
       "KMeans(algorithm='auto', copy_x=True, init='k-means++', max_iter=300,\n",
       "    n_clusters=4, n_init=10, n_jobs=1, precompute_distances='auto',\n",
       "    random_state=None, tol=0.0001, verbose=0)"
      ]
     },
     "execution_count": 30,
     "metadata": {},
     "output_type": "execute_result"
    }
   ],
   "source": [
    "km.fit(X_km)"
   ]
  },
  {
   "cell_type": "markdown",
   "metadata": {},
   "source": [
    "### Step 4.a. Extract model parameters\n",
    "\n",
    "In case of K-Means clustering,\n",
    "the relevant attributes of the cluster object `km` are:\n",
    "\n",
    "* **`km.cluster_centers_ `** : the _locations of the cluster centers_\n",
    "* **`km.labels_`** : the _cluster labels_ for the data points  \n",
    "    Labels are in the range from $0$ through $k-1$.\n",
    "\n",
    "It is convenient\n",
    "\n",
    "* to convert the cluster centers to a data frame with the same column labels as the original data,\n",
    "    and\n",
    "* to add the labels as a new column to the data being clustered.\n",
    "\n",
    "In case of our example, we do this as follows."
   ]
  },
  {
   "cell_type": "code",
   "execution_count": 31,
   "metadata": {},
   "outputs": [
    {
     "data": {
      "text/html": [
       "<div>\n",
       "<style>\n",
       "    .dataframe thead tr:only-child th {\n",
       "        text-align: right;\n",
       "    }\n",
       "\n",
       "    .dataframe thead th {\n",
       "        text-align: left;\n",
       "    }\n",
       "\n",
       "    .dataframe tbody tr th {\n",
       "        vertical-align: top;\n",
       "    }\n",
       "</style>\n",
       "<table border=\"1\" class=\"dataframe\">\n",
       "  <thead>\n",
       "    <tr style=\"text-align: right;\">\n",
       "      <th></th>\n",
       "      <th>a</th>\n",
       "      <th>b</th>\n",
       "    </tr>\n",
       "  </thead>\n",
       "  <tbody>\n",
       "    <tr>\n",
       "      <th>0</th>\n",
       "      <td>4.0</td>\n",
       "      <td>2.666667</td>\n",
       "    </tr>\n",
       "    <tr>\n",
       "      <th>1</th>\n",
       "      <td>5.0</td>\n",
       "      <td>7.333333</td>\n",
       "    </tr>\n",
       "    <tr>\n",
       "      <th>2</th>\n",
       "      <td>1.0</td>\n",
       "      <td>1.333333</td>\n",
       "    </tr>\n",
       "    <tr>\n",
       "      <th>3</th>\n",
       "      <td>8.0</td>\n",
       "      <td>8.666667</td>\n",
       "    </tr>\n",
       "  </tbody>\n",
       "</table>\n",
       "</div>"
      ],
      "text/plain": [
       "     a         b\n",
       "0  4.0  2.666667\n",
       "1  5.0  7.333333\n",
       "2  1.0  1.333333\n",
       "3  8.0  8.666667"
      ]
     },
     "execution_count": 31,
     "metadata": {},
     "output_type": "execute_result"
    }
   ],
   "source": [
    "centers = pd.DataFrame(km.cluster_centers_, columns=X_km.columns)\n",
    "centers"
   ]
  },
  {
   "cell_type": "code",
   "execution_count": 32,
   "metadata": {},
   "outputs": [
    {
     "data": {
      "text/html": [
       "<div>\n",
       "<style>\n",
       "    .dataframe thead tr:only-child th {\n",
       "        text-align: right;\n",
       "    }\n",
       "\n",
       "    .dataframe thead th {\n",
       "        text-align: left;\n",
       "    }\n",
       "\n",
       "    .dataframe tbody tr th {\n",
       "        vertical-align: top;\n",
       "    }\n",
       "</style>\n",
       "<table border=\"1\" class=\"dataframe\">\n",
       "  <thead>\n",
       "    <tr style=\"text-align: right;\">\n",
       "      <th></th>\n",
       "      <th>a</th>\n",
       "      <th>b</th>\n",
       "      <th>cluster</th>\n",
       "    </tr>\n",
       "  </thead>\n",
       "  <tbody>\n",
       "    <tr>\n",
       "      <th>0</th>\n",
       "      <td>0</td>\n",
       "      <td>1</td>\n",
       "      <td>2</td>\n",
       "    </tr>\n",
       "    <tr>\n",
       "      <th>1</th>\n",
       "      <td>1</td>\n",
       "      <td>2</td>\n",
       "      <td>2</td>\n",
       "    </tr>\n",
       "    <tr>\n",
       "      <th>2</th>\n",
       "      <td>2</td>\n",
       "      <td>1</td>\n",
       "      <td>2</td>\n",
       "    </tr>\n",
       "    <tr>\n",
       "      <th>3</th>\n",
       "      <td>3</td>\n",
       "      <td>3</td>\n",
       "      <td>0</td>\n",
       "    </tr>\n",
       "    <tr>\n",
       "      <th>4</th>\n",
       "      <td>4</td>\n",
       "      <td>2</td>\n",
       "      <td>0</td>\n",
       "    </tr>\n",
       "    <tr>\n",
       "      <th>5</th>\n",
       "      <td>5</td>\n",
       "      <td>3</td>\n",
       "      <td>0</td>\n",
       "    </tr>\n",
       "    <tr>\n",
       "      <th>6</th>\n",
       "      <td>4</td>\n",
       "      <td>7</td>\n",
       "      <td>1</td>\n",
       "    </tr>\n",
       "    <tr>\n",
       "      <th>7</th>\n",
       "      <td>5</td>\n",
       "      <td>8</td>\n",
       "      <td>1</td>\n",
       "    </tr>\n",
       "    <tr>\n",
       "      <th>8</th>\n",
       "      <td>6</td>\n",
       "      <td>7</td>\n",
       "      <td>1</td>\n",
       "    </tr>\n",
       "    <tr>\n",
       "      <th>9</th>\n",
       "      <td>7</td>\n",
       "      <td>9</td>\n",
       "      <td>3</td>\n",
       "    </tr>\n",
       "    <tr>\n",
       "      <th>10</th>\n",
       "      <td>8</td>\n",
       "      <td>8</td>\n",
       "      <td>3</td>\n",
       "    </tr>\n",
       "    <tr>\n",
       "      <th>11</th>\n",
       "      <td>9</td>\n",
       "      <td>9</td>\n",
       "      <td>3</td>\n",
       "    </tr>\n",
       "  </tbody>\n",
       "</table>\n",
       "</div>"
      ],
      "text/plain": [
       "    a  b  cluster\n",
       "0   0  1        2\n",
       "1   1  2        2\n",
       "2   2  1        2\n",
       "3   3  3        0\n",
       "4   4  2        0\n",
       "5   5  3        0\n",
       "6   4  7        1\n",
       "7   5  8        1\n",
       "8   6  7        1\n",
       "9   7  9        3\n",
       "10  8  8        3\n",
       "11  9  9        3"
      ]
     },
     "execution_count": 32,
     "metadata": {},
     "output_type": "execute_result"
    }
   ],
   "source": [
    "X_km['cluster'] = km.labels_\n",
    "X_km"
   ]
  },
  {
   "cell_type": "markdown",
   "metadata": {},
   "source": [
    "### Step 4.b. Visualize the model\n",
    "\n",
    "To visualize the clusters,\n",
    "we create a scatter plot,\n",
    "where we color each data point according to its cluster.\n",
    "\n",
    "Finally, we put in the centers marked by a cross."
   ]
  },
  {
   "cell_type": "code",
   "execution_count": 33,
   "metadata": {},
   "outputs": [
    {
     "data": {
      "text/plain": [
       "<matplotlib.axes._subplots.AxesSubplot at 0x217e722f470>"
      ]
     },
     "execution_count": 33,
     "metadata": {},
     "output_type": "execute_result"
    },
    {
     "data": {
      "image/png": "[encoded data removed]",
      "text/plain": [
       "<matplotlib.figure.Figure at 0x217e721b908>"
      ]
     },
     "metadata": {},
     "output_type": "display_data"
    }
   ],
   "source": [
    "ax = X_km[X_km['cluster']==0].plot(kind='scatter', x='a', y='b', s=50, c='green', sharex=False)\n",
    "X_km[X_km['cluster']==1].plot(kind='scatter',x='a',y='b',s=50, c='orange', sharex=False, ax = ax)\n",
    "X_km[X_km['cluster']==2].plot(kind='scatter',x='a',y='b',s=50, c='purple', sharex=False, ax = ax)\n",
    "X_km[X_km['cluster']==3].plot(kind='scatter',x='a',y='b',s=50, c='blue', sharex=False, ax = ax)\n",
    "\n",
    "centers.plot(kind = 'scatter', x='a', y='b', c=['green','orange','purple','blue'], s=50, marker='x', sharex=False, ax=ax)"
   ]
  },
  {
   "cell_type": "markdown",
   "metadata": {},
   "source": [
    "> **NOTES**: The $x$-axis will _not_ be labeled when the argument `sharex=False` is omitted.\n",
    ">     (Supplying the argument `sharex=False` is a workaround for a bug.)"
   ]
  },
  {
   "cell_type": "markdown",
   "metadata": {},
   "source": [
    "### Step 4.c. Assess the model's quality\n",
    "\n",
    "For clustering, a quality measure is the _sum of squared distances_ of data points\n",
    "to their closest cluster center, also known as _inertia_.\n",
    "Its value is non-negative, and 0 is the best.\n",
    "\n",
    "It is obtained as follows."
   ]
  },
  {
   "cell_type": "code",
   "execution_count": 34,
   "metadata": {},
   "outputs": [
    {
     "data": {
      "text/plain": [
       "10.666666666666668"
      ]
     },
     "execution_count": 34,
     "metadata": {},
     "output_type": "execute_result"
    }
   ],
   "source": [
    "inertia = km.inertia_\n",
    "inertia"
   ]
  },
  {
   "cell_type": "markdown",
   "metadata": {},
   "source": [
    "> **WARNING**: The inertia will always go down if you create more clusters, similarly to how the value of $R^2$ for linear regression always goes up if you add more explanatory variables. Again, this does _not_ mean that more clusters is always better: at some point every point will just have its own cluster, and the clustering becomes meaningless."
   ]
  },
  {
   "cell_type": "markdown",
   "metadata": {},
   "source": [
    "### Step 5. Do predictions\n",
    "\n",
    "Given one or more additional data points, you can find their clusters,\n",
    "that is, the label of the nearest cluster center, with the function **`predict()`**."
   ]
  },
  {
   "cell_type": "code",
   "execution_count": 35,
   "metadata": {},
   "outputs": [
    {
     "data": {
      "text/plain": [
       "array([2, 0, 1, 0, 1, 3])"
      ]
     },
     "execution_count": 35,
     "metadata": {},
     "output_type": "execute_result"
    }
   ],
   "source": [
    "test_km = [(1, 4), (2, 4), (4, 6), (5, 4), (7, 6), (8, 8)]\n",
    "km.predict(test_km)"
   ]
  },
  {
   "attachments": {
    "kmeans-regions.png": {
     "image/png": "[encoded data removed]"
    }
   },
   "cell_type": "markdown",
   "metadata": {},
   "source": [
    "Check whether these predictions make sense.\n",
    "\n",
    "It may be helpful to consult the following plot\n",
    "(its creation is beyond the scope of these lessons),\n",
    "which shows the cluster (color) predicted by `km.predict()`\n",
    "for all points in the plot area .\n",
    "\n",
    "![kmeans-regions.png](attachment:kmeans-regions.png)"
   ]
  },
  {
   "cell_type": "markdown",
   "metadata": {},
   "source": [
    "## Exercises on clustering\n",
    "\n",
    "In this exercise we will attempt to identify different types of _wheat seeds_, by clustering on their geometrical properties. We use a data set containing measurements of 210 different seeds. \n",
    "\n",
    "We load the data into the data frame `df_seeds`."
   ]
  },
  {
   "cell_type": "code",
   "execution_count": 36,
   "metadata": {},
   "outputs": [
    {
     "data": {
      "text/html": [
       "<div>\n",
       "<style>\n",
       "    .dataframe thead tr:only-child th {\n",
       "        text-align: right;\n",
       "    }\n",
       "\n",
       "    .dataframe thead th {\n",
       "        text-align: left;\n",
       "    }\n",
       "\n",
       "    .dataframe tbody tr th {\n",
       "        vertical-align: top;\n",
       "    }\n",
       "</style>\n",
       "<table border=\"1\" class=\"dataframe\">\n",
       "  <thead>\n",
       "    <tr style=\"text-align: right;\">\n",
       "      <th></th>\n",
       "      <th>area</th>\n",
       "      <th>perimeter</th>\n",
       "      <th>kernel_length</th>\n",
       "      <th>kernel_width</th>\n",
       "      <th>asymmetry</th>\n",
       "      <th>groove_length</th>\n",
       "    </tr>\n",
       "  </thead>\n",
       "  <tbody>\n",
       "    <tr>\n",
       "      <th>0</th>\n",
       "      <td>15.26</td>\n",
       "      <td>14.84</td>\n",
       "      <td>5.763</td>\n",
       "      <td>3.312</td>\n",
       "      <td>2.221</td>\n",
       "      <td>5.220</td>\n",
       "    </tr>\n",
       "    <tr>\n",
       "      <th>1</th>\n",
       "      <td>14.88</td>\n",
       "      <td>14.57</td>\n",
       "      <td>5.554</td>\n",
       "      <td>3.333</td>\n",
       "      <td>1.018</td>\n",
       "      <td>4.956</td>\n",
       "    </tr>\n",
       "    <tr>\n",
       "      <th>2</th>\n",
       "      <td>14.29</td>\n",
       "      <td>14.09</td>\n",
       "      <td>5.291</td>\n",
       "      <td>3.337</td>\n",
       "      <td>2.699</td>\n",
       "      <td>4.825</td>\n",
       "    </tr>\n",
       "    <tr>\n",
       "      <th>3</th>\n",
       "      <td>13.84</td>\n",
       "      <td>13.94</td>\n",
       "      <td>5.324</td>\n",
       "      <td>3.379</td>\n",
       "      <td>2.259</td>\n",
       "      <td>4.805</td>\n",
       "    </tr>\n",
       "    <tr>\n",
       "      <th>4</th>\n",
       "      <td>16.14</td>\n",
       "      <td>14.99</td>\n",
       "      <td>5.658</td>\n",
       "      <td>3.562</td>\n",
       "      <td>1.355</td>\n",
       "      <td>5.175</td>\n",
       "    </tr>\n",
       "    <tr>\n",
       "      <th>5</th>\n",
       "      <td>14.38</td>\n",
       "      <td>14.21</td>\n",
       "      <td>5.386</td>\n",
       "      <td>3.312</td>\n",
       "      <td>2.462</td>\n",
       "      <td>4.956</td>\n",
       "    </tr>\n",
       "    <tr>\n",
       "      <th>6</th>\n",
       "      <td>14.69</td>\n",
       "      <td>14.49</td>\n",
       "      <td>5.563</td>\n",
       "      <td>3.259</td>\n",
       "      <td>3.586</td>\n",
       "      <td>5.219</td>\n",
       "    </tr>\n",
       "    <tr>\n",
       "      <th>7</th>\n",
       "      <td>14.11</td>\n",
       "      <td>14.10</td>\n",
       "      <td>5.420</td>\n",
       "      <td>3.302</td>\n",
       "      <td>2.700</td>\n",
       "      <td>5.000</td>\n",
       "    </tr>\n",
       "    <tr>\n",
       "      <th>8</th>\n",
       "      <td>16.63</td>\n",
       "      <td>15.46</td>\n",
       "      <td>6.053</td>\n",
       "      <td>3.465</td>\n",
       "      <td>2.040</td>\n",
       "      <td>5.877</td>\n",
       "    </tr>\n",
       "    <tr>\n",
       "      <th>9</th>\n",
       "      <td>16.44</td>\n",
       "      <td>15.25</td>\n",
       "      <td>5.884</td>\n",
       "      <td>3.505</td>\n",
       "      <td>1.969</td>\n",
       "      <td>5.533</td>\n",
       "    </tr>\n",
       "  </tbody>\n",
       "</table>\n",
       "</div>"
      ],
      "text/plain": [
       "    area  perimeter  kernel_length  kernel_width  asymmetry  groove_length\n",
       "0  15.26      14.84          5.763         3.312      2.221          5.220\n",
       "1  14.88      14.57          5.554         3.333      1.018          4.956\n",
       "2  14.29      14.09          5.291         3.337      2.699          4.825\n",
       "3  13.84      13.94          5.324         3.379      2.259          4.805\n",
       "4  16.14      14.99          5.658         3.562      1.355          5.175\n",
       "5  14.38      14.21          5.386         3.312      2.462          4.956\n",
       "6  14.69      14.49          5.563         3.259      3.586          5.219\n",
       "7  14.11      14.10          5.420         3.302      2.700          5.000\n",
       "8  16.63      15.46          6.053         3.465      2.040          5.877\n",
       "9  16.44      15.25          5.884         3.505      1.969          5.533"
      ]
     },
     "execution_count": 36,
     "metadata": {},
     "output_type": "execute_result"
    }
   ],
   "source": [
    "df_seeds = pd.read_csv('datasets/seeds.csv')\n",
    "df_seeds.head(10)"
   ]
  },
  {
   "cell_type": "markdown",
   "metadata": {},
   "source": [
    "The data frame `df_seeds` contains seven columns with the following geometrical information.\n",
    "\n",
    "1. area: area of the kernel in mm$^2$\n",
    "2. perimeter: perimeter of the kernel in mm\n",
    "3. kernel_length: length of the kernel in mm\n",
    "4. kernel_width: width of the kernel in mm\n",
    "5. asymmetry: asymmetry coefficient \n",
    "6. groove_length: length of the groove in the kernel in mm"
   ]
  },
  {
   "cell_type": "markdown",
   "metadata": {},
   "source": [
    "### Exercise <span class=\"exercise\" id=\"exercise-cluster-no-scaling\">2.a</span>: Create three clusters by KMeans\n",
    "\n",
    "Cluster the wheat-seed data with the $k$-means algorithm with $k$ set to $3$. Perform the following steps:\n",
    "\n",
    "**Step 1. Select the data**\n",
    "\n",
    "* Copy the data for clustering to a data frame `df_seeds_train`\n",
    "\n",
    "**Step 2. Create the cluster object**\n",
    "\n",
    "* Assign the cluster object to `km_seeds`\n",
    "\n",
    "**Step 3. Fit the model**\n",
    "\n",
    "**Step 4. Extract the model parameters**\n",
    "\n",
    "* Assign the cluster centers to `centers_seeds`, and\n",
    "* Add a new column named `'cluster'` with the cluster labels to the data frame `df_seeds_train`"
   ]
  },
  {
   "cell_type": "code",
   "execution_count": 37,
   "metadata": {},
   "outputs": [
    {
     "data": {
      "text/html": [
       "<div>\n",
       "<style>\n",
       "    .dataframe thead tr:only-child th {\n",
       "        text-align: right;\n",
       "    }\n",
       "\n",
       "    .dataframe thead th {\n",
       "        text-align: left;\n",
       "    }\n",
       "\n",
       "    .dataframe tbody tr th {\n",
       "        vertical-align: top;\n",
       "    }\n",
       "</style>\n",
       "<table border=\"1\" class=\"dataframe\">\n",
       "  <thead>\n",
       "    <tr style=\"text-align: right;\">\n",
       "      <th></th>\n",
       "      <th>area</th>\n",
       "      <th>perimeter</th>\n",
       "      <th>kernel_length</th>\n",
       "      <th>kernel_width</th>\n",
       "      <th>asymmetry</th>\n",
       "      <th>groove_length</th>\n",
       "      <th>cluster</th>\n",
       "    </tr>\n",
       "  </thead>\n",
       "  <tbody>\n",
       "    <tr>\n",
       "      <th>0</th>\n",
       "      <td>15.26</td>\n",
       "      <td>14.84</td>\n",
       "      <td>5.763</td>\n",
       "      <td>3.312</td>\n",
       "      <td>2.221</td>\n",
       "      <td>5.220</td>\n",
       "      <td>1</td>\n",
       "    </tr>\n",
       "    <tr>\n",
       "      <th>1</th>\n",
       "      <td>14.88</td>\n",
       "      <td>14.57</td>\n",
       "      <td>5.554</td>\n",
       "      <td>3.333</td>\n",
       "      <td>1.018</td>\n",
       "      <td>4.956</td>\n",
       "      <td>1</td>\n",
       "    </tr>\n",
       "    <tr>\n",
       "      <th>2</th>\n",
       "      <td>14.29</td>\n",
       "      <td>14.09</td>\n",
       "      <td>5.291</td>\n",
       "      <td>3.337</td>\n",
       "      <td>2.699</td>\n",
       "      <td>4.825</td>\n",
       "      <td>1</td>\n",
       "    </tr>\n",
       "    <tr>\n",
       "      <th>3</th>\n",
       "      <td>13.84</td>\n",
       "      <td>13.94</td>\n",
       "      <td>5.324</td>\n",
       "      <td>3.379</td>\n",
       "      <td>2.259</td>\n",
       "      <td>4.805</td>\n",
       "      <td>1</td>\n",
       "    </tr>\n",
       "    <tr>\n",
       "      <th>4</th>\n",
       "      <td>16.14</td>\n",
       "      <td>14.99</td>\n",
       "      <td>5.658</td>\n",
       "      <td>3.562</td>\n",
       "      <td>1.355</td>\n",
       "      <td>5.175</td>\n",
       "      <td>1</td>\n",
       "    </tr>\n",
       "    <tr>\n",
       "      <th>5</th>\n",
       "      <td>14.38</td>\n",
       "      <td>14.21</td>\n",
       "      <td>5.386</td>\n",
       "      <td>3.312</td>\n",
       "      <td>2.462</td>\n",
       "      <td>4.956</td>\n",
       "      <td>1</td>\n",
       "    </tr>\n",
       "    <tr>\n",
       "      <th>6</th>\n",
       "      <td>14.69</td>\n",
       "      <td>14.49</td>\n",
       "      <td>5.563</td>\n",
       "      <td>3.259</td>\n",
       "      <td>3.586</td>\n",
       "      <td>5.219</td>\n",
       "      <td>1</td>\n",
       "    </tr>\n",
       "    <tr>\n",
       "      <th>7</th>\n",
       "      <td>14.11</td>\n",
       "      <td>14.10</td>\n",
       "      <td>5.420</td>\n",
       "      <td>3.302</td>\n",
       "      <td>2.700</td>\n",
       "      <td>5.000</td>\n",
       "      <td>1</td>\n",
       "    </tr>\n",
       "    <tr>\n",
       "      <th>8</th>\n",
       "      <td>16.63</td>\n",
       "      <td>15.46</td>\n",
       "      <td>6.053</td>\n",
       "      <td>3.465</td>\n",
       "      <td>2.040</td>\n",
       "      <td>5.877</td>\n",
       "      <td>1</td>\n",
       "    </tr>\n",
       "    <tr>\n",
       "      <th>9</th>\n",
       "      <td>16.44</td>\n",
       "      <td>15.25</td>\n",
       "      <td>5.884</td>\n",
       "      <td>3.505</td>\n",
       "      <td>1.969</td>\n",
       "      <td>5.533</td>\n",
       "      <td>1</td>\n",
       "    </tr>\n",
       "  </tbody>\n",
       "</table>\n",
       "</div>"
      ],
      "text/plain": [
       "    area  perimeter  kernel_length  kernel_width  asymmetry  groove_length  \\\n",
       "0  15.26      14.84          5.763         3.312      2.221          5.220   \n",
       "1  14.88      14.57          5.554         3.333      1.018          4.956   \n",
       "2  14.29      14.09          5.291         3.337      2.699          4.825   \n",
       "3  13.84      13.94          5.324         3.379      2.259          4.805   \n",
       "4  16.14      14.99          5.658         3.562      1.355          5.175   \n",
       "5  14.38      14.21          5.386         3.312      2.462          4.956   \n",
       "6  14.69      14.49          5.563         3.259      3.586          5.219   \n",
       "7  14.11      14.10          5.420         3.302      2.700          5.000   \n",
       "8  16.63      15.46          6.053         3.465      2.040          5.877   \n",
       "9  16.44      15.25          5.884         3.505      1.969          5.533   \n",
       "\n",
       "   cluster  \n",
       "0        1  \n",
       "1        1  \n",
       "2        1  \n",
       "3        1  \n",
       "4        1  \n",
       "5        1  \n",
       "6        1  \n",
       "7        1  \n",
       "8        1  \n",
       "9        1  "
      ]
     },
     "execution_count": 37,
     "metadata": {},
     "output_type": "execute_result"
    }
   ],
   "source": [
    "#// BEGIN_TODO [DMM_2a] Mine 3 clusters (3 points)\n",
    "\n",
    "# X_km = df_sk[['a', 'b']].copy()\n",
    "# km = KMeans(n_clusters=4)\n",
    "# km.fit(X_km)\n",
    "# centers = pd.DataFrame(km.cluster_centers_, columns=X_km.columns)\n",
    "# centers\n",
    "# inertia = km.inertia_\n",
    "# inertia\n",
    "\n",
    "\n",
    "df_seeds_train = df_seeds[['area', 'perimeter', 'kernel_length', 'kernel_width', 'asymmetry', 'groove_length']].copy()\n",
    "km_seeds = KMeans(n_clusters=3)\n",
    "\n",
    "km_seeds.fit(df_seeds_train)\n",
    "\n",
    "centers_seeds = pd.DataFrame(km_seeds.cluster_centers_, columns=df_seeds_train.columns)\n",
    "centers_seeds\n",
    "\n",
    "df_seeds_train['cluster'] = km_seeds.labels_\n",
    "# df_seeds_train.assign(cluster=centers_seeds)\n",
    "# df_seeds_train['cluster'] = centers_seeds\n",
    "\n",
    "#// END_TODO [DMM_2a]\n",
    "\n",
    "df_seeds_train.head(10)"
   ]
  },
  {
   "cell_type": "markdown",
   "metadata": {},
   "source": [
    "### Exercise <span class=\"exercise\">2.b</span>: Scatter plot with clusters\n",
    "\n",
    "Plot the results in a scatter plot, with the asymmetry on the $x$-axis, and the perimeter on the $y$-axis. Display each cluster in a different color. In addition, put red markers at the cluster centers. "
   ]
  },
  {
   "cell_type": "code",
   "execution_count": 38,
   "metadata": {},
   "outputs": [
    {
     "data": {
      "image/png": "[encoded data removed]",
      "text/plain": [
       "<matplotlib.figure.Figure at 0x217e75e7f98>"
      ]
     },
     "metadata": {},
     "output_type": "display_data"
    }
   ],
   "source": [
    "#// BEGIN_TODO [DMM_2b] Plot the clusters distinguished by color (2 points)\n",
    "\n",
    "ax = df_seeds_train[df_seeds_train['cluster']==0].plot(kind='scatter', x='asymmetry', y='perimeter', s=50, c='blue', sharex=False)\n",
    "df_seeds_train[df_seeds_train['cluster']==1].plot(kind='scatter',x='asymmetry',y='perimeter',s=50, c='orange', sharex=False, ax = ax)\n",
    "df_seeds_train[df_seeds_train['cluster']==2].plot(kind='scatter',x='asymmetry',y='perimeter',s=50, c='purple', sharex=False, ax = ax)\n",
    "centers_seeds.plot(kind = 'scatter', x='asymmetry', y='perimeter', c=['red', 'red', 'red'], s=50, marker='x', sharex=False, ax=ax);\n",
    "\n",
    "#df_seeds_train['asymmetry']\n",
    "#// END_TODO [DMM_2b]"
   ]
  },
  {
   "cell_type": "markdown",
   "metadata": {},
   "source": [
    "### Exercise <span class=\"exercise\">2.c</span>: Assess the model's quality\n",
    "\n",
    "Determine the model's _inertia_, and assign it to the variable `inertia_seeds`"
   ]
  },
  {
   "cell_type": "code",
   "execution_count": 39,
   "metadata": {},
   "outputs": [
    {
     "data": {
      "text/plain": [
       "587.24603832453454"
      ]
     },
     "execution_count": 39,
     "metadata": {},
     "output_type": "execute_result"
    }
   ],
   "source": [
    "#// BEGIN_TODO [DMM_2c] Model quality (1 point)\n",
    "\n",
    "inertia_seeds = km_seeds.inertia_\n",
    "\n",
    "#// END_TODO [DMM_2c]\n",
    "inertia_seeds"
   ]
  },
  {
   "cell_type": "markdown",
   "metadata": {},
   "source": [
    "### Exercise <span class=\"exercise\">2.d</span>: Make predictions\n",
    "\n",
    "Predict the cluster for seeds with the following geometrical properties\n",
    "given in the data frame `df_seeds_test`.   \n",
    "Assign your answer to the new column `df_seeds_test['predicted_cluster']`."
   ]
  },
  {
   "cell_type": "code",
   "execution_count": 40,
   "metadata": {},
   "outputs": [
    {
     "data": {
      "text/html": [
       "<div>\n",
       "<style>\n",
       "    .dataframe thead tr:only-child th {\n",
       "        text-align: right;\n",
       "    }\n",
       "\n",
       "    .dataframe thead th {\n",
       "        text-align: left;\n",
       "    }\n",
       "\n",
       "    .dataframe tbody tr th {\n",
       "        vertical-align: top;\n",
       "    }\n",
       "</style>\n",
       "<table border=\"1\" class=\"dataframe\">\n",
       "  <thead>\n",
       "    <tr style=\"text-align: right;\">\n",
       "      <th></th>\n",
       "      <th>area</th>\n",
       "      <th>perimeter</th>\n",
       "      <th>kernel_length</th>\n",
       "      <th>kernel_width</th>\n",
       "      <th>asymmetry</th>\n",
       "      <th>groove_length</th>\n",
       "    </tr>\n",
       "  </thead>\n",
       "  <tbody>\n",
       "    <tr>\n",
       "      <th>0</th>\n",
       "      <td>14.3</td>\n",
       "      <td>14.0</td>\n",
       "      <td>5.5</td>\n",
       "      <td>3.1</td>\n",
       "      <td>2.8</td>\n",
       "      <td>4.9</td>\n",
       "    </tr>\n",
       "    <tr>\n",
       "      <th>1</th>\n",
       "      <td>16.5</td>\n",
       "      <td>15.7</td>\n",
       "      <td>6.3</td>\n",
       "      <td>3.5</td>\n",
       "      <td>3.4</td>\n",
       "      <td>6.0</td>\n",
       "    </tr>\n",
       "    <tr>\n",
       "      <th>2</th>\n",
       "      <td>11.5</td>\n",
       "      <td>13.0</td>\n",
       "      <td>5.0</td>\n",
       "      <td>2.7</td>\n",
       "      <td>4.8</td>\n",
       "      <td>5.0</td>\n",
       "    </tr>\n",
       "  </tbody>\n",
       "</table>\n",
       "</div>"
      ],
      "text/plain": [
       "   area  perimeter  kernel_length  kernel_width  asymmetry  groove_length\n",
       "0  14.3       14.0            5.5           3.1        2.8            4.9\n",
       "1  16.5       15.7            6.3           3.5        3.4            6.0\n",
       "2  11.5       13.0            5.0           2.7        4.8            5.0"
      ]
     },
     "execution_count": 40,
     "metadata": {},
     "output_type": "execute_result"
    }
   ],
   "source": [
    "df_seeds_test = pd.DataFrame([[14.3, 14.0, 5.5, 3.1, 2.8, 4.9], \n",
    "                             [16.5, 15.7, 6.3, 3.5, 3.4, 6.0],\n",
    "                             [11.5, 13.0, 5.0, 2.7, 4.8, 5.0]], columns=df_seeds.columns )\n",
    "\n",
    "#// BEGIN_TODO [DMM_2d] Predict clusters (2 points)\n",
    "\n",
    "km_seeds.predict(df_seeds_test)\n",
    "\n",
    "#// END_TODO [DMM_2d]\n",
    "\n",
    "df_seeds_test"
   ]
  },
  {
   "cell_type": "markdown",
   "metadata": {},
   "source": [
    "### Exercise <span class=\"exercise\">2.e</span>: Compare with the actual seed varieties\n",
    "\n",
    "Using the $k$-means algorithm, we have identified our own types of wheat seeds. But in fact, for this particular data set, the seeds actually come from three established wheat varieties. Let us see how our types compare to the varieties. \n",
    "\n",
    "The first seventy seeds in the data set were from the _Kama_ variety, the second seventy were _Rosa_ wheat seeds and the last seventy were _Canadian_ wheat seeds.\n",
    "\n",
    "Add this information, as strings, in a column `'variety'` to the data frame `df_seeds_train`. Afterwards, we will automatically compare the clusters with the variety labels."
   ]
  },
  {
   "cell_type": "code",
   "execution_count": 41,
   "metadata": {},
   "outputs": [
    {
     "data": {
      "text/html": [
       "<div>\n",
       "<style>\n",
       "    .dataframe thead tr:only-child th {\n",
       "        text-align: right;\n",
       "    }\n",
       "\n",
       "    .dataframe thead th {\n",
       "        text-align: left;\n",
       "    }\n",
       "\n",
       "    .dataframe tbody tr th {\n",
       "        vertical-align: top;\n",
       "    }\n",
       "</style>\n",
       "<table border=\"1\" class=\"dataframe\">\n",
       "  <thead>\n",
       "    <tr style=\"text-align: right;\">\n",
       "      <th></th>\n",
       "      <th>area</th>\n",
       "      <th>perimeter</th>\n",
       "      <th>kernel_length</th>\n",
       "      <th>kernel_width</th>\n",
       "      <th>asymmetry</th>\n",
       "      <th>groove_length</th>\n",
       "      <th>cluster</th>\n",
       "      <th>variety</th>\n",
       "    </tr>\n",
       "  </thead>\n",
       "  <tbody>\n",
       "    <tr>\n",
       "      <th>0</th>\n",
       "      <td>15.26</td>\n",
       "      <td>14.84</td>\n",
       "      <td>5.763</td>\n",
       "      <td>3.312</td>\n",
       "      <td>2.2210</td>\n",
       "      <td>5.220</td>\n",
       "      <td>1</td>\n",
       "      <td>Kama</td>\n",
       "    </tr>\n",
       "    <tr>\n",
       "      <th>1</th>\n",
       "      <td>14.88</td>\n",
       "      <td>14.57</td>\n",
       "      <td>5.554</td>\n",
       "      <td>3.333</td>\n",
       "      <td>1.0180</td>\n",
       "      <td>4.956</td>\n",
       "      <td>1</td>\n",
       "      <td>Kama</td>\n",
       "    </tr>\n",
       "    <tr>\n",
       "      <th>2</th>\n",
       "      <td>14.29</td>\n",
       "      <td>14.09</td>\n",
       "      <td>5.291</td>\n",
       "      <td>3.337</td>\n",
       "      <td>2.6990</td>\n",
       "      <td>4.825</td>\n",
       "      <td>1</td>\n",
       "      <td>Kama</td>\n",
       "    </tr>\n",
       "    <tr>\n",
       "      <th>3</th>\n",
       "      <td>13.84</td>\n",
       "      <td>13.94</td>\n",
       "      <td>5.324</td>\n",
       "      <td>3.379</td>\n",
       "      <td>2.2590</td>\n",
       "      <td>4.805</td>\n",
       "      <td>1</td>\n",
       "      <td>Kama</td>\n",
       "    </tr>\n",
       "    <tr>\n",
       "      <th>4</th>\n",
       "      <td>16.14</td>\n",
       "      <td>14.99</td>\n",
       "      <td>5.658</td>\n",
       "      <td>3.562</td>\n",
       "      <td>1.3550</td>\n",
       "      <td>5.175</td>\n",
       "      <td>1</td>\n",
       "      <td>Kama</td>\n",
       "    </tr>\n",
       "    <tr>\n",
       "      <th>5</th>\n",
       "      <td>14.38</td>\n",
       "      <td>14.21</td>\n",
       "      <td>5.386</td>\n",
       "      <td>3.312</td>\n",
       "      <td>2.4620</td>\n",
       "      <td>4.956</td>\n",
       "      <td>1</td>\n",
       "      <td>Kama</td>\n",
       "    </tr>\n",
       "    <tr>\n",
       "      <th>6</th>\n",
       "      <td>14.69</td>\n",
       "      <td>14.49</td>\n",
       "      <td>5.563</td>\n",
       "      <td>3.259</td>\n",
       "      <td>3.5860</td>\n",
       "      <td>5.219</td>\n",
       "      <td>1</td>\n",
       "      <td>Kama</td>\n",
       "    </tr>\n",
       "    <tr>\n",
       "      <th>7</th>\n",
       "      <td>14.11</td>\n",
       "      <td>14.10</td>\n",
       "      <td>5.420</td>\n",
       "      <td>3.302</td>\n",
       "      <td>2.7000</td>\n",
       "      <td>5.000</td>\n",
       "      <td>1</td>\n",
       "      <td>Kama</td>\n",
       "    </tr>\n",
       "    <tr>\n",
       "      <th>8</th>\n",
       "      <td>16.63</td>\n",
       "      <td>15.46</td>\n",
       "      <td>6.053</td>\n",
       "      <td>3.465</td>\n",
       "      <td>2.0400</td>\n",
       "      <td>5.877</td>\n",
       "      <td>1</td>\n",
       "      <td>Kama</td>\n",
       "    </tr>\n",
       "    <tr>\n",
       "      <th>9</th>\n",
       "      <td>16.44</td>\n",
       "      <td>15.25</td>\n",
       "      <td>5.884</td>\n",
       "      <td>3.505</td>\n",
       "      <td>1.9690</td>\n",
       "      <td>5.533</td>\n",
       "      <td>1</td>\n",
       "      <td>Kama</td>\n",
       "    </tr>\n",
       "    <tr>\n",
       "      <th>10</th>\n",
       "      <td>15.26</td>\n",
       "      <td>14.85</td>\n",
       "      <td>5.714</td>\n",
       "      <td>3.242</td>\n",
       "      <td>4.5430</td>\n",
       "      <td>5.314</td>\n",
       "      <td>1</td>\n",
       "      <td>Kama</td>\n",
       "    </tr>\n",
       "    <tr>\n",
       "      <th>11</th>\n",
       "      <td>14.03</td>\n",
       "      <td>14.16</td>\n",
       "      <td>5.438</td>\n",
       "      <td>3.201</td>\n",
       "      <td>1.7170</td>\n",
       "      <td>5.001</td>\n",
       "      <td>1</td>\n",
       "      <td>Kama</td>\n",
       "    </tr>\n",
       "    <tr>\n",
       "      <th>12</th>\n",
       "      <td>13.89</td>\n",
       "      <td>14.02</td>\n",
       "      <td>5.439</td>\n",
       "      <td>3.199</td>\n",
       "      <td>3.9860</td>\n",
       "      <td>4.738</td>\n",
       "      <td>1</td>\n",
       "      <td>Kama</td>\n",
       "    </tr>\n",
       "    <tr>\n",
       "      <th>13</th>\n",
       "      <td>13.78</td>\n",
       "      <td>14.06</td>\n",
       "      <td>5.479</td>\n",
       "      <td>3.156</td>\n",
       "      <td>3.1360</td>\n",
       "      <td>4.872</td>\n",
       "      <td>1</td>\n",
       "      <td>Kama</td>\n",
       "    </tr>\n",
       "    <tr>\n",
       "      <th>14</th>\n",
       "      <td>13.74</td>\n",
       "      <td>14.05</td>\n",
       "      <td>5.482</td>\n",
       "      <td>3.114</td>\n",
       "      <td>2.9320</td>\n",
       "      <td>4.825</td>\n",
       "      <td>1</td>\n",
       "      <td>Kama</td>\n",
       "    </tr>\n",
       "    <tr>\n",
       "      <th>15</th>\n",
       "      <td>14.59</td>\n",
       "      <td>14.28</td>\n",
       "      <td>5.351</td>\n",
       "      <td>3.333</td>\n",
       "      <td>4.1850</td>\n",
       "      <td>4.781</td>\n",
       "      <td>1</td>\n",
       "      <td>Kama</td>\n",
       "    </tr>\n",
       "    <tr>\n",
       "      <th>16</th>\n",
       "      <td>13.99</td>\n",
       "      <td>13.83</td>\n",
       "      <td>5.119</td>\n",
       "      <td>3.383</td>\n",
       "      <td>5.2340</td>\n",
       "      <td>4.781</td>\n",
       "      <td>2</td>\n",
       "      <td>Kama</td>\n",
       "    </tr>\n",
       "    <tr>\n",
       "      <th>17</th>\n",
       "      <td>15.69</td>\n",
       "      <td>14.75</td>\n",
       "      <td>5.527</td>\n",
       "      <td>3.514</td>\n",
       "      <td>1.5990</td>\n",
       "      <td>5.046</td>\n",
       "      <td>1</td>\n",
       "      <td>Kama</td>\n",
       "    </tr>\n",
       "    <tr>\n",
       "      <th>18</th>\n",
       "      <td>14.70</td>\n",
       "      <td>14.21</td>\n",
       "      <td>5.205</td>\n",
       "      <td>3.466</td>\n",
       "      <td>1.7670</td>\n",
       "      <td>4.649</td>\n",
       "      <td>1</td>\n",
       "      <td>Kama</td>\n",
       "    </tr>\n",
       "    <tr>\n",
       "      <th>19</th>\n",
       "      <td>12.72</td>\n",
       "      <td>13.57</td>\n",
       "      <td>5.226</td>\n",
       "      <td>3.049</td>\n",
       "      <td>4.1020</td>\n",
       "      <td>4.914</td>\n",
       "      <td>2</td>\n",
       "      <td>Kama</td>\n",
       "    </tr>\n",
       "    <tr>\n",
       "      <th>20</th>\n",
       "      <td>14.16</td>\n",
       "      <td>14.40</td>\n",
       "      <td>5.658</td>\n",
       "      <td>3.129</td>\n",
       "      <td>3.0720</td>\n",
       "      <td>5.176</td>\n",
       "      <td>1</td>\n",
       "      <td>Kama</td>\n",
       "    </tr>\n",
       "    <tr>\n",
       "      <th>21</th>\n",
       "      <td>14.11</td>\n",
       "      <td>14.26</td>\n",
       "      <td>5.520</td>\n",
       "      <td>3.168</td>\n",
       "      <td>2.6880</td>\n",
       "      <td>5.219</td>\n",
       "      <td>1</td>\n",
       "      <td>Kama</td>\n",
       "    </tr>\n",
       "    <tr>\n",
       "      <th>22</th>\n",
       "      <td>15.88</td>\n",
       "      <td>14.90</td>\n",
       "      <td>5.618</td>\n",
       "      <td>3.507</td>\n",
       "      <td>0.7651</td>\n",
       "      <td>5.091</td>\n",
       "      <td>1</td>\n",
       "      <td>Kama</td>\n",
       "    </tr>\n",
       "    <tr>\n",
       "      <th>23</th>\n",
       "      <td>12.08</td>\n",
       "      <td>13.23</td>\n",
       "      <td>5.099</td>\n",
       "      <td>2.936</td>\n",
       "      <td>1.4150</td>\n",
       "      <td>4.961</td>\n",
       "      <td>1</td>\n",
       "      <td>Kama</td>\n",
       "    </tr>\n",
       "    <tr>\n",
       "      <th>24</th>\n",
       "      <td>15.01</td>\n",
       "      <td>14.76</td>\n",
       "      <td>5.789</td>\n",
       "      <td>3.245</td>\n",
       "      <td>1.7910</td>\n",
       "      <td>5.001</td>\n",
       "      <td>1</td>\n",
       "      <td>Kama</td>\n",
       "    </tr>\n",
       "    <tr>\n",
       "      <th>25</th>\n",
       "      <td>16.19</td>\n",
       "      <td>15.16</td>\n",
       "      <td>5.833</td>\n",
       "      <td>3.421</td>\n",
       "      <td>0.9030</td>\n",
       "      <td>5.307</td>\n",
       "      <td>1</td>\n",
       "      <td>Kama</td>\n",
       "    </tr>\n",
       "    <tr>\n",
       "      <th>26</th>\n",
       "      <td>13.02</td>\n",
       "      <td>13.76</td>\n",
       "      <td>5.395</td>\n",
       "      <td>3.026</td>\n",
       "      <td>3.3730</td>\n",
       "      <td>4.825</td>\n",
       "      <td>2</td>\n",
       "      <td>Kama</td>\n",
       "    </tr>\n",
       "    <tr>\n",
       "      <th>27</th>\n",
       "      <td>12.74</td>\n",
       "      <td>13.67</td>\n",
       "      <td>5.395</td>\n",
       "      <td>2.956</td>\n",
       "      <td>2.5040</td>\n",
       "      <td>4.869</td>\n",
       "      <td>1</td>\n",
       "      <td>Kama</td>\n",
       "    </tr>\n",
       "    <tr>\n",
       "      <th>28</th>\n",
       "      <td>14.11</td>\n",
       "      <td>14.18</td>\n",
       "      <td>5.541</td>\n",
       "      <td>3.221</td>\n",
       "      <td>2.7540</td>\n",
       "      <td>5.038</td>\n",
       "      <td>1</td>\n",
       "      <td>Kama</td>\n",
       "    </tr>\n",
       "    <tr>\n",
       "      <th>29</th>\n",
       "      <td>13.45</td>\n",
       "      <td>14.02</td>\n",
       "      <td>5.516</td>\n",
       "      <td>3.065</td>\n",
       "      <td>3.5310</td>\n",
       "      <td>5.097</td>\n",
       "      <td>1</td>\n",
       "      <td>Kama</td>\n",
       "    </tr>\n",
       "    <tr>\n",
       "      <th>...</th>\n",
       "      <td>...</td>\n",
       "      <td>...</td>\n",
       "      <td>...</td>\n",
       "      <td>...</td>\n",
       "      <td>...</td>\n",
       "      <td>...</td>\n",
       "      <td>...</td>\n",
       "      <td>...</td>\n",
       "    </tr>\n",
       "    <tr>\n",
       "      <th>180</th>\n",
       "      <td>11.41</td>\n",
       "      <td>12.95</td>\n",
       "      <td>5.090</td>\n",
       "      <td>2.775</td>\n",
       "      <td>4.9570</td>\n",
       "      <td>4.825</td>\n",
       "      <td>2</td>\n",
       "      <td>Canadian</td>\n",
       "    </tr>\n",
       "    <tr>\n",
       "      <th>181</th>\n",
       "      <td>12.46</td>\n",
       "      <td>13.41</td>\n",
       "      <td>5.236</td>\n",
       "      <td>3.017</td>\n",
       "      <td>4.9870</td>\n",
       "      <td>5.147</td>\n",
       "      <td>2</td>\n",
       "      <td>Canadian</td>\n",
       "    </tr>\n",
       "    <tr>\n",
       "      <th>182</th>\n",
       "      <td>12.19</td>\n",
       "      <td>13.36</td>\n",
       "      <td>5.240</td>\n",
       "      <td>2.909</td>\n",
       "      <td>4.8570</td>\n",
       "      <td>5.158</td>\n",
       "      <td>2</td>\n",
       "      <td>Canadian</td>\n",
       "    </tr>\n",
       "    <tr>\n",
       "      <th>183</th>\n",
       "      <td>11.65</td>\n",
       "      <td>13.07</td>\n",
       "      <td>5.108</td>\n",
       "      <td>2.850</td>\n",
       "      <td>5.2090</td>\n",
       "      <td>5.135</td>\n",
       "      <td>2</td>\n",
       "      <td>Canadian</td>\n",
       "    </tr>\n",
       "    <tr>\n",
       "      <th>184</th>\n",
       "      <td>12.89</td>\n",
       "      <td>13.77</td>\n",
       "      <td>5.495</td>\n",
       "      <td>3.026</td>\n",
       "      <td>6.1850</td>\n",
       "      <td>5.316</td>\n",
       "      <td>2</td>\n",
       "      <td>Canadian</td>\n",
       "    </tr>\n",
       "    <tr>\n",
       "      <th>185</th>\n",
       "      <td>11.56</td>\n",
       "      <td>13.31</td>\n",
       "      <td>5.363</td>\n",
       "      <td>2.683</td>\n",
       "      <td>4.0620</td>\n",
       "      <td>5.182</td>\n",
       "      <td>2</td>\n",
       "      <td>Canadian</td>\n",
       "    </tr>\n",
       "    <tr>\n",
       "      <th>186</th>\n",
       "      <td>11.81</td>\n",
       "      <td>13.45</td>\n",
       "      <td>5.413</td>\n",
       "      <td>2.716</td>\n",
       "      <td>4.8980</td>\n",
       "      <td>5.352</td>\n",
       "      <td>2</td>\n",
       "      <td>Canadian</td>\n",
       "    </tr>\n",
       "    <tr>\n",
       "      <th>187</th>\n",
       "      <td>10.91</td>\n",
       "      <td>12.80</td>\n",
       "      <td>5.088</td>\n",
       "      <td>2.675</td>\n",
       "      <td>4.1790</td>\n",
       "      <td>4.956</td>\n",
       "      <td>2</td>\n",
       "      <td>Canadian</td>\n",
       "    </tr>\n",
       "    <tr>\n",
       "      <th>188</th>\n",
       "      <td>11.23</td>\n",
       "      <td>12.82</td>\n",
       "      <td>5.089</td>\n",
       "      <td>2.821</td>\n",
       "      <td>7.5240</td>\n",
       "      <td>4.957</td>\n",
       "      <td>2</td>\n",
       "      <td>Canadian</td>\n",
       "    </tr>\n",
       "    <tr>\n",
       "      <th>189</th>\n",
       "      <td>10.59</td>\n",
       "      <td>12.41</td>\n",
       "      <td>4.899</td>\n",
       "      <td>2.787</td>\n",
       "      <td>4.9750</td>\n",
       "      <td>4.794</td>\n",
       "      <td>2</td>\n",
       "      <td>Canadian</td>\n",
       "    </tr>\n",
       "    <tr>\n",
       "      <th>190</th>\n",
       "      <td>10.93</td>\n",
       "      <td>12.80</td>\n",
       "      <td>5.046</td>\n",
       "      <td>2.717</td>\n",
       "      <td>5.3980</td>\n",
       "      <td>5.045</td>\n",
       "      <td>2</td>\n",
       "      <td>Canadian</td>\n",
       "    </tr>\n",
       "    <tr>\n",
       "      <th>191</th>\n",
       "      <td>11.27</td>\n",
       "      <td>12.86</td>\n",
       "      <td>5.091</td>\n",
       "      <td>2.804</td>\n",
       "      <td>3.9850</td>\n",
       "      <td>5.001</td>\n",
       "      <td>2</td>\n",
       "      <td>Canadian</td>\n",
       "    </tr>\n",
       "    <tr>\n",
       "      <th>192</th>\n",
       "      <td>11.87</td>\n",
       "      <td>13.02</td>\n",
       "      <td>5.132</td>\n",
       "      <td>2.953</td>\n",
       "      <td>3.5970</td>\n",
       "      <td>5.132</td>\n",
       "      <td>2</td>\n",
       "      <td>Canadian</td>\n",
       "    </tr>\n",
       "    <tr>\n",
       "      <th>193</th>\n",
       "      <td>10.82</td>\n",
       "      <td>12.83</td>\n",
       "      <td>5.180</td>\n",
       "      <td>2.630</td>\n",
       "      <td>4.8530</td>\n",
       "      <td>5.089</td>\n",
       "      <td>2</td>\n",
       "      <td>Canadian</td>\n",
       "    </tr>\n",
       "    <tr>\n",
       "      <th>194</th>\n",
       "      <td>12.11</td>\n",
       "      <td>13.27</td>\n",
       "      <td>5.236</td>\n",
       "      <td>2.975</td>\n",
       "      <td>4.1320</td>\n",
       "      <td>5.012</td>\n",
       "      <td>2</td>\n",
       "      <td>Canadian</td>\n",
       "    </tr>\n",
       "    <tr>\n",
       "      <th>195</th>\n",
       "      <td>12.80</td>\n",
       "      <td>13.47</td>\n",
       "      <td>5.160</td>\n",
       "      <td>3.126</td>\n",
       "      <td>4.8730</td>\n",
       "      <td>4.914</td>\n",
       "      <td>2</td>\n",
       "      <td>Canadian</td>\n",
       "    </tr>\n",
       "    <tr>\n",
       "      <th>196</th>\n",
       "      <td>12.79</td>\n",
       "      <td>13.53</td>\n",
       "      <td>5.224</td>\n",
       "      <td>3.054</td>\n",
       "      <td>5.4830</td>\n",
       "      <td>4.958</td>\n",
       "      <td>2</td>\n",
       "      <td>Canadian</td>\n",
       "    </tr>\n",
       "    <tr>\n",
       "      <th>197</th>\n",
       "      <td>13.37</td>\n",
       "      <td>13.78</td>\n",
       "      <td>5.320</td>\n",
       "      <td>3.128</td>\n",
       "      <td>4.6700</td>\n",
       "      <td>5.091</td>\n",
       "      <td>2</td>\n",
       "      <td>Canadian</td>\n",
       "    </tr>\n",
       "    <tr>\n",
       "      <th>198</th>\n",
       "      <td>12.62</td>\n",
       "      <td>13.67</td>\n",
       "      <td>5.410</td>\n",
       "      <td>2.911</td>\n",
       "      <td>3.3060</td>\n",
       "      <td>5.231</td>\n",
       "      <td>2</td>\n",
       "      <td>Canadian</td>\n",
       "    </tr>\n",
       "    <tr>\n",
       "      <th>199</th>\n",
       "      <td>12.76</td>\n",
       "      <td>13.38</td>\n",
       "      <td>5.073</td>\n",
       "      <td>3.155</td>\n",
       "      <td>2.8280</td>\n",
       "      <td>4.830</td>\n",
       "      <td>2</td>\n",
       "      <td>Canadian</td>\n",
       "    </tr>\n",
       "    <tr>\n",
       "      <th>200</th>\n",
       "      <td>12.38</td>\n",
       "      <td>13.44</td>\n",
       "      <td>5.219</td>\n",
       "      <td>2.989</td>\n",
       "      <td>5.4720</td>\n",
       "      <td>5.045</td>\n",
       "      <td>2</td>\n",
       "      <td>Canadian</td>\n",
       "    </tr>\n",
       "    <tr>\n",
       "      <th>201</th>\n",
       "      <td>12.67</td>\n",
       "      <td>13.32</td>\n",
       "      <td>4.984</td>\n",
       "      <td>3.135</td>\n",
       "      <td>2.3000</td>\n",
       "      <td>4.745</td>\n",
       "      <td>1</td>\n",
       "      <td>Canadian</td>\n",
       "    </tr>\n",
       "    <tr>\n",
       "      <th>202</th>\n",
       "      <td>11.18</td>\n",
       "      <td>12.72</td>\n",
       "      <td>5.009</td>\n",
       "      <td>2.810</td>\n",
       "      <td>4.0510</td>\n",
       "      <td>4.828</td>\n",
       "      <td>2</td>\n",
       "      <td>Canadian</td>\n",
       "    </tr>\n",
       "    <tr>\n",
       "      <th>203</th>\n",
       "      <td>12.70</td>\n",
       "      <td>13.41</td>\n",
       "      <td>5.183</td>\n",
       "      <td>3.091</td>\n",
       "      <td>8.4560</td>\n",
       "      <td>5.000</td>\n",
       "      <td>2</td>\n",
       "      <td>Canadian</td>\n",
       "    </tr>\n",
       "    <tr>\n",
       "      <th>204</th>\n",
       "      <td>12.37</td>\n",
       "      <td>13.47</td>\n",
       "      <td>5.204</td>\n",
       "      <td>2.960</td>\n",
       "      <td>3.9190</td>\n",
       "      <td>5.001</td>\n",
       "      <td>2</td>\n",
       "      <td>Canadian</td>\n",
       "    </tr>\n",
       "    <tr>\n",
       "      <th>205</th>\n",
       "      <td>12.19</td>\n",
       "      <td>13.20</td>\n",
       "      <td>5.137</td>\n",
       "      <td>2.981</td>\n",
       "      <td>3.6310</td>\n",
       "      <td>4.870</td>\n",
       "      <td>2</td>\n",
       "      <td>Canadian</td>\n",
       "    </tr>\n",
       "    <tr>\n",
       "      <th>206</th>\n",
       "      <td>11.23</td>\n",
       "      <td>12.88</td>\n",
       "      <td>5.140</td>\n",
       "      <td>2.795</td>\n",
       "      <td>4.3250</td>\n",
       "      <td>5.003</td>\n",
       "      <td>2</td>\n",
       "      <td>Canadian</td>\n",
       "    </tr>\n",
       "    <tr>\n",
       "      <th>207</th>\n",
       "      <td>13.20</td>\n",
       "      <td>13.66</td>\n",
       "      <td>5.236</td>\n",
       "      <td>3.232</td>\n",
       "      <td>8.3150</td>\n",
       "      <td>5.056</td>\n",
       "      <td>2</td>\n",
       "      <td>Canadian</td>\n",
       "    </tr>\n",
       "    <tr>\n",
       "      <th>208</th>\n",
       "      <td>11.84</td>\n",
       "      <td>13.21</td>\n",
       "      <td>5.175</td>\n",
       "      <td>2.836</td>\n",
       "      <td>3.5980</td>\n",
       "      <td>5.044</td>\n",
       "      <td>2</td>\n",
       "      <td>Canadian</td>\n",
       "    </tr>\n",
       "    <tr>\n",
       "      <th>209</th>\n",
       "      <td>12.30</td>\n",
       "      <td>13.34</td>\n",
       "      <td>5.243</td>\n",
       "      <td>2.974</td>\n",
       "      <td>5.6370</td>\n",
       "      <td>5.063</td>\n",
       "      <td>2</td>\n",
       "      <td>Canadian</td>\n",
       "    </tr>\n",
       "  </tbody>\n",
       "</table>\n",
       "<p>210 rows × 8 columns</p>\n",
       "</div>"
      ],
      "text/plain": [
       "      area  perimeter  kernel_length  kernel_width  asymmetry  groove_length  \\\n",
       "0    15.26      14.84          5.763         3.312     2.2210          5.220   \n",
       "1    14.88      14.57          5.554         3.333     1.0180          4.956   \n",
       "2    14.29      14.09          5.291         3.337     2.6990          4.825   \n",
       "3    13.84      13.94          5.324         3.379     2.2590          4.805   \n",
       "4    16.14      14.99          5.658         3.562     1.3550          5.175   \n",
       "5    14.38      14.21          5.386         3.312     2.4620          4.956   \n",
       "6    14.69      14.49          5.563         3.259     3.5860          5.219   \n",
       "7    14.11      14.10          5.420         3.302     2.7000          5.000   \n",
       "8    16.63      15.46          6.053         3.465     2.0400          5.877   \n",
       "9    16.44      15.25          5.884         3.505     1.9690          5.533   \n",
       "10   15.26      14.85          5.714         3.242     4.5430          5.314   \n",
       "11   14.03      14.16          5.438         3.201     1.7170          5.001   \n",
       "12   13.89      14.02          5.439         3.199     3.9860          4.738   \n",
       "13   13.78      14.06          5.479         3.156     3.1360          4.872   \n",
       "14   13.74      14.05          5.482         3.114     2.9320          4.825   \n",
       "15   14.59      14.28          5.351         3.333     4.1850          4.781   \n",
       "16   13.99      13.83          5.119         3.383     5.2340          4.781   \n",
       "17   15.69      14.75          5.527         3.514     1.5990          5.046   \n",
       "18   14.70      14.21          5.205         3.466     1.7670          4.649   \n",
       "19   12.72      13.57          5.226         3.049     4.1020          4.914   \n",
       "20   14.16      14.40          5.658         3.129     3.0720          5.176   \n",
       "21   14.11      14.26          5.520         3.168     2.6880          5.219   \n",
       "22   15.88      14.90          5.618         3.507     0.7651          5.091   \n",
       "23   12.08      13.23          5.099         2.936     1.4150          4.961   \n",
       "24   15.01      14.76          5.789         3.245     1.7910          5.001   \n",
       "25   16.19      15.16          5.833         3.421     0.9030          5.307   \n",
       "26   13.02      13.76          5.395         3.026     3.3730          4.825   \n",
       "27   12.74      13.67          5.395         2.956     2.5040          4.869   \n",
       "28   14.11      14.18          5.541         3.221     2.7540          5.038   \n",
       "29   13.45      14.02          5.516         3.065     3.5310          5.097   \n",
       "..     ...        ...            ...           ...        ...            ...   \n",
       "180  11.41      12.95          5.090         2.775     4.9570          4.825   \n",
       "181  12.46      13.41          5.236         3.017     4.9870          5.147   \n",
       "182  12.19      13.36          5.240         2.909     4.8570          5.158   \n",
       "183  11.65      13.07          5.108         2.850     5.2090          5.135   \n",
       "184  12.89      13.77          5.495         3.026     6.1850          5.316   \n",
       "185  11.56      13.31          5.363         2.683     4.0620          5.182   \n",
       "186  11.81      13.45          5.413         2.716     4.8980          5.352   \n",
       "187  10.91      12.80          5.088         2.675     4.1790          4.956   \n",
       "188  11.23      12.82          5.089         2.821     7.5240          4.957   \n",
       "189  10.59      12.41          4.899         2.787     4.9750          4.794   \n",
       "190  10.93      12.80          5.046         2.717     5.3980          5.045   \n",
       "191  11.27      12.86          5.091         2.804     3.9850          5.001   \n",
       "192  11.87      13.02          5.132         2.953     3.5970          5.132   \n",
       "193  10.82      12.83          5.180         2.630     4.8530          5.089   \n",
       "194  12.11      13.27          5.236         2.975     4.1320          5.012   \n",
       "195  12.80      13.47          5.160         3.126     4.8730          4.914   \n",
       "196  12.79      13.53          5.224         3.054     5.4830          4.958   \n",
       "197  13.37      13.78          5.320         3.128     4.6700          5.091   \n",
       "198  12.62      13.67          5.410         2.911     3.3060          5.231   \n",
       "199  12.76      13.38          5.073         3.155     2.8280          4.830   \n",
       "200  12.38      13.44          5.219         2.989     5.4720          5.045   \n",
       "201  12.67      13.32          4.984         3.135     2.3000          4.745   \n",
       "202  11.18      12.72          5.009         2.810     4.0510          4.828   \n",
       "203  12.70      13.41          5.183         3.091     8.4560          5.000   \n",
       "204  12.37      13.47          5.204         2.960     3.9190          5.001   \n",
       "205  12.19      13.20          5.137         2.981     3.6310          4.870   \n",
       "206  11.23      12.88          5.140         2.795     4.3250          5.003   \n",
       "207  13.20      13.66          5.236         3.232     8.3150          5.056   \n",
       "208  11.84      13.21          5.175         2.836     3.5980          5.044   \n",
       "209  12.30      13.34          5.243         2.974     5.6370          5.063   \n",
       "\n",
       "     cluster   variety  \n",
       "0          1      Kama  \n",
       "1          1      Kama  \n",
       "2          1      Kama  \n",
       "3          1      Kama  \n",
       "4          1      Kama  \n",
       "5          1      Kama  \n",
       "6          1      Kama  \n",
       "7          1      Kama  \n",
       "8          1      Kama  \n",
       "9          1      Kama  \n",
       "10         1      Kama  \n",
       "11         1      Kama  \n",
       "12         1      Kama  \n",
       "13         1      Kama  \n",
       "14         1      Kama  \n",
       "15         1      Kama  \n",
       "16         2      Kama  \n",
       "17         1      Kama  \n",
       "18         1      Kama  \n",
       "19         2      Kama  \n",
       "20         1      Kama  \n",
       "21         1      Kama  \n",
       "22         1      Kama  \n",
       "23         1      Kama  \n",
       "24         1      Kama  \n",
       "25         1      Kama  \n",
       "26         2      Kama  \n",
       "27         1      Kama  \n",
       "28         1      Kama  \n",
       "29         1      Kama  \n",
       "..       ...       ...  \n",
       "180        2  Canadian  \n",
       "181        2  Canadian  \n",
       "182        2  Canadian  \n",
       "183        2  Canadian  \n",
       "184        2  Canadian  \n",
       "185        2  Canadian  \n",
       "186        2  Canadian  \n",
       "187        2  Canadian  \n",
       "188        2  Canadian  \n",
       "189        2  Canadian  \n",
       "190        2  Canadian  \n",
       "191        2  Canadian  \n",
       "192        2  Canadian  \n",
       "193        2  Canadian  \n",
       "194        2  Canadian  \n",
       "195        2  Canadian  \n",
       "196        2  Canadian  \n",
       "197        2  Canadian  \n",
       "198        2  Canadian  \n",
       "199        2  Canadian  \n",
       "200        2  Canadian  \n",
       "201        1  Canadian  \n",
       "202        2  Canadian  \n",
       "203        2  Canadian  \n",
       "204        2  Canadian  \n",
       "205        2  Canadian  \n",
       "206        2  Canadian  \n",
       "207        2  Canadian  \n",
       "208        2  Canadian  \n",
       "209        2  Canadian  \n",
       "\n",
       "[210 rows x 8 columns]"
      ]
     },
     "execution_count": 41,
     "metadata": {},
     "output_type": "execute_result"
    }
   ],
   "source": [
    "#// BEGIN_TODO [DMM_2e] Add variety column (1 point)\n",
    "\n",
    "df_seeds_train.loc[0:70,'variety'] = 'Kama'\n",
    "df_seeds_train.loc[71:140, 'variety'] = 'Rosa'\n",
    "df_seeds_train.loc[141:210, 'variety'] = 'Canadian'\n",
    "\n",
    "\n",
    "#// END_TODO [DMM_2e]\n",
    "\n",
    "df_seeds_train"
   ]
  },
  {
   "cell_type": "markdown",
   "metadata": {},
   "source": [
    "By executing the following cell, you can get some insight on how the clusters produced by the $k$-means algorithm compare to the established varieties."
   ]
  },
  {
   "cell_type": "code",
   "execution_count": 42,
   "metadata": {},
   "outputs": [
    {
     "data": {
      "text/html": [
       "<div>\n",
       "<style>\n",
       "    .dataframe thead tr:only-child th {\n",
       "        text-align: right;\n",
       "    }\n",
       "\n",
       "    .dataframe thead th {\n",
       "        text-align: left;\n",
       "    }\n",
       "\n",
       "    .dataframe tbody tr th {\n",
       "        vertical-align: top;\n",
       "    }\n",
       "</style>\n",
       "<table border=\"1\" class=\"dataframe\">\n",
       "  <thead>\n",
       "    <tr style=\"text-align: right;\">\n",
       "      <th></th>\n",
       "      <th>count</th>\n",
       "      <th>unique</th>\n",
       "      <th>top</th>\n",
       "      <th>freq</th>\n",
       "    </tr>\n",
       "    <tr>\n",
       "      <th>cluster</th>\n",
       "      <th></th>\n",
       "      <th></th>\n",
       "      <th></th>\n",
       "      <th></th>\n",
       "    </tr>\n",
       "  </thead>\n",
       "  <tbody>\n",
       "    <tr>\n",
       "      <th>0</th>\n",
       "      <td>61</td>\n",
       "      <td>2</td>\n",
       "      <td>Rosa</td>\n",
       "      <td>59</td>\n",
       "    </tr>\n",
       "    <tr>\n",
       "      <th>1</th>\n",
       "      <td>72</td>\n",
       "      <td>3</td>\n",
       "      <td>Kama</td>\n",
       "      <td>60</td>\n",
       "    </tr>\n",
       "    <tr>\n",
       "      <th>2</th>\n",
       "      <td>77</td>\n",
       "      <td>3</td>\n",
       "      <td>Canadian</td>\n",
       "      <td>67</td>\n",
       "    </tr>\n",
       "  </tbody>\n",
       "</table>\n",
       "</div>"
      ],
      "text/plain": [
       "        count unique       top freq\n",
       "cluster                            \n",
       "0          61      2      Rosa   59\n",
       "1          72      3      Kama   60\n",
       "2          77      3  Canadian   67"
      ]
     },
     "execution_count": 42,
     "metadata": {},
     "output_type": "execute_result"
    }
   ],
   "source": [
    "df_seeds_train.groupby('cluster')['variety'].describe()"
   ]
  },
  {
   "cell_type": "markdown",
   "metadata": {},
   "source": [
    "If everything went well, you will see that there is actually quite a good correspondence!"
   ]
  },
  {
   "cell_type": "markdown",
   "metadata": {},
   "source": [
    "# <span class=\"section\">3.</span> Decision Tree Mining\n",
    "\n",
    "The goal of _decision tree mining_ is to come up with a _decision tree_ that best fits the data.\n",
    "It is a _supervised learning_ method\n",
    "that seeks to predict a target variable from explanatory variables, where\n",
    "\n",
    "* each decision is based on the value of one variable,\n",
    "* the tree has a minimal depth\n",
    "  (each decision is most informative).\n",
    "\n",
    "In this lesson, we will use (an optimized version of) the **CART** algorithm\n",
    "for decision tree mining.\n",
    "It is non-deterministic, and can be started with a bound on the tree depth.\n",
    "\n",
    "If you are interested in more details, you can consult the documentation at SciKit Learn:\n",
    "\n",
    "* [Decision Trees](http://scikit-learn.org/stable/modules/tree.html)\n",
    "* [the `sklearn.tree.DecisionTreeClassifier` decision-tree object](http://scikit-learn.org/stable/modules/generated/sklearn.tree.DecisionTreeClassifier.html)"
   ]
  },
  {
   "cell_type": "markdown",
   "metadata": {},
   "source": [
    "### Step 1. Select the data\n",
    "\n",
    "We illustrate how to train a decision tree classifier, by using the data frame `df_sk`. We choose `a` and `b` to be the _explanatory_ variables\n",
    "and we add an artificial _target_ variable with four classes derived from the index:"
   ]
  },
  {
   "cell_type": "code",
   "execution_count": 43,
   "metadata": {
    "collapsed": true
   },
   "outputs": [],
   "source": [
    "X_dtc = df_sk[['a', 'b']].copy()\n",
    "y_dtc = X_dtc.index // 3  # create artificial target variable"
   ]
  },
  {
   "cell_type": "markdown",
   "metadata": {},
   "source": [
    "The following scatter plot gives an impression of this target variable, by assigning the points belonging to each of the four target classes a different color:"
   ]
  },
  {
   "cell_type": "code",
   "execution_count": 44,
   "metadata": {},
   "outputs": [
    {
     "data": {
      "text/plain": [
       "<matplotlib.legend.Legend at 0x217e71f2550>"
      ]
     },
     "execution_count": 44,
     "metadata": {},
     "output_type": "execute_result"
    },
    {
     "data": {
      "image/png": "[encoded data removed]",
      "text/plain": [
       "<matplotlib.figure.Figure at 0x217e7658278>"
      ]
     },
     "metadata": {},
     "output_type": "display_data"
    }
   ],
   "source": [
    "ax = X_dtc[y_dtc == 0].plot(kind='scatter', x='a', y='b', s=50, c=\"red\")\n",
    "X_dtc[y_dtc == 1].plot(kind='scatter', x='a', y='b', s=50, c=\"blue\", ax=ax)\n",
    "X_dtc[y_dtc == 2].plot(kind='scatter', x='a', y='b', s=50, c=\"orange\", ax=ax)\n",
    "X_dtc[y_dtc == 3].plot(kind='scatter', x='a', y='b', s=50, c=\"black\", ax=ax)\n",
    "ax.legend([0, 1, 2, 3])"
   ]
  },
  {
   "cell_type": "markdown",
   "metadata": {},
   "source": [
    "### Step 2. Create the decision-tree classifier\n",
    "\n",
    "Next, we create the _decision-tree object_ for **decision tree mining**,\n",
    "and store it in the variable `dtm`.\n",
    "We supply an upper bound on the tree depth as argument."
   ]
  },
  {
   "cell_type": "code",
   "execution_count": 45,
   "metadata": {
    "collapsed": true
   },
   "outputs": [],
   "source": [
    "dtc = DecisionTreeClassifier(max_depth=3)"
   ]
  },
  {
   "cell_type": "markdown",
   "metadata": {},
   "source": [
    "If you do not supply an upper bound,\n",
    "then the decision tree will grow as far as is 'necessary' to get the best result.\n",
    "\n",
    "A larger tree is not necessarily better. Large trees may **overfit**: produce good results on training data but poor results on test data."
   ]
  },
  {
   "cell_type": "markdown",
   "metadata": {},
   "source": [
    "### Step 3. Do the fitting\n",
    "\n",
    "Invoke the **`fit()`** function of the decision-tree object,\n",
    "supplying the selected data:"
   ]
  },
  {
   "cell_type": "code",
   "execution_count": 46,
   "metadata": {},
   "outputs": [
    {
     "data": {
      "text/plain": [
       "DecisionTreeClassifier(class_weight=None, criterion='gini', max_depth=3,\n",
       "            max_features=None, max_leaf_nodes=None,\n",
       "            min_impurity_split=1e-07, min_samples_leaf=1,\n",
       "            min_samples_split=2, min_weight_fraction_leaf=0.0,\n",
       "            presort=False, random_state=None, splitter='best')"
      ]
     },
     "execution_count": 46,
     "metadata": {},
     "output_type": "execute_result"
    }
   ],
   "source": [
    "dtc.fit(X_dtc, y_dtc)"
   ]
  },
  {
   "cell_type": "markdown",
   "metadata": {},
   "source": [
    "### Step 4.a. Extract model parameters\n",
    "\n",
    "In case of decision tree mining,\n",
    "the relevant attributes of the decision-tree classifier `dtc` are:\n",
    "\n",
    "* **`dtc.tree_`** : the _mined decision tree_\n",
    "  * **`dtc.tree_.node_count`** : the _number of nodes_ in the tree\n",
    "  * **`dtc.tree_.max_depth`** : the _depth_ of the tree, that is, the maximum distance from the root to any leaf\n",
    "* **`dtc.feature_importances_ `** : the _relative importance_ of each feature (explanatory variable)\n",
    "* **`dtc.classes_`** : the _inferred target values_ for the given features  \n",
    "\n",
    "It is convenient\n",
    "\n",
    "* to visualize the tree (see Step 4.b)\n",
    "\n",
    "* to convert the feature importances to a data frame\n",
    "    with the same column labels as the original data"
   ]
  },
  {
   "cell_type": "code",
   "execution_count": 47,
   "metadata": {},
   "outputs": [
    {
     "data": {
      "text/plain": [
       "(7, 2)"
      ]
     },
     "execution_count": 47,
     "metadata": {},
     "output_type": "execute_result"
    }
   ],
   "source": [
    "dtc.tree_.node_count, dtc.tree_.max_depth"
   ]
  },
  {
   "cell_type": "code",
   "execution_count": 48,
   "metadata": {},
   "outputs": [
    {
     "data": {
      "text/html": [
       "<div>\n",
       "<style>\n",
       "    .dataframe thead tr:only-child th {\n",
       "        text-align: right;\n",
       "    }\n",
       "\n",
       "    .dataframe thead th {\n",
       "        text-align: left;\n",
       "    }\n",
       "\n",
       "    .dataframe tbody tr th {\n",
       "        vertical-align: top;\n",
       "    }\n",
       "</style>\n",
       "<table border=\"1\" class=\"dataframe\">\n",
       "  <thead>\n",
       "    <tr style=\"text-align: right;\">\n",
       "      <th></th>\n",
       "      <th>a</th>\n",
       "      <th>b</th>\n",
       "    </tr>\n",
       "  </thead>\n",
       "  <tbody>\n",
       "    <tr>\n",
       "      <th>0</th>\n",
       "      <td>0.666667</td>\n",
       "      <td>0.333333</td>\n",
       "    </tr>\n",
       "  </tbody>\n",
       "</table>\n",
       "</div>"
      ],
      "text/plain": [
       "          a         b\n",
       "0  0.666667  0.333333"
      ]
     },
     "execution_count": 48,
     "metadata": {},
     "output_type": "execute_result"
    }
   ],
   "source": [
    "feature_importances = pd.DataFrame([dtc.feature_importances_], columns=X_dtc.columns)\n",
    "feature_importances"
   ]
  },
  {
   "cell_type": "code",
   "execution_count": 49,
   "metadata": {},
   "outputs": [
    {
     "data": {
      "text/plain": [
       "array([0, 1, 2, 3], dtype=int64)"
      ]
     },
     "execution_count": 49,
     "metadata": {},
     "output_type": "execute_result"
    }
   ],
   "source": [
    "dtc.classes_"
   ]
  },
  {
   "attachments": {
    "example-decision-tree.png": {
     "image/png": "[encoded data removed]"
    }
   },
   "cell_type": "markdown",
   "metadata": {},
   "source": [
    "### Step 4.b. Visualize the model\n",
    "\n",
    "Unfortunately,\n",
    "creating a _graphical representation_ of a decision tree\n",
    "(as shown in the image below) is [outside the scope of these lessons](http://scikit-learn.org/stable/modules/tree.html).\n",
    "\n",
    "![example-decision-tree.png](attachment:example-decision-tree.png)\n",
    "\n",
    "Instead, we use a (third-party) function **`tree_print()`**,\n",
    "which is imported from `treeviz.py`,\n",
    "to show a _textual representation_."
   ]
  },
  {
   "cell_type": "code",
   "execution_count": 50,
   "metadata": {},
   "outputs": [
    {
     "name": "stdout",
     "output_type": "stream",
     "text": [
      "if b =< 5.0: \n",
      "  |then if a =< 2.5: \n",
      "  |  |then 0\n",
      "  |  |else 1\n",
      "  |else if a =< 6.5: \n",
      "  |  |then 2\n",
      "  |  |else 3\n",
      "<---->\n",
      "Tree Depth:  2\n"
     ]
    }
   ],
   "source": [
    "tree_print(dtc, X_dtc)"
   ]
  },
  {
   "cell_type": "markdown",
   "metadata": {},
   "source": [
    "Recall that we set `max_depth=3` when creating the decision-tree object.\n",
    "Apparently, the target can be predicted fully with a smaller tree,\n",
    "since the mined decision tree actually has only a depth of 2."
   ]
  },
  {
   "cell_type": "markdown",
   "metadata": {},
   "source": [
    "### Step 4.c. Assess the model's quality\n",
    "\n",
    "The quality of a decision tree can be expressed as its _accuracy_,\n",
    "obtained as follows:"
   ]
  },
  {
   "cell_type": "code",
   "execution_count": 51,
   "metadata": {},
   "outputs": [
    {
     "data": {
      "text/plain": [
       "1.0"
      ]
     },
     "execution_count": 51,
     "metadata": {},
     "output_type": "execute_result"
    }
   ],
   "source": [
    "dtc.score(X_dtc, y_dtc)"
   ]
  },
  {
   "cell_type": "markdown",
   "metadata": {},
   "source": [
    "This score is at best 1.0 (100% correct),\n",
    "and will drop towards 0.0 with less accuracy.\n",
    "\n",
    "> **NOTE:** _Accuracy_ treats all errors in the same way.\n",
    "When not all types of errors have the same impact\n",
    "(think of _false positives_ versus _false negatives_),\n",
    "accuracy is not a good measure.\n",
    "In such cases, it is better to produce a _confusion matrix_\n",
    "(see below)."
   ]
  },
  {
   "cell_type": "markdown",
   "metadata": {},
   "source": [
    "### Step 5. Make predictions\n",
    "\n",
    "Given one or more additional data points, you can find their predicted target value\n",
    "with the function **`predict()`**.\n",
    "\n",
    "Let's predict for the same points as we used for clustering."
   ]
  },
  {
   "cell_type": "code",
   "execution_count": 52,
   "metadata": {},
   "outputs": [
    {
     "data": {
      "text/plain": [
       "[(1, 4), (2, 4), (4, 6), (5, 4), (7, 6), (8, 8)]"
      ]
     },
     "execution_count": 52,
     "metadata": {},
     "output_type": "execute_result"
    }
   ],
   "source": [
    "test_km"
   ]
  },
  {
   "cell_type": "code",
   "execution_count": 53,
   "metadata": {},
   "outputs": [
    {
     "data": {
      "text/plain": [
       "array([0, 0, 2, 1, 3, 3], dtype=int64)"
      ]
     },
     "execution_count": 53,
     "metadata": {},
     "output_type": "execute_result"
    }
   ],
   "source": [
    "dtc.predict(test_km)"
   ]
  },
  {
   "attachments": {
    "decision-tree-regions.png": {
     "image/png": "[encoded data removed]"
    }
   },
   "cell_type": "markdown",
   "metadata": {},
   "source": [
    "Check these predictions.\n",
    "\n",
    "It may be helpful to consult the following plot\n",
    "(its creation is beyond the scope of these lessons),\n",
    "which shows the target (color) predicted by `dtm.predict()`\n",
    "for all points in the plot area .\n",
    "\n",
    "![decision-tree-regions.png](attachment:decision-tree-regions.png)"
   ]
  },
  {
   "cell_type": "markdown",
   "metadata": {},
   "source": [
    "## Exercises on decision trees\n",
    "\n",
    "Let us see if we can learn a decision tree to predict the origin of the cars in the Auto MPG data set."
   ]
  },
  {
   "cell_type": "markdown",
   "metadata": {},
   "source": [
    "### Exercise <span class=\"exercise\" id=\"exercise-depth-three-tree\">3.a</span>: Fit a decision tree\n",
    "\n",
    "Fit a decision tree with **maximum depth of $3$** using the _training data set_ to predict the `'origin'` column. Perform the following steps:\n",
    "\n",
    "**Step 1. Select the data**\n",
    "\n",
    "* Assign the following list of column labels to `features`: `'mpg', 'cylinders', 'displacement', 'weight', 'acceleration', 'year'`\n",
    "* Assign the columns with the features above to `X_features`\n",
    "* Assign the target column to `y_origin`\n",
    "\n",
    "**Step 2. Create the decision-tree object**\n",
    "\n",
    "* Assign the decision tree classifier to `dtc_depth_3`,\n",
    "\n",
    "**Step 3. Fit the model**\n",
    "\n",
    "**Step 4. Extract model parameters**\n",
    "\n",
    "* Create a data frame `feature_importances_depth_3` with the _relative importance_ of feature"
   ]
  },
  {
   "cell_type": "code",
   "execution_count": 54,
   "metadata": {},
   "outputs": [
    {
     "data": {
      "text/html": [
       "<div>\n",
       "<style>\n",
       "    .dataframe thead tr:only-child th {\n",
       "        text-align: right;\n",
       "    }\n",
       "\n",
       "    .dataframe thead th {\n",
       "        text-align: left;\n",
       "    }\n",
       "\n",
       "    .dataframe tbody tr th {\n",
       "        vertical-align: top;\n",
       "    }\n",
       "</style>\n",
       "<table border=\"1\" class=\"dataframe\">\n",
       "  <thead>\n",
       "    <tr style=\"text-align: right;\">\n",
       "      <th></th>\n",
       "      <th>mpg</th>\n",
       "      <th>cylinders</th>\n",
       "      <th>displacement</th>\n",
       "      <th>weight</th>\n",
       "      <th>acceleration</th>\n",
       "      <th>year</th>\n",
       "    </tr>\n",
       "  </thead>\n",
       "  <tbody>\n",
       "    <tr>\n",
       "      <th>0</th>\n",
       "      <td>0.0</td>\n",
       "      <td>0.0</td>\n",
       "      <td>0.774391</td>\n",
       "      <td>0.173178</td>\n",
       "      <td>0.052431</td>\n",
       "      <td>0.0</td>\n",
       "    </tr>\n",
       "  </tbody>\n",
       "</table>\n",
       "</div>"
      ],
      "text/plain": [
       "   mpg  cylinders  displacement    weight  acceleration  year\n",
       "0  0.0        0.0      0.774391  0.173178      0.052431   0.0"
      ]
     },
     "execution_count": 54,
     "metadata": {},
     "output_type": "execute_result"
    }
   ],
   "source": [
    "#// BEGIN_TODO [DMM_3a] Decision tree (3 points)\n",
    "\n",
    "X_features = df_mpg_train[['mpg', 'cylinders', 'displacement', 'weight', 'acceleration', 'year']].copy()\n",
    "y_origin = df_mpg_train[['origin']].copy()\n",
    "\n",
    "dtc_depth_3 = DecisionTreeClassifier(max_depth=3)\n",
    "\n",
    "dtc_depth_3.fit(X_features, y_origin)\n",
    "\n",
    "feature_importances_depth_3 = pd.DataFrame([dtc_depth_3.feature_importances_], columns=X_features.columns)\n",
    "\n",
    "#// END_TODO [DMM_3a]\n",
    "\n",
    "feature_importances_depth_3"
   ]
  },
  {
   "cell_type": "markdown",
   "metadata": {},
   "source": [
    "### Exercise <span class=\"exercise\">3.b</span>: Accuracy of the decision tree\n",
    "\n",
    "Assess the quality of the decision tree on the training set by computing the accuracy. Assign your answer to the variable `acc_depth_3_train`."
   ]
  },
  {
   "cell_type": "code",
   "execution_count": 55,
   "metadata": {},
   "outputs": [
    {
     "data": {
      "text/plain": [
       "0.79559748427672961"
      ]
     },
     "execution_count": 55,
     "metadata": {},
     "output_type": "execute_result"
    }
   ],
   "source": [
    "#// BEGIN_TODO [DMM_3b] accuracy for a decision tree of depth <= 3 (2 points)\n",
    "\n",
    "acc_depth_3_train = dtc_depth_3.score(X_features, y_origin)\n",
    "\n",
    "#// END_TODO [DMM_3b]\n",
    "\n",
    "acc_depth_3_train"
   ]
  },
  {
   "cell_type": "markdown",
   "metadata": {},
   "source": [
    "### Exercise <span class=\"exercise\">3.c</span>: Representation of the decision tree\n",
    "\n",
    "Show a textual representation of the decision tree."
   ]
  },
  {
   "cell_type": "code",
   "execution_count": 56,
   "metadata": {},
   "outputs": [
    {
     "name": "stdout",
     "output_type": "stream",
     "text": [
      "if displacement =< 134.5: \n",
      "  |then if displacement =< 97.25: \n",
      "  |  |then if acceleration =< 19.450000762939453: \n",
      "  |  |  |then Japanese\n",
      "  |  |  |else European\n",
      "  |  |else if weight =< 2757.5: \n",
      "  |  |  |then American\n",
      "  |  |  |else European\n",
      "  |else if displacement =< 190.5: \n",
      "  |  |then if weight =< 3097.5: \n",
      "  |  |  |then American\n",
      "  |  |  |else European\n",
      "  |  |else American\n",
      "<------->\n",
      "Tree Depth:  3\n"
     ]
    }
   ],
   "source": [
    "#// BEGIN_TODO [DMM_3c] Show a textual representation of decision tree (1 point)\n",
    "\n",
    "tree_print(dtc_depth_3, X_features)\n",
    "\n",
    "#// END_TODO [DMM_3c]"
   ]
  },
  {
   "cell_type": "markdown",
   "metadata": {},
   "source": [
    "### Exercise <span class=\"exercise\">3.d</span>: Test-set accuracy\n",
    "\n",
    "The obtained decision tree gives us a simple scheme to predict the origin of cars based on their features. Let us see how good these predictions are for the cars in the test set: Assess the quality of the decision tree by computing its accuracy for the _test set_. \n",
    "\n",
    "Assign:\n",
    "\n",
    "* The relevant features from the test set to a data frame `X_features_test`\n",
    "* The origins from the test set to a data frame `y_origin_test`\n",
    "* your answer to the variable `acc_depth_3_test`."
   ]
  },
  {
   "cell_type": "code",
   "execution_count": 57,
   "metadata": {},
   "outputs": [
    {
     "data": {
      "text/plain": [
       "0.78749999999999998"
      ]
     },
     "execution_count": 57,
     "metadata": {},
     "output_type": "execute_result"
    }
   ],
   "source": [
    "#// BEGIN_TODO [DMM_3d] Test-set accuracy (1 point)\n",
    "#dtc_depth_3.score(X_features, y_origin)\n",
    "\n",
    "X_features_test = df_mpg_test[['mpg', 'cylinders', 'displacement', 'weight', 'acceleration', 'year']].copy()\n",
    "y_origin_test = df_mpg_test[['origin']].copy()\n",
    "\n",
    "\n",
    "acc_depth_3_test = dtc_depth_3.score(X_features_test, y_origin_test)\n",
    "\n",
    "#// END_TODO [DMM_3d]\n",
    "\n",
    "acc_depth_3_test"
   ]
  },
  {
   "cell_type": "markdown",
   "metadata": {},
   "source": [
    "# <span class=\"section\">4.</span> Accuracy and Confusion Matrix\n",
    "\n",
    "To assess or compare the **quality** of mined models,\n",
    "you can check a set of **predicted values**\n",
    "against the corresponding **known correct values**.\n",
    "\n",
    "The simplest quality measure is the **accuracy** of the model:\n",
    "\n",
    "* the fraction of correctly predicted values in the test set.\n",
    "\n",
    "Suppose we have a test set of 20 rows,\n",
    "and our model produces 20 predictions `y_pred` (a Pandas `Series` object).\n",
    "Furthermore, we have the corresponding correct (actual) values in `y_true`.\n",
    "\n",
    "Here is concrete example data:"
   ]
  },
  {
   "cell_type": "code",
   "execution_count": 58,
   "metadata": {},
   "outputs": [
    {
     "data": {
      "text/plain": [
       "20"
      ]
     },
     "execution_count": 58,
     "metadata": {},
     "output_type": "execute_result"
    }
   ],
   "source": [
    "y_true = pd.Series([1, 1, 1, 1, 1, 1, 1, 1, 1, 1, 2, 2, 2, 2, 2, 3, 3, 3, 3, 3], name='actual')\n",
    "y_pred = pd.Series([1, 1, 1, 1, 1, 1, 1, 1, 2, 2, 1, 1, 2, 2, 2, 1, 1, 1, 1, 3], name='predicted')\n",
    "y_true.count()"
   ]
  },
  {
   "cell_type": "markdown",
   "metadata": {},
   "source": [
    "The _accuracy_ can be computed as follows\n",
    "with the SciKit Learn function **`accuracy_score()`**:"
   ]
  },
  {
   "cell_type": "code",
   "execution_count": 59,
   "metadata": {},
   "outputs": [
    {
     "data": {
      "text/plain": [
       "0.59999999999999998"
      ]
     },
     "execution_count": 59,
     "metadata": {},
     "output_type": "execute_result"
    }
   ],
   "source": [
    "accuracy_score(y_true, y_pred)  # fraction of correct predictions"
   ]
  },
  {
   "cell_type": "markdown",
   "metadata": {},
   "source": [
    "Apparently, 60% of the predictions were correct in this example (note that floating-point arithmetic is inherently inaccurate).\n",
    "\n",
    "> **NOTE:** A decision tree's `.score()` function also computes the accuracy. For example, given training set `X_features` and `y_true`, a decision tree classifier`dtc` and predicted labels `y_pred = dtc.predict(X_features)`, then `dtc.score(X_features, y_true)` will return the same accuracy value as `accuracy_score(y_true, y_pred)`.\n",
    "\n",
    "You can get the (absolute rather than relative) number of correct predictions\n",
    "by supplying the optional argument `normalize=False`:"
   ]
  },
  {
   "cell_type": "code",
   "execution_count": 60,
   "metadata": {},
   "outputs": [
    {
     "data": {
      "text/plain": [
       "12"
      ]
     },
     "execution_count": 60,
     "metadata": {},
     "output_type": "execute_result"
    }
   ],
   "source": [
    "accuracy_score(y_true, y_pred, normalize=False)  # number of correct predictions"
   ]
  },
  {
   "cell_type": "markdown",
   "metadata": {},
   "source": [
    "In practice, not all prediction errors have the same impact.\n",
    "Consider a test for a curable deadly disease:\n",
    "\n",
    "* A _false positive_ means that you are diagnosed as being ill,\n",
    "  when in fact you are not.\n",
    "  Of course, that means you will be treated unnecessarily\n",
    "  (extra cost, extra stress), but you will live.\n",
    "* A _false negative_ means that you are diagnosed as healthy,\n",
    "  when in fact you are badly ill.\n",
    "  That means you won't receive treatment, and most likely you will die.\n",
    "\n",
    "A quality measure that takes this difference into account is the\n",
    "**confusion matrix**, containing the occurrence frequency for each combination of actual value and predicted value.\n",
    "\n",
    "The _confusion matrix_ can be computed as follows\n",
    "with the SciKit Learn function **`confusion_matrix()`**:"
   ]
  },
  {
   "cell_type": "code",
   "execution_count": 61,
   "metadata": {},
   "outputs": [
    {
     "data": {
      "text/plain": [
       "array([[8, 2, 0],\n",
       "       [2, 3, 0],\n",
       "       [4, 0, 1]])"
      ]
     },
     "execution_count": 61,
     "metadata": {},
     "output_type": "execute_result"
    }
   ],
   "source": [
    "cm = confusion_matrix(y_true, y_pred)  # cm[i, j] == number of values i predicted as j\n",
    "cm"
   ]
  },
  {
   "cell_type": "markdown",
   "metadata": {},
   "source": [
    "It is convenient to convert the confusion matrix to a data frame and include row and column labels:"
   ]
  },
  {
   "cell_type": "code",
   "execution_count": 62,
   "metadata": {},
   "outputs": [
    {
     "data": {
      "text/html": [
       "<div>\n",
       "<style>\n",
       "    .dataframe thead tr:only-child th {\n",
       "        text-align: right;\n",
       "    }\n",
       "\n",
       "    .dataframe thead th {\n",
       "        text-align: left;\n",
       "    }\n",
       "\n",
       "    .dataframe tbody tr th {\n",
       "        vertical-align: top;\n",
       "    }\n",
       "</style>\n",
       "<table border=\"1\" class=\"dataframe\">\n",
       "  <thead>\n",
       "    <tr style=\"text-align: right;\">\n",
       "      <th></th>\n",
       "      <th>1</th>\n",
       "      <th>2</th>\n",
       "      <th>3</th>\n",
       "    </tr>\n",
       "  </thead>\n",
       "  <tbody>\n",
       "    <tr>\n",
       "      <th>1</th>\n",
       "      <td>8</td>\n",
       "      <td>2</td>\n",
       "      <td>0</td>\n",
       "    </tr>\n",
       "    <tr>\n",
       "      <th>2</th>\n",
       "      <td>2</td>\n",
       "      <td>3</td>\n",
       "      <td>0</td>\n",
       "    </tr>\n",
       "    <tr>\n",
       "      <th>3</th>\n",
       "      <td>4</td>\n",
       "      <td>0</td>\n",
       "      <td>1</td>\n",
       "    </tr>\n",
       "  </tbody>\n",
       "</table>\n",
       "</div>"
      ],
      "text/plain": [
       "   1  2  3\n",
       "1  8  2  0\n",
       "2  2  3  0\n",
       "3  4  0  1"
      ]
     },
     "execution_count": 62,
     "metadata": {},
     "output_type": "execute_result"
    }
   ],
   "source": [
    "values = [1, 2, 3]\n",
    "pd.DataFrame(cm, index=values, columns=values)"
   ]
  },
  {
   "cell_type": "markdown",
   "metadata": {},
   "source": [
    "The entry in **row** $i$ and **column** $j$ is the number of tests\n",
    "whose **actual** value is $i$ and whose **predicted** value is $j$.\n",
    "\n",
    "> **NOTE**: In some other places, you may encounter a _transposed_ confusion matrix,\n",
    "> that is, where the role of _rows_ and _columns_ has been interchanged.  \n",
    "> Therefore, be careful when you interpret a confusion matrix,\n",
    "> and when you report a confusion matrix to others,\n",
    "> clearly indicated the role of rows and columns.\n",
    "\n",
    "On the main diagonal (from top left to bottom right) of the confusion matrix,\n",
    "we see the correct predictions.\n",
    "In our example: $8 + 3 + 1 = 12$.\n",
    "\n",
    "From this confusion matrix we can see two more things.\n",
    "\n",
    "First, by considering each of the three _rows_ we infer:\n",
    "\n",
    "| **Value** | **Predicted correctly** |\n",
    "| --------- | ----------------------- |\n",
    "| 1 | 8 / (8+2+0) = 80% |\n",
    "| 2 | 3 / (2+3+0) = 60% |\n",
    "| 3 | 1 / (4+0+1) = 20% |\n",
    "\n",
    "Second, by considering each of the three _columns_ we infer:\n",
    "\n",
    "| **Predicted value** | **Correct** |\n",
    "| ------------------- | ----------- |\n",
    "| 1 | 8 / (8+2+4) = 57% |\n",
    "| 2 | 3 / (2+3+0) = 60% |\n",
    "| 3 | 1 / (0+0+1) = 100% |\n",
    "\n",
    "Especially notice the big difference for the value 3.\n",
    "It has\n",
    "\n",
    "* $1$ _true positive_\n",
    "* $8+2+2+3 = 15$ _true negatives_\n",
    "* $0+0 = 0$ _false positives_\n",
    "* $4+0 = 4$ _false negatives_\n",
    "\n",
    "Therefore,\n",
    "\n",
    "* in 20% of the cases _where the actual value is 3_, it is correctly predicted as 3.\n",
    "* in 100% of the cases _where the value is predicted as 3_, that prediction is correct."
   ]
  },
  {
   "cell_type": "markdown",
   "metadata": {},
   "source": [
    "## Exercises on accuracy scores and confusion matrices\n",
    "\n",
    "With the help of accuracy scores and confusion matrices we can measure the quality of the decision tree created in the previous exercise."
   ]
  },
  {
   "cell_type": "markdown",
   "metadata": {},
   "source": [
    "### Exercise <span class=\"exercise\">4.a</span>: Accuracy and confusion matrix\n",
    "\n",
    "Compute the accuracy and confusion matrix for the decision tree `dtc_depth_3` on the test data. You can reuse the data frames `X_features_test` and `y_origin_test` created before.\n",
    "\n",
    "Assign\n",
    "\n",
    "* the predicted classification for all cars in the test set to the variable `y_pred_depth_3`,\n",
    "* the accuracy of the tree to `acc_depth_3_test`,\n",
    "* the confusion matrix to `cm_depth_3_test`."
   ]
  },
  {
   "cell_type": "code",
   "execution_count": 63,
   "metadata": {},
   "outputs": [
    {
     "name": "stdout",
     "output_type": "stream",
     "text": [
      "1.0\n"
     ]
    },
    {
     "data": {
      "text/html": [
       "<div>\n",
       "<style>\n",
       "    .dataframe thead tr:only-child th {\n",
       "        text-align: right;\n",
       "    }\n",
       "\n",
       "    .dataframe thead th {\n",
       "        text-align: left;\n",
       "    }\n",
       "\n",
       "    .dataframe tbody tr th {\n",
       "        vertical-align: top;\n",
       "    }\n",
       "</style>\n",
       "<table border=\"1\" class=\"dataframe\">\n",
       "  <thead>\n",
       "    <tr style=\"text-align: right;\">\n",
       "      <th></th>\n",
       "      <th>Predicted American</th>\n",
       "      <th>Predicted European</th>\n",
       "      <th>Predicted Japanese</th>\n",
       "    </tr>\n",
       "  </thead>\n",
       "  <tbody>\n",
       "    <tr>\n",
       "      <th>American</th>\n",
       "      <td>53</td>\n",
       "      <td>0</td>\n",
       "      <td>0</td>\n",
       "    </tr>\n",
       "    <tr>\n",
       "      <th>European</th>\n",
       "      <td>0</td>\n",
       "      <td>14</td>\n",
       "      <td>0</td>\n",
       "    </tr>\n",
       "    <tr>\n",
       "      <th>Japanese</th>\n",
       "      <td>0</td>\n",
       "      <td>0</td>\n",
       "      <td>13</td>\n",
       "    </tr>\n",
       "  </tbody>\n",
       "</table>\n",
       "</div>"
      ],
      "text/plain": [
       "          Predicted American  Predicted European  Predicted Japanese\n",
       "American                  53                   0                   0\n",
       "European                   0                  14                   0\n",
       "Japanese                   0                   0                  13"
      ]
     },
     "execution_count": 63,
     "metadata": {},
     "output_type": "execute_result"
    }
   ],
   "source": [
    "#// BEGIN_TODO [DMM_4a] Accuracy and confusion matrix (3 points)\n",
    "\n",
    "y_pred_depth_3 = y_origin_test\n",
    "acc_depth_3_test = accuracy_score(df_mpg_test['origin'], y_pred_depth_3)\n",
    "cm_depth_3_test = confusion_matrix(df_mpg_test['origin'], y_pred_depth_3)\n",
    "\n",
    "#// END_TODO [DMM_4a]\n",
    "\n",
    "print(acc_depth_3_test)\n",
    "pd.DataFrame(cm_depth_3_test, index=['American','European','Japanese'], columns=['Predicted American','Predicted European','Predicted Japanese'])"
   ]
  },
  {
   "cell_type": "markdown",
   "metadata": {},
   "source": [
    "### Exercise <span class=\"exercise\">4.b</span>: Fraction of Japanese cars predicted correctly\n",
    "\n",
    "What fraction Japanese cars is predicted correctly?  \n",
    "Assign your numeric answer to the variable `fraction_Japanese_correct`."
   ]
  },
  {
   "cell_type": "code",
   "execution_count": 64,
   "metadata": {},
   "outputs": [
    {
     "data": {
      "text/plain": [
       "1.0"
      ]
     },
     "execution_count": 64,
     "metadata": {},
     "output_type": "execute_result"
    }
   ],
   "source": [
    "#// BEGIN_TODO [DMM_4b] Fraction Japanese cars predicted correctly (1 point)\n",
    "\n",
    "fraction_Japanese_correct = 1.0\n",
    "\n",
    "#// END_TODO [DMM_4b]\n",
    "\n",
    "fraction_Japanese_correct"
   ]
  },
  {
   "cell_type": "markdown",
   "metadata": {},
   "source": [
    "Documentation for these SciKit Learn functions in [`sklearn.metrics`](http://scikit-learn.org/stable/modules/model_evaluation.html):\n",
    "\n",
    "* [`accuracy_score`](http://scikit-learn.org/stable/modules/generated/sklearn.metrics.accuracy_score.html#sklearn.metrics.accuracy_score)\n",
    "* [`confusion_matrix`](http://scikit-learn.org/stable/modules/generated/sklearn.metrics.confusion_matrix.html#sklearn.metrics.confusion_matrix)"
   ]
  },
  {
   "cell_type": "markdown",
   "metadata": {},
   "source": [
    "---"
   ]
  },
  {
   "cell_type": "markdown",
   "metadata": {},
   "source": [
    "# <span class=\"section\">5.</span> Exercise: Different models for linear regression\n",
    "\n",
    "In the remaining exercises you will need to work more independently and apply the techniques you have learned earlier. \n",
    "\n",
    "In Exercise 1, we fitted a linear model 'explaining' `mpg` from `weight`. In this exercise, we will add more explanatory variables, and see whether the predictions become more accurate. "
   ]
  },
  {
   "cell_type": "markdown",
   "metadata": {},
   "source": [
    "### Exercise <span class=\"exercise\">5.a</span>: Linear model 'explaining' `mpg` from `weight` and `horsepower`\n",
    "\n",
    "Fit a linear regression model with `mpg` as dependent variable,\n",
    "and both `weight` and `horsepower` as explanatory variables.\n",
    "\n",
    "Assign\n",
    "\n",
    "* the data for the explanatory variables to `X_weight_hp`,\n",
    "* the data for the dependent variable to `y_mpg`,\n",
    "* the fitted regression object to `reg_mpg_weight_hp`,\n",
    "* the coefficient to `coef_mpg_weight_hp`, and\n",
    "* the intercept to `intercept_mpg_weight_hp`,\n",
    "* $R^2$ evaluated on the training set to `R2_mpg_weight_hp`."
   ]
  },
  {
   "cell_type": "code",
   "execution_count": 65,
   "metadata": {},
   "outputs": [
    {
     "data": {
      "text/plain": [
       "(array([[-0.00543392, -0.0403972 ]]),\n",
       " array([ 43.72938936]),\n",
       " 0.74111442018036477)"
      ]
     },
     "execution_count": 65,
     "metadata": {},
     "output_type": "execute_result"
    }
   ],
   "source": [
    "#// BEGIN_TODO [DMM_5a] Linear model explaining mpg from weight and horsepower (5 points)\n",
    "\n",
    "# X_weight = df_mpg_train[['weight']].copy()\n",
    "# y_mpg = df_mpg_train[['mpg']].copy() #copy/select data\n",
    "\n",
    "# reg = LinearRegression() #create regression object\n",
    "\n",
    "# reg_mpg_weight = reg.fit(X_weight, y_mpg) #fit regression model\n",
    "\n",
    "\n",
    "# coef_mpg_weight = reg.coef_\n",
    "# intercept_mpg_weight = reg.intercept_\n",
    "#R2_mpg_weight = reg.score(X_weight, y_mpg)\n",
    "\n",
    "X_weight_hp = df_mpg_test[['weight', 'horsepower']].copy()\n",
    "y_mpg = df_mpg_test[['mpg']].copy()\n",
    "\n",
    "reg = LinearRegression()\n",
    "\n",
    "reg_mpg_weight_hp = reg.fit(X_weight_hp, y_mpg)\n",
    "\n",
    "coef_mpg_weight_hp = reg.coef_\n",
    "intercept_mpg_weight_hp = reg.intercept_\n",
    "\n",
    "R2_mpg_weight_hp = reg.score(X_weight_hp, y_mpg)\n",
    "\n",
    "#// END_TODO [DMM_5a]\n",
    "\n",
    "coef_mpg_weight_hp, intercept_mpg_weight_hp, R2_mpg_weight_hp"
   ]
  },
  {
   "cell_type": "markdown",
   "metadata": {},
   "source": [
    "### Exercise <span class=\"exercise\">5.b</span>: Did $R^2$ improve?\n",
    "\n",
    "Does this model have a better $R^2$ than the model using only the weight as explanatory variable? Assign your boolean answer to the variable `R2_higher_for_weight_hp`."
   ]
  },
  {
   "cell_type": "code",
   "execution_count": 66,
   "metadata": {},
   "outputs": [
    {
     "data": {
      "text/plain": [
       "True"
      ]
     },
     "execution_count": 66,
     "metadata": {},
     "output_type": "execute_result"
    }
   ],
   "source": [
    "#// BEGIN_TODO [DMM_5b] Is this model better than the preceding models? (1 point)\n",
    "\n",
    "R2_higher_for_weight_hp = True\n",
    "\n",
    "#// END_TODO [DMM_5b]\n",
    "\n",
    "R2_higher_for_weight_hp"
   ]
  },
  {
   "cell_type": "markdown",
   "metadata": {},
   "source": [
    "Why does that make sense?"
   ]
  },
  {
   "cell_type": "markdown",
   "metadata": {},
   "source": [
    "### Exercise <span class=\"exercise\">5.c</span>: Cross term and quadratic term\n",
    "\n",
    "The relationship between `mpg` and the `weight` may actually depend on the `horsepower`. Such dependencies can be captured with cross terms.\n",
    "\n",
    "Fit a model with `mpg` as dependent variable,\n",
    "and four explanatory variables:\n",
    "\n",
    "> `weight`, `horsepower`, `weight` $\\times$ `horsepower`, and `weight`${}^2$.\n",
    "\n",
    "Which percentage of the variation in `mpg` is explained by the variation in these four factors?\n",
    "\n",
    "Assign\n",
    "\n",
    "* the data for the explanatory variable to `X_ct_qt`, with column names `'weight'`, `'horsepower'`, `'weight x hp'` and `'weight^2'`,\n",
    "* the data for the dependent variable to `y_ct_qt`,\n",
    "* the fitted regression object to `reg_ct_qt`,\n",
    "* the coefficient to `coef_ct_qt`, and\n",
    "* the intercept to `intercept_ct_qt`,\n",
    "* $R^2$ evaluated on the training set to `R2_ct_qt`."
   ]
  },
  {
   "cell_type": "code",
   "execution_count": 67,
   "metadata": {},
   "outputs": [
    {
     "data": {
      "text/plain": [
       "(array([[ -9.37640722e-03,  -2.85029058e-01,  -3.76582581e-07,\n",
       "           6.28189339e-05]]), array([ 63.48559971]), 0.7417508059490171)"
      ]
     },
     "execution_count": 67,
     "metadata": {},
     "output_type": "execute_result"
    }
   ],
   "source": [
    "#// BEGIN_TODO [DMM_5c] Model with cross term and quadratic term explaining mpg from weight and horsepower (5 points)\n",
    "\n",
    "\n",
    "# df_qt = df_mpg_train.copy()\n",
    "# df_qt['weight^2'] = df_qt['weight']**2\n",
    "\n",
    "# X_qt = df_qt[['weight', 'weight^2']].copy()\n",
    "# y_qt = df_qt[['mpg']].copy()\n",
    "\n",
    "# reg_qt = LinearRegression()\n",
    "\n",
    "# reg_mpg_weight2 = reg_qt.fit(X_qt, y_qt)\n",
    "# coef_qt = reg_qt.coef_\n",
    "# intercept_qt = reg_qt.intercept_\n",
    "# R2_qt = reg_qt.score(X_qt, y_qt)\n",
    "\n",
    "\n",
    "df_ct_qt = df_mpg_train.copy()\n",
    "df_ct_qt['weight^2'] = df_ct_qt['weight']**2\n",
    "df_ct_qt['weight x hp'] = df_ct_qt['weight']*df_ct_qt['horsepower']\n",
    "\n",
    "X_ct_qt = df_ct_qt[['weight', 'horsepower', 'weight^2', 'weight x hp']].copy()\n",
    "y_ct_qt = df_ct_qt[['mpg']].copy()\n",
    "\n",
    "reg = LinearRegression()\n",
    "reg_ct_qt = reg.fit(X_ct_qt, y_ct_qt)\n",
    "\n",
    "coef_ct_qt = reg.coef_\n",
    "intercept_ct_qt = reg.intercept_\n",
    "R2_ct_qt = reg.score(X_ct_qt, y_ct_qt)\n",
    "#// END_TODO [DMM_5c]\n",
    "\n",
    "coef_ct_qt, intercept_ct_qt, R2_ct_qt"
   ]
  },
  {
   "cell_type": "markdown",
   "metadata": {},
   "source": [
    "### Exercise <span class=\"exercise\">5.d</span>: Did $R^2$ improve?\n",
    "\n",
    "Does this model have a better $R^2$ than the model with just the cross term, or just the quadratic term?  \n",
    "Assign your boolean answer to the variable `R2_higher_for_weight2_hp`."
   ]
  },
  {
   "cell_type": "code",
   "execution_count": 68,
   "metadata": {},
   "outputs": [
    {
     "data": {
      "text/plain": [
       "True"
      ]
     },
     "execution_count": 68,
     "metadata": {},
     "output_type": "execute_result"
    }
   ],
   "source": [
    "#// BEGIN_TODO [DMM_5d] Is this better than just cross term or quadratic separately? (1 point)\n",
    "\n",
    "R2_higher_for_weight2_hp = True\n",
    "\n",
    "#// END_TODO [DMM_5d]\n",
    "\n",
    "R2_higher_for_weight2_hp"
   ]
  },
  {
   "cell_type": "markdown",
   "metadata": {},
   "source": [
    "### Exercise <span class=\"exercise\">5.e</span>: Fitting high-degree polynomials\n",
    "\n",
    "In this exercise we are going to see what happens if we fit a polynomial model of very high order. We will first scale the weights by dividing them by $5000$ and adding the resulting values to the data frame. "
   ]
  },
  {
   "cell_type": "code",
   "execution_count": 69,
   "metadata": {},
   "outputs": [
    {
     "name": "stderr",
     "output_type": "stream",
     "text": [
      "C:\\ProgramData\\Anaconda3\\lib\\site-packages\\ipykernel_launcher.py:1: SettingWithCopyWarning: \n",
      "A value is trying to be set on a copy of a slice from a DataFrame.\n",
      "Try using .loc[row_indexer,col_indexer] = value instead\n",
      "\n",
      "See the caveats in the documentation: http://pandas.pydata.org/pandas-docs/stable/indexing.html#indexing-view-versus-copy\n",
      "  \"\"\"Entry point for launching an IPython kernel.\n"
     ]
    }
   ],
   "source": [
    "df_mpg_train['s_w'] = df_mpg_train['weight']/5000"
   ]
  },
  {
   "cell_type": "markdown",
   "metadata": {},
   "source": [
    "We now create a data frame `X_high_order` with columns `'s_w^2'`, `'s_w^3'`, up to `'s_w^100'`. "
   ]
  },
  {
   "cell_type": "code",
   "execution_count": 70,
   "metadata": {},
   "outputs": [
    {
     "data": {
      "text/html": [
       "<div>\n",
       "<style>\n",
       "    .dataframe thead tr:only-child th {\n",
       "        text-align: right;\n",
       "    }\n",
       "\n",
       "    .dataframe thead th {\n",
       "        text-align: left;\n",
       "    }\n",
       "\n",
       "    .dataframe tbody tr th {\n",
       "        vertical-align: top;\n",
       "    }\n",
       "</style>\n",
       "<table border=\"1\" class=\"dataframe\">\n",
       "  <thead>\n",
       "    <tr style=\"text-align: right;\">\n",
       "      <th></th>\n",
       "      <th>s_w</th>\n",
       "      <th>s_w^2</th>\n",
       "      <th>s_w^3</th>\n",
       "      <th>s_w^4</th>\n",
       "      <th>s_w^5</th>\n",
       "      <th>s_w^6</th>\n",
       "      <th>s_w^7</th>\n",
       "      <th>s_w^8</th>\n",
       "      <th>s_w^9</th>\n",
       "      <th>s_w^10</th>\n",
       "      <th>...</th>\n",
       "      <th>s_w^91</th>\n",
       "      <th>s_w^92</th>\n",
       "      <th>s_w^93</th>\n",
       "      <th>s_w^94</th>\n",
       "      <th>s_w^95</th>\n",
       "      <th>s_w^96</th>\n",
       "      <th>s_w^97</th>\n",
       "      <th>s_w^98</th>\n",
       "      <th>s_w^99</th>\n",
       "      <th>s_w^100</th>\n",
       "    </tr>\n",
       "  </thead>\n",
       "  <tbody>\n",
       "    <tr>\n",
       "      <th>3</th>\n",
       "      <td>0.6866</td>\n",
       "      <td>0.471420</td>\n",
       "      <td>0.323677</td>\n",
       "      <td>0.222236</td>\n",
       "      <td>0.152588</td>\n",
       "      <td>0.104767</td>\n",
       "      <td>0.071933</td>\n",
       "      <td>0.049389</td>\n",
       "      <td>0.033910</td>\n",
       "      <td>0.023283</td>\n",
       "      <td>...</td>\n",
       "      <td>1.380530e-15</td>\n",
       "      <td>9.478716e-16</td>\n",
       "      <td>6.508086e-16</td>\n",
       "      <td>4.468452e-16</td>\n",
       "      <td>3.068039e-16</td>\n",
       "      <td>2.106516e-16</td>\n",
       "      <td>1.446334e-16</td>\n",
       "      <td>9.930527e-17</td>\n",
       "      <td>6.818300e-17</td>\n",
       "      <td>4.681445e-17</td>\n",
       "    </tr>\n",
       "    <tr>\n",
       "      <th>18</th>\n",
       "      <td>0.4260</td>\n",
       "      <td>0.181476</td>\n",
       "      <td>0.077309</td>\n",
       "      <td>0.032934</td>\n",
       "      <td>0.014030</td>\n",
       "      <td>0.005977</td>\n",
       "      <td>0.002546</td>\n",
       "      <td>0.001085</td>\n",
       "      <td>0.000462</td>\n",
       "      <td>0.000197</td>\n",
       "      <td>...</td>\n",
       "      <td>1.889181e-34</td>\n",
       "      <td>8.047910e-35</td>\n",
       "      <td>3.428410e-35</td>\n",
       "      <td>1.460503e-35</td>\n",
       "      <td>6.221741e-36</td>\n",
       "      <td>2.650462e-36</td>\n",
       "      <td>1.129097e-36</td>\n",
       "      <td>4.809952e-37</td>\n",
       "      <td>2.049039e-37</td>\n",
       "      <td>8.728908e-38</td>\n",
       "    </tr>\n",
       "    <tr>\n",
       "      <th>376</th>\n",
       "      <td>0.4050</td>\n",
       "      <td>0.164025</td>\n",
       "      <td>0.066430</td>\n",
       "      <td>0.026904</td>\n",
       "      <td>0.010896</td>\n",
       "      <td>0.004413</td>\n",
       "      <td>0.001787</td>\n",
       "      <td>0.000724</td>\n",
       "      <td>0.000293</td>\n",
       "      <td>0.000119</td>\n",
       "      <td>...</td>\n",
       "      <td>1.898485e-36</td>\n",
       "      <td>7.688863e-37</td>\n",
       "      <td>3.113990e-37</td>\n",
       "      <td>1.261166e-37</td>\n",
       "      <td>5.107721e-38</td>\n",
       "      <td>2.068627e-38</td>\n",
       "      <td>8.377940e-39</td>\n",
       "      <td>3.393066e-39</td>\n",
       "      <td>1.374192e-39</td>\n",
       "      <td>5.565476e-40</td>\n",
       "    </tr>\n",
       "    <tr>\n",
       "      <th>248</th>\n",
       "      <td>0.3600</td>\n",
       "      <td>0.129600</td>\n",
       "      <td>0.046656</td>\n",
       "      <td>0.016796</td>\n",
       "      <td>0.006047</td>\n",
       "      <td>0.002177</td>\n",
       "      <td>0.000784</td>\n",
       "      <td>0.000282</td>\n",
       "      <td>0.000102</td>\n",
       "      <td>0.000037</td>\n",
       "      <td>...</td>\n",
       "      <td>4.202692e-41</td>\n",
       "      <td>1.512969e-41</td>\n",
       "      <td>5.446689e-42</td>\n",
       "      <td>1.960808e-42</td>\n",
       "      <td>7.058909e-43</td>\n",
       "      <td>2.541207e-43</td>\n",
       "      <td>9.148346e-44</td>\n",
       "      <td>3.293405e-44</td>\n",
       "      <td>1.185626e-44</td>\n",
       "      <td>4.268252e-45</td>\n",
       "    </tr>\n",
       "    <tr>\n",
       "      <th>177</th>\n",
       "      <td>0.5388</td>\n",
       "      <td>0.290305</td>\n",
       "      <td>0.156417</td>\n",
       "      <td>0.084277</td>\n",
       "      <td>0.045409</td>\n",
       "      <td>0.024466</td>\n",
       "      <td>0.013182</td>\n",
       "      <td>0.007103</td>\n",
       "      <td>0.003827</td>\n",
       "      <td>0.002062</td>\n",
       "      <td>...</td>\n",
       "      <td>3.630032e-25</td>\n",
       "      <td>1.955861e-25</td>\n",
       "      <td>1.053818e-25</td>\n",
       "      <td>5.677971e-26</td>\n",
       "      <td>3.059291e-26</td>\n",
       "      <td>1.648346e-26</td>\n",
       "      <td>8.881288e-27</td>\n",
       "      <td>4.785238e-27</td>\n",
       "      <td>2.578286e-27</td>\n",
       "      <td>1.389181e-27</td>\n",
       "    </tr>\n",
       "  </tbody>\n",
       "</table>\n",
       "<p>5 rows × 100 columns</p>\n",
       "</div>"
      ],
      "text/plain": [
       "        s_w     s_w^2     s_w^3     s_w^4     s_w^5     s_w^6     s_w^7  \\\n",
       "3    0.6866  0.471420  0.323677  0.222236  0.152588  0.104767  0.071933   \n",
       "18   0.4260  0.181476  0.077309  0.032934  0.014030  0.005977  0.002546   \n",
       "376  0.4050  0.164025  0.066430  0.026904  0.010896  0.004413  0.001787   \n",
       "248  0.3600  0.129600  0.046656  0.016796  0.006047  0.002177  0.000784   \n",
       "177  0.5388  0.290305  0.156417  0.084277  0.045409  0.024466  0.013182   \n",
       "\n",
       "        s_w^8     s_w^9    s_w^10      ...             s_w^91        s_w^92  \\\n",
       "3    0.049389  0.033910  0.023283      ...       1.380530e-15  9.478716e-16   \n",
       "18   0.001085  0.000462  0.000197      ...       1.889181e-34  8.047910e-35   \n",
       "376  0.000724  0.000293  0.000119      ...       1.898485e-36  7.688863e-37   \n",
       "248  0.000282  0.000102  0.000037      ...       4.202692e-41  1.512969e-41   \n",
       "177  0.007103  0.003827  0.002062      ...       3.630032e-25  1.955861e-25   \n",
       "\n",
       "           s_w^93        s_w^94        s_w^95        s_w^96        s_w^97  \\\n",
       "3    6.508086e-16  4.468452e-16  3.068039e-16  2.106516e-16  1.446334e-16   \n",
       "18   3.428410e-35  1.460503e-35  6.221741e-36  2.650462e-36  1.129097e-36   \n",
       "376  3.113990e-37  1.261166e-37  5.107721e-38  2.068627e-38  8.377940e-39   \n",
       "248  5.446689e-42  1.960808e-42  7.058909e-43  2.541207e-43  9.148346e-44   \n",
       "177  1.053818e-25  5.677971e-26  3.059291e-26  1.648346e-26  8.881288e-27   \n",
       "\n",
       "           s_w^98        s_w^99       s_w^100  \n",
       "3    9.930527e-17  6.818300e-17  4.681445e-17  \n",
       "18   4.809952e-37  2.049039e-37  8.728908e-38  \n",
       "376  3.393066e-39  1.374192e-39  5.565476e-40  \n",
       "248  3.293405e-44  1.185626e-44  4.268252e-45  \n",
       "177  4.785238e-27  2.578286e-27  1.389181e-27  \n",
       "\n",
       "[5 rows x 100 columns]"
      ]
     },
     "execution_count": 70,
     "metadata": {},
     "output_type": "execute_result"
    }
   ],
   "source": [
    "order = 100\n",
    "\n",
    "X_high_order = df_mpg_train[['s_w']].copy()\n",
    "\n",
    "for n in range(2,order+1):\n",
    "    X_high_order[('s_w^' + str(n))] = X_high_order['s_w']**n\n",
    "    \n",
    "X_high_order.head()"
   ]
  },
  {
   "cell_type": "markdown",
   "metadata": {},
   "source": [
    "Fit a linear regression model explaining `mpg` from `weight` of order $100$, using all the columns in the `X_high_order` data frame.\n",
    "\n",
    "Assign\n",
    "\n",
    "* The regression object to `reg_high_order`\n",
    "* $R^2$ of the model evaluated on the training set to `R2_high_order`"
   ]
  },
  {
   "cell_type": "code",
   "execution_count": 71,
   "metadata": {},
   "outputs": [
    {
     "data": {
      "text/plain": [
       "0.70965544935264002"
      ]
     },
     "execution_count": 71,
     "metadata": {},
     "output_type": "execute_result"
    }
   ],
   "source": [
    "#// BEGIN_TODO [DMM_5e] Polynomial model of very high order (5 points)\n",
    "# X_weight = df_mpg_train[['weight']].copy()\n",
    "# y_mpg = df_mpg_train[['mpg']].copy() #copy/select data\n",
    "\n",
    "# reg = LinearRegression() #create regression object\n",
    "\n",
    "# reg_mpg_weight = reg.fit(X_weight, y_mpg) #fit regression model\n",
    "\n",
    "\n",
    "# coef_mpg_weight = reg.coef_\n",
    "# intercept_mpg_weight = reg.intercept_\n",
    "#R2_mpg_weight = reg.score(X_weight, y_mpg)\n",
    "y_high_order = df_mpg_train[['mpg']].copy()\n",
    "\n",
    "reg_high_order = LinearRegression()\n",
    "reg_fit = reg_high_order.fit(X_high_order, y_high_order)\n",
    "\n",
    "R2_high_order = reg_high_order.score(X_high_order, y_high_order)\n",
    "\n",
    "#// END_TODO [DMM_5e]\n",
    "\n",
    "R2_high_order"
   ]
  },
  {
   "cell_type": "markdown",
   "metadata": {},
   "source": [
    "### Exercise <span class=\"exercise\">5.f</span>: Evaluate $R^2$ on test data\n",
    "\n",
    "Of course, the $R^2$ score of our high-order model evaluated on the training data is higher than that of the quadratic model. Let us now see how good the high-order model is at predicting the fuel efficiency of the cars in the test data. First, we need to prepare the test data."
   ]
  },
  {
   "cell_type": "code",
   "execution_count": 72,
   "metadata": {},
   "outputs": [
    {
     "name": "stderr",
     "output_type": "stream",
     "text": [
      "C:\\ProgramData\\Anaconda3\\lib\\site-packages\\ipykernel_launcher.py:1: SettingWithCopyWarning: \n",
      "A value is trying to be set on a copy of a slice from a DataFrame.\n",
      "Try using .loc[row_indexer,col_indexer] = value instead\n",
      "\n",
      "See the caveats in the documentation: http://pandas.pydata.org/pandas-docs/stable/indexing.html#indexing-view-versus-copy\n",
      "  \"\"\"Entry point for launching an IPython kernel.\n"
     ]
    }
   ],
   "source": [
    "df_mpg_test['s_w'] = df_mpg_test['weight']/5000\n",
    "\n",
    "X_high_order_test = df_mpg_test[['s_w']].copy()\n",
    "\n",
    "for n in range(2,order+1):\n",
    "    X_high_order_test[('s_w^' + str(n))] = X_high_order_test['s_w']**n"
   ]
  },
  {
   "cell_type": "markdown",
   "metadata": {},
   "source": [
    "Now compute $R^2$ for the test data. Assign your answer to the variable `R2_high_order_test`."
   ]
  },
  {
   "cell_type": "code",
   "execution_count": 73,
   "metadata": {},
   "outputs": [
    {
     "data": {
      "text/plain": [
       "-560.16599278380761"
      ]
     },
     "execution_count": 73,
     "metadata": {},
     "output_type": "execute_result"
    }
   ],
   "source": [
    "#// BEGIN_TODO [DMM_5f] Is this better than previous models? (1 point)\n",
    "\n",
    "R2_high_order_test = reg_high_order.score(X_high_order_test, df_mpg_test['mpg'])\n",
    "\n",
    "#// END_TODO [DMM_5f]\n",
    "\n",
    "R2_high_order_test"
   ]
  },
  {
   "cell_type": "markdown",
   "metadata": {},
   "source": [
    "### Exercise <span class=\"exercise\">5.g</span>: Preparation for visualization\n",
    "\n",
    "If we try to plot a $100$th order model with Seaborn, we will get a lot of warnings and the plot will not look so good. That is why we will plot this model by hand. \n",
    "\n",
    "We create a special visualization data set. We make a list of $10001$ weights, equally spaced between $1500$ and $5200$ lbs. Next, we use the $100$-th order model to predict the corresponding mpg."
   ]
  },
  {
   "cell_type": "code",
   "execution_count": 74,
   "metadata": {
    "collapsed": true
   },
   "outputs": [],
   "source": [
    "weights = pd.Series( [ 1500. + n * (5200 - 1500)/10000 for n in range(10001) ] )\n",
    "df_vis = pd.DataFrame( weights, columns = ['weight'] )"
   ]
  },
  {
   "cell_type": "markdown",
   "metadata": {},
   "source": [
    "Next, we create a new data frame `X_vis` which contains the scaled weights in a column `'s_w'`, and powers of the scaled weights in columns `'s_w^2'`, `'s_w^2'`, ... `'s_w^100'`."
   ]
  },
  {
   "cell_type": "code",
   "execution_count": 75,
   "metadata": {
    "collapsed": true
   },
   "outputs": [],
   "source": [
    "X_vis  = pd.DataFrame(weights/5000, columns=['s_w'])\n",
    "\n",
    "for n in range(2,order+1):\n",
    "    X_vis[('s_w' + str(n))] = X_vis['s_w']**n"
   ]
  },
  {
   "cell_type": "markdown",
   "metadata": {},
   "source": [
    "Add to the data frame `df_vis` a column labeled `'predicted_mpg'` containing the predicted mpg according to the $100$th order model."
   ]
  },
  {
   "cell_type": "code",
   "execution_count": 77,
   "metadata": {
    "collapsed": true
   },
   "outputs": [],
   "source": [
    "#// BEGIN_TODO [DMM_5g] Preparation for visualization (1 point)\n",
    "\n",
    "df_vis['predicted_mpg'] = reg_high_order.predict(X_vis)\n",
    "\n",
    "#// END_TODO [DMM_5g]"
   ]
  },
  {
   "cell_type": "markdown",
   "metadata": {},
   "source": [
    "### Exercise <span class=\"exercise\">5.h</span>: Visualize the high-order model"
   ]
  },
  {
   "cell_type": "markdown",
   "metadata": {},
   "source": [
    "Plot in one figure (superimposed):\n",
    "* A line plot of the predicted mpg against the weight, for the visualization data set\n",
    "* A scatter plot of mpg vs weight for the training data set\n",
    "* A scatter plot of mpg vs weight for the test data set\n",
    "\n",
    "Set the limits of the $y$-axis between 0 and 50.\n",
    "\n",
    "Hint: you can specify which columns to include in a line plot using the `x=...` and `y=...` arguments, similar to a scatter plot."
   ]
  },
  {
   "cell_type": "code",
   "execution_count": 85,
   "metadata": {},
   "outputs": [
    {
     "data": {
      "image/png": "[encoded data removed]",
      "text/plain": [
       "<matplotlib.figure.Figure at 0x217e6fb6358>"
      ]
     },
     "metadata": {},
     "output_type": "display_data"
    }
   ],
   "source": [
    "#// BEGIN_TODO [DMM_5h] Visualization of high-order model (3 points)\n",
    "\n",
    "ax = df_vis.plot(x='weight', y='predicted_mpg')\n",
    "df_mpg_train.plot(kind='scatter', x='weight', y='mpg', ax = ax)\n",
    "df_mpg_test.plot(kind= 'scatter', x= 'weight', y='mpg', ax=ax)\n",
    "ax.set_ylim(0,50);\n",
    "\n",
    "#// END_TODO [DMM_5h]"
   ]
  },
  {
   "cell_type": "markdown",
   "metadata": {},
   "source": [
    "### Exercise <span class=\"exercise\">5.i</span>: High-order model predictions\n",
    "\n",
    "Find cars in the test set for which the predicted mpg has a ridiculous value (i.e. larger than 1500). How many are there? Assign this number to `number_of_too_high_predictions`."
   ]
  },
  {
   "cell_type": "code",
   "execution_count": 87,
   "metadata": {},
   "outputs": [
    {
     "data": {
      "text/plain": [
       "0"
      ]
     },
     "execution_count": 87,
     "metadata": {},
     "output_type": "execute_result"
    }
   ],
   "source": [
    "#// BEGIN_TODO [DMM_5i] High-order model predictions (1 point)\n",
    "\n",
    "number_of_too_high_predictions = 0\n",
    "for mpg in df_mpg_test['predicted_mpg']:\n",
    "        if mpg > 1500 :\n",
    "            number_of_too_high_predictions += number_of_too_high_predictions\n",
    "\n",
    "#// END_TODO [DMM_5i]\n",
    "\n",
    "number_of_too_high_predictions"
   ]
  },
  {
   "cell_type": "markdown",
   "metadata": {},
   "source": [
    "# <span class=\"section\">6.</span> Exercise: Depths of decision trees\n",
    "\n",
    "In <span class=\"exercise_ref\"><a href=\"#exercise-depth-three-tree\">Exercise 3.a</a></span> we have created a decision tree of depth 3 to classify cars into their origins. In this exercise, we will investigate what happens to the decision trees when we do not put a maximum on the depth of the tree.\n",
    "We can decide how deep we allow a decision tree to be,\n",
    "by setting the appropriate parameter."
   ]
  },
  {
   "cell_type": "markdown",
   "metadata": {},
   "source": [
    "### Exercise <span class=\"exercise\" id=\"ex_tree\">6.a</span>: Decision tree of unbounded maximum depth\n",
    "\n",
    "Let's see what happens if we leave the decision tree unbounded. Fit a decision tree with unspecified maximum depth to predict the `origin`.\n",
    "\n",
    "Assign the decision tree classifier to `dtc_unbdd`.\n",
    "\n",
    "Hint: use the `X_features` and `y_origin` that you have defined earlier."
   ]
  },
  {
   "cell_type": "code",
   "execution_count": 89,
   "metadata": {},
   "outputs": [
    {
     "data": {
      "text/plain": [
       "DecisionTreeClassifier(class_weight=None, criterion='gini', max_depth=None,\n",
       "            max_features=None, max_leaf_nodes=None,\n",
       "            min_impurity_split=1e-07, min_samples_leaf=1,\n",
       "            min_samples_split=2, min_weight_fraction_leaf=0.0,\n",
       "            presort=False, random_state=None, splitter='best')"
      ]
     },
     "execution_count": 89,
     "metadata": {},
     "output_type": "execute_result"
    }
   ],
   "source": [
    "#// BEGIN_TODO [DMM_6a] Unbounded decision tree (2 points)\n",
    "\n",
    "# X_features = df_mpg_train[['mpg', 'cylinders', 'displacement', 'weight', 'acceleration', 'year']].copy()\n",
    "# y_origin = df_mpg_train[['origin']].copy()\n",
    "\n",
    "dtc_unbdd = DecisionTreeClassifier()\n",
    "\n",
    "dtc_unbdd.fit(X_features, y_origin)\n",
    "\n",
    "#// END_TODO [DMM_6a]"
   ]
  },
  {
   "cell_type": "code",
   "execution_count": 192,
   "metadata": {},
   "outputs": [
    {
     "name": "stdout",
     "output_type": "stream",
     "text": [
      "if displacement =< 134.5: \n",
      "  |then if displacement =< 97.25: \n",
      "  |  |then if acceleration =< 19.450000762939453: \n",
      "  |  |  |then if acceleration =< 15.899999618530273: \n",
      "  |  |  |  |then if mpg =< 23.850000381469727: \n",
      "  |  |  |  |  |then Japanese\n",
      "  |  |  |  |  |else if year =< 72.5: \n",
      "  |  |  |  |  |  |then if displacement =< 92.5: \n",
      "  |  |  |  |  |  |  |then European\n",
      "  |  |  |  |  |  |  |else Japanese\n",
      "  |  |  |  |  |  |else if year =< 81.0: \n",
      "  |  |  |  |  |  |  |then if mpg =< 40.94999694824219: \n",
      "  |  |  |  |  |  |  |  |then if year =< 75.0: \n",
      "  |  |  |  |  |  |  |  |  |then if mpg =< 27.0: \n",
      "  |  |  |  |  |  |  |  |  |  |then European\n",
      "  |  |  |  |  |  |  |  |  |  |else American\n",
      "  |  |  |  |  |  |  |  |  |else European\n",
      "  |  |  |  |  |  |  |  |else Japanese\n",
      "  |  |  |  |  |  |  |else Japanese\n",
      "  |  |  |  |else if weight =< 1910.0: \n",
      "  |  |  |  |  |then if weight =< 1812.5: \n",
      "  |  |  |  |  |  |then Japanese\n",
      "  |  |  |  |  |  |else if acceleration =< 16.849998474121094: \n",
      "  |  |  |  |  |  |  |then American\n",
      "  |  |  |  |  |  |  |else European\n",
      "  |  |  |  |  |else if year =< 74.5: \n",
      "  |  |  |  |  |  |then if acceleration =< 18.5: \n",
      "  |  |  |  |  |  |  |then if displacement =< 96.5: \n",
      "  |  |  |  |  |  |  |  |then European\n",
      "  |  |  |  |  |  |  |  |else Japanese\n",
      "  |  |  |  |  |  |  |else Japanese\n",
      "  |  |  |  |  |  |else Japanese\n",
      "  |  |  |else if displacement =< 87.5: \n",
      "  |  |  |  |then if acceleration =< 20.25: \n",
      "  |  |  |  |  |then European\n",
      "  |  |  |  |  |else if year =< 75.0: \n",
      "  |  |  |  |  |  |then Japanese\n",
      "  |  |  |  |  |  |else American\n",
      "  |  |  |  |else European\n",
      "  |  |else if weight =< 2757.5: \n",
      "  |  |  |then if displacement =< 106.0: \n",
      "  |  |  |  |then if mpg =< 39.75: \n",
      "  |  |  |  |  |then if displacement =< 99.0: \n",
      "  |  |  |  |  |  |then if acceleration =< 16.549999237060547: \n",
      "  |  |  |  |  |  |  |then American\n",
      "  |  |  |  |  |  |  |else if acceleration =< 16.799999237060547: \n",
      "  |  |  |  |  |  |  |  |then Japanese\n",
      "  |  |  |  |  |  |  |  |else if weight =< 2045.5: \n",
      "  |  |  |  |  |  |  |  |  |then Japanese\n",
      "  |  |  |  |  |  |  |  |  |else American\n",
      "  |  |  |  |  |  |else if acceleration =< 15.100000381469727: \n",
      "  |  |  |  |  |  |  |then if acceleration =< 14.350000381469727: \n",
      "  |  |  |  |  |  |  |  |then if mpg =< 33.599998474121094: \n",
      "  |  |  |  |  |  |  |  |  |then European\n",
      "  |  |  |  |  |  |  |  |  |else American\n",
      "  |  |  |  |  |  |  |  |else American\n",
      "  |  |  |  |  |  |  |else European\n",
      "  |  |  |  |  |else European\n",
      "  |  |  |  |else if year =< 77.5: \n",
      "  |  |  |  |  |then if displacement =< 121.5: \n",
      "  |  |  |  |  |  |then if acceleration =< 14.649999618530273: \n",
      "  |  |  |  |  |  |  |then European\n",
      "  |  |  |  |  |  |  |else if mpg =< 29.0: \n",
      "  |  |  |  |  |  |  |  |then if weight =< 2296.0: \n",
      "  |  |  |  |  |  |  |  |  |then European\n",
      "  |  |  |  |  |  |  |  |  |else if weight =< 2608.5: \n",
      "  |  |  |  |  |  |  |  |  |  |then if displacement =< 107.5: \n",
      "  |  |  |  |  |  |  |  |  |  |  |then European\n",
      "  |  |  |  |  |  |  |  |  |  |  |else Japanese\n",
      "  |  |  |  |  |  |  |  |  |  |else European\n",
      "  |  |  |  |  |  |  |  |else American\n",
      "  |  |  |  |  |  |else if weight =< 2576.5: \n",
      "  |  |  |  |  |  |  |then American\n",
      "  |  |  |  |  |  |  |else Japanese\n",
      "  |  |  |  |  |else if weight =< 2637.5: \n",
      "  |  |  |  |  |  |then if mpg =< 33.849998474121094: \n",
      "  |  |  |  |  |  |  |then Japanese\n",
      "  |  |  |  |  |  |  |else if acceleration =< 17.450000762939453: \n",
      "  |  |  |  |  |  |  |  |then if displacement =< 120.5: \n",
      "  |  |  |  |  |  |  |  |  |then Japanese\n",
      "  |  |  |  |  |  |  |  |  |else European\n",
      "  |  |  |  |  |  |  |  |else American\n",
      "  |  |  |  |  |  |else American\n",
      "  |  |  |else European\n",
      "  |else if displacement =< 190.5: \n",
      "  |  |then if weight =< 3097.5: \n",
      "  |  |  |then if cylinders =< 5.0: \n",
      "  |  |  |  |then if mpg =< 31.0: \n",
      "  |  |  |  |  |then American\n",
      "  |  |  |  |  |else if weight =< 2610.5: \n",
      "  |  |  |  |  |  |then American\n",
      "  |  |  |  |  |  |else Japanese\n",
      "  |  |  |  |else if displacement =< 169.5: \n",
      "  |  |  |  |  |then Japanese\n",
      "  |  |  |  |  |else American\n",
      "  |  |  |else European\n",
      "  |  |else American\n",
      "<------------------------------->\n",
      "Tree Depth:  11\n"
     ]
    }
   ],
   "source": [
    "tree_print(dtc_unbdd, X_features)"
   ]
  },
  {
   "cell_type": "markdown",
   "metadata": {},
   "source": [
    "### Exercise <span class=\"exercise\">6.b</span>: Depth of tree\n",
    "\n",
    "Which depth level does the tree assume?  \n",
    "Assign your integer answer to the variable `depth_level_tree`."
   ]
  },
  {
   "cell_type": "code",
   "execution_count": 90,
   "metadata": {},
   "outputs": [
    {
     "data": {
      "text/plain": [
       "11"
      ]
     },
     "execution_count": 90,
     "metadata": {},
     "output_type": "execute_result"
    }
   ],
   "source": [
    "#// BEGIN_TODO [DMM_6b] Depth of unbounded tree (1 point)\n",
    "\n",
    "depth_level_tree = 11\n",
    "\n",
    "#// END_TODO [DMM_6b]\n",
    "\n",
    "depth_level_tree"
   ]
  },
  {
   "cell_type": "markdown",
   "metadata": {},
   "source": [
    "### Exercise <span class=\"exercise\">6.c</span>: Quality of unbounded tree\n",
    "\n",
    "Does the tree of <span class=\"reference\" ref=\"ex_tree\"><a href=\"#ex_tree\">Exercise 6.a</a></span> make any mistakes on the training set?\n",
    "If so, for which origin?\n",
    "\n",
    "Assign\n",
    "\n",
    "* the predicted classification for all cars in the _training data set_ to the variable `y_pred_unbdd_train`,\n",
    "* the accuracy of the tree for the _training data set_ to `accuracy_unbdd_train`,\n",
    "* the confusion matrix for the _training data set_ to `cm_unbdd_train`."
   ]
  },
  {
   "cell_type": "code",
   "execution_count": 91,
   "metadata": {},
   "outputs": [
    {
     "name": "stdout",
     "output_type": "stream",
     "text": [
      "1.0\n"
     ]
    },
    {
     "data": {
      "text/html": [
       "<div>\n",
       "<style>\n",
       "    .dataframe thead tr:only-child th {\n",
       "        text-align: right;\n",
       "    }\n",
       "\n",
       "    .dataframe thead th {\n",
       "        text-align: left;\n",
       "    }\n",
       "\n",
       "    .dataframe tbody tr th {\n",
       "        vertical-align: top;\n",
       "    }\n",
       "</style>\n",
       "<table border=\"1\" class=\"dataframe\">\n",
       "  <thead>\n",
       "    <tr style=\"text-align: right;\">\n",
       "      <th></th>\n",
       "      <th>Predicted American</th>\n",
       "      <th>Predicted European</th>\n",
       "      <th>Predicted Japanese</th>\n",
       "    </tr>\n",
       "  </thead>\n",
       "  <tbody>\n",
       "    <tr>\n",
       "      <th>American</th>\n",
       "      <td>196</td>\n",
       "      <td>0</td>\n",
       "      <td>0</td>\n",
       "    </tr>\n",
       "    <tr>\n",
       "      <th>European</th>\n",
       "      <td>0</td>\n",
       "      <td>56</td>\n",
       "      <td>0</td>\n",
       "    </tr>\n",
       "    <tr>\n",
       "      <th>Japanese</th>\n",
       "      <td>0</td>\n",
       "      <td>0</td>\n",
       "      <td>66</td>\n",
       "    </tr>\n",
       "  </tbody>\n",
       "</table>\n",
       "</div>"
      ],
      "text/plain": [
       "          Predicted American  Predicted European  Predicted Japanese\n",
       "American                 196                   0                   0\n",
       "European                   0                  56                   0\n",
       "Japanese                   0                   0                  66"
      ]
     },
     "execution_count": 91,
     "metadata": {},
     "output_type": "execute_result"
    }
   ],
   "source": [
    "#// BEGIN_TODO [DMM_6c] Accuracy and confusion matrix (3 points)\n",
    "\n",
    "# #df_sk['predicted'] = reg.predict(X_reg)\n",
    "# y_origin\n",
    "# y_origin_test\n",
    "# y_pred_unbdd_train = dtc_unbdd.predict(y_origin)\n",
    "\n",
    "# accuracy_unbdd_train = dtc_unbdd.score(X_features, y_origin)\n",
    "\n",
    "# #cm = confusion_matrix(y_true, y_pred)  # cm[i, j] == number of values i predicted as j\n",
    "# cm_unbdd_train = confusion_matrix(y_origin, y_pred_unbdd_train)\n",
    "\n",
    "\n",
    "y_pred_unbdd_train = dtc_unbdd.predict(X_features)\n",
    "accuracy_unbdd_train = accuracy_score(y_origin, y_pred_unbdd_train)\n",
    "cm_unbdd_train = confusion_matrix(y_origin, y_pred_unbdd_train)\n",
    "\n",
    "#// END_TODO [DMM_6c]\n",
    "\n",
    "print(accuracy_unbdd_train)\n",
    "pd.DataFrame(cm_unbdd_train, index=['American','European','Japanese'], columns=['Predicted American','Predicted European','Predicted Japanese'])"
   ]
  },
  {
   "cell_type": "markdown",
   "metadata": {},
   "source": [
    "### Exercise <span class=\"exercise\">6.d</span>: Accuracy and confusion matrix for test set\n",
    "\n",
    "The unbounded depth tree performs well on the training data set. But how good is it for predicting the origin of cars for data it has not seen before? \n",
    "\n",
    "Compute the accuracy and confusion matrix for the predictions of the unbounded decision tree on the test set.\n",
    "\n",
    "Assign\n",
    "\n",
    "* the predicted classification for all cars in the _test data set_ to the variable `y_pred_unbdd_test`,\n",
    "* the accuracy of the tree for the _test data set_ to `accuracy_unbdd_test`,\n",
    "* the confusion matrix for the _test data set_ to `cm_unbdd_test`."
   ]
  },
  {
   "cell_type": "code",
   "execution_count": 93,
   "metadata": {},
   "outputs": [
    {
     "name": "stdout",
     "output_type": "stream",
     "text": [
      "0.7875\n"
     ]
    },
    {
     "data": {
      "text/html": [
       "<div>\n",
       "<style>\n",
       "    .dataframe thead tr:only-child th {\n",
       "        text-align: right;\n",
       "    }\n",
       "\n",
       "    .dataframe thead th {\n",
       "        text-align: left;\n",
       "    }\n",
       "\n",
       "    .dataframe tbody tr th {\n",
       "        vertical-align: top;\n",
       "    }\n",
       "</style>\n",
       "<table border=\"1\" class=\"dataframe\">\n",
       "  <thead>\n",
       "    <tr style=\"text-align: right;\">\n",
       "      <th></th>\n",
       "      <th>Predicted American</th>\n",
       "      <th>Predicted European</th>\n",
       "      <th>Predicted Japanese</th>\n",
       "    </tr>\n",
       "  </thead>\n",
       "  <tbody>\n",
       "    <tr>\n",
       "      <th>American</th>\n",
       "      <td>47</td>\n",
       "      <td>2</td>\n",
       "      <td>4</td>\n",
       "    </tr>\n",
       "    <tr>\n",
       "      <th>European</th>\n",
       "      <td>4</td>\n",
       "      <td>8</td>\n",
       "      <td>2</td>\n",
       "    </tr>\n",
       "    <tr>\n",
       "      <th>Japanese</th>\n",
       "      <td>1</td>\n",
       "      <td>4</td>\n",
       "      <td>8</td>\n",
       "    </tr>\n",
       "  </tbody>\n",
       "</table>\n",
       "</div>"
      ],
      "text/plain": [
       "          Predicted American  Predicted European  Predicted Japanese\n",
       "American                  47                   2                   4\n",
       "European                   4                   8                   2\n",
       "Japanese                   1                   4                   8"
      ]
     },
     "execution_count": 93,
     "metadata": {},
     "output_type": "execute_result"
    }
   ],
   "source": [
    "#// BEGIN_TODO [DMM_6d] Accuracy and confusion matrix for the test set (3 points)\n",
    "\n",
    "y_pred_unbdd_test = dtc_unbdd.predict(X_features_test)\n",
    "accuracy_unbdd_test = accuracy_score(y_origin_test, y_pred_unbdd_test)\n",
    "cm_unbdd_test = confusion_matrix(y_origin_test, y_pred_unbdd_test)\n",
    "\n",
    "#// END_TODO [DMM_6d]\n",
    "\n",
    "print(accuracy_unbdd_test)\n",
    "pd.DataFrame(cm_unbdd_test, index=['American','European','Japanese'], columns=['Predicted American','Predicted European','Predicted Japanese'])"
   ]
  },
  {
   "cell_type": "markdown",
   "metadata": {},
   "source": [
    "### Exercise <span class=\"exercise\">6.e</span>: Most appropriate tree\n",
    "\n",
    "Which of the trees we have considered in this exercise, and Exercise 3, seems most appropriate to you and why?\n",
    "\n",
    ">a. The unbounded tree, because it makes the least mistakes\n",
    ">\n",
    ">b. The tree of depth 3, because it has the best balance between accuracy and simplicity\n",
    "\n",
    "Assign your answer (string `'a'` or `'b'`) to the variable `most_appropriate_tree`."
   ]
  },
  {
   "cell_type": "code",
   "execution_count": 196,
   "metadata": {},
   "outputs": [
    {
     "data": {
      "text/plain": [
       "'b'"
      ]
     },
     "execution_count": 196,
     "metadata": {},
     "output_type": "execute_result"
    }
   ],
   "source": [
    "#// BEGIN_TODO [DMM_6e] Most appropriate tree? (1 point)\n",
    "\n",
    "most_appropriate_tree = 'b'\n",
    "\n",
    "#// END_TODO [DMM_6e]\n",
    "\n",
    "most_appropriate_tree"
   ]
  },
  {
   "cell_type": "markdown",
   "metadata": {},
   "source": [
    "# Feedback\n",
    "\n",
    "Please fill in this questionaire to help us improve this course for the next year. Your feedback will be anonymized and will not affect your grade in any way!"
   ]
  },
  {
   "cell_type": "markdown",
   "metadata": {},
   "source": [
    "### How many hours did you spend on these Exercises?\n",
    "\n",
    "Assign a number to `feedback_time`."
   ]
  },
  {
   "cell_type": "code",
   "execution_count": 197,
   "metadata": {},
   "outputs": [
    {
     "data": {
      "text/plain": [
       "8"
      ]
     },
     "execution_count": 197,
     "metadata": {},
     "output_type": "execute_result"
    }
   ],
   "source": [
    "#// BEGIN_TODO [Feedback_1] (0 point)\n",
    "\n",
    "feedback_time = 8\n",
    "\n",
    "#// END_TODO [Feedback_1] (0 point)\n",
    "\n",
    "import numbers\n",
    "assert isinstance(feedback_time, numbers.Number), \"Please assign a number to feedback_time\"\n",
    "feedback_time"
   ]
  },
  {
   "cell_type": "markdown",
   "metadata": {},
   "source": [
    "### How difficult did you find these Exercises?\n",
    "\n",
    "Assign an integer to `feedback_difficulty`, on a scale 1 - 10, with 1 being very easy."
   ]
  },
  {
   "cell_type": "code",
   "execution_count": 198,
   "metadata": {},
   "outputs": [
    {
     "data": {
      "text/plain": [
       "8"
      ]
     },
     "execution_count": 198,
     "metadata": {},
     "output_type": "execute_result"
    }
   ],
   "source": [
    "#// BEGIN_TODO [Feedback_2] (0 point)\n",
    "\n",
    "feedback_difficulty = 8\n",
    "\n",
    "#// END_TODO [Feedback_2] (0 point)\n",
    "\n",
    "import numbers\n",
    "assert isinstance(feedback_difficulty, numbers.Number), \"Please assign a number to feedback_difficulty\"\n",
    "feedback_difficulty"
   ]
  },
  {
   "cell_type": "markdown",
   "metadata": {},
   "source": [
    "### (Optional) What did you like?\n",
    "\n",
    "Assign a string to `feedback_like`."
   ]
  },
  {
   "cell_type": "code",
   "execution_count": 199,
   "metadata": {
    "collapsed": true
   },
   "outputs": [],
   "source": [
    "#// BEGIN_TODO [Feedback_3] (0 point)\n",
    "\n",
    "feedback_like = ''\n",
    "\n",
    "#// END_TODO [Feedback_3] (0 point)"
   ]
  },
  {
   "cell_type": "markdown",
   "metadata": {},
   "source": [
    "### (Optional) What can be improved?\n",
    "\n",
    "Assign a string to `feedback_improve`."
   ]
  },
  {
   "cell_type": "code",
   "execution_count": 200,
   "metadata": {
    "collapsed": true
   },
   "outputs": [],
   "source": [
    "#// BEGIN_TODO [Feedback_4] (0 point)\n",
    "\n",
    "feedback_improve = ''\n",
    "\n",
    "#// END_TODO [Feedback_4] (0 point)"
   ]
  },
  {
   "cell_type": "markdown",
   "metadata": {},
   "source": [
    "\n",
    "\n",
    "\n",
    "## How to submit your work\n",
    "\n",
    "1. **Before submitting**, you must run your notebook by doing **Kernel > Restart & Run All**.  \n",
    "   Make sure that your notebook runs without errors **in linear order**.\n",
    "\n",
    "2. Remember to rename the notebook, replacing `...-template.ipynb` with `...-yourIDnr.ipynb`, where `yourIDnr` is your TU/e identification number.\n",
    "\n",
    "3. Submit the executed notebook with your work\n",
    "   for the appropriate assignment in **Canvas**.\n",
    "\n",
    "* In the **Momotor** tab in Canvas,\n",
    "  you can select that assignment again to find some feedback on your submitted work.\n",
    "  \n",
    "* If there are any problems reported by _Momotor_,\n",
    "  then you need to fix those,\n",
    "  and **resubmit the fixed notebook**.\n",
    "\n",
    "In case of a high workload on our server\n",
    "(because many students submit close to the deadline),\n",
    "it may take longer to receive the feedback.\n"
   ]
  },
  {
   "cell_type": "markdown",
   "metadata": {},
   "source": [
    "---"
   ]
  },
  {
   "cell_type": "code",
   "execution_count": 94,
   "metadata": {},
   "outputs": [
    {
     "name": "stdout",
     "output_type": "stream",
     "text": [
      "Variable                         Type                      Data/Info\n",
      "--------------------------------------------------------------------\n",
      "AUTHOR_DATE                      str                       1999-03-08\n",
      "AUTHOR_ID_NR                     str                       1349171\n",
      "AUTHOR_NAME                      str                       Kyra Moviat\n",
      "DecisionTreeClassifier           ABCMeta                   <class 'sklearn.tree.tree<...>.DecisionTreeClassifier'>\n",
      "KMeans                           type                      <class 'sklearn.cluster.k_means_.KMeans'>\n",
      "LinearRegression                 ABCMeta                   <class 'sklearn.linear_mo<...>l.base.LinearRegression'>\n",
      "R2                               float64                   0.73286248442\n",
      "R2_ct_qt                         float64                   0.741750805949\n",
      "R2_high_order                    float64                   0.709655449353\n",
      "R2_high_order_test               float64                   -560.165992784\n",
      "R2_higher_for_weight2_hp         bool                      True\n",
      "R2_higher_for_weight_hp          bool                      True\n",
      "R2_mpg_weight                    float64                   0.684479811233\n",
      "R2_mpg_weight_hp                 float64                   0.74111442018\n",
      "R2_qt                            float64                   0.705515903446\n",
      "R2_test_mpg_weight               float64                   0.684479811233\n",
      "X_ct_qt                          DataFrame                      weight  horsepower  <...>n\\n[318 rows x 4 columns]\n",
      "X_dtc                            DataFrame                     a  b\\n0   0  1\\n1   1<...> 7  9\\n10  8  8\\n11  9  9\n",
      "X_features                       DataFrame                       mpg  cylinders  dis<...>n\\n[318 rows x 6 columns]\n",
      "X_features_test                  DataFrame                       mpg  cylinders  dis<...>\\n\\n[80 rows x 6 columns]\n",
      "X_high_order                     DataFrame                         s_w     s_w^2    <...>n[318 rows x 100 columns]\n",
      "X_high_order_test                DataFrame                         s_w     s_w^2    <...>\\n[80 rows x 100 columns]\n",
      "X_km                             DataFrame                     a  b  cluster\\n0   0 <...>     3\\n11  9  9        3\n",
      "X_qt                             DataFrame                      weight    weight^2\\n<...>n\\n[318 rows x 2 columns]\n",
      "X_reg                            DataFrame                     a\\n0   0\\n1   1\\n2   <...>   6\\n9   7\\n10  8\\n11  9\n",
      "X_vis                            DataFrame                             s_w      s_w2<...>10001 rows x 100 columns]\n",
      "X_weight                         DataFrame                      weight\\n3    3433.0\\<...>n\\n[318 rows x 1 columns]\n",
      "X_weight_hp                      DataFrame                      weight  horsepower\\n<...>\\n\\n[80 rows x 2 columns]\n",
      "X_weight_test                    DataFrame                      weight\\n198  1795.0\\<...>\\n\\n[80 rows x 1 columns]\n",
      "a                                float64                   1.66777085776e-06\n",
      "acc_depth_3_test                 float64                   1.0\n",
      "acc_depth_3_train                float64                   0.795597484277\n",
      "accuracy_score                   function                  <function accuracy_score at 0x00000217E4B76840>\n",
      "accuracy_unbdd_test              float64                   0.7875\n",
      "accuracy_unbdd_train             float64                   1.0\n",
      "ax                               AxesSubplot               Axes(0.125,0.125;0.775x0.755)\n",
      "ax_combined                      AxesSubplot               Axes(0.125,0.125;0.775x0.755)\n",
      "b                                float64                   -0.0184092331945\n",
      "c                                float64                   62.389183595\n",
      "centers                          DataFrame                      a         b\\n0  4.0 <...>.333333\\n3  8.0  8.666667\n",
      "centers_seeds                    DataFrame                         area  perimeter  <...>  4.759740       5.088519\n",
      "cm                               ndarray                   3x3: 9 elems, type `int32`, 36 bytes\n",
      "cm_depth_3_test                  ndarray                   3x3: 9 elems, type `int32`, 36 bytes\n",
      "cm_unbdd_test                    ndarray                   3x3: 9 elems, type `int32`, 36 bytes\n",
      "cm_unbdd_train                   ndarray                   3x3: 9 elems, type `int32`, 36 bytes\n",
      "coef_ct_qt                       ndarray                   1x4: 4 elems, type `float64`, 32 bytes\n",
      "coef_mpg_weight                  ndarray                   1x1: 1 elems, type `float64`, 8 bytes\n",
      "coef_mpg_weight_hp               ndarray                   1x2: 2 elems, type `float64`, 16 bytes\n",
      "coef_qt                          ndarray                   1x2: 2 elems, type `float64`, 16 bytes\n",
      "confusion_matrix                 function                  <function confusion_matrix at 0x00000217E4B768C8>\n",
      "depth_level_tree                 int                       11\n",
      "df_ct_qt                         DataFrame                       mpg  cylinders  dis<...>\\n[318 rows x 11 columns]\n",
      "df_mpg                           DataFrame                       mpg  cylinders  dis<...>n\\n[398 rows x 9 columns]\n",
      "df_mpg_test                      DataFrame                       mpg  cylinders  dis<...>n\\n[80 rows x 11 columns]\n",
      "df_mpg_train                     DataFrame                       mpg  cylinders  dis<...>\\n[318 rows x 10 columns]\n",
      "df_qt                            DataFrame                       mpg  cylinders  dis<...>\\n[318 rows x 10 columns]\n",
      "df_seeds                         DataFrame                       area  perimeter  ke<...>n\\n[210 rows x 6 columns]\n",
      "df_seeds_test                    DataFrame                    area  perimeter  kerne<...>       4.8            5.0\n",
      "df_seeds_train                   DataFrame                       area  perimeter  ke<...>n\\n[210 rows x 8 columns]\n",
      "df_sk                            DataFrame                     a  b  predicted\\n0   <...>2169\\n11  9  9   9.554217\n",
      "df_vis                           DataFrame                         weight  predicted<...>n[10001 rows x 2 columns]\n",
      "dtc                              DecisionTreeClassifier    DecisionTreeClassifier(cl<...>te=None, splitter='best')\n",
      "dtc_depth_3                      DecisionTreeClassifier    DecisionTreeClassifier(cl<...>te=None, splitter='best')\n",
      "dtc_unbdd                        DecisionTreeClassifier    DecisionTreeClassifier(cl<...>te=None, splitter='best')\n",
      "feature_importances              DataFrame                           a         b\\n0  0.666667  0.333333\n",
      "feature_importances_depth_3      DataFrame                    mpg  cylinders  displa<...>73178      0.052431   0.0\n",
      "fraction_Japanese_correct        float                     1.0\n",
      "higher_weight_higher_mpg         bool                      False\n",
      "inertia                          float64                   10.6666666667\n",
      "inertia_seeds                    float64                   587.246038325\n",
      "intercept_ct_qt                  ndarray                   1: 1 elems, type `float64`, 8 bytes\n",
      "intercept_mpg_weight             ndarray                   1: 1 elems, type `float64`, 8 bytes\n",
      "intercept_mpg_weight_hp          ndarray                   1: 1 elems, type `float64`, 8 bytes\n",
      "intercept_qt                     ndarray                   1: 1 elems, type `float64`, 8 bytes\n",
      "km                               KMeans                    KMeans(algorithm='auto', <...>e, tol=0.0001, verbose=0)\n",
      "km_seeds                         KMeans                    KMeans(algorithm='auto', <...>e, tol=0.0001, verbose=0)\n",
      "mean_squared_error               function                  <function mean_squared_er<...>or at 0x00000217E4BEBC80>\n",
      "mpg                              float64                   16.8099327363\n",
      "mpl                              module                    <module 'matplotlib' from<...>matplotlib\\\\__init__.py'>\n",
      "n                                int                       100\n",
      "np                               module                    <module 'numpy' from 'C:\\<...>ges\\\\numpy\\\\__init__.py'>\n",
      "number_of_too_high_predictions   int                       0\n",
      "order                            int                       100\n",
      "pd                               module                    <module 'pandas' from 'C:<...>es\\\\pandas\\\\__init__.py'>\n",
      "plt                              module                    <module 'matplotlib.pyplo<...>\\\\matplotlib\\\\pyplot.py'>\n",
      "reg                              LinearRegression          LinearRegression(copy_X=T<...>_jobs=1, normalize=False)\n",
      "reg_ct_qt                        LinearRegression          LinearRegression(copy_X=T<...>_jobs=1, normalize=False)\n",
      "reg_fit                          LinearRegression          LinearRegression(copy_X=T<...>_jobs=1, normalize=False)\n",
      "reg_high_order                   LinearRegression          LinearRegression(copy_X=T<...>_jobs=1, normalize=False)\n",
      "reg_mpg_weight                   LinearRegression          LinearRegression(copy_X=T<...>_jobs=1, normalize=False)\n",
      "reg_mpg_weight2                  LinearRegression          LinearRegression(copy_X=T<...>_jobs=1, normalize=False)\n",
      "reg_mpg_weight_hp                LinearRegression          LinearRegression(copy_X=T<...>_jobs=1, normalize=False)\n",
      "reg_qt                           LinearRegression          LinearRegression(copy_X=T<...>_jobs=1, normalize=False)\n",
      "score_improved                   bool                      True\n",
      "sns                              module                    <module 'seaborn' from 'C<...>s\\\\seaborn\\\\__init__.py'>\n",
      "test_km                          list                      n=6\n",
      "train_test_split                 function                  <function train_test_split at 0x00000217E4AFFA60>\n",
      "tree_print                       function                  <function tree_print at 0x00000217E5DEC840>\n",
      "values                           list                      n=3\n",
      "weight                           int                       4000\n",
      "weights                          Series                    0        1500.00\\n1      <...>th: 10001, dtype: float64\n",
      "y_ct_qt                          DataFrame                       mpg\\n3    16.0\\n18 <...>n\\n[318 rows x 1 columns]\n",
      "y_dtc                            Int64Index                Int64Index([0, 0, 0, 1, 1<...> 3, 3, 3], dtype='int64')\n",
      "y_high_order                     DataFrame                       mpg\\n3    16.0\\n18 <...>n\\n[318 rows x 1 columns]\n",
      "y_mpg                            DataFrame                       mpg\\n198  33.0\\n396<...>\\n\\n[80 rows x 1 columns]\n",
      "y_mpg_4000                       float64                   15.4365845413\n",
      "y_origin                         DataFrame                        origin\\n3    Ameri<...>n\\n[318 rows x 1 columns]\n",
      "y_origin_test                    DataFrame                        origin\\n198  Japan<...>\\n\\n[80 rows x 1 columns]\n",
      "y_pred                           Series                    0     1\\n1     1\\n2     1<...>: predicted, dtype: int64\n",
      "y_pred_depth_3                   DataFrame                        origin\\n198  Japan<...>\\n\\n[80 rows x 1 columns]\n",
      "y_pred_unbdd_test                ndarray                   80: 80 elems, type `object`, 640 bytes\n",
      "y_pred_unbdd_train               ndarray                   318: 318 elems, type `object`, 2544 bytes\n",
      "y_qt                             DataFrame                       mpg\\n3    16.0\\n18 <...>n\\n[318 rows x 1 columns]\n",
      "y_reg                            DataFrame                     b\\n0   1\\n1   2\\n2   <...>   7\\n9   9\\n10  8\\n11  9\n",
      "y_true                           Series                    0     1\\n1     1\\n2     1<...>ame: actual, dtype: int64\n"
     ]
    }
   ],
   "source": [
    "# List all defined names\n",
    "%whos"
   ]
  },
  {
   "cell_type": "markdown",
   "metadata": {},
   "source": [
    "---\n",
    "\n",
    "# (End of Notebook) <span class=\"tocSkip\"></span>\n",
    "\n",
    "&copy; 2017-2019 - **TU/e** - Eindhoven University of Technology"
   ]
  }
 ],
 "metadata": {
  "kernelspec": {
   "display_name": "Python 3",
   "language": "python",
   "name": "python3"
  },
  "language_info": {
   "codemirror_mode": {
    "name": "ipython",
    "version": 3
   },
   "file_extension": ".py",
   "mimetype": "text/x-python",
   "name": "python",
   "nbconvert_exporter": "python",
   "pygments_lexer": "ipython3",
   "version": "3.6.1"
  },
  "toc": {
   "base_numbering": 1,
   "nav_menu": {
    "height": "174px",
    "width": "252px"
   },
   "number_sections": false,
   "sideBar": true,
   "skip_h1_title": false,
   "title_cell": "Table of Contents",
   "title_sidebar": "Contents",
   "toc_cell": true,
   "toc_position": {
    "height": "652px",
    "left": "0px",
    "right": "1041px",
    "top": "107px",
    "width": "235px"
   },
   "toc_section_display": "block",
   "toc_window_display": true
  }
 },
 "nbformat": 4,
 "nbformat_minor": 2
}
